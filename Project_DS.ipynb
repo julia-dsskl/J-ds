{
 "cells": [
  {
   "cell_type": "markdown",
   "metadata": {},
   "source": [
    "Влияние пандемии на трафик аэропортов\n",
    "Этот набор данных показывает объем перевозок в аэропорт и из аэропорта в процентах от объема перевозок за базовый период. Базовый период, используемый для расчета этого показателя, -  2020 год(с марта по декабрь).\n",
    "Основные цели и задачи проекта:\n",
    "- Проанализировать и очистить данные\n",
    "- Рассмотреть какие страны описаны в датасете и оценить процент от базового показателя перевозок ажропорта по каждой стране во время COVID-19\n",
    "- Визуализировать изменения по странам на карте с возможностью обращения к датам, указанным в таблице"
   ]
  },
  {
   "cell_type": "markdown",
   "metadata": {},
   "source": [
    "Импорт нужных библиотек для анализа данных "
   ]
  },
  {
   "cell_type": "code",
   "execution_count": 34,
   "metadata": {},
   "outputs": [],
   "source": [
    "import pandas as pd\n",
    "import numpy \n",
    "import plotly.express as px\n",
    "import plotly as plt \n",
    "import plotly.graph_objs as go\n",
    "import seaborn as sns\n"
   ]
  },
  {
   "cell_type": "markdown",
   "metadata": {},
   "source": [
    "Анализ и очистка данных(EDA)"
   ]
  },
  {
   "cell_type": "code",
   "execution_count": 35,
   "metadata": {},
   "outputs": [
    {
     "name": "stdout",
     "output_type": "stream",
     "text": [
      "<class 'pandas.core.frame.DataFrame'>\n",
      "RangeIndex: 7247 entries, 0 to 7246\n",
      "Data columns (total 11 columns):\n",
      " #   Column             Non-Null Count  Dtype  \n",
      "---  ------             --------------  -----  \n",
      " 0   AggregationMethod  7247 non-null   object \n",
      " 1   Date               7247 non-null   object \n",
      " 2   Version            7247 non-null   float64\n",
      " 3   AirportName        7247 non-null   object \n",
      " 4   PercentOfBaseline  7247 non-null   int64  \n",
      " 5   Centroid           7247 non-null   object \n",
      " 6   City               7247 non-null   object \n",
      " 7   State              7247 non-null   object \n",
      " 8   ISO_3166_2         7247 non-null   object \n",
      " 9   Country            7247 non-null   object \n",
      " 10  Geography          7247 non-null   object \n",
      "dtypes: float64(1), int64(1), object(9)\n",
      "memory usage: 622.9+ KB\n"
     ]
    },
    {
     "data": {
      "text/plain": [
       "array(['Australia', 'Chile', 'Canada', 'United States of America (the)'],\n",
       "      dtype=object)"
      ]
     },
     "execution_count": 35,
     "metadata": {},
     "output_type": "execute_result"
    }
   ],
   "source": [
    "df = pd.read_csv('covid_impact.csv')\n",
    "df.info()\n",
    "df['Date'] = df['Date'].astype('datetime64[ns]')\n",
    "df.duplicated().sum() \n",
    "df.isnull().sum()\n",
    "df['Country'].unique()"
   ]
  },
  {
   "cell_type": "markdown",
   "metadata": {},
   "source": [
    "Оценка показателей процента от базового показателя перевозок аэропорта по каждой стране во время COVID-19"
   ]
  },
  {
   "cell_type": "code",
   "execution_count": 36,
   "metadata": {},
   "outputs": [
    {
     "name": "stderr",
     "output_type": "stream",
     "text": [
      "/var/folders/_z/nwf7jlg14hb9v8p41wqvwsw40000gn/T/ipykernel_1164/3761362636.py:3: FutureWarning:\n",
      "\n",
      "\n",
      "\n",
      "Passing `palette` without assigning `hue` is deprecated and will be removed in v0.14.0. Assign the `x` variable to `hue` and set `legend=False` for the same effect.\n",
      "\n",
      "\n"
     ]
    },
    {
     "data": {
      "text/plain": [
       "<Axes: xlabel='Country', ylabel='PercentOfBaseline'>"
      ]
     },
     "execution_count": 36,
     "metadata": {},
     "output_type": "execute_result"
    },
    {
     "data": {
      "image/png": "[encoded data removed]",
      "text/plain": [
       "<Figure size 640x480 with 1 Axes>"
      ]
     },
     "metadata": {},
     "output_type": "display_data"
    }
   ],
   "source": [
    "df1 = df.groupby(\"Country\")['PercentOfBaseline'].mean().sort_values(ascending = False).reset_index()\n",
    "sns.set(font_scale = 0.7)\n",
    "sns.barplot(data = df1, x =  'Country', y = 'PercentOfBaseline', palette = \"rocket\")"
   ]
  },
  {
   "cell_type": "markdown",
   "metadata": {},
   "source": [
    "Визуализация данных на подвижной карте "
   ]
  },
  {
   "cell_type": "code",
   "execution_count": 40,
   "metadata": {},
   "outputs": [
    {
     "data": {
      "application/vnd.plotly.v1+json": {
       "config": {
        "plotlyServerURL": "https://plot.ly"
       },
       "data": [
        {
         "coloraxis": "coloraxis",
         "geo": "geo",
         "hovertemplate": "<b>%{hovertext}</b><br><br>Date=2020-03-16 00:00:00<br>Country=%{location}<br>PercentOfBaseline=%{z}<extra></extra>",
         "hovertext": [
          "Australia",
          "Canada",
          "Chile",
          "United States of America (the)"
         ],
         "locationmode": "country names",
         "locations": [
          "Australia",
          "Canada",
          "Chile",
          "United States of America (the)"
         ],
         "name": "",
         "type": "choropleth",
         "z": [
          92,
          831,
          96,
          1497
         ]
        }
       ],
       "frames": [
        {
         "data": [
          {
           "coloraxis": "coloraxis",
           "geo": "geo",
           "hovertemplate": "<b>%{hovertext}</b><br><br>Date=2020-03-16 00:00:00<br>Country=%{location}<br>PercentOfBaseline=%{z}<extra></extra>",
           "hovertext": [
            "Australia",
            "Canada",
            "Chile",
            "United States of America (the)"
           ],
           "locationmode": "country names",
           "locations": [
            "Australia",
            "Canada",
            "Chile",
            "United States of America (the)"
           ],
           "name": "",
           "type": "choropleth",
           "z": [
            92,
            831,
            96,
            1497
           ]
          }
         ],
         "name": "2020-03-16 00:00:00"
        },
        {
         "data": [
          {
           "coloraxis": "coloraxis",
           "geo": "geo",
           "hovertemplate": "<b>%{hovertext}</b><br><br>Date=2020-03-17 00:00:00<br>Country=%{location}<br>PercentOfBaseline=%{z}<extra></extra>",
           "hovertext": [
            "Australia",
            "Canada",
            "Chile",
            "United States of America (the)"
           ],
           "locationmode": "country names",
           "locations": [
            "Australia",
            "Canada",
            "Chile",
            "United States of America (the)"
           ],
           "name": "",
           "type": "choropleth",
           "z": [
            90,
            791,
            72,
            1493
           ]
          }
         ],
         "name": "2020-03-17 00:00:00"
        },
        {
         "data": [
          {
           "coloraxis": "coloraxis",
           "geo": "geo",
           "hovertemplate": "<b>%{hovertext}</b><br><br>Date=2020-03-18 00:00:00<br>Country=%{location}<br>PercentOfBaseline=%{z}<extra></extra>",
           "hovertext": [
            "Australia",
            "Canada",
            "Chile",
            "United States of America (the)"
           ],
           "locationmode": "country names",
           "locations": [
            "Australia",
            "Canada",
            "Chile",
            "United States of America (the)"
           ],
           "name": "",
           "type": "choropleth",
           "z": [
            97,
            792,
            56,
            1389
           ]
          }
         ],
         "name": "2020-03-18 00:00:00"
        },
        {
         "data": [
          {
           "coloraxis": "coloraxis",
           "geo": "geo",
           "hovertemplate": "<b>%{hovertext}</b><br><br>Date=2020-03-19 00:00:00<br>Country=%{location}<br>PercentOfBaseline=%{z}<extra></extra>",
           "hovertext": [
            "Australia",
            "Canada",
            "Chile",
            "United States of America (the)"
           ],
           "locationmode": "country names",
           "locations": [
            "Australia",
            "Canada",
            "Chile",
            "United States of America (the)"
           ],
           "name": "",
           "type": "choropleth",
           "z": [
            89,
            763,
            52,
            1254
           ]
          }
         ],
         "name": "2020-03-19 00:00:00"
        },
        {
         "data": [
          {
           "coloraxis": "coloraxis",
           "geo": "geo",
           "hovertemplate": "<b>%{hovertext}</b><br><br>Date=2020-03-20 00:00:00<br>Country=%{location}<br>PercentOfBaseline=%{z}<extra></extra>",
           "hovertext": [
            "Australia",
            "Canada",
            "Chile",
            "United States of America (the)"
           ],
           "locationmode": "country names",
           "locations": [
            "Australia",
            "Canada",
            "Chile",
            "United States of America (the)"
           ],
           "name": "",
           "type": "choropleth",
           "z": [
            85,
            780,
            53,
            1242
           ]
          }
         ],
         "name": "2020-03-20 00:00:00"
        },
        {
         "data": [
          {
           "coloraxis": "coloraxis",
           "geo": "geo",
           "hovertemplate": "<b>%{hovertext}</b><br><br>Date=2020-03-21 00:00:00<br>Country=%{location}<br>PercentOfBaseline=%{z}<extra></extra>",
           "hovertext": [
            "Australia",
            "Canada",
            "Chile",
            "United States of America (the)"
           ],
           "locationmode": "country names",
           "locations": [
            "Australia",
            "Canada",
            "Chile",
            "United States of America (the)"
           ],
           "name": "",
           "type": "choropleth",
           "z": [
            100,
            661,
            38,
            1227
           ]
          }
         ],
         "name": "2020-03-21 00:00:00"
        },
        {
         "data": [
          {
           "coloraxis": "coloraxis",
           "geo": "geo",
           "hovertemplate": "<b>%{hovertext}</b><br><br>Date=2020-03-22 00:00:00<br>Country=%{location}<br>PercentOfBaseline=%{z}<extra></extra>",
           "hovertext": [
            "Australia",
            "Canada",
            "Chile",
            "United States of America (the)"
           ],
           "locationmode": "country names",
           "locations": [
            "Australia",
            "Canada",
            "Chile",
            "United States of America (the)"
           ],
           "name": "",
           "type": "choropleth",
           "z": [
            89,
            599,
            13,
            1216
           ]
          }
         ],
         "name": "2020-03-22 00:00:00"
        },
        {
         "data": [
          {
           "coloraxis": "coloraxis",
           "geo": "geo",
           "hovertemplate": "<b>%{hovertext}</b><br><br>Date=2020-03-23 00:00:00<br>Country=%{location}<br>PercentOfBaseline=%{z}<extra></extra>",
           "hovertext": [
            "Australia",
            "Canada",
            "Chile",
            "United States of America (the)"
           ],
           "locationmode": "country names",
           "locations": [
            "Australia",
            "Canada",
            "Chile",
            "United States of America (the)"
           ],
           "name": "",
           "type": "choropleth",
           "z": [
            84,
            765,
            32,
            1180
           ]
          }
         ],
         "name": "2020-03-23 00:00:00"
        },
        {
         "data": [
          {
           "coloraxis": "coloraxis",
           "geo": "geo",
           "hovertemplate": "<b>%{hovertext}</b><br><br>Date=2020-03-24 00:00:00<br>Country=%{location}<br>PercentOfBaseline=%{z}<extra></extra>",
           "hovertext": [
            "Australia",
            "Canada",
            "Chile",
            "United States of America (the)"
           ],
           "locationmode": "country names",
           "locations": [
            "Australia",
            "Canada",
            "Chile",
            "United States of America (the)"
           ],
           "name": "",
           "type": "choropleth",
           "z": [
            89,
            735,
            29,
            1185
           ]
          }
         ],
         "name": "2020-03-24 00:00:00"
        },
        {
         "data": [
          {
           "coloraxis": "coloraxis",
           "geo": "geo",
           "hovertemplate": "<b>%{hovertext}</b><br><br>Date=2020-03-25 00:00:00<br>Country=%{location}<br>PercentOfBaseline=%{z}<extra></extra>",
           "hovertext": [
            "Australia",
            "Canada",
            "Chile",
            "United States of America (the)"
           ],
           "locationmode": "country names",
           "locations": [
            "Australia",
            "Canada",
            "Chile",
            "United States of America (the)"
           ],
           "name": "",
           "type": "choropleth",
           "z": [
            84,
            662,
            26,
            1167
           ]
          }
         ],
         "name": "2020-03-25 00:00:00"
        },
        {
         "data": [
          {
           "coloraxis": "coloraxis",
           "geo": "geo",
           "hovertemplate": "<b>%{hovertext}</b><br><br>Date=2020-03-26 00:00:00<br>Country=%{location}<br>PercentOfBaseline=%{z}<extra></extra>",
           "hovertext": [
            "Australia",
            "Canada",
            "Chile",
            "United States of America (the)"
           ],
           "locationmode": "country names",
           "locations": [
            "Australia",
            "Canada",
            "Chile",
            "United States of America (the)"
           ],
           "name": "",
           "type": "choropleth",
           "z": [
            76,
            640,
            24,
            1085
           ]
          }
         ],
         "name": "2020-03-26 00:00:00"
        },
        {
         "data": [
          {
           "coloraxis": "coloraxis",
           "geo": "geo",
           "hovertemplate": "<b>%{hovertext}</b><br><br>Date=2020-03-27 00:00:00<br>Country=%{location}<br>PercentOfBaseline=%{z}<extra></extra>",
           "hovertext": [
            "Australia",
            "Canada",
            "Chile",
            "United States of America (the)"
           ],
           "locationmode": "country names",
           "locations": [
            "Australia",
            "Canada",
            "Chile",
            "United States of America (the)"
           ],
           "name": "",
           "type": "choropleth",
           "z": [
            81,
            683,
            31,
            1095
           ]
          }
         ],
         "name": "2020-03-27 00:00:00"
        },
        {
         "data": [
          {
           "coloraxis": "coloraxis",
           "geo": "geo",
           "hovertemplate": "<b>%{hovertext}</b><br><br>Date=2020-03-28 00:00:00<br>Country=%{location}<br>PercentOfBaseline=%{z}<extra></extra>",
           "hovertext": [
            "Australia",
            "Canada",
            "United States of America (the)"
           ],
           "locationmode": "country names",
           "locations": [
            "Australia",
            "Canada",
            "United States of America (the)"
           ],
           "name": "",
           "type": "choropleth",
           "z": [
            62,
            544,
            1005
           ]
          }
         ],
         "name": "2020-03-28 00:00:00"
        },
        {
         "data": [
          {
           "coloraxis": "coloraxis",
           "geo": "geo",
           "hovertemplate": "<b>%{hovertext}</b><br><br>Date=2020-03-29 00:00:00<br>Country=%{location}<br>PercentOfBaseline=%{z}<extra></extra>",
           "hovertext": [
            "Australia",
            "Canada",
            "Chile",
            "United States of America (the)"
           ],
           "locationmode": "country names",
           "locations": [
            "Australia",
            "Canada",
            "Chile",
            "United States of America (the)"
           ],
           "name": "",
           "type": "choropleth",
           "z": [
            66,
            401,
            9,
            930
           ]
          }
         ],
         "name": "2020-03-29 00:00:00"
        },
        {
         "data": [
          {
           "coloraxis": "coloraxis",
           "geo": "geo",
           "hovertemplate": "<b>%{hovertext}</b><br><br>Date=2020-03-30 00:00:00<br>Country=%{location}<br>PercentOfBaseline=%{z}<extra></extra>",
           "hovertext": [
            "Australia",
            "Canada",
            "Chile",
            "United States of America (the)"
           ],
           "locationmode": "country names",
           "locations": [
            "Australia",
            "Canada",
            "Chile",
            "United States of America (the)"
           ],
           "name": "",
           "type": "choropleth",
           "z": [
            75,
            646,
            19,
            1040
           ]
          }
         ],
         "name": "2020-03-30 00:00:00"
        },
        {
         "data": [
          {
           "coloraxis": "coloraxis",
           "geo": "geo",
           "hovertemplate": "<b>%{hovertext}</b><br><br>Date=2020-03-31 00:00:00<br>Country=%{location}<br>PercentOfBaseline=%{z}<extra></extra>",
           "hovertext": [
            "Australia",
            "Canada",
            "Chile",
            "United States of America (the)"
           ],
           "locationmode": "country names",
           "locations": [
            "Australia",
            "Canada",
            "Chile",
            "United States of America (the)"
           ],
           "name": "",
           "type": "choropleth",
           "z": [
            71,
            651,
            26,
            1084
           ]
          }
         ],
         "name": "2020-03-31 00:00:00"
        },
        {
         "data": [
          {
           "coloraxis": "coloraxis",
           "geo": "geo",
           "hovertemplate": "<b>%{hovertext}</b><br><br>Date=2020-04-01 00:00:00<br>Country=%{location}<br>PercentOfBaseline=%{z}<extra></extra>",
           "hovertext": [
            "Australia",
            "Canada",
            "Chile",
            "United States of America (the)"
           ],
           "locationmode": "country names",
           "locations": [
            "Australia",
            "Canada",
            "Chile",
            "United States of America (the)"
           ],
           "name": "",
           "type": "choropleth",
           "z": [
            69,
            636,
            27,
            1064
           ]
          }
         ],
         "name": "2020-04-01 00:00:00"
        },
        {
         "data": [
          {
           "coloraxis": "coloraxis",
           "geo": "geo",
           "hovertemplate": "<b>%{hovertext}</b><br><br>Date=2020-04-02 00:00:00<br>Country=%{location}<br>PercentOfBaseline=%{z}<extra></extra>",
           "hovertext": [
            "Australia",
            "Canada",
            "Chile",
            "United States of America (the)"
           ],
           "locationmode": "country names",
           "locations": [
            "Australia",
            "Canada",
            "Chile",
            "United States of America (the)"
           ],
           "name": "",
           "type": "choropleth",
           "z": [
            77,
            653,
            21,
            998
           ]
          }
         ],
         "name": "2020-04-02 00:00:00"
        },
        {
         "data": [
          {
           "coloraxis": "coloraxis",
           "geo": "geo",
           "hovertemplate": "<b>%{hovertext}</b><br><br>Date=2020-04-03 00:00:00<br>Country=%{location}<br>PercentOfBaseline=%{z}<extra></extra>",
           "hovertext": [
            "Australia",
            "Canada",
            "Chile",
            "United States of America (the)"
           ],
           "locationmode": "country names",
           "locations": [
            "Australia",
            "Canada",
            "Chile",
            "United States of America (the)"
           ],
           "name": "",
           "type": "choropleth",
           "z": [
            64,
            603,
            31,
            968
           ]
          }
         ],
         "name": "2020-04-03 00:00:00"
        },
        {
         "data": [
          {
           "coloraxis": "coloraxis",
           "geo": "geo",
           "hovertemplate": "<b>%{hovertext}</b><br><br>Date=2020-04-04 00:00:00<br>Country=%{location}<br>PercentOfBaseline=%{z}<extra></extra>",
           "hovertext": [
            "Australia",
            "Canada",
            "Chile",
            "United States of America (the)"
           ],
           "locationmode": "country names",
           "locations": [
            "Australia",
            "Canada",
            "Chile",
            "United States of America (the)"
           ],
           "name": "",
           "type": "choropleth",
           "z": [
            27,
            411,
            19,
            868
           ]
          }
         ],
         "name": "2020-04-04 00:00:00"
        },
        {
         "data": [
          {
           "coloraxis": "coloraxis",
           "geo": "geo",
           "hovertemplate": "<b>%{hovertext}</b><br><br>Date=2020-04-05 00:00:00<br>Country=%{location}<br>PercentOfBaseline=%{z}<extra></extra>",
           "hovertext": [
            "Australia",
            "Canada",
            "Chile",
            "United States of America (the)"
           ],
           "locationmode": "country names",
           "locations": [
            "Australia",
            "Canada",
            "Chile",
            "United States of America (the)"
           ],
           "name": "",
           "type": "choropleth",
           "z": [
            57,
            256,
            11,
            812
           ]
          }
         ],
         "name": "2020-04-05 00:00:00"
        },
        {
         "data": [
          {
           "coloraxis": "coloraxis",
           "geo": "geo",
           "hovertemplate": "<b>%{hovertext}</b><br><br>Date=2020-04-06 00:00:00<br>Country=%{location}<br>PercentOfBaseline=%{z}<extra></extra>",
           "hovertext": [
            "Australia",
            "Canada",
            "Chile",
            "United States of America (the)"
           ],
           "locationmode": "country names",
           "locations": [
            "Australia",
            "Canada",
            "Chile",
            "United States of America (the)"
           ],
           "name": "",
           "type": "choropleth",
           "z": [
            59,
            674,
            27,
            1003
           ]
          }
         ],
         "name": "2020-04-06 00:00:00"
        },
        {
         "data": [
          {
           "coloraxis": "coloraxis",
           "geo": "geo",
           "hovertemplate": "<b>%{hovertext}</b><br><br>Date=2020-04-07 00:00:00<br>Country=%{location}<br>PercentOfBaseline=%{z}<extra></extra>",
           "hovertext": [
            "Australia",
            "Canada",
            "Chile",
            "United States of America (the)"
           ],
           "locationmode": "country names",
           "locations": [
            "Australia",
            "Canada",
            "Chile",
            "United States of America (the)"
           ],
           "name": "",
           "type": "choropleth",
           "z": [
            64,
            652,
            25,
            1008
           ]
          }
         ],
         "name": "2020-04-07 00:00:00"
        },
        {
         "data": [
          {
           "coloraxis": "coloraxis",
           "geo": "geo",
           "hovertemplate": "<b>%{hovertext}</b><br><br>Date=2020-04-08 00:00:00<br>Country=%{location}<br>PercentOfBaseline=%{z}<extra></extra>",
           "hovertext": [
            "Australia",
            "Canada",
            "Chile",
            "United States of America (the)"
           ],
           "locationmode": "country names",
           "locations": [
            "Australia",
            "Canada",
            "Chile",
            "United States of America (the)"
           ],
           "name": "",
           "type": "choropleth",
           "z": [
            69,
            593,
            21,
            1018
           ]
          }
         ],
         "name": "2020-04-08 00:00:00"
        },
        {
         "data": [
          {
           "coloraxis": "coloraxis",
           "geo": "geo",
           "hovertemplate": "<b>%{hovertext}</b><br><br>Date=2020-04-09 00:00:00<br>Country=%{location}<br>PercentOfBaseline=%{z}<extra></extra>",
           "hovertext": [
            "Australia",
            "Canada",
            "Chile",
            "United States of America (the)"
           ],
           "locationmode": "country names",
           "locations": [
            "Australia",
            "Canada",
            "Chile",
            "United States of America (the)"
           ],
           "name": "",
           "type": "choropleth",
           "z": [
            54,
            605,
            24,
            956
           ]
          }
         ],
         "name": "2020-04-09 00:00:00"
        },
        {
         "data": [
          {
           "coloraxis": "coloraxis",
           "geo": "geo",
           "hovertemplate": "<b>%{hovertext}</b><br><br>Date=2020-04-10 00:00:00<br>Country=%{location}<br>PercentOfBaseline=%{z}<extra></extra>",
           "hovertext": [
            "Australia",
            "Canada",
            "Chile",
            "United States of America (the)"
           ],
           "locationmode": "country names",
           "locations": [
            "Australia",
            "Canada",
            "Chile",
            "United States of America (the)"
           ],
           "name": "",
           "type": "choropleth",
           "z": [
            8,
            147,
            12,
            888
           ]
          }
         ],
         "name": "2020-04-10 00:00:00"
        },
        {
         "data": [
          {
           "coloraxis": "coloraxis",
           "geo": "geo",
           "hovertemplate": "<b>%{hovertext}</b><br><br>Date=2020-04-11 00:00:00<br>Country=%{location}<br>PercentOfBaseline=%{z}<extra></extra>",
           "hovertext": [
            "Australia",
            "Canada",
            "Chile",
            "United States of America (the)"
           ],
           "locationmode": "country names",
           "locations": [
            "Australia",
            "Canada",
            "Chile",
            "United States of America (the)"
           ],
           "name": "",
           "type": "choropleth",
           "z": [
            22,
            204,
            15,
            809
           ]
          }
         ],
         "name": "2020-04-11 00:00:00"
        },
        {
         "data": [
          {
           "coloraxis": "coloraxis",
           "geo": "geo",
           "hovertemplate": "<b>%{hovertext}</b><br><br>Date=2020-04-12 00:00:00<br>Country=%{location}<br>PercentOfBaseline=%{z}<extra></extra>",
           "hovertext": [
            "Australia",
            "Canada",
            "Chile",
            "United States of America (the)"
           ],
           "locationmode": "country names",
           "locations": [
            "Australia",
            "Canada",
            "Chile",
            "United States of America (the)"
           ],
           "name": "",
           "type": "choropleth",
           "z": [
            25,
            340,
            4,
            751
           ]
          }
         ],
         "name": "2020-04-12 00:00:00"
        },
        {
         "data": [
          {
           "coloraxis": "coloraxis",
           "geo": "geo",
           "hovertemplate": "<b>%{hovertext}</b><br><br>Date=2020-04-13 00:00:00<br>Country=%{location}<br>PercentOfBaseline=%{z}<extra></extra>",
           "hovertext": [
            "Australia",
            "Canada",
            "Chile",
            "United States of America (the)"
           ],
           "locationmode": "country names",
           "locations": [
            "Australia",
            "Canada",
            "Chile",
            "United States of America (the)"
           ],
           "name": "",
           "type": "choropleth",
           "z": [
            29,
            530,
            26,
            889
           ]
          }
         ],
         "name": "2020-04-13 00:00:00"
        },
        {
         "data": [
          {
           "coloraxis": "coloraxis",
           "geo": "geo",
           "hovertemplate": "<b>%{hovertext}</b><br><br>Date=2020-04-14 00:00:00<br>Country=%{location}<br>PercentOfBaseline=%{z}<extra></extra>",
           "hovertext": [
            "Australia",
            "Canada",
            "Chile",
            "United States of America (the)"
           ],
           "locationmode": "country names",
           "locations": [
            "Australia",
            "Canada",
            "Chile",
            "United States of America (the)"
           ],
           "name": "",
           "type": "choropleth",
           "z": [
            59,
            630,
            20,
            961
           ]
          }
         ],
         "name": "2020-04-14 00:00:00"
        },
        {
         "data": [
          {
           "coloraxis": "coloraxis",
           "geo": "geo",
           "hovertemplate": "<b>%{hovertext}</b><br><br>Date=2020-04-15 00:00:00<br>Country=%{location}<br>PercentOfBaseline=%{z}<extra></extra>",
           "hovertext": [
            "Australia",
            "Canada",
            "Chile",
            "United States of America (the)"
           ],
           "locationmode": "country names",
           "locations": [
            "Australia",
            "Canada",
            "Chile",
            "United States of America (the)"
           ],
           "name": "",
           "type": "choropleth",
           "z": [
            61,
            611,
            21,
            962
           ]
          }
         ],
         "name": "2020-04-15 00:00:00"
        },
        {
         "data": [
          {
           "coloraxis": "coloraxis",
           "geo": "geo",
           "hovertemplate": "<b>%{hovertext}</b><br><br>Date=2020-04-16 00:00:00<br>Country=%{location}<br>PercentOfBaseline=%{z}<extra></extra>",
           "hovertext": [
            "Australia",
            "Canada",
            "Chile",
            "United States of America (the)"
           ],
           "locationmode": "country names",
           "locations": [
            "Australia",
            "Canada",
            "Chile",
            "United States of America (the)"
           ],
           "name": "",
           "type": "choropleth",
           "z": [
            60,
            607,
            17,
            937
           ]
          }
         ],
         "name": "2020-04-16 00:00:00"
        },
        {
         "data": [
          {
           "coloraxis": "coloraxis",
           "geo": "geo",
           "hovertemplate": "<b>%{hovertext}</b><br><br>Date=2020-04-17 00:00:00<br>Country=%{location}<br>PercentOfBaseline=%{z}<extra></extra>",
           "hovertext": [
            "Australia",
            "Canada",
            "Chile",
            "United States of America (the)"
           ],
           "locationmode": "country names",
           "locations": [
            "Australia",
            "Canada",
            "Chile",
            "United States of America (the)"
           ],
           "name": "",
           "type": "choropleth",
           "z": [
            69,
            571,
            18,
            932
           ]
          }
         ],
         "name": "2020-04-17 00:00:00"
        },
        {
         "data": [
          {
           "coloraxis": "coloraxis",
           "geo": "geo",
           "hovertemplate": "<b>%{hovertext}</b><br><br>Date=2020-04-18 00:00:00<br>Country=%{location}<br>PercentOfBaseline=%{z}<extra></extra>",
           "hovertext": [
            "Australia",
            "Canada",
            "Chile",
            "United States of America (the)"
           ],
           "locationmode": "country names",
           "locations": [
            "Australia",
            "Canada",
            "Chile",
            "United States of America (the)"
           ],
           "name": "",
           "type": "choropleth",
           "z": [
            32,
            539,
            10,
            852
           ]
          }
         ],
         "name": "2020-04-18 00:00:00"
        },
        {
         "data": [
          {
           "coloraxis": "coloraxis",
           "geo": "geo",
           "hovertemplate": "<b>%{hovertext}</b><br><br>Date=2020-04-19 00:00:00<br>Country=%{location}<br>PercentOfBaseline=%{z}<extra></extra>",
           "hovertext": [
            "Australia",
            "Canada",
            "United States of America (the)"
           ],
           "locationmode": "country names",
           "locations": [
            "Australia",
            "Canada",
            "United States of America (the)"
           ],
           "name": "",
           "type": "choropleth",
           "z": [
            49,
            325,
            789
           ]
          }
         ],
         "name": "2020-04-19 00:00:00"
        },
        {
         "data": [
          {
           "coloraxis": "coloraxis",
           "geo": "geo",
           "hovertemplate": "<b>%{hovertext}</b><br><br>Date=2020-04-20 00:00:00<br>Country=%{location}<br>PercentOfBaseline=%{z}<extra></extra>",
           "hovertext": [
            "Australia",
            "Canada",
            "Chile",
            "United States of America (the)"
           ],
           "locationmode": "country names",
           "locations": [
            "Australia",
            "Canada",
            "Chile",
            "United States of America (the)"
           ],
           "name": "",
           "type": "choropleth",
           "z": [
            60,
            668,
            22,
            972
           ]
          }
         ],
         "name": "2020-04-20 00:00:00"
        },
        {
         "data": [
          {
           "coloraxis": "coloraxis",
           "geo": "geo",
           "hovertemplate": "<b>%{hovertext}</b><br><br>Date=2020-04-21 00:00:00<br>Country=%{location}<br>PercentOfBaseline=%{z}<extra></extra>",
           "hovertext": [
            "Australia",
            "Canada",
            "Chile",
            "United States of America (the)"
           ],
           "locationmode": "country names",
           "locations": [
            "Australia",
            "Canada",
            "Chile",
            "United States of America (the)"
           ],
           "name": "",
           "type": "choropleth",
           "z": [
            65,
            697,
            17,
            976
           ]
          }
         ],
         "name": "2020-04-21 00:00:00"
        },
        {
         "data": [
          {
           "coloraxis": "coloraxis",
           "geo": "geo",
           "hovertemplate": "<b>%{hovertext}</b><br><br>Date=2020-04-22 00:00:00<br>Country=%{location}<br>PercentOfBaseline=%{z}<extra></extra>",
           "hovertext": [
            "Australia",
            "Canada",
            "Chile",
            "United States of America (the)"
           ],
           "locationmode": "country names",
           "locations": [
            "Australia",
            "Canada",
            "Chile",
            "United States of America (the)"
           ],
           "name": "",
           "type": "choropleth",
           "z": [
            60,
            667,
            21,
            1015
           ]
          }
         ],
         "name": "2020-04-22 00:00:00"
        },
        {
         "data": [
          {
           "coloraxis": "coloraxis",
           "geo": "geo",
           "hovertemplate": "<b>%{hovertext}</b><br><br>Date=2020-04-23 00:00:00<br>Country=%{location}<br>PercentOfBaseline=%{z}<extra></extra>",
           "hovertext": [
            "Australia",
            "Canada",
            "Chile",
            "United States of America (the)"
           ],
           "locationmode": "country names",
           "locations": [
            "Australia",
            "Canada",
            "Chile",
            "United States of America (the)"
           ],
           "name": "",
           "type": "choropleth",
           "z": [
            61,
            586,
            20,
            935
           ]
          }
         ],
         "name": "2020-04-23 00:00:00"
        },
        {
         "data": [
          {
           "coloraxis": "coloraxis",
           "geo": "geo",
           "hovertemplate": "<b>%{hovertext}</b><br><br>Date=2020-04-24 00:00:00<br>Country=%{location}<br>PercentOfBaseline=%{z}<extra></extra>",
           "hovertext": [
            "Australia",
            "Canada",
            "Chile",
            "United States of America (the)"
           ],
           "locationmode": "country names",
           "locations": [
            "Australia",
            "Canada",
            "Chile",
            "United States of America (the)"
           ],
           "name": "",
           "type": "choropleth",
           "z": [
            62,
            623,
            16,
            932
           ]
          }
         ],
         "name": "2020-04-24 00:00:00"
        },
        {
         "data": [
          {
           "coloraxis": "coloraxis",
           "geo": "geo",
           "hovertemplate": "<b>%{hovertext}</b><br><br>Date=2020-04-25 00:00:00<br>Country=%{location}<br>PercentOfBaseline=%{z}<extra></extra>",
           "hovertext": [
            "Canada",
            "United States of America (the)"
           ],
           "locationmode": "country names",
           "locations": [
            "Canada",
            "United States of America (the)"
           ],
           "name": "",
           "type": "choropleth",
           "z": [
            490,
            833
           ]
          }
         ],
         "name": "2020-04-25 00:00:00"
        },
        {
         "data": [
          {
           "coloraxis": "coloraxis",
           "geo": "geo",
           "hovertemplate": "<b>%{hovertext}</b><br><br>Date=2020-04-26 00:00:00<br>Country=%{location}<br>PercentOfBaseline=%{z}<extra></extra>",
           "hovertext": [
            "Australia",
            "Canada",
            "Chile",
            "United States of America (the)"
           ],
           "locationmode": "country names",
           "locations": [
            "Australia",
            "Canada",
            "Chile",
            "United States of America (the)"
           ],
           "name": "",
           "type": "choropleth",
           "z": [
            48,
            361,
            7,
            806
           ]
          }
         ],
         "name": "2020-04-26 00:00:00"
        },
        {
         "data": [
          {
           "coloraxis": "coloraxis",
           "geo": "geo",
           "hovertemplate": "<b>%{hovertext}</b><br><br>Date=2020-04-27 00:00:00<br>Country=%{location}<br>PercentOfBaseline=%{z}<extra></extra>",
           "hovertext": [
            "Australia",
            "Canada",
            "Chile",
            "United States of America (the)"
           ],
           "locationmode": "country names",
           "locations": [
            "Australia",
            "Canada",
            "Chile",
            "United States of America (the)"
           ],
           "name": "",
           "type": "choropleth",
           "z": [
            53,
            679,
            22,
            977
           ]
          }
         ],
         "name": "2020-04-27 00:00:00"
        },
        {
         "data": [
          {
           "coloraxis": "coloraxis",
           "geo": "geo",
           "hovertemplate": "<b>%{hovertext}</b><br><br>Date=2020-04-28 00:00:00<br>Country=%{location}<br>PercentOfBaseline=%{z}<extra></extra>",
           "hovertext": [
            "Australia",
            "Canada",
            "Chile",
            "United States of America (the)"
           ],
           "locationmode": "country names",
           "locations": [
            "Australia",
            "Canada",
            "Chile",
            "United States of America (the)"
           ],
           "name": "",
           "type": "choropleth",
           "z": [
            57,
            701,
            21,
            1033
           ]
          }
         ],
         "name": "2020-04-28 00:00:00"
        },
        {
         "data": [
          {
           "coloraxis": "coloraxis",
           "geo": "geo",
           "hovertemplate": "<b>%{hovertext}</b><br><br>Date=2020-04-29 00:00:00<br>Country=%{location}<br>PercentOfBaseline=%{z}<extra></extra>",
           "hovertext": [
            "Australia",
            "Canada",
            "Chile",
            "United States of America (the)"
           ],
           "locationmode": "country names",
           "locations": [
            "Australia",
            "Canada",
            "Chile",
            "United States of America (the)"
           ],
           "name": "",
           "type": "choropleth",
           "z": [
            59,
            649,
            22,
            1030
           ]
          }
         ],
         "name": "2020-04-29 00:00:00"
        },
        {
         "data": [
          {
           "coloraxis": "coloraxis",
           "geo": "geo",
           "hovertemplate": "<b>%{hovertext}</b><br><br>Date=2020-04-30 00:00:00<br>Country=%{location}<br>PercentOfBaseline=%{z}<extra></extra>",
           "hovertext": [
            "Australia",
            "Canada",
            "Chile",
            "United States of America (the)"
           ],
           "locationmode": "country names",
           "locations": [
            "Australia",
            "Canada",
            "Chile",
            "United States of America (the)"
           ],
           "name": "",
           "type": "choropleth",
           "z": [
            65,
            647,
            31,
            985
           ]
          }
         ],
         "name": "2020-04-30 00:00:00"
        },
        {
         "data": [
          {
           "coloraxis": "coloraxis",
           "geo": "geo",
           "hovertemplate": "<b>%{hovertext}</b><br><br>Date=2020-05-01 00:00:00<br>Country=%{location}<br>PercentOfBaseline=%{z}<extra></extra>",
           "hovertext": [
            "Australia",
            "Canada",
            "United States of America (the)"
           ],
           "locationmode": "country names",
           "locations": [
            "Australia",
            "Canada",
            "United States of America (the)"
           ],
           "name": "",
           "type": "choropleth",
           "z": [
            61,
            644,
            977
           ]
          }
         ],
         "name": "2020-05-01 00:00:00"
        },
        {
         "data": [
          {
           "coloraxis": "coloraxis",
           "geo": "geo",
           "hovertemplate": "<b>%{hovertext}</b><br><br>Date=2020-05-02 00:00:00<br>Country=%{location}<br>PercentOfBaseline=%{z}<extra></extra>",
           "hovertext": [
            "Australia",
            "Canada",
            "United States of America (the)"
           ],
           "locationmode": "country names",
           "locations": [
            "Australia",
            "Canada",
            "United States of America (the)"
           ],
           "name": "",
           "type": "choropleth",
           "z": [
            41,
            524,
            863
           ]
          }
         ],
         "name": "2020-05-02 00:00:00"
        },
        {
         "data": [
          {
           "coloraxis": "coloraxis",
           "geo": "geo",
           "hovertemplate": "<b>%{hovertext}</b><br><br>Date=2020-05-03 00:00:00<br>Country=%{location}<br>PercentOfBaseline=%{z}<extra></extra>",
           "hovertext": [
            "Australia",
            "Canada",
            "United States of America (the)"
           ],
           "locationmode": "country names",
           "locations": [
            "Australia",
            "Canada",
            "United States of America (the)"
           ],
           "name": "",
           "type": "choropleth",
           "z": [
            50,
            435,
            803
           ]
          }
         ],
         "name": "2020-05-03 00:00:00"
        },
        {
         "data": [
          {
           "coloraxis": "coloraxis",
           "geo": "geo",
           "hovertemplate": "<b>%{hovertext}</b><br><br>Date=2020-05-04 00:00:00<br>Country=%{location}<br>PercentOfBaseline=%{z}<extra></extra>",
           "hovertext": [
            "Australia",
            "Canada",
            "Chile",
            "United States of America (the)"
           ],
           "locationmode": "country names",
           "locations": [
            "Australia",
            "Canada",
            "Chile",
            "United States of America (the)"
           ],
           "name": "",
           "type": "choropleth",
           "z": [
            53,
            674,
            25,
            1012
           ]
          }
         ],
         "name": "2020-05-04 00:00:00"
        },
        {
         "data": [
          {
           "coloraxis": "coloraxis",
           "geo": "geo",
           "hovertemplate": "<b>%{hovertext}</b><br><br>Date=2020-05-05 00:00:00<br>Country=%{location}<br>PercentOfBaseline=%{z}<extra></extra>",
           "hovertext": [
            "Australia",
            "Canada",
            "Chile",
            "United States of America (the)"
           ],
           "locationmode": "country names",
           "locations": [
            "Australia",
            "Canada",
            "Chile",
            "United States of America (the)"
           ],
           "name": "",
           "type": "choropleth",
           "z": [
            56,
            708,
            13,
            1014
           ]
          }
         ],
         "name": "2020-05-05 00:00:00"
        },
        {
         "data": [
          {
           "coloraxis": "coloraxis",
           "geo": "geo",
           "hovertemplate": "<b>%{hovertext}</b><br><br>Date=2020-05-06 00:00:00<br>Country=%{location}<br>PercentOfBaseline=%{z}<extra></extra>",
           "hovertext": [
            "Australia",
            "Canada",
            "Chile",
            "United States of America (the)"
           ],
           "locationmode": "country names",
           "locations": [
            "Australia",
            "Canada",
            "Chile",
            "United States of America (the)"
           ],
           "name": "",
           "type": "choropleth",
           "z": [
            52,
            679,
            22,
            1027
           ]
          }
         ],
         "name": "2020-05-06 00:00:00"
        },
        {
         "data": [
          {
           "coloraxis": "coloraxis",
           "geo": "geo",
           "hovertemplate": "<b>%{hovertext}</b><br><br>Date=2020-05-07 00:00:00<br>Country=%{location}<br>PercentOfBaseline=%{z}<extra></extra>",
           "hovertext": [
            "Australia",
            "Canada",
            "Chile",
            "United States of America (the)"
           ],
           "locationmode": "country names",
           "locations": [
            "Australia",
            "Canada",
            "Chile",
            "United States of America (the)"
           ],
           "name": "",
           "type": "choropleth",
           "z": [
            62,
            686,
            28,
            978
           ]
          }
         ],
         "name": "2020-05-07 00:00:00"
        },
        {
         "data": [
          {
           "coloraxis": "coloraxis",
           "geo": "geo",
           "hovertemplate": "<b>%{hovertext}</b><br><br>Date=2020-05-08 00:00:00<br>Country=%{location}<br>PercentOfBaseline=%{z}<extra></extra>",
           "hovertext": [
            "Australia",
            "Canada",
            "Chile",
            "United States of America (the)"
           ],
           "locationmode": "country names",
           "locations": [
            "Australia",
            "Canada",
            "Chile",
            "United States of America (the)"
           ],
           "name": "",
           "type": "choropleth",
           "z": [
            56,
            667,
            19,
            979
           ]
          }
         ],
         "name": "2020-05-08 00:00:00"
        },
        {
         "data": [
          {
           "coloraxis": "coloraxis",
           "geo": "geo",
           "hovertemplate": "<b>%{hovertext}</b><br><br>Date=2020-05-09 00:00:00<br>Country=%{location}<br>PercentOfBaseline=%{z}<extra></extra>",
           "hovertext": [
            "Australia",
            "Canada",
            "Chile",
            "United States of America (the)"
           ],
           "locationmode": "country names",
           "locations": [
            "Australia",
            "Canada",
            "Chile",
            "United States of America (the)"
           ],
           "name": "",
           "type": "choropleth",
           "z": [
            19,
            516,
            15,
            828
           ]
          }
         ],
         "name": "2020-05-09 00:00:00"
        },
        {
         "data": [
          {
           "coloraxis": "coloraxis",
           "geo": "geo",
           "hovertemplate": "<b>%{hovertext}</b><br><br>Date=2020-05-10 00:00:00<br>Country=%{location}<br>PercentOfBaseline=%{z}<extra></extra>",
           "hovertext": [
            "Australia",
            "Canada",
            "Chile",
            "United States of America (the)"
           ],
           "locationmode": "country names",
           "locations": [
            "Australia",
            "Canada",
            "Chile",
            "United States of America (the)"
           ],
           "name": "",
           "type": "choropleth",
           "z": [
            40,
            385,
            12,
            794
           ]
          }
         ],
         "name": "2020-05-10 00:00:00"
        },
        {
         "data": [
          {
           "coloraxis": "coloraxis",
           "geo": "geo",
           "hovertemplate": "<b>%{hovertext}</b><br><br>Date=2020-05-11 00:00:00<br>Country=%{location}<br>PercentOfBaseline=%{z}<extra></extra>",
           "hovertext": [
            "Australia",
            "Canada",
            "Chile",
            "United States of America (the)"
           ],
           "locationmode": "country names",
           "locations": [
            "Australia",
            "Canada",
            "Chile",
            "United States of America (the)"
           ],
           "name": "",
           "type": "choropleth",
           "z": [
            47,
            743,
            28,
            991
           ]
          }
         ],
         "name": "2020-05-11 00:00:00"
        },
        {
         "data": [
          {
           "coloraxis": "coloraxis",
           "geo": "geo",
           "hovertemplate": "<b>%{hovertext}</b><br><br>Date=2020-05-12 00:00:00<br>Country=%{location}<br>PercentOfBaseline=%{z}<extra></extra>",
           "hovertext": [
            "Australia",
            "Canada",
            "Chile",
            "United States of America (the)"
           ],
           "locationmode": "country names",
           "locations": [
            "Australia",
            "Canada",
            "Chile",
            "United States of America (the)"
           ],
           "name": "",
           "type": "choropleth",
           "z": [
            54,
            752,
            35,
            1002
           ]
          }
         ],
         "name": "2020-05-12 00:00:00"
        },
        {
         "data": [
          {
           "coloraxis": "coloraxis",
           "geo": "geo",
           "hovertemplate": "<b>%{hovertext}</b><br><br>Date=2020-05-13 00:00:00<br>Country=%{location}<br>PercentOfBaseline=%{z}<extra></extra>",
           "hovertext": [
            "Australia",
            "Canada",
            "Chile",
            "United States of America (the)"
           ],
           "locationmode": "country names",
           "locations": [
            "Australia",
            "Canada",
            "Chile",
            "United States of America (the)"
           ],
           "name": "",
           "type": "choropleth",
           "z": [
            56,
            712,
            32,
            1045
           ]
          }
         ],
         "name": "2020-05-13 00:00:00"
        },
        {
         "data": [
          {
           "coloraxis": "coloraxis",
           "geo": "geo",
           "hovertemplate": "<b>%{hovertext}</b><br><br>Date=2020-05-14 00:00:00<br>Country=%{location}<br>PercentOfBaseline=%{z}<extra></extra>",
           "hovertext": [
            "Australia",
            "Canada",
            "Chile",
            "United States of America (the)"
           ],
           "locationmode": "country names",
           "locations": [
            "Australia",
            "Canada",
            "Chile",
            "United States of America (the)"
           ],
           "name": "",
           "type": "choropleth",
           "z": [
            59,
            666,
            18,
            1005
           ]
          }
         ],
         "name": "2020-05-14 00:00:00"
        },
        {
         "data": [
          {
           "coloraxis": "coloraxis",
           "geo": "geo",
           "hovertemplate": "<b>%{hovertext}</b><br><br>Date=2020-05-15 00:00:00<br>Country=%{location}<br>PercentOfBaseline=%{z}<extra></extra>",
           "hovertext": [
            "Australia",
            "Canada",
            "Chile",
            "United States of America (the)"
           ],
           "locationmode": "country names",
           "locations": [
            "Australia",
            "Canada",
            "Chile",
            "United States of America (the)"
           ],
           "name": "",
           "type": "choropleth",
           "z": [
            59,
            680,
            23,
            982
           ]
          }
         ],
         "name": "2020-05-15 00:00:00"
        },
        {
         "data": [
          {
           "coloraxis": "coloraxis",
           "geo": "geo",
           "hovertemplate": "<b>%{hovertext}</b><br><br>Date=2020-05-16 00:00:00<br>Country=%{location}<br>PercentOfBaseline=%{z}<extra></extra>",
           "hovertext": [
            "Australia",
            "Canada",
            "Chile",
            "United States of America (the)"
           ],
           "locationmode": "country names",
           "locations": [
            "Australia",
            "Canada",
            "Chile",
            "United States of America (the)"
           ],
           "name": "",
           "type": "choropleth",
           "z": [
            23,
            565,
            22,
            848
           ]
          }
         ],
         "name": "2020-05-16 00:00:00"
        },
        {
         "data": [
          {
           "coloraxis": "coloraxis",
           "geo": "geo",
           "hovertemplate": "<b>%{hovertext}</b><br><br>Date=2020-05-17 00:00:00<br>Country=%{location}<br>PercentOfBaseline=%{z}<extra></extra>",
           "hovertext": [
            "Australia",
            "Canada",
            "Chile",
            "United States of America (the)"
           ],
           "locationmode": "country names",
           "locations": [
            "Australia",
            "Canada",
            "Chile",
            "United States of America (the)"
           ],
           "name": "",
           "type": "choropleth",
           "z": [
            43,
            458,
            10,
            804
           ]
          }
         ],
         "name": "2020-05-17 00:00:00"
        },
        {
         "data": [
          {
           "coloraxis": "coloraxis",
           "geo": "geo",
           "hovertemplate": "<b>%{hovertext}</b><br><br>Date=2020-05-18 00:00:00<br>Country=%{location}<br>PercentOfBaseline=%{z}<extra></extra>",
           "hovertext": [
            "Australia",
            "Canada",
            "Chile",
            "United States of America (the)"
           ],
           "locationmode": "country names",
           "locations": [
            "Australia",
            "Canada",
            "Chile",
            "United States of America (the)"
           ],
           "name": "",
           "type": "choropleth",
           "z": [
            51,
            151,
            27,
            1006
           ]
          }
         ],
         "name": "2020-05-18 00:00:00"
        },
        {
         "data": [
          {
           "coloraxis": "coloraxis",
           "geo": "geo",
           "hovertemplate": "<b>%{hovertext}</b><br><br>Date=2020-05-19 00:00:00<br>Country=%{location}<br>PercentOfBaseline=%{z}<extra></extra>",
           "hovertext": [
            "Australia",
            "Canada",
            "Chile",
            "United States of America (the)"
           ],
           "locationmode": "country names",
           "locations": [
            "Australia",
            "Canada",
            "Chile",
            "United States of America (the)"
           ],
           "name": "",
           "type": "choropleth",
           "z": [
            60,
            685,
            29,
            1074
           ]
          }
         ],
         "name": "2020-05-19 00:00:00"
        },
        {
         "data": [
          {
           "coloraxis": "coloraxis",
           "geo": "geo",
           "hovertemplate": "<b>%{hovertext}</b><br><br>Date=2020-05-20 00:00:00<br>Country=%{location}<br>PercentOfBaseline=%{z}<extra></extra>",
           "hovertext": [
            "Australia",
            "Canada",
            "Chile",
            "United States of America (the)"
           ],
           "locationmode": "country names",
           "locations": [
            "Australia",
            "Canada",
            "Chile",
            "United States of America (the)"
           ],
           "name": "",
           "type": "choropleth",
           "z": [
            61,
            721,
            35,
            1083
           ]
          }
         ],
         "name": "2020-05-20 00:00:00"
        },
        {
         "data": [
          {
           "coloraxis": "coloraxis",
           "geo": "geo",
           "hovertemplate": "<b>%{hovertext}</b><br><br>Date=2020-05-21 00:00:00<br>Country=%{location}<br>PercentOfBaseline=%{z}<extra></extra>",
           "hovertext": [
            "Australia",
            "Canada",
            "Chile",
            "United States of America (the)"
           ],
           "locationmode": "country names",
           "locations": [
            "Australia",
            "Canada",
            "Chile",
            "United States of America (the)"
           ],
           "name": "",
           "type": "choropleth",
           "z": [
            54,
            688,
            13,
            1045
           ]
          }
         ],
         "name": "2020-05-21 00:00:00"
        },
        {
         "data": [
          {
           "coloraxis": "coloraxis",
           "geo": "geo",
           "hovertemplate": "<b>%{hovertext}</b><br><br>Date=2020-05-22 00:00:00<br>Country=%{location}<br>PercentOfBaseline=%{z}<extra></extra>",
           "hovertext": [
            "Australia",
            "Canada",
            "Chile",
            "United States of America (the)"
           ],
           "locationmode": "country names",
           "locations": [
            "Australia",
            "Canada",
            "Chile",
            "United States of America (the)"
           ],
           "name": "",
           "type": "choropleth",
           "z": [
            50,
            712,
            18,
            994
           ]
          }
         ],
         "name": "2020-05-22 00:00:00"
        },
        {
         "data": [
          {
           "coloraxis": "coloraxis",
           "geo": "geo",
           "hovertemplate": "<b>%{hovertext}</b><br><br>Date=2020-05-23 00:00:00<br>Country=%{location}<br>PercentOfBaseline=%{z}<extra></extra>",
           "hovertext": [
            "Australia",
            "Canada",
            "Chile",
            "United States of America (the)"
           ],
           "locationmode": "country names",
           "locations": [
            "Australia",
            "Canada",
            "Chile",
            "United States of America (the)"
           ],
           "name": "",
           "type": "choropleth",
           "z": [
            16,
            506,
            15,
            843
           ]
          }
         ],
         "name": "2020-05-23 00:00:00"
        },
        {
         "data": [
          {
           "coloraxis": "coloraxis",
           "geo": "geo",
           "hovertemplate": "<b>%{hovertext}</b><br><br>Date=2020-05-24 00:00:00<br>Country=%{location}<br>PercentOfBaseline=%{z}<extra></extra>",
           "hovertext": [
            "Australia",
            "Canada",
            "Chile",
            "United States of America (the)"
           ],
           "locationmode": "country names",
           "locations": [
            "Australia",
            "Canada",
            "Chile",
            "United States of America (the)"
           ],
           "name": "",
           "type": "choropleth",
           "z": [
            40,
            468,
            9,
            798
           ]
          }
         ],
         "name": "2020-05-24 00:00:00"
        },
        {
         "data": [
          {
           "coloraxis": "coloraxis",
           "geo": "geo",
           "hovertemplate": "<b>%{hovertext}</b><br><br>Date=2020-05-25 00:00:00<br>Country=%{location}<br>PercentOfBaseline=%{z}<extra></extra>",
           "hovertext": [
            "Australia",
            "Canada",
            "Chile",
            "United States of America (the)"
           ],
           "locationmode": "country names",
           "locations": [
            "Australia",
            "Canada",
            "Chile",
            "United States of America (the)"
           ],
           "name": "",
           "type": "choropleth",
           "z": [
            53,
            762,
            27,
            405
           ]
          }
         ],
         "name": "2020-05-25 00:00:00"
        },
        {
         "data": [
          {
           "coloraxis": "coloraxis",
           "geo": "geo",
           "hovertemplate": "<b>%{hovertext}</b><br><br>Date=2020-05-26 00:00:00<br>Country=%{location}<br>PercentOfBaseline=%{z}<extra></extra>",
           "hovertext": [
            "Australia",
            "Canada",
            "Chile",
            "United States of America (the)"
           ],
           "locationmode": "country names",
           "locations": [
            "Australia",
            "Canada",
            "Chile",
            "United States of America (the)"
           ],
           "name": "",
           "type": "choropleth",
           "z": [
            53,
            750,
            22,
            972
           ]
          }
         ],
         "name": "2020-05-26 00:00:00"
        },
        {
         "data": [
          {
           "coloraxis": "coloraxis",
           "geo": "geo",
           "hovertemplate": "<b>%{hovertext}</b><br><br>Date=2020-05-27 00:00:00<br>Country=%{location}<br>PercentOfBaseline=%{z}<extra></extra>",
           "hovertext": [
            "Australia",
            "Canada",
            "Chile",
            "United States of America (the)"
           ],
           "locationmode": "country names",
           "locations": [
            "Australia",
            "Canada",
            "Chile",
            "United States of America (the)"
           ],
           "name": "",
           "type": "choropleth",
           "z": [
            58,
            747,
            19,
            1088
           ]
          }
         ],
         "name": "2020-05-27 00:00:00"
        },
        {
         "data": [
          {
           "coloraxis": "coloraxis",
           "geo": "geo",
           "hovertemplate": "<b>%{hovertext}</b><br><br>Date=2020-05-28 00:00:00<br>Country=%{location}<br>PercentOfBaseline=%{z}<extra></extra>",
           "hovertext": [
            "Australia",
            "Canada",
            "Chile",
            "United States of America (the)"
           ],
           "locationmode": "country names",
           "locations": [
            "Australia",
            "Canada",
            "Chile",
            "United States of America (the)"
           ],
           "name": "",
           "type": "choropleth",
           "z": [
            61,
            744,
            22,
            1087
           ]
          }
         ],
         "name": "2020-05-28 00:00:00"
        },
        {
         "data": [
          {
           "coloraxis": "coloraxis",
           "geo": "geo",
           "hovertemplate": "<b>%{hovertext}</b><br><br>Date=2020-05-29 00:00:00<br>Country=%{location}<br>PercentOfBaseline=%{z}<extra></extra>",
           "hovertext": [
            "Australia",
            "Canada",
            "Chile",
            "United States of America (the)"
           ],
           "locationmode": "country names",
           "locations": [
            "Australia",
            "Canada",
            "Chile",
            "United States of America (the)"
           ],
           "name": "",
           "type": "choropleth",
           "z": [
            54,
            712,
            28,
            1056
           ]
          }
         ],
         "name": "2020-05-29 00:00:00"
        },
        {
         "data": [
          {
           "coloraxis": "coloraxis",
           "geo": "geo",
           "hovertemplate": "<b>%{hovertext}</b><br><br>Date=2020-05-30 00:00:00<br>Country=%{location}<br>PercentOfBaseline=%{z}<extra></extra>",
           "hovertext": [
            "Australia",
            "Canada",
            "Chile",
            "United States of America (the)"
           ],
           "locationmode": "country names",
           "locations": [
            "Australia",
            "Canada",
            "Chile",
            "United States of America (the)"
           ],
           "name": "",
           "type": "choropleth",
           "z": [
            30,
            586,
            13,
            928
           ]
          }
         ],
         "name": "2020-05-30 00:00:00"
        },
        {
         "data": [
          {
           "coloraxis": "coloraxis",
           "geo": "geo",
           "hovertemplate": "<b>%{hovertext}</b><br><br>Date=2020-05-31 00:00:00<br>Country=%{location}<br>PercentOfBaseline=%{z}<extra></extra>",
           "hovertext": [
            "Australia",
            "Canada",
            "United States of America (the)"
           ],
           "locationmode": "country names",
           "locations": [
            "Australia",
            "Canada",
            "United States of America (the)"
           ],
           "name": "",
           "type": "choropleth",
           "z": [
            51,
            683,
            857
           ]
          }
         ],
         "name": "2020-05-31 00:00:00"
        },
        {
         "data": [
          {
           "coloraxis": "coloraxis",
           "geo": "geo",
           "hovertemplate": "<b>%{hovertext}</b><br><br>Date=2020-06-01 00:00:00<br>Country=%{location}<br>PercentOfBaseline=%{z}<extra></extra>",
           "hovertext": [
            "Australia",
            "Canada",
            "Chile",
            "United States of America (the)"
           ],
           "locationmode": "country names",
           "locations": [
            "Australia",
            "Canada",
            "Chile",
            "United States of America (the)"
           ],
           "name": "",
           "type": "choropleth",
           "z": [
            55,
            799,
            20,
            1064
           ]
          }
         ],
         "name": "2020-06-01 00:00:00"
        },
        {
         "data": [
          {
           "coloraxis": "coloraxis",
           "geo": "geo",
           "hovertemplate": "<b>%{hovertext}</b><br><br>Date=2020-06-02 00:00:00<br>Country=%{location}<br>PercentOfBaseline=%{z}<extra></extra>",
           "hovertext": [
            "Australia",
            "Canada",
            "Chile",
            "United States of America (the)"
           ],
           "locationmode": "country names",
           "locations": [
            "Australia",
            "Canada",
            "Chile",
            "United States of America (the)"
           ],
           "name": "",
           "type": "choropleth",
           "z": [
            59,
            752,
            34,
            1103
           ]
          }
         ],
         "name": "2020-06-02 00:00:00"
        },
        {
         "data": [
          {
           "coloraxis": "coloraxis",
           "geo": "geo",
           "hovertemplate": "<b>%{hovertext}</b><br><br>Date=2020-06-03 00:00:00<br>Country=%{location}<br>PercentOfBaseline=%{z}<extra></extra>",
           "hovertext": [
            "Australia",
            "Canada",
            "Chile",
            "United States of America (the)"
           ],
           "locationmode": "country names",
           "locations": [
            "Australia",
            "Canada",
            "Chile",
            "United States of America (the)"
           ],
           "name": "",
           "type": "choropleth",
           "z": [
            61,
            747,
            41,
            1102
           ]
          }
         ],
         "name": "2020-06-03 00:00:00"
        },
        {
         "data": [
          {
           "coloraxis": "coloraxis",
           "geo": "geo",
           "hovertemplate": "<b>%{hovertext}</b><br><br>Date=2020-06-04 00:00:00<br>Country=%{location}<br>PercentOfBaseline=%{z}<extra></extra>",
           "hovertext": [
            "Australia",
            "Canada",
            "Chile",
            "United States of America (the)"
           ],
           "locationmode": "country names",
           "locations": [
            "Australia",
            "Canada",
            "Chile",
            "United States of America (the)"
           ],
           "name": "",
           "type": "choropleth",
           "z": [
            59,
            715,
            20,
            1090
           ]
          }
         ],
         "name": "2020-06-04 00:00:00"
        },
        {
         "data": [
          {
           "coloraxis": "coloraxis",
           "geo": "geo",
           "hovertemplate": "<b>%{hovertext}</b><br><br>Date=2020-06-05 00:00:00<br>Country=%{location}<br>PercentOfBaseline=%{z}<extra></extra>",
           "hovertext": [
            "Australia",
            "Canada",
            "Chile",
            "United States of America (the)"
           ],
           "locationmode": "country names",
           "locations": [
            "Australia",
            "Canada",
            "Chile",
            "United States of America (the)"
           ],
           "name": "",
           "type": "choropleth",
           "z": [
            50,
            710,
            27,
            1087
           ]
          }
         ],
         "name": "2020-06-05 00:00:00"
        },
        {
         "data": [
          {
           "coloraxis": "coloraxis",
           "geo": "geo",
           "hovertemplate": "<b>%{hovertext}</b><br><br>Date=2020-06-06 00:00:00<br>Country=%{location}<br>PercentOfBaseline=%{z}<extra></extra>",
           "hovertext": [
            "Canada",
            "Chile",
            "United States of America (the)"
           ],
           "locationmode": "country names",
           "locations": [
            "Canada",
            "Chile",
            "United States of America (the)"
           ],
           "name": "",
           "type": "choropleth",
           "z": [
            517,
            22,
            971
           ]
          }
         ],
         "name": "2020-06-06 00:00:00"
        },
        {
         "data": [
          {
           "coloraxis": "coloraxis",
           "geo": "geo",
           "hovertemplate": "<b>%{hovertext}</b><br><br>Date=2020-06-07 00:00:00<br>Country=%{location}<br>PercentOfBaseline=%{z}<extra></extra>",
           "hovertext": [
            "Australia",
            "Canada",
            "United States of America (the)"
           ],
           "locationmode": "country names",
           "locations": [
            "Australia",
            "Canada",
            "United States of America (the)"
           ],
           "name": "",
           "type": "choropleth",
           "z": [
            21,
            588,
            939
           ]
          }
         ],
         "name": "2020-06-07 00:00:00"
        },
        {
         "data": [
          {
           "coloraxis": "coloraxis",
           "geo": "geo",
           "hovertemplate": "<b>%{hovertext}</b><br><br>Date=2020-06-08 00:00:00<br>Country=%{location}<br>PercentOfBaseline=%{z}<extra></extra>",
           "hovertext": [
            "Australia",
            "Canada",
            "Chile",
            "United States of America (the)"
           ],
           "locationmode": "country names",
           "locations": [
            "Australia",
            "Canada",
            "Chile",
            "United States of America (the)"
           ],
           "name": "",
           "type": "choropleth",
           "z": [
            25,
            794,
            28,
            1082
           ]
          }
         ],
         "name": "2020-06-08 00:00:00"
        },
        {
         "data": [
          {
           "coloraxis": "coloraxis",
           "geo": "geo",
           "hovertemplate": "<b>%{hovertext}</b><br><br>Date=2020-06-09 00:00:00<br>Country=%{location}<br>PercentOfBaseline=%{z}<extra></extra>",
           "hovertext": [
            "Australia",
            "Canada",
            "Chile",
            "United States of America (the)"
           ],
           "locationmode": "country names",
           "locations": [
            "Australia",
            "Canada",
            "Chile",
            "United States of America (the)"
           ],
           "name": "",
           "type": "choropleth",
           "z": [
            54,
            764,
            25,
            1089
           ]
          }
         ],
         "name": "2020-06-09 00:00:00"
        },
        {
         "data": [
          {
           "coloraxis": "coloraxis",
           "geo": "geo",
           "hovertemplate": "<b>%{hovertext}</b><br><br>Date=2020-06-10 00:00:00<br>Country=%{location}<br>PercentOfBaseline=%{z}<extra></extra>",
           "hovertext": [
            "Australia",
            "Canada",
            "Chile",
            "United States of America (the)"
           ],
           "locationmode": "country names",
           "locations": [
            "Australia",
            "Canada",
            "Chile",
            "United States of America (the)"
           ],
           "name": "",
           "type": "choropleth",
           "z": [
            56,
            738,
            24,
            1075
           ]
          }
         ],
         "name": "2020-06-10 00:00:00"
        },
        {
         "data": [
          {
           "coloraxis": "coloraxis",
           "geo": "geo",
           "hovertemplate": "<b>%{hovertext}</b><br><br>Date=2020-06-11 00:00:00<br>Country=%{location}<br>PercentOfBaseline=%{z}<extra></extra>",
           "hovertext": [
            "Australia",
            "Canada",
            "Chile",
            "United States of America (the)"
           ],
           "locationmode": "country names",
           "locations": [
            "Australia",
            "Canada",
            "Chile",
            "United States of America (the)"
           ],
           "name": "",
           "type": "choropleth",
           "z": [
            64,
            755,
            24,
            1085
           ]
          }
         ],
         "name": "2020-06-11 00:00:00"
        },
        {
         "data": [
          {
           "coloraxis": "coloraxis",
           "geo": "geo",
           "hovertemplate": "<b>%{hovertext}</b><br><br>Date=2020-06-12 00:00:00<br>Country=%{location}<br>PercentOfBaseline=%{z}<extra></extra>",
           "hovertext": [
            "Australia",
            "Canada",
            "Chile",
            "United States of America (the)"
           ],
           "locationmode": "country names",
           "locations": [
            "Australia",
            "Canada",
            "Chile",
            "United States of America (the)"
           ],
           "name": "",
           "type": "choropleth",
           "z": [
            60,
            738,
            31,
            1067
           ]
          }
         ],
         "name": "2020-06-12 00:00:00"
        },
        {
         "data": [
          {
           "coloraxis": "coloraxis",
           "geo": "geo",
           "hovertemplate": "<b>%{hovertext}</b><br><br>Date=2020-06-13 00:00:00<br>Country=%{location}<br>PercentOfBaseline=%{z}<extra></extra>",
           "hovertext": [
            "Australia",
            "Canada",
            "United States of America (the)"
           ],
           "locationmode": "country names",
           "locations": [
            "Australia",
            "Canada",
            "United States of America (the)"
           ],
           "name": "",
           "type": "choropleth",
           "z": [
            36,
            554,
            963
           ]
          }
         ],
         "name": "2020-06-13 00:00:00"
        },
        {
         "data": [
          {
           "coloraxis": "coloraxis",
           "geo": "geo",
           "hovertemplate": "<b>%{hovertext}</b><br><br>Date=2020-06-14 00:00:00<br>Country=%{location}<br>PercentOfBaseline=%{z}<extra></extra>",
           "hovertext": [
            "Australia",
            "Canada",
            "United States of America (the)"
           ],
           "locationmode": "country names",
           "locations": [
            "Australia",
            "Canada",
            "United States of America (the)"
           ],
           "name": "",
           "type": "choropleth",
           "z": [
            55,
            672,
            911
           ]
          }
         ],
         "name": "2020-06-14 00:00:00"
        },
        {
         "data": [
          {
           "coloraxis": "coloraxis",
           "geo": "geo",
           "hovertemplate": "<b>%{hovertext}</b><br><br>Date=2020-06-15 00:00:00<br>Country=%{location}<br>PercentOfBaseline=%{z}<extra></extra>",
           "hovertext": [
            "Australia",
            "Canada",
            "Chile",
            "United States of America (the)"
           ],
           "locationmode": "country names",
           "locations": [
            "Australia",
            "Canada",
            "Chile",
            "United States of America (the)"
           ],
           "name": "",
           "type": "choropleth",
           "z": [
            52,
            823,
            32,
            1099
           ]
          }
         ],
         "name": "2020-06-15 00:00:00"
        },
        {
         "data": [
          {
           "coloraxis": "coloraxis",
           "geo": "geo",
           "hovertemplate": "<b>%{hovertext}</b><br><br>Date=2020-06-16 00:00:00<br>Country=%{location}<br>PercentOfBaseline=%{z}<extra></extra>",
           "hovertext": [
            "Australia",
            "Canada",
            "Chile",
            "United States of America (the)"
           ],
           "locationmode": "country names",
           "locations": [
            "Australia",
            "Canada",
            "Chile",
            "United States of America (the)"
           ],
           "name": "",
           "type": "choropleth",
           "z": [
            63,
            780,
            27,
            1122
           ]
          }
         ],
         "name": "2020-06-16 00:00:00"
        },
        {
         "data": [
          {
           "coloraxis": "coloraxis",
           "geo": "geo",
           "hovertemplate": "<b>%{hovertext}</b><br><br>Date=2020-06-17 00:00:00<br>Country=%{location}<br>PercentOfBaseline=%{z}<extra></extra>",
           "hovertext": [
            "Australia",
            "Canada",
            "Chile",
            "United States of America (the)"
           ],
           "locationmode": "country names",
           "locations": [
            "Australia",
            "Canada",
            "Chile",
            "United States of America (the)"
           ],
           "name": "",
           "type": "choropleth",
           "z": [
            58,
            764,
            30,
            1122
           ]
          }
         ],
         "name": "2020-06-17 00:00:00"
        },
        {
         "data": [
          {
           "coloraxis": "coloraxis",
           "geo": "geo",
           "hovertemplate": "<b>%{hovertext}</b><br><br>Date=2020-06-18 00:00:00<br>Country=%{location}<br>PercentOfBaseline=%{z}<extra></extra>",
           "hovertext": [
            "Australia",
            "Canada",
            "Chile",
            "United States of America (the)"
           ],
           "locationmode": "country names",
           "locations": [
            "Australia",
            "Canada",
            "Chile",
            "United States of America (the)"
           ],
           "name": "",
           "type": "choropleth",
           "z": [
            59,
            766,
            30,
            1110
           ]
          }
         ],
         "name": "2020-06-18 00:00:00"
        },
        {
         "data": [
          {
           "coloraxis": "coloraxis",
           "geo": "geo",
           "hovertemplate": "<b>%{hovertext}</b><br><br>Date=2020-06-19 00:00:00<br>Country=%{location}<br>PercentOfBaseline=%{z}<extra></extra>",
           "hovertext": [
            "Australia",
            "Canada",
            "Chile",
            "United States of America (the)"
           ],
           "locationmode": "country names",
           "locations": [
            "Australia",
            "Canada",
            "Chile",
            "United States of America (the)"
           ],
           "name": "",
           "type": "choropleth",
           "z": [
            65,
            769,
            28,
            1086
           ]
          }
         ],
         "name": "2020-06-19 00:00:00"
        },
        {
         "data": [
          {
           "coloraxis": "coloraxis",
           "geo": "geo",
           "hovertemplate": "<b>%{hovertext}</b><br><br>Date=2020-06-20 00:00:00<br>Country=%{location}<br>PercentOfBaseline=%{z}<extra></extra>",
           "hovertext": [
            "Australia",
            "Canada",
            "Chile",
            "United States of America (the)"
           ],
           "locationmode": "country names",
           "locations": [
            "Australia",
            "Canada",
            "Chile",
            "United States of America (the)"
           ],
           "name": "",
           "type": "choropleth",
           "z": [
            26,
            599,
            16,
            944
           ]
          }
         ],
         "name": "2020-06-20 00:00:00"
        },
        {
         "data": [
          {
           "coloraxis": "coloraxis",
           "geo": "geo",
           "hovertemplate": "<b>%{hovertext}</b><br><br>Date=2020-06-21 00:00:00<br>Country=%{location}<br>PercentOfBaseline=%{z}<extra></extra>",
           "hovertext": [
            "Australia",
            "Canada",
            "Chile",
            "United States of America (the)"
           ],
           "locationmode": "country names",
           "locations": [
            "Australia",
            "Canada",
            "Chile",
            "United States of America (the)"
           ],
           "name": "",
           "type": "choropleth",
           "z": [
            46,
            508,
            14,
            853
           ]
          }
         ],
         "name": "2020-06-21 00:00:00"
        },
        {
         "data": [
          {
           "coloraxis": "coloraxis",
           "geo": "geo",
           "hovertemplate": "<b>%{hovertext}</b><br><br>Date=2020-06-22 00:00:00<br>Country=%{location}<br>PercentOfBaseline=%{z}<extra></extra>",
           "hovertext": [
            "Australia",
            "Canada",
            "Chile",
            "United States of America (the)"
           ],
           "locationmode": "country names",
           "locations": [
            "Australia",
            "Canada",
            "Chile",
            "United States of America (the)"
           ],
           "name": "",
           "type": "choropleth",
           "z": [
            50,
            826,
            37,
            1091
           ]
          }
         ],
         "name": "2020-06-22 00:00:00"
        },
        {
         "data": [
          {
           "coloraxis": "coloraxis",
           "geo": "geo",
           "hovertemplate": "<b>%{hovertext}</b><br><br>Date=2020-06-23 00:00:00<br>Country=%{location}<br>PercentOfBaseline=%{z}<extra></extra>",
           "hovertext": [
            "Australia",
            "Canada",
            "Chile",
            "United States of America (the)"
           ],
           "locationmode": "country names",
           "locations": [
            "Australia",
            "Canada",
            "Chile",
            "United States of America (the)"
           ],
           "name": "",
           "type": "choropleth",
           "z": [
            58,
            779,
            32,
            1167
           ]
          }
         ],
         "name": "2020-06-23 00:00:00"
        },
        {
         "data": [
          {
           "coloraxis": "coloraxis",
           "geo": "geo",
           "hovertemplate": "<b>%{hovertext}</b><br><br>Date=2020-06-24 00:00:00<br>Country=%{location}<br>PercentOfBaseline=%{z}<extra></extra>",
           "hovertext": [
            "Australia",
            "Canada",
            "Chile",
            "United States of America (the)"
           ],
           "locationmode": "country names",
           "locations": [
            "Australia",
            "Canada",
            "Chile",
            "United States of America (the)"
           ],
           "name": "",
           "type": "choropleth",
           "z": [
            58,
            670,
            30,
            1162
           ]
          }
         ],
         "name": "2020-06-24 00:00:00"
        },
        {
         "data": [
          {
           "coloraxis": "coloraxis",
           "geo": "geo",
           "hovertemplate": "<b>%{hovertext}</b><br><br>Date=2020-06-25 00:00:00<br>Country=%{location}<br>PercentOfBaseline=%{z}<extra></extra>",
           "hovertext": [
            "Australia",
            "Canada",
            "Chile",
            "United States of America (the)"
           ],
           "locationmode": "country names",
           "locations": [
            "Australia",
            "Canada",
            "Chile",
            "United States of America (the)"
           ],
           "name": "",
           "type": "choropleth",
           "z": [
            62,
            744,
            29,
            1123
           ]
          }
         ],
         "name": "2020-06-25 00:00:00"
        },
        {
         "data": [
          {
           "coloraxis": "coloraxis",
           "geo": "geo",
           "hovertemplate": "<b>%{hovertext}</b><br><br>Date=2020-06-26 00:00:00<br>Country=%{location}<br>PercentOfBaseline=%{z}<extra></extra>",
           "hovertext": [
            "Australia",
            "Canada",
            "Chile",
            "United States of America (the)"
           ],
           "locationmode": "country names",
           "locations": [
            "Australia",
            "Canada",
            "Chile",
            "United States of America (the)"
           ],
           "name": "",
           "type": "choropleth",
           "z": [
            53,
            765,
            32,
            1124
           ]
          }
         ],
         "name": "2020-06-26 00:00:00"
        },
        {
         "data": [
          {
           "coloraxis": "coloraxis",
           "geo": "geo",
           "hovertemplate": "<b>%{hovertext}</b><br><br>Date=2020-06-27 00:00:00<br>Country=%{location}<br>PercentOfBaseline=%{z}<extra></extra>",
           "hovertext": [
            "Australia",
            "Canada",
            "Chile",
            "United States of America (the)"
           ],
           "locationmode": "country names",
           "locations": [
            "Australia",
            "Canada",
            "Chile",
            "United States of America (the)"
           ],
           "name": "",
           "type": "choropleth",
           "z": [
            51,
            549,
            19,
            1028
           ]
          }
         ],
         "name": "2020-06-27 00:00:00"
        },
        {
         "data": [
          {
           "coloraxis": "coloraxis",
           "geo": "geo",
           "hovertemplate": "<b>%{hovertext}</b><br><br>Date=2020-06-28 00:00:00<br>Country=%{location}<br>PercentOfBaseline=%{z}<extra></extra>",
           "hovertext": [
            "Australia",
            "Canada",
            "United States of America (the)"
           ],
           "locationmode": "country names",
           "locations": [
            "Australia",
            "Canada",
            "United States of America (the)"
           ],
           "name": "",
           "type": "choropleth",
           "z": [
            48,
            595,
            930
           ]
          }
         ],
         "name": "2020-06-28 00:00:00"
        },
        {
         "data": [
          {
           "coloraxis": "coloraxis",
           "geo": "geo",
           "hovertemplate": "<b>%{hovertext}</b><br><br>Date=2020-06-29 00:00:00<br>Country=%{location}<br>PercentOfBaseline=%{z}<extra></extra>",
           "hovertext": [
            "Australia",
            "Canada",
            "Chile",
            "United States of America (the)"
           ],
           "locationmode": "country names",
           "locations": [
            "Australia",
            "Canada",
            "Chile",
            "United States of America (the)"
           ],
           "name": "",
           "type": "choropleth",
           "z": [
            57,
            814,
            19,
            1115
           ]
          }
         ],
         "name": "2020-06-29 00:00:00"
        },
        {
         "data": [
          {
           "coloraxis": "coloraxis",
           "geo": "geo",
           "hovertemplate": "<b>%{hovertext}</b><br><br>Date=2020-06-30 00:00:00<br>Country=%{location}<br>PercentOfBaseline=%{z}<extra></extra>",
           "hovertext": [
            "Australia",
            "Canada",
            "Chile",
            "United States of America (the)"
           ],
           "locationmode": "country names",
           "locations": [
            "Australia",
            "Canada",
            "Chile",
            "United States of America (the)"
           ],
           "name": "",
           "type": "choropleth",
           "z": [
            62,
            769,
            27,
            1153
           ]
          }
         ],
         "name": "2020-06-30 00:00:00"
        },
        {
         "data": [
          {
           "coloraxis": "coloraxis",
           "geo": "geo",
           "hovertemplate": "<b>%{hovertext}</b><br><br>Date=2020-07-01 00:00:00<br>Country=%{location}<br>PercentOfBaseline=%{z}<extra></extra>",
           "hovertext": [
            "Australia",
            "Canada",
            "Chile",
            "United States of America (the)"
           ],
           "locationmode": "country names",
           "locations": [
            "Australia",
            "Canada",
            "Chile",
            "United States of America (the)"
           ],
           "name": "",
           "type": "choropleth",
           "z": [
            62,
            280,
            33,
            1166
           ]
          }
         ],
         "name": "2020-07-01 00:00:00"
        },
        {
         "data": [
          {
           "coloraxis": "coloraxis",
           "geo": "geo",
           "hovertemplate": "<b>%{hovertext}</b><br><br>Date=2020-07-02 00:00:00<br>Country=%{location}<br>PercentOfBaseline=%{z}<extra></extra>",
           "hovertext": [
            "Australia",
            "Canada",
            "Chile",
            "United States of America (the)"
           ],
           "locationmode": "country names",
           "locations": [
            "Australia",
            "Canada",
            "Chile",
            "United States of America (the)"
           ],
           "name": "",
           "type": "choropleth",
           "z": [
            56,
            673,
            25,
            1130
           ]
          }
         ],
         "name": "2020-07-02 00:00:00"
        },
        {
         "data": [
          {
           "coloraxis": "coloraxis",
           "geo": "geo",
           "hovertemplate": "<b>%{hovertext}</b><br><br>Date=2020-07-03 00:00:00<br>Country=%{location}<br>PercentOfBaseline=%{z}<extra></extra>",
           "hovertext": [
            "Australia",
            "Canada",
            "Chile",
            "United States of America (the)"
           ],
           "locationmode": "country names",
           "locations": [
            "Australia",
            "Canada",
            "Chile",
            "United States of America (the)"
           ],
           "name": "",
           "type": "choropleth",
           "z": [
            46,
            669,
            32,
            758
           ]
          }
         ],
         "name": "2020-07-03 00:00:00"
        },
        {
         "data": [
          {
           "coloraxis": "coloraxis",
           "geo": "geo",
           "hovertemplate": "<b>%{hovertext}</b><br><br>Date=2020-07-04 00:00:00<br>Country=%{location}<br>PercentOfBaseline=%{z}<extra></extra>",
           "hovertext": [
            "Australia",
            "Canada",
            "Chile",
            "United States of America (the)"
           ],
           "locationmode": "country names",
           "locations": [
            "Australia",
            "Canada",
            "Chile",
            "United States of America (the)"
           ],
           "name": "",
           "type": "choropleth",
           "z": [
            48,
            571,
            19,
            641
           ]
          }
         ],
         "name": "2020-07-04 00:00:00"
        },
        {
         "data": [
          {
           "coloraxis": "coloraxis",
           "geo": "geo",
           "hovertemplate": "<b>%{hovertext}</b><br><br>Date=2020-07-05 00:00:00<br>Country=%{location}<br>PercentOfBaseline=%{z}<extra></extra>",
           "hovertext": [
            "Australia",
            "Canada",
            "United States of America (the)"
           ],
           "locationmode": "country names",
           "locations": [
            "Australia",
            "Canada",
            "United States of America (the)"
           ],
           "name": "",
           "type": "choropleth",
           "z": [
            52,
            632,
            841
           ]
          }
         ],
         "name": "2020-07-05 00:00:00"
        },
        {
         "data": [
          {
           "coloraxis": "coloraxis",
           "geo": "geo",
           "hovertemplate": "<b>%{hovertext}</b><br><br>Date=2020-07-06 00:00:00<br>Country=%{location}<br>PercentOfBaseline=%{z}<extra></extra>",
           "hovertext": [
            "Australia",
            "Canada",
            "Chile",
            "United States of America (the)"
           ],
           "locationmode": "country names",
           "locations": [
            "Australia",
            "Canada",
            "Chile",
            "United States of America (the)"
           ],
           "name": "",
           "type": "choropleth",
           "z": [
            55,
            845,
            33,
            1076
           ]
          }
         ],
         "name": "2020-07-06 00:00:00"
        },
        {
         "data": [
          {
           "coloraxis": "coloraxis",
           "geo": "geo",
           "hovertemplate": "<b>%{hovertext}</b><br><br>Date=2020-07-07 00:00:00<br>Country=%{location}<br>PercentOfBaseline=%{z}<extra></extra>",
           "hovertext": [
            "Australia",
            "Canada",
            "Chile",
            "United States of America (the)"
           ],
           "locationmode": "country names",
           "locations": [
            "Australia",
            "Canada",
            "Chile",
            "United States of America (the)"
           ],
           "name": "",
           "type": "choropleth",
           "z": [
            59,
            776,
            30,
            1202
           ]
          }
         ],
         "name": "2020-07-07 00:00:00"
        },
        {
         "data": [
          {
           "coloraxis": "coloraxis",
           "geo": "geo",
           "hovertemplate": "<b>%{hovertext}</b><br><br>Date=2020-07-08 00:00:00<br>Country=%{location}<br>PercentOfBaseline=%{z}<extra></extra>",
           "hovertext": [
            "Australia",
            "Canada",
            "Chile",
            "United States of America (the)"
           ],
           "locationmode": "country names",
           "locations": [
            "Australia",
            "Canada",
            "Chile",
            "United States of America (the)"
           ],
           "name": "",
           "type": "choropleth",
           "z": [
            55,
            792,
            32,
            1200
           ]
          }
         ],
         "name": "2020-07-08 00:00:00"
        },
        {
         "data": [
          {
           "coloraxis": "coloraxis",
           "geo": "geo",
           "hovertemplate": "<b>%{hovertext}</b><br><br>Date=2020-07-09 00:00:00<br>Country=%{location}<br>PercentOfBaseline=%{z}<extra></extra>",
           "hovertext": [
            "Australia",
            "Canada",
            "Chile",
            "United States of America (the)"
           ],
           "locationmode": "country names",
           "locations": [
            "Australia",
            "Canada",
            "Chile",
            "United States of America (the)"
           ],
           "name": "",
           "type": "choropleth",
           "z": [
            55,
            756,
            33,
            1164
           ]
          }
         ],
         "name": "2020-07-09 00:00:00"
        },
        {
         "data": [
          {
           "coloraxis": "coloraxis",
           "geo": "geo",
           "hovertemplate": "<b>%{hovertext}</b><br><br>Date=2020-07-10 00:00:00<br>Country=%{location}<br>PercentOfBaseline=%{z}<extra></extra>",
           "hovertext": [
            "Australia",
            "Canada",
            "Chile",
            "United States of America (the)"
           ],
           "locationmode": "country names",
           "locations": [
            "Australia",
            "Canada",
            "Chile",
            "United States of America (the)"
           ],
           "name": "",
           "type": "choropleth",
           "z": [
            54,
            773,
            37,
            1159
           ]
          }
         ],
         "name": "2020-07-10 00:00:00"
        },
        {
         "data": [
          {
           "coloraxis": "coloraxis",
           "geo": "geo",
           "hovertemplate": "<b>%{hovertext}</b><br><br>Date=2020-07-11 00:00:00<br>Country=%{location}<br>PercentOfBaseline=%{z}<extra></extra>",
           "hovertext": [
            "Australia",
            "Canada",
            "Chile",
            "United States of America (the)"
           ],
           "locationmode": "country names",
           "locations": [
            "Australia",
            "Canada",
            "Chile",
            "United States of America (the)"
           ],
           "name": "",
           "type": "choropleth",
           "z": [
            52,
            610,
            26,
            1062
           ]
          }
         ],
         "name": "2020-07-11 00:00:00"
        },
        {
         "data": [
          {
           "coloraxis": "coloraxis",
           "geo": "geo",
           "hovertemplate": "<b>%{hovertext}</b><br><br>Date=2020-07-12 00:00:00<br>Country=%{location}<br>PercentOfBaseline=%{z}<extra></extra>",
           "hovertext": [
            "Australia",
            "Canada",
            "United States of America (the)"
           ],
           "locationmode": "country names",
           "locations": [
            "Australia",
            "Canada",
            "United States of America (the)"
           ],
           "name": "",
           "type": "choropleth",
           "z": [
            54,
            550,
            968
           ]
          }
         ],
         "name": "2020-07-12 00:00:00"
        },
        {
         "data": [
          {
           "coloraxis": "coloraxis",
           "geo": "geo",
           "hovertemplate": "<b>%{hovertext}</b><br><br>Date=2020-07-13 00:00:00<br>Country=%{location}<br>PercentOfBaseline=%{z}<extra></extra>",
           "hovertext": [
            "Australia",
            "Canada",
            "Chile",
            "United States of America (the)"
           ],
           "locationmode": "country names",
           "locations": [
            "Australia",
            "Canada",
            "Chile",
            "United States of America (the)"
           ],
           "name": "",
           "type": "choropleth",
           "z": [
            52,
            835,
            32,
            1150
           ]
          }
         ],
         "name": "2020-07-13 00:00:00"
        },
        {
         "data": [
          {
           "coloraxis": "coloraxis",
           "geo": "geo",
           "hovertemplate": "<b>%{hovertext}</b><br><br>Date=2020-07-14 00:00:00<br>Country=%{location}<br>PercentOfBaseline=%{z}<extra></extra>",
           "hovertext": [
            "Australia",
            "Canada",
            "Chile",
            "United States of America (the)"
           ],
           "locationmode": "country names",
           "locations": [
            "Australia",
            "Canada",
            "Chile",
            "United States of America (the)"
           ],
           "name": "",
           "type": "choropleth",
           "z": [
            58,
            780,
            36,
            1222
           ]
          }
         ],
         "name": "2020-07-14 00:00:00"
        },
        {
         "data": [
          {
           "coloraxis": "coloraxis",
           "geo": "geo",
           "hovertemplate": "<b>%{hovertext}</b><br><br>Date=2020-07-15 00:00:00<br>Country=%{location}<br>PercentOfBaseline=%{z}<extra></extra>",
           "hovertext": [
            "Australia",
            "Canada",
            "Chile",
            "United States of America (the)"
           ],
           "locationmode": "country names",
           "locations": [
            "Australia",
            "Canada",
            "Chile",
            "United States of America (the)"
           ],
           "name": "",
           "type": "choropleth",
           "z": [
            58,
            762,
            39,
            1171
           ]
          }
         ],
         "name": "2020-07-15 00:00:00"
        },
        {
         "data": [
          {
           "coloraxis": "coloraxis",
           "geo": "geo",
           "hovertemplate": "<b>%{hovertext}</b><br><br>Date=2020-07-16 00:00:00<br>Country=%{location}<br>PercentOfBaseline=%{z}<extra></extra>",
           "hovertext": [
            "Australia",
            "Canada",
            "Chile",
            "United States of America (the)"
           ],
           "locationmode": "country names",
           "locations": [
            "Australia",
            "Canada",
            "Chile",
            "United States of America (the)"
           ],
           "name": "",
           "type": "choropleth",
           "z": [
            56,
            762,
            27,
            1173
           ]
          }
         ],
         "name": "2020-07-16 00:00:00"
        },
        {
         "data": [
          {
           "coloraxis": "coloraxis",
           "geo": "geo",
           "hovertemplate": "<b>%{hovertext}</b><br><br>Date=2020-07-17 00:00:00<br>Country=%{location}<br>PercentOfBaseline=%{z}<extra></extra>",
           "hovertext": [
            "Australia",
            "Canada",
            "Chile",
            "United States of America (the)"
           ],
           "locationmode": "country names",
           "locations": [
            "Australia",
            "Canada",
            "Chile",
            "United States of America (the)"
           ],
           "name": "",
           "type": "choropleth",
           "z": [
            51,
            747,
            26,
            1179
           ]
          }
         ],
         "name": "2020-07-17 00:00:00"
        },
        {
         "data": [
          {
           "coloraxis": "coloraxis",
           "geo": "geo",
           "hovertemplate": "<b>%{hovertext}</b><br><br>Date=2020-07-18 00:00:00<br>Country=%{location}<br>PercentOfBaseline=%{z}<extra></extra>",
           "hovertext": [
            "Australia",
            "Canada",
            "Chile",
            "United States of America (the)"
           ],
           "locationmode": "country names",
           "locations": [
            "Australia",
            "Canada",
            "Chile",
            "United States of America (the)"
           ],
           "name": "",
           "type": "choropleth",
           "z": [
            36,
            553,
            29,
            1058
           ]
          }
         ],
         "name": "2020-07-18 00:00:00"
        },
        {
         "data": [
          {
           "coloraxis": "coloraxis",
           "geo": "geo",
           "hovertemplate": "<b>%{hovertext}</b><br><br>Date=2020-07-19 00:00:00<br>Country=%{location}<br>PercentOfBaseline=%{z}<extra></extra>",
           "hovertext": [
            "Australia",
            "Canada",
            "Chile",
            "United States of America (the)"
           ],
           "locationmode": "country names",
           "locations": [
            "Australia",
            "Canada",
            "Chile",
            "United States of America (the)"
           ],
           "name": "",
           "type": "choropleth",
           "z": [
            52,
            558,
            16,
            1004
           ]
          }
         ],
         "name": "2020-07-19 00:00:00"
        },
        {
         "data": [
          {
           "coloraxis": "coloraxis",
           "geo": "geo",
           "hovertemplate": "<b>%{hovertext}</b><br><br>Date=2020-07-20 00:00:00<br>Country=%{location}<br>PercentOfBaseline=%{z}<extra></extra>",
           "hovertext": [
            "Australia",
            "Canada",
            "Chile",
            "United States of America (the)"
           ],
           "locationmode": "country names",
           "locations": [
            "Australia",
            "Canada",
            "Chile",
            "United States of America (the)"
           ],
           "name": "",
           "type": "choropleth",
           "z": [
            51,
            827,
            34,
            1187
           ]
          }
         ],
         "name": "2020-07-20 00:00:00"
        },
        {
         "data": [
          {
           "coloraxis": "coloraxis",
           "geo": "geo",
           "hovertemplate": "<b>%{hovertext}</b><br><br>Date=2020-07-21 00:00:00<br>Country=%{location}<br>PercentOfBaseline=%{z}<extra></extra>",
           "hovertext": [
            "Australia",
            "Canada",
            "Chile",
            "United States of America (the)"
           ],
           "locationmode": "country names",
           "locations": [
            "Australia",
            "Canada",
            "Chile",
            "United States of America (the)"
           ],
           "name": "",
           "type": "choropleth",
           "z": [
            59,
            766,
            36,
            1293
           ]
          }
         ],
         "name": "2020-07-21 00:00:00"
        },
        {
         "data": [
          {
           "coloraxis": "coloraxis",
           "geo": "geo",
           "hovertemplate": "<b>%{hovertext}</b><br><br>Date=2020-07-22 00:00:00<br>Country=%{location}<br>PercentOfBaseline=%{z}<extra></extra>",
           "hovertext": [
            "Australia",
            "Canada",
            "Chile",
            "United States of America (the)"
           ],
           "locationmode": "country names",
           "locations": [
            "Australia",
            "Canada",
            "Chile",
            "United States of America (the)"
           ],
           "name": "",
           "type": "choropleth",
           "z": [
            65,
            774,
            36,
            1281
           ]
          }
         ],
         "name": "2020-07-22 00:00:00"
        },
        {
         "data": [
          {
           "coloraxis": "coloraxis",
           "geo": "geo",
           "hovertemplate": "<b>%{hovertext}</b><br><br>Date=2020-07-23 00:00:00<br>Country=%{location}<br>PercentOfBaseline=%{z}<extra></extra>",
           "hovertext": [
            "Australia",
            "Canada",
            "Chile",
            "United States of America (the)"
           ],
           "locationmode": "country names",
           "locations": [
            "Australia",
            "Canada",
            "Chile",
            "United States of America (the)"
           ],
           "name": "",
           "type": "choropleth",
           "z": [
            57,
            749,
            28,
            1159
           ]
          }
         ],
         "name": "2020-07-23 00:00:00"
        },
        {
         "data": [
          {
           "coloraxis": "coloraxis",
           "geo": "geo",
           "hovertemplate": "<b>%{hovertext}</b><br><br>Date=2020-07-24 00:00:00<br>Country=%{location}<br>PercentOfBaseline=%{z}<extra></extra>",
           "hovertext": [
            "Australia",
            "Canada",
            "Chile",
            "United States of America (the)"
           ],
           "locationmode": "country names",
           "locations": [
            "Australia",
            "Canada",
            "Chile",
            "United States of America (the)"
           ],
           "name": "",
           "type": "choropleth",
           "z": [
            35,
            730,
            34,
            1168
           ]
          }
         ],
         "name": "2020-07-24 00:00:00"
        },
        {
         "data": [
          {
           "coloraxis": "coloraxis",
           "geo": "geo",
           "hovertemplate": "<b>%{hovertext}</b><br><br>Date=2020-07-25 00:00:00<br>Country=%{location}<br>PercentOfBaseline=%{z}<extra></extra>",
           "hovertext": [
            "Australia",
            "Canada",
            "Chile",
            "United States of America (the)"
           ],
           "locationmode": "country names",
           "locations": [
            "Australia",
            "Canada",
            "Chile",
            "United States of America (the)"
           ],
           "name": "",
           "type": "choropleth",
           "z": [
            35,
            567,
            19,
            1091
           ]
          }
         ],
         "name": "2020-07-25 00:00:00"
        },
        {
         "data": [
          {
           "coloraxis": "coloraxis",
           "geo": "geo",
           "hovertemplate": "<b>%{hovertext}</b><br><br>Date=2020-07-26 00:00:00<br>Country=%{location}<br>PercentOfBaseline=%{z}<extra></extra>",
           "hovertext": [
            "Australia",
            "Canada",
            "United States of America (the)"
           ],
           "locationmode": "country names",
           "locations": [
            "Australia",
            "Canada",
            "United States of America (the)"
           ],
           "name": "",
           "type": "choropleth",
           "z": [
            17,
            558,
            1069
           ]
          }
         ],
         "name": "2020-07-26 00:00:00"
        },
        {
         "data": [
          {
           "coloraxis": "coloraxis",
           "geo": "geo",
           "hovertemplate": "<b>%{hovertext}</b><br><br>Date=2020-07-27 00:00:00<br>Country=%{location}<br>PercentOfBaseline=%{z}<extra></extra>",
           "hovertext": [
            "Australia",
            "Canada",
            "Chile",
            "United States of America (the)"
           ],
           "locationmode": "country names",
           "locations": [
            "Australia",
            "Canada",
            "Chile",
            "United States of America (the)"
           ],
           "name": "",
           "type": "choropleth",
           "z": [
            17,
            770,
            46,
            1159
           ]
          }
         ],
         "name": "2020-07-27 00:00:00"
        },
        {
         "data": [
          {
           "coloraxis": "coloraxis",
           "geo": "geo",
           "hovertemplate": "<b>%{hovertext}</b><br><br>Date=2020-07-28 00:00:00<br>Country=%{location}<br>PercentOfBaseline=%{z}<extra></extra>",
           "hovertext": [
            "Australia",
            "Canada",
            "Chile",
            "United States of America (the)"
           ],
           "locationmode": "country names",
           "locations": [
            "Australia",
            "Canada",
            "Chile",
            "United States of America (the)"
           ],
           "name": "",
           "type": "choropleth",
           "z": [
            22,
            766,
            29,
            1196
           ]
          }
         ],
         "name": "2020-07-28 00:00:00"
        },
        {
         "data": [
          {
           "coloraxis": "coloraxis",
           "geo": "geo",
           "hovertemplate": "<b>%{hovertext}</b><br><br>Date=2020-07-29 00:00:00<br>Country=%{location}<br>PercentOfBaseline=%{z}<extra></extra>",
           "hovertext": [
            "Australia",
            "Canada",
            "Chile",
            "United States of America (the)"
           ],
           "locationmode": "country names",
           "locations": [
            "Australia",
            "Canada",
            "Chile",
            "United States of America (the)"
           ],
           "name": "",
           "type": "choropleth",
           "z": [
            18,
            752,
            42,
            1185
           ]
          }
         ],
         "name": "2020-07-29 00:00:00"
        },
        {
         "data": [
          {
           "coloraxis": "coloraxis",
           "geo": "geo",
           "hovertemplate": "<b>%{hovertext}</b><br><br>Date=2020-07-30 00:00:00<br>Country=%{location}<br>PercentOfBaseline=%{z}<extra></extra>",
           "hovertext": [
            "Australia",
            "Canada",
            "Chile",
            "United States of America (the)"
           ],
           "locationmode": "country names",
           "locations": [
            "Australia",
            "Canada",
            "Chile",
            "United States of America (the)"
           ],
           "name": "",
           "type": "choropleth",
           "z": [
            22,
            737,
            27,
            1170
           ]
          }
         ],
         "name": "2020-07-30 00:00:00"
        },
        {
         "data": [
          {
           "coloraxis": "coloraxis",
           "geo": "geo",
           "hovertemplate": "<b>%{hovertext}</b><br><br>Date=2020-07-31 00:00:00<br>Country=%{location}<br>PercentOfBaseline=%{z}<extra></extra>",
           "hovertext": [
            "Australia",
            "Canada",
            "Chile",
            "United States of America (the)"
           ],
           "locationmode": "country names",
           "locations": [
            "Australia",
            "Canada",
            "Chile",
            "United States of America (the)"
           ],
           "name": "",
           "type": "choropleth",
           "z": [
            25,
            691,
            35,
            1124
           ]
          }
         ],
         "name": "2020-07-31 00:00:00"
        },
        {
         "data": [
          {
           "coloraxis": "coloraxis",
           "geo": "geo",
           "hovertemplate": "<b>%{hovertext}</b><br><br>Date=2020-08-01 00:00:00<br>Country=%{location}<br>PercentOfBaseline=%{z}<extra></extra>",
           "hovertext": [
            "Australia",
            "Canada",
            "Chile",
            "United States of America (the)"
           ],
           "locationmode": "country names",
           "locations": [
            "Australia",
            "Canada",
            "Chile",
            "United States of America (the)"
           ],
           "name": "",
           "type": "choropleth",
           "z": [
            25,
            574,
            19,
            1084
           ]
          }
         ],
         "name": "2020-08-01 00:00:00"
        },
        {
         "data": [
          {
           "coloraxis": "coloraxis",
           "geo": "geo",
           "hovertemplate": "<b>%{hovertext}</b><br><br>Date=2020-08-02 00:00:00<br>Country=%{location}<br>PercentOfBaseline=%{z}<extra></extra>",
           "hovertext": [
            "Australia",
            "Canada",
            "United States of America (the)"
           ],
           "locationmode": "country names",
           "locations": [
            "Australia",
            "Canada",
            "United States of America (the)"
           ],
           "name": "",
           "type": "choropleth",
           "z": [
            13,
            553,
            1027
           ]
          }
         ],
         "name": "2020-08-02 00:00:00"
        },
        {
         "data": [
          {
           "coloraxis": "coloraxis",
           "geo": "geo",
           "hovertemplate": "<b>%{hovertext}</b><br><br>Date=2020-08-03 00:00:00<br>Country=%{location}<br>PercentOfBaseline=%{z}<extra></extra>",
           "hovertext": [
            "Australia",
            "Canada",
            "Chile",
            "United States of America (the)"
           ],
           "locationmode": "country names",
           "locations": [
            "Australia",
            "Canada",
            "Chile",
            "United States of America (the)"
           ],
           "name": "",
           "type": "choropleth",
           "z": [
            15,
            285,
            48,
            1168
           ]
          }
         ],
         "name": "2020-08-03 00:00:00"
        },
        {
         "data": [
          {
           "coloraxis": "coloraxis",
           "geo": "geo",
           "hovertemplate": "<b>%{hovertext}</b><br><br>Date=2020-08-04 00:00:00<br>Country=%{location}<br>PercentOfBaseline=%{z}<extra></extra>",
           "hovertext": [
            "Australia",
            "Canada",
            "Chile",
            "United States of America (the)"
           ],
           "locationmode": "country names",
           "locations": [
            "Australia",
            "Canada",
            "Chile",
            "United States of America (the)"
           ],
           "name": "",
           "type": "choropleth",
           "z": [
            20,
            703,
            33,
            1202
           ]
          }
         ],
         "name": "2020-08-04 00:00:00"
        },
        {
         "data": [
          {
           "coloraxis": "coloraxis",
           "geo": "geo",
           "hovertemplate": "<b>%{hovertext}</b><br><br>Date=2020-08-05 00:00:00<br>Country=%{location}<br>PercentOfBaseline=%{z}<extra></extra>",
           "hovertext": [
            "Australia",
            "Canada",
            "Chile",
            "United States of America (the)"
           ],
           "locationmode": "country names",
           "locations": [
            "Australia",
            "Canada",
            "Chile",
            "United States of America (the)"
           ],
           "name": "",
           "type": "choropleth",
           "z": [
            20,
            757,
            25,
            1193
           ]
          }
         ],
         "name": "2020-08-05 00:00:00"
        },
        {
         "data": [
          {
           "coloraxis": "coloraxis",
           "geo": "geo",
           "hovertemplate": "<b>%{hovertext}</b><br><br>Date=2020-08-06 00:00:00<br>Country=%{location}<br>PercentOfBaseline=%{z}<extra></extra>",
           "hovertext": [
            "Australia",
            "Canada",
            "Chile",
            "United States of America (the)"
           ],
           "locationmode": "country names",
           "locations": [
            "Australia",
            "Canada",
            "Chile",
            "United States of America (the)"
           ],
           "name": "",
           "type": "choropleth",
           "z": [
            21,
            726,
            24,
            1222
           ]
          }
         ],
         "name": "2020-08-06 00:00:00"
        },
        {
         "data": [
          {
           "coloraxis": "coloraxis",
           "geo": "geo",
           "hovertemplate": "<b>%{hovertext}</b><br><br>Date=2020-08-07 00:00:00<br>Country=%{location}<br>PercentOfBaseline=%{z}<extra></extra>",
           "hovertext": [
            "Australia",
            "Canada",
            "Chile",
            "United States of America (the)"
           ],
           "locationmode": "country names",
           "locations": [
            "Australia",
            "Canada",
            "Chile",
            "United States of America (the)"
           ],
           "name": "",
           "type": "choropleth",
           "z": [
            22,
            747,
            32,
            1172
           ]
          }
         ],
         "name": "2020-08-07 00:00:00"
        },
        {
         "data": [
          {
           "coloraxis": "coloraxis",
           "geo": "geo",
           "hovertemplate": "<b>%{hovertext}</b><br><br>Date=2020-08-08 00:00:00<br>Country=%{location}<br>PercentOfBaseline=%{z}<extra></extra>",
           "hovertext": [
            "Australia",
            "Canada",
            "Chile",
            "United States of America (the)"
           ],
           "locationmode": "country names",
           "locations": [
            "Australia",
            "Canada",
            "Chile",
            "United States of America (the)"
           ],
           "name": "",
           "type": "choropleth",
           "z": [
            26,
            575,
            19,
            1084
           ]
          }
         ],
         "name": "2020-08-08 00:00:00"
        },
        {
         "data": [
          {
           "coloraxis": "coloraxis",
           "geo": "geo",
           "hovertemplate": "<b>%{hovertext}</b><br><br>Date=2020-08-09 00:00:00<br>Country=%{location}<br>PercentOfBaseline=%{z}<extra></extra>",
           "hovertext": [
            "Australia",
            "Canada",
            "United States of America (the)"
           ],
           "locationmode": "country names",
           "locations": [
            "Australia",
            "Canada",
            "United States of America (the)"
           ],
           "name": "",
           "type": "choropleth",
           "z": [
            19,
            479,
            1040
           ]
          }
         ],
         "name": "2020-08-09 00:00:00"
        },
        {
         "data": [
          {
           "coloraxis": "coloraxis",
           "geo": "geo",
           "hovertemplate": "<b>%{hovertext}</b><br><br>Date=2020-08-10 00:00:00<br>Country=%{location}<br>PercentOfBaseline=%{z}<extra></extra>",
           "hovertext": [
            "Australia",
            "Canada",
            "Chile",
            "United States of America (the)"
           ],
           "locationmode": "country names",
           "locations": [
            "Australia",
            "Canada",
            "Chile",
            "United States of America (the)"
           ],
           "name": "",
           "type": "choropleth",
           "z": [
            19,
            790,
            42,
            1149
           ]
          }
         ],
         "name": "2020-08-10 00:00:00"
        },
        {
         "data": [
          {
           "coloraxis": "coloraxis",
           "geo": "geo",
           "hovertemplate": "<b>%{hovertext}</b><br><br>Date=2020-08-11 00:00:00<br>Country=%{location}<br>PercentOfBaseline=%{z}<extra></extra>",
           "hovertext": [
            "Australia",
            "Canada",
            "Chile",
            "United States of America (the)"
           ],
           "locationmode": "country names",
           "locations": [
            "Australia",
            "Canada",
            "Chile",
            "United States of America (the)"
           ],
           "name": "",
           "type": "choropleth",
           "z": [
            20,
            774,
            36,
            1200
           ]
          }
         ],
         "name": "2020-08-11 00:00:00"
        },
        {
         "data": [
          {
           "coloraxis": "coloraxis",
           "geo": "geo",
           "hovertemplate": "<b>%{hovertext}</b><br><br>Date=2020-08-12 00:00:00<br>Country=%{location}<br>PercentOfBaseline=%{z}<extra></extra>",
           "hovertext": [
            "Australia",
            "Canada",
            "Chile",
            "United States of America (the)"
           ],
           "locationmode": "country names",
           "locations": [
            "Australia",
            "Canada",
            "Chile",
            "United States of America (the)"
           ],
           "name": "",
           "type": "choropleth",
           "z": [
            19,
            775,
            31,
            1189
           ]
          }
         ],
         "name": "2020-08-12 00:00:00"
        },
        {
         "data": [
          {
           "coloraxis": "coloraxis",
           "geo": "geo",
           "hovertemplate": "<b>%{hovertext}</b><br><br>Date=2020-08-13 00:00:00<br>Country=%{location}<br>PercentOfBaseline=%{z}<extra></extra>",
           "hovertext": [
            "Australia",
            "Canada",
            "Chile",
            "United States of America (the)"
           ],
           "locationmode": "country names",
           "locations": [
            "Australia",
            "Canada",
            "Chile",
            "United States of America (the)"
           ],
           "name": "",
           "type": "choropleth",
           "z": [
            14,
            738,
            31,
            1161
           ]
          }
         ],
         "name": "2020-08-13 00:00:00"
        },
        {
         "data": [
          {
           "coloraxis": "coloraxis",
           "geo": "geo",
           "hovertemplate": "<b>%{hovertext}</b><br><br>Date=2020-08-14 00:00:00<br>Country=%{location}<br>PercentOfBaseline=%{z}<extra></extra>",
           "hovertext": [
            "Australia",
            "Canada",
            "Chile",
            "United States of America (the)"
           ],
           "locationmode": "country names",
           "locations": [
            "Australia",
            "Canada",
            "Chile",
            "United States of America (the)"
           ],
           "name": "",
           "type": "choropleth",
           "z": [
            26,
            745,
            38,
            1163
           ]
          }
         ],
         "name": "2020-08-14 00:00:00"
        },
        {
         "data": [
          {
           "coloraxis": "coloraxis",
           "geo": "geo",
           "hovertemplate": "<b>%{hovertext}</b><br><br>Date=2020-08-15 00:00:00<br>Country=%{location}<br>PercentOfBaseline=%{z}<extra></extra>",
           "hovertext": [
            "Australia",
            "Canada",
            "Chile",
            "United States of America (the)"
           ],
           "locationmode": "country names",
           "locations": [
            "Australia",
            "Canada",
            "Chile",
            "United States of America (the)"
           ],
           "name": "",
           "type": "choropleth",
           "z": [
            16,
            609,
            18,
            1066
           ]
          }
         ],
         "name": "2020-08-15 00:00:00"
        },
        {
         "data": [
          {
           "coloraxis": "coloraxis",
           "geo": "geo",
           "hovertemplate": "<b>%{hovertext}</b><br><br>Date=2020-08-16 00:00:00<br>Country=%{location}<br>PercentOfBaseline=%{z}<extra></extra>",
           "hovertext": [
            "Australia",
            "Canada",
            "United States of America (the)"
           ],
           "locationmode": "country names",
           "locations": [
            "Australia",
            "Canada",
            "United States of America (the)"
           ],
           "name": "",
           "type": "choropleth",
           "z": [
            13,
            587,
            1066
           ]
          }
         ],
         "name": "2020-08-16 00:00:00"
        },
        {
         "data": [
          {
           "coloraxis": "coloraxis",
           "geo": "geo",
           "hovertemplate": "<b>%{hovertext}</b><br><br>Date=2020-08-17 00:00:00<br>Country=%{location}<br>PercentOfBaseline=%{z}<extra></extra>",
           "hovertext": [
            "United States of America (the)"
           ],
           "locationmode": "country names",
           "locations": [
            "United States of America (the)"
           ],
           "name": "",
           "type": "choropleth",
           "z": [
            1
           ]
          }
         ],
         "name": "2020-08-17 00:00:00"
        },
        {
         "data": [
          {
           "coloraxis": "coloraxis",
           "geo": "geo",
           "hovertemplate": "<b>%{hovertext}</b><br><br>Date=2020-08-18 00:00:00<br>Country=%{location}<br>PercentOfBaseline=%{z}<extra></extra>",
           "hovertext": [
            "Australia",
            "Canada",
            "Chile",
            "United States of America (the)"
           ],
           "locationmode": "country names",
           "locations": [
            "Australia",
            "Canada",
            "Chile",
            "United States of America (the)"
           ],
           "name": "",
           "type": "choropleth",
           "z": [
            21,
            777,
            40,
            1218
           ]
          }
         ],
         "name": "2020-08-18 00:00:00"
        },
        {
         "data": [
          {
           "coloraxis": "coloraxis",
           "geo": "geo",
           "hovertemplate": "<b>%{hovertext}</b><br><br>Date=2020-08-19 00:00:00<br>Country=%{location}<br>PercentOfBaseline=%{z}<extra></extra>",
           "hovertext": [
            "Australia",
            "Canada",
            "Chile",
            "United States of America (the)"
           ],
           "locationmode": "country names",
           "locations": [
            "Australia",
            "Canada",
            "Chile",
            "United States of America (the)"
           ],
           "name": "",
           "type": "choropleth",
           "z": [
            20,
            786,
            48,
            1230
           ]
          }
         ],
         "name": "2020-08-19 00:00:00"
        },
        {
         "data": [
          {
           "coloraxis": "coloraxis",
           "geo": "geo",
           "hovertemplate": "<b>%{hovertext}</b><br><br>Date=2020-08-20 00:00:00<br>Country=%{location}<br>PercentOfBaseline=%{z}<extra></extra>",
           "hovertext": [
            "Australia",
            "Canada",
            "Chile",
            "United States of America (the)"
           ],
           "locationmode": "country names",
           "locations": [
            "Australia",
            "Canada",
            "Chile",
            "United States of America (the)"
           ],
           "name": "",
           "type": "choropleth",
           "z": [
            13,
            774,
            32,
            1213
           ]
          }
         ],
         "name": "2020-08-20 00:00:00"
        },
        {
         "data": [
          {
           "coloraxis": "coloraxis",
           "geo": "geo",
           "hovertemplate": "<b>%{hovertext}</b><br><br>Date=2020-08-21 00:00:00<br>Country=%{location}<br>PercentOfBaseline=%{z}<extra></extra>",
           "hovertext": [
            "Australia",
            "Canada",
            "Chile",
            "United States of America (the)"
           ],
           "locationmode": "country names",
           "locations": [
            "Australia",
            "Canada",
            "Chile",
            "United States of America (the)"
           ],
           "name": "",
           "type": "choropleth",
           "z": [
            17,
            733,
            35,
            1177
           ]
          }
         ],
         "name": "2020-08-21 00:00:00"
        },
        {
         "data": [
          {
           "coloraxis": "coloraxis",
           "geo": "geo",
           "hovertemplate": "<b>%{hovertext}</b><br><br>Date=2020-08-22 00:00:00<br>Country=%{location}<br>PercentOfBaseline=%{z}<extra></extra>",
           "hovertext": [
            "Australia",
            "Canada",
            "Chile",
            "United States of America (the)"
           ],
           "locationmode": "country names",
           "locations": [
            "Australia",
            "Canada",
            "Chile",
            "United States of America (the)"
           ],
           "name": "",
           "type": "choropleth",
           "z": [
            27,
            565,
            33,
            1071
           ]
          }
         ],
         "name": "2020-08-22 00:00:00"
        },
        {
         "data": [
          {
           "coloraxis": "coloraxis",
           "geo": "geo",
           "hovertemplate": "<b>%{hovertext}</b><br><br>Date=2020-08-23 00:00:00<br>Country=%{location}<br>PercentOfBaseline=%{z}<extra></extra>",
           "hovertext": [
            "Australia",
            "Canada",
            "Chile",
            "United States of America (the)"
           ],
           "locationmode": "country names",
           "locations": [
            "Australia",
            "Canada",
            "Chile",
            "United States of America (the)"
           ],
           "name": "",
           "type": "choropleth",
           "z": [
            9,
            585,
            22,
            1158
           ]
          }
         ],
         "name": "2020-08-23 00:00:00"
        },
        {
         "data": [
          {
           "coloraxis": "coloraxis",
           "geo": "geo",
           "hovertemplate": "<b>%{hovertext}</b><br><br>Date=2020-08-24 00:00:00<br>Country=%{location}<br>PercentOfBaseline=%{z}<extra></extra>",
           "hovertext": [
            "Australia",
            "Canada",
            "Chile",
            "United States of America (the)"
           ],
           "locationmode": "country names",
           "locations": [
            "Australia",
            "Canada",
            "Chile",
            "United States of America (the)"
           ],
           "name": "",
           "type": "choropleth",
           "z": [
            11,
            771,
            46,
            1209
           ]
          }
         ],
         "name": "2020-08-24 00:00:00"
        },
        {
         "data": [
          {
           "coloraxis": "coloraxis",
           "geo": "geo",
           "hovertemplate": "<b>%{hovertext}</b><br><br>Date=2020-08-25 00:00:00<br>Country=%{location}<br>PercentOfBaseline=%{z}<extra></extra>",
           "hovertext": [
            "Australia",
            "Canada",
            "Chile",
            "United States of America (the)"
           ],
           "locationmode": "country names",
           "locations": [
            "Australia",
            "Canada",
            "Chile",
            "United States of America (the)"
           ],
           "name": "",
           "type": "choropleth",
           "z": [
            12,
            780,
            37,
            1240
           ]
          }
         ],
         "name": "2020-08-25 00:00:00"
        },
        {
         "data": [
          {
           "coloraxis": "coloraxis",
           "geo": "geo",
           "hovertemplate": "<b>%{hovertext}</b><br><br>Date=2020-08-26 00:00:00<br>Country=%{location}<br>PercentOfBaseline=%{z}<extra></extra>",
           "hovertext": [
            "Australia",
            "Canada",
            "Chile",
            "United States of America (the)"
           ],
           "locationmode": "country names",
           "locations": [
            "Australia",
            "Canada",
            "Chile",
            "United States of America (the)"
           ],
           "name": "",
           "type": "choropleth",
           "z": [
            11,
            755,
            36,
            1278
           ]
          }
         ],
         "name": "2020-08-26 00:00:00"
        },
        {
         "data": [
          {
           "coloraxis": "coloraxis",
           "geo": "geo",
           "hovertemplate": "<b>%{hovertext}</b><br><br>Date=2020-08-27 00:00:00<br>Country=%{location}<br>PercentOfBaseline=%{z}<extra></extra>",
           "hovertext": [
            "Australia",
            "Canada",
            "Chile",
            "United States of America (the)"
           ],
           "locationmode": "country names",
           "locations": [
            "Australia",
            "Canada",
            "Chile",
            "United States of America (the)"
           ],
           "name": "",
           "type": "choropleth",
           "z": [
            17,
            732,
            42,
            1247
           ]
          }
         ],
         "name": "2020-08-27 00:00:00"
        },
        {
         "data": [
          {
           "coloraxis": "coloraxis",
           "geo": "geo",
           "hovertemplate": "<b>%{hovertext}</b><br><br>Date=2020-08-28 00:00:00<br>Country=%{location}<br>PercentOfBaseline=%{z}<extra></extra>",
           "hovertext": [
            "Australia",
            "Canada",
            "Chile",
            "United States of America (the)"
           ],
           "locationmode": "country names",
           "locations": [
            "Australia",
            "Canada",
            "Chile",
            "United States of America (the)"
           ],
           "name": "",
           "type": "choropleth",
           "z": [
            22,
            771,
            33,
            1208
           ]
          }
         ],
         "name": "2020-08-28 00:00:00"
        },
        {
         "data": [
          {
           "coloraxis": "coloraxis",
           "geo": "geo",
           "hovertemplate": "<b>%{hovertext}</b><br><br>Date=2020-08-29 00:00:00<br>Country=%{location}<br>PercentOfBaseline=%{z}<extra></extra>",
           "hovertext": [
            "Canada",
            "Chile",
            "United States of America (the)"
           ],
           "locationmode": "country names",
           "locations": [
            "Canada",
            "Chile",
            "United States of America (the)"
           ],
           "name": "",
           "type": "choropleth",
           "z": [
            588,
            20,
            1121
           ]
          }
         ],
         "name": "2020-08-29 00:00:00"
        },
        {
         "data": [
          {
           "coloraxis": "coloraxis",
           "geo": "geo",
           "hovertemplate": "<b>%{hovertext}</b><br><br>Date=2020-08-30 00:00:00<br>Country=%{location}<br>PercentOfBaseline=%{z}<extra></extra>",
           "hovertext": [
            "Australia",
            "Canada",
            "United States of America (the)"
           ],
           "locationmode": "country names",
           "locations": [
            "Australia",
            "Canada",
            "United States of America (the)"
           ],
           "name": "",
           "type": "choropleth",
           "z": [
            10,
            584,
            1095
           ]
          }
         ],
         "name": "2020-08-30 00:00:00"
        },
        {
         "data": [
          {
           "coloraxis": "coloraxis",
           "geo": "geo",
           "hovertemplate": "<b>%{hovertext}</b><br><br>Date=2020-08-31 00:00:00<br>Country=%{location}<br>PercentOfBaseline=%{z}<extra></extra>",
           "hovertext": [
            "Australia",
            "Canada",
            "Chile",
            "United States of America (the)"
           ],
           "locationmode": "country names",
           "locations": [
            "Australia",
            "Canada",
            "Chile",
            "United States of America (the)"
           ],
           "name": "",
           "type": "choropleth",
           "z": [
            18,
            801,
            45,
            1155
           ]
          }
         ],
         "name": "2020-08-31 00:00:00"
        },
        {
         "data": [
          {
           "coloraxis": "coloraxis",
           "geo": "geo",
           "hovertemplate": "<b>%{hovertext}</b><br><br>Date=2020-09-01 00:00:00<br>Country=%{location}<br>PercentOfBaseline=%{z}<extra></extra>",
           "hovertext": [
            "Australia",
            "Canada",
            "Chile",
            "United States of America (the)"
           ],
           "locationmode": "country names",
           "locations": [
            "Australia",
            "Canada",
            "Chile",
            "United States of America (the)"
           ],
           "name": "",
           "type": "choropleth",
           "z": [
            15,
            726,
            47,
            1242
           ]
          }
         ],
         "name": "2020-09-01 00:00:00"
        },
        {
         "data": [
          {
           "coloraxis": "coloraxis",
           "geo": "geo",
           "hovertemplate": "<b>%{hovertext}</b><br><br>Date=2020-09-02 00:00:00<br>Country=%{location}<br>PercentOfBaseline=%{z}<extra></extra>",
           "hovertext": [
            "Australia",
            "Canada",
            "Chile",
            "United States of America (the)"
           ],
           "locationmode": "country names",
           "locations": [
            "Australia",
            "Canada",
            "Chile",
            "United States of America (the)"
           ],
           "name": "",
           "type": "choropleth",
           "z": [
            18,
            787,
            40,
            1217
           ]
          }
         ],
         "name": "2020-09-02 00:00:00"
        },
        {
         "data": [
          {
           "coloraxis": "coloraxis",
           "geo": "geo",
           "hovertemplate": "<b>%{hovertext}</b><br><br>Date=2020-09-03 00:00:00<br>Country=%{location}<br>PercentOfBaseline=%{z}<extra></extra>",
           "hovertext": [
            "Australia",
            "Canada",
            "Chile",
            "United States of America (the)"
           ],
           "locationmode": "country names",
           "locations": [
            "Australia",
            "Canada",
            "Chile",
            "United States of America (the)"
           ],
           "name": "",
           "type": "choropleth",
           "z": [
            12,
            781,
            33,
            1242
           ]
          }
         ],
         "name": "2020-09-03 00:00:00"
        },
        {
         "data": [
          {
           "coloraxis": "coloraxis",
           "geo": "geo",
           "hovertemplate": "<b>%{hovertext}</b><br><br>Date=2020-09-04 00:00:00<br>Country=%{location}<br>PercentOfBaseline=%{z}<extra></extra>",
           "hovertext": [
            "Australia",
            "Canada",
            "Chile",
            "United States of America (the)"
           ],
           "locationmode": "country names",
           "locations": [
            "Australia",
            "Canada",
            "Chile",
            "United States of America (the)"
           ],
           "name": "",
           "type": "choropleth",
           "z": [
            15,
            766,
            32,
            1185
           ]
          }
         ],
         "name": "2020-09-04 00:00:00"
        },
        {
         "data": [
          {
           "coloraxis": "coloraxis",
           "geo": "geo",
           "hovertemplate": "<b>%{hovertext}</b><br><br>Date=2020-09-05 00:00:00<br>Country=%{location}<br>PercentOfBaseline=%{z}<extra></extra>",
           "hovertext": [
            "Australia",
            "Canada",
            "Chile",
            "United States of America (the)"
           ],
           "locationmode": "country names",
           "locations": [
            "Australia",
            "Canada",
            "Chile",
            "United States of America (the)"
           ],
           "name": "",
           "type": "choropleth",
           "z": [
            27,
            563,
            25,
            1080
           ]
          }
         ],
         "name": "2020-09-05 00:00:00"
        },
        {
         "data": [
          {
           "coloraxis": "coloraxis",
           "geo": "geo",
           "hovertemplate": "<b>%{hovertext}</b><br><br>Date=2020-09-06 00:00:00<br>Country=%{location}<br>PercentOfBaseline=%{z}<extra></extra>",
           "hovertext": [
            "Australia",
            "Canada",
            "Chile",
            "United States of America (the)"
           ],
           "locationmode": "country names",
           "locations": [
            "Australia",
            "Canada",
            "Chile",
            "United States of America (the)"
           ],
           "name": "",
           "type": "choropleth",
           "z": [
            9,
            511,
            20,
            1052
           ]
          }
         ],
         "name": "2020-09-06 00:00:00"
        },
        {
         "data": [
          {
           "coloraxis": "coloraxis",
           "geo": "geo",
           "hovertemplate": "<b>%{hovertext}</b><br><br>Date=2020-09-07 00:00:00<br>Country=%{location}<br>PercentOfBaseline=%{z}<extra></extra>",
           "hovertext": [
            "Australia",
            "Canada",
            "Chile",
            "United States of America (the)"
           ],
           "locationmode": "country names",
           "locations": [
            "Australia",
            "Canada",
            "Chile",
            "United States of America (the)"
           ],
           "name": "",
           "type": "choropleth",
           "z": [
            11,
            126,
            42,
            552
           ]
          }
         ],
         "name": "2020-09-07 00:00:00"
        },
        {
         "data": [
          {
           "coloraxis": "coloraxis",
           "geo": "geo",
           "hovertemplate": "<b>%{hovertext}</b><br><br>Date=2020-09-08 00:00:00<br>Country=%{location}<br>PercentOfBaseline=%{z}<extra></extra>",
           "hovertext": [
            "Australia",
            "Canada",
            "Chile",
            "United States of America (the)"
           ],
           "locationmode": "country names",
           "locations": [
            "Australia",
            "Canada",
            "Chile",
            "United States of America (the)"
           ],
           "name": "",
           "type": "choropleth",
           "z": [
            12,
            694,
            47,
            1128
           ]
          }
         ],
         "name": "2020-09-08 00:00:00"
        },
        {
         "data": [
          {
           "coloraxis": "coloraxis",
           "geo": "geo",
           "hovertemplate": "<b>%{hovertext}</b><br><br>Date=2020-09-09 00:00:00<br>Country=%{location}<br>PercentOfBaseline=%{z}<extra></extra>",
           "hovertext": [
            "Australia",
            "Canada",
            "Chile",
            "United States of America (the)"
           ],
           "locationmode": "country names",
           "locations": [
            "Australia",
            "Canada",
            "Chile",
            "United States of America (the)"
           ],
           "name": "",
           "type": "choropleth",
           "z": [
            16,
            799,
            35,
            1238
           ]
          }
         ],
         "name": "2020-09-09 00:00:00"
        },
        {
         "data": [
          {
           "coloraxis": "coloraxis",
           "geo": "geo",
           "hovertemplate": "<b>%{hovertext}</b><br><br>Date=2020-09-10 00:00:00<br>Country=%{location}<br>PercentOfBaseline=%{z}<extra></extra>",
           "hovertext": [
            "Australia",
            "Canada",
            "Chile",
            "United States of America (the)"
           ],
           "locationmode": "country names",
           "locations": [
            "Australia",
            "Canada",
            "Chile",
            "United States of America (the)"
           ],
           "name": "",
           "type": "choropleth",
           "z": [
            16,
            776,
            40,
            1227
           ]
          }
         ],
         "name": "2020-09-10 00:00:00"
        },
        {
         "data": [
          {
           "coloraxis": "coloraxis",
           "geo": "geo",
           "hovertemplate": "<b>%{hovertext}</b><br><br>Date=2020-09-11 00:00:00<br>Country=%{location}<br>PercentOfBaseline=%{z}<extra></extra>",
           "hovertext": [
            "Australia",
            "Canada",
            "Chile",
            "United States of America (the)"
           ],
           "locationmode": "country names",
           "locations": [
            "Australia",
            "Canada",
            "Chile",
            "United States of America (the)"
           ],
           "name": "",
           "type": "choropleth",
           "z": [
            17,
            795,
            49,
            1218
           ]
          }
         ],
         "name": "2020-09-11 00:00:00"
        },
        {
         "data": [
          {
           "coloraxis": "coloraxis",
           "geo": "geo",
           "hovertemplate": "<b>%{hovertext}</b><br><br>Date=2020-09-12 00:00:00<br>Country=%{location}<br>PercentOfBaseline=%{z}<extra></extra>",
           "hovertext": [
            "Australia",
            "Canada",
            "Chile",
            "United States of America (the)"
           ],
           "locationmode": "country names",
           "locations": [
            "Australia",
            "Canada",
            "Chile",
            "United States of America (the)"
           ],
           "name": "",
           "type": "choropleth",
           "z": [
            29,
            589,
            31,
            1140
           ]
          }
         ],
         "name": "2020-09-12 00:00:00"
        },
        {
         "data": [
          {
           "coloraxis": "coloraxis",
           "geo": "geo",
           "hovertemplate": "<b>%{hovertext}</b><br><br>Date=2020-09-13 00:00:00<br>Country=%{location}<br>PercentOfBaseline=%{z}<extra></extra>",
           "hovertext": [
            "Australia",
            "Canada",
            "Chile",
            "United States of America (the)"
           ],
           "locationmode": "country names",
           "locations": [
            "Australia",
            "Canada",
            "Chile",
            "United States of America (the)"
           ],
           "name": "",
           "type": "choropleth",
           "z": [
            10,
            595,
            25,
            1081
           ]
          }
         ],
         "name": "2020-09-13 00:00:00"
        },
        {
         "data": [
          {
           "coloraxis": "coloraxis",
           "geo": "geo",
           "hovertemplate": "<b>%{hovertext}</b><br><br>Date=2020-09-14 00:00:00<br>Country=%{location}<br>PercentOfBaseline=%{z}<extra></extra>",
           "hovertext": [
            "Australia",
            "Canada",
            "Chile",
            "United States of America (the)"
           ],
           "locationmode": "country names",
           "locations": [
            "Australia",
            "Canada",
            "Chile",
            "United States of America (the)"
           ],
           "name": "",
           "type": "choropleth",
           "z": [
            18,
            811,
            47,
            1233
           ]
          }
         ],
         "name": "2020-09-14 00:00:00"
        },
        {
         "data": [
          {
           "coloraxis": "coloraxis",
           "geo": "geo",
           "hovertemplate": "<b>%{hovertext}</b><br><br>Date=2020-09-15 00:00:00<br>Country=%{location}<br>PercentOfBaseline=%{z}<extra></extra>",
           "hovertext": [
            "Australia",
            "Canada",
            "Chile",
            "United States of America (the)"
           ],
           "locationmode": "country names",
           "locations": [
            "Australia",
            "Canada",
            "Chile",
            "United States of America (the)"
           ],
           "name": "",
           "type": "choropleth",
           "z": [
            19,
            794,
            54,
            1263
           ]
          }
         ],
         "name": "2020-09-15 00:00:00"
        },
        {
         "data": [
          {
           "coloraxis": "coloraxis",
           "geo": "geo",
           "hovertemplate": "<b>%{hovertext}</b><br><br>Date=2020-09-16 00:00:00<br>Country=%{location}<br>PercentOfBaseline=%{z}<extra></extra>",
           "hovertext": [
            "Australia",
            "Canada",
            "Chile",
            "United States of America (the)"
           ],
           "locationmode": "country names",
           "locations": [
            "Australia",
            "Canada",
            "Chile",
            "United States of America (the)"
           ],
           "name": "",
           "type": "choropleth",
           "z": [
            18,
            772,
            53,
            1256
           ]
          }
         ],
         "name": "2020-09-16 00:00:00"
        },
        {
         "data": [
          {
           "coloraxis": "coloraxis",
           "geo": "geo",
           "hovertemplate": "<b>%{hovertext}</b><br><br>Date=2020-09-17 00:00:00<br>Country=%{location}<br>PercentOfBaseline=%{z}<extra></extra>",
           "hovertext": [
            "Australia",
            "Canada",
            "Chile",
            "United States of America (the)"
           ],
           "locationmode": "country names",
           "locations": [
            "Australia",
            "Canada",
            "Chile",
            "United States of America (the)"
           ],
           "name": "",
           "type": "choropleth",
           "z": [
            17,
            776,
            31,
            1202
           ]
          }
         ],
         "name": "2020-09-17 00:00:00"
        },
        {
         "data": [
          {
           "coloraxis": "coloraxis",
           "geo": "geo",
           "hovertemplate": "<b>%{hovertext}</b><br><br>Date=2020-09-18 00:00:00<br>Country=%{location}<br>PercentOfBaseline=%{z}<extra></extra>",
           "hovertext": [
            "Australia",
            "Canada",
            "Chile",
            "United States of America (the)"
           ],
           "locationmode": "country names",
           "locations": [
            "Australia",
            "Canada",
            "Chile",
            "United States of America (the)"
           ],
           "name": "",
           "type": "choropleth",
           "z": [
            16,
            767,
            12,
            1251
           ]
          }
         ],
         "name": "2020-09-18 00:00:00"
        },
        {
         "data": [
          {
           "coloraxis": "coloraxis",
           "geo": "geo",
           "hovertemplate": "<b>%{hovertext}</b><br><br>Date=2020-09-19 00:00:00<br>Country=%{location}<br>PercentOfBaseline=%{z}<extra></extra>",
           "hovertext": [
            "Australia",
            "Canada",
            "United States of America (the)"
           ],
           "locationmode": "country names",
           "locations": [
            "Australia",
            "Canada",
            "United States of America (the)"
           ],
           "name": "",
           "type": "choropleth",
           "z": [
            26,
            603,
            1122
           ]
          }
         ],
         "name": "2020-09-19 00:00:00"
        },
        {
         "data": [
          {
           "coloraxis": "coloraxis",
           "geo": "geo",
           "hovertemplate": "<b>%{hovertext}</b><br><br>Date=2020-09-20 00:00:00<br>Country=%{location}<br>PercentOfBaseline=%{z}<extra></extra>",
           "hovertext": [
            "Australia",
            "Canada",
            "Chile",
            "United States of America (the)"
           ],
           "locationmode": "country names",
           "locations": [
            "Australia",
            "Canada",
            "Chile",
            "United States of America (the)"
           ],
           "name": "",
           "type": "choropleth",
           "z": [
            16,
            555,
            23,
            1072
           ]
          }
         ],
         "name": "2020-09-20 00:00:00"
        },
        {
         "data": [
          {
           "coloraxis": "coloraxis",
           "geo": "geo",
           "hovertemplate": "<b>%{hovertext}</b><br><br>Date=2020-09-21 00:00:00<br>Country=%{location}<br>PercentOfBaseline=%{z}<extra></extra>",
           "hovertext": [
            "Australia",
            "Canada",
            "Chile",
            "United States of America (the)"
           ],
           "locationmode": "country names",
           "locations": [
            "Australia",
            "Canada",
            "Chile",
            "United States of America (the)"
           ],
           "name": "",
           "type": "choropleth",
           "z": [
            15,
            803,
            36,
            1251
           ]
          }
         ],
         "name": "2020-09-21 00:00:00"
        },
        {
         "data": [
          {
           "coloraxis": "coloraxis",
           "geo": "geo",
           "hovertemplate": "<b>%{hovertext}</b><br><br>Date=2020-09-22 00:00:00<br>Country=%{location}<br>PercentOfBaseline=%{z}<extra></extra>",
           "hovertext": [
            "Australia",
            "Canada",
            "Chile",
            "United States of America (the)"
           ],
           "locationmode": "country names",
           "locations": [
            "Australia",
            "Canada",
            "Chile",
            "United States of America (the)"
           ],
           "name": "",
           "type": "choropleth",
           "z": [
            16,
            812,
            47,
            1269
           ]
          }
         ],
         "name": "2020-09-22 00:00:00"
        },
        {
         "data": [
          {
           "coloraxis": "coloraxis",
           "geo": "geo",
           "hovertemplate": "<b>%{hovertext}</b><br><br>Date=2020-09-23 00:00:00<br>Country=%{location}<br>PercentOfBaseline=%{z}<extra></extra>",
           "hovertext": [
            "Australia",
            "Canada",
            "Chile",
            "United States of America (the)"
           ],
           "locationmode": "country names",
           "locations": [
            "Australia",
            "Canada",
            "Chile",
            "United States of America (the)"
           ],
           "name": "",
           "type": "choropleth",
           "z": [
            17,
            752,
            44,
            1268
           ]
          }
         ],
         "name": "2020-09-23 00:00:00"
        },
        {
         "data": [
          {
           "coloraxis": "coloraxis",
           "geo": "geo",
           "hovertemplate": "<b>%{hovertext}</b><br><br>Date=2020-09-24 00:00:00<br>Country=%{location}<br>PercentOfBaseline=%{z}<extra></extra>",
           "hovertext": [
            "Australia",
            "Canada",
            "Chile",
            "United States of America (the)"
           ],
           "locationmode": "country names",
           "locations": [
            "Australia",
            "Canada",
            "Chile",
            "United States of America (the)"
           ],
           "name": "",
           "type": "choropleth",
           "z": [
            15,
            787,
            36,
            1247
           ]
          }
         ],
         "name": "2020-09-24 00:00:00"
        },
        {
         "data": [
          {
           "coloraxis": "coloraxis",
           "geo": "geo",
           "hovertemplate": "<b>%{hovertext}</b><br><br>Date=2020-09-25 00:00:00<br>Country=%{location}<br>PercentOfBaseline=%{z}<extra></extra>",
           "hovertext": [
            "Australia",
            "Canada",
            "Chile",
            "United States of America (the)"
           ],
           "locationmode": "country names",
           "locations": [
            "Australia",
            "Canada",
            "Chile",
            "United States of America (the)"
           ],
           "name": "",
           "type": "choropleth",
           "z": [
            13,
            782,
            42,
            1241
           ]
          }
         ],
         "name": "2020-09-25 00:00:00"
        },
        {
         "data": [
          {
           "coloraxis": "coloraxis",
           "geo": "geo",
           "hovertemplate": "<b>%{hovertext}</b><br><br>Date=2020-09-26 00:00:00<br>Country=%{location}<br>PercentOfBaseline=%{z}<extra></extra>",
           "hovertext": [
            "Australia",
            "Canada",
            "Chile",
            "United States of America (the)"
           ],
           "locationmode": "country names",
           "locations": [
            "Australia",
            "Canada",
            "Chile",
            "United States of America (the)"
           ],
           "name": "",
           "type": "choropleth",
           "z": [
            18,
            586,
            28,
            1109
           ]
          }
         ],
         "name": "2020-09-26 00:00:00"
        },
        {
         "data": [
          {
           "coloraxis": "coloraxis",
           "geo": "geo",
           "hovertemplate": "<b>%{hovertext}</b><br><br>Date=2020-09-27 00:00:00<br>Country=%{location}<br>PercentOfBaseline=%{z}<extra></extra>",
           "hovertext": [
            "Australia",
            "Canada",
            "Chile",
            "United States of America (the)"
           ],
           "locationmode": "country names",
           "locations": [
            "Australia",
            "Canada",
            "Chile",
            "United States of America (the)"
           ],
           "name": "",
           "type": "choropleth",
           "z": [
            12,
            616,
            26,
            1033
           ]
          }
         ],
         "name": "2020-09-27 00:00:00"
        },
        {
         "data": [
          {
           "coloraxis": "coloraxis",
           "geo": "geo",
           "hovertemplate": "<b>%{hovertext}</b><br><br>Date=2020-09-28 00:00:00<br>Country=%{location}<br>PercentOfBaseline=%{z}<extra></extra>",
           "hovertext": [
            "Australia",
            "Canada",
            "Chile",
            "United States of America (the)"
           ],
           "locationmode": "country names",
           "locations": [
            "Australia",
            "Canada",
            "Chile",
            "United States of America (the)"
           ],
           "name": "",
           "type": "choropleth",
           "z": [
            12,
            869,
            39,
            1241
           ]
          }
         ],
         "name": "2020-09-28 00:00:00"
        },
        {
         "data": [
          {
           "coloraxis": "coloraxis",
           "geo": "geo",
           "hovertemplate": "<b>%{hovertext}</b><br><br>Date=2020-09-29 00:00:00<br>Country=%{location}<br>PercentOfBaseline=%{z}<extra></extra>",
           "hovertext": [
            "Australia",
            "Canada",
            "Chile",
            "United States of America (the)"
           ],
           "locationmode": "country names",
           "locations": [
            "Australia",
            "Canada",
            "Chile",
            "United States of America (the)"
           ],
           "name": "",
           "type": "choropleth",
           "z": [
            21,
            832,
            46,
            1295
           ]
          }
         ],
         "name": "2020-09-29 00:00:00"
        },
        {
         "data": [
          {
           "coloraxis": "coloraxis",
           "geo": "geo",
           "hovertemplate": "<b>%{hovertext}</b><br><br>Date=2020-09-30 00:00:00<br>Country=%{location}<br>PercentOfBaseline=%{z}<extra></extra>",
           "hovertext": [
            "Australia",
            "Canada",
            "Chile",
            "United States of America (the)"
           ],
           "locationmode": "country names",
           "locations": [
            "Australia",
            "Canada",
            "Chile",
            "United States of America (the)"
           ],
           "name": "",
           "type": "choropleth",
           "z": [
            16,
            820,
            49,
            1284
           ]
          }
         ],
         "name": "2020-09-30 00:00:00"
        },
        {
         "data": [
          {
           "coloraxis": "coloraxis",
           "geo": "geo",
           "hovertemplate": "<b>%{hovertext}</b><br><br>Date=2020-10-01 00:00:00<br>Country=%{location}<br>PercentOfBaseline=%{z}<extra></extra>",
           "hovertext": [
            "Australia",
            "Canada",
            "Chile",
            "United States of America (the)"
           ],
           "locationmode": "country names",
           "locations": [
            "Australia",
            "Canada",
            "Chile",
            "United States of America (the)"
           ],
           "name": "",
           "type": "choropleth",
           "z": [
            19,
            813,
            39,
            1278
           ]
          }
         ],
         "name": "2020-10-01 00:00:00"
        },
        {
         "data": [
          {
           "coloraxis": "coloraxis",
           "geo": "geo",
           "hovertemplate": "<b>%{hovertext}</b><br><br>Date=2020-10-02 00:00:00<br>Country=%{location}<br>PercentOfBaseline=%{z}<extra></extra>",
           "hovertext": [
            "Australia",
            "Canada",
            "Chile",
            "United States of America (the)"
           ],
           "locationmode": "country names",
           "locations": [
            "Australia",
            "Canada",
            "Chile",
            "United States of America (the)"
           ],
           "name": "",
           "type": "choropleth",
           "z": [
            16,
            813,
            53,
            1253
           ]
          }
         ],
         "name": "2020-10-02 00:00:00"
        },
        {
         "data": [
          {
           "coloraxis": "coloraxis",
           "geo": "geo",
           "hovertemplate": "<b>%{hovertext}</b><br><br>Date=2020-10-03 00:00:00<br>Country=%{location}<br>PercentOfBaseline=%{z}<extra></extra>",
           "hovertext": [
            "Australia",
            "Canada",
            "Chile",
            "United States of America (the)"
           ],
           "locationmode": "country names",
           "locations": [
            "Australia",
            "Canada",
            "Chile",
            "United States of America (the)"
           ],
           "name": "",
           "type": "choropleth",
           "z": [
            20,
            649,
            29,
            1095
           ]
          }
         ],
         "name": "2020-10-03 00:00:00"
        },
        {
         "data": [
          {
           "coloraxis": "coloraxis",
           "geo": "geo",
           "hovertemplate": "<b>%{hovertext}</b><br><br>Date=2020-10-04 00:00:00<br>Country=%{location}<br>PercentOfBaseline=%{z}<extra></extra>",
           "hovertext": [
            "Australia",
            "Canada",
            "Chile",
            "United States of America (the)"
           ],
           "locationmode": "country names",
           "locations": [
            "Australia",
            "Canada",
            "Chile",
            "United States of America (the)"
           ],
           "name": "",
           "type": "choropleth",
           "z": [
            6,
            477,
            36,
            1061
           ]
          }
         ],
         "name": "2020-10-04 00:00:00"
        },
        {
         "data": [
          {
           "coloraxis": "coloraxis",
           "geo": "geo",
           "hovertemplate": "<b>%{hovertext}</b><br><br>Date=2020-10-05 00:00:00<br>Country=%{location}<br>PercentOfBaseline=%{z}<extra></extra>",
           "hovertext": [
            "Australia",
            "Canada",
            "Chile",
            "United States of America (the)"
           ],
           "locationmode": "country names",
           "locations": [
            "Australia",
            "Canada",
            "Chile",
            "United States of America (the)"
           ],
           "name": "",
           "type": "choropleth",
           "z": [
            10,
            860,
            56,
            1270
           ]
          }
         ],
         "name": "2020-10-05 00:00:00"
        },
        {
         "data": [
          {
           "coloraxis": "coloraxis",
           "geo": "geo",
           "hovertemplate": "<b>%{hovertext}</b><br><br>Date=2020-10-06 00:00:00<br>Country=%{location}<br>PercentOfBaseline=%{z}<extra></extra>",
           "hovertext": [
            "Australia",
            "Canada",
            "Chile",
            "United States of America (the)"
           ],
           "locationmode": "country names",
           "locations": [
            "Australia",
            "Canada",
            "Chile",
            "United States of America (the)"
           ],
           "name": "",
           "type": "choropleth",
           "z": [
            22,
            857,
            53,
            1264
           ]
          }
         ],
         "name": "2020-10-06 00:00:00"
        },
        {
         "data": [
          {
           "coloraxis": "coloraxis",
           "geo": "geo",
           "hovertemplate": "<b>%{hovertext}</b><br><br>Date=2020-10-07 00:00:00<br>Country=%{location}<br>PercentOfBaseline=%{z}<extra></extra>",
           "hovertext": [
            "Australia",
            "Canada",
            "Chile",
            "United States of America (the)"
           ],
           "locationmode": "country names",
           "locations": [
            "Australia",
            "Canada",
            "Chile",
            "United States of America (the)"
           ],
           "name": "",
           "type": "choropleth",
           "z": [
            16,
            807,
            55,
            1308
           ]
          }
         ],
         "name": "2020-10-07 00:00:00"
        },
        {
         "data": [
          {
           "coloraxis": "coloraxis",
           "geo": "geo",
           "hovertemplate": "<b>%{hovertext}</b><br><br>Date=2020-10-08 00:00:00<br>Country=%{location}<br>PercentOfBaseline=%{z}<extra></extra>",
           "hovertext": [
            "Australia",
            "Canada",
            "Chile",
            "United States of America (the)"
           ],
           "locationmode": "country names",
           "locations": [
            "Australia",
            "Canada",
            "Chile",
            "United States of America (the)"
           ],
           "name": "",
           "type": "choropleth",
           "z": [
            24,
            843,
            50,
            1264
           ]
          }
         ],
         "name": "2020-10-08 00:00:00"
        },
        {
         "data": [
          {
           "coloraxis": "coloraxis",
           "geo": "geo",
           "hovertemplate": "<b>%{hovertext}</b><br><br>Date=2020-10-09 00:00:00<br>Country=%{location}<br>PercentOfBaseline=%{z}<extra></extra>",
           "hovertext": [
            "Australia",
            "Canada",
            "Chile",
            "United States of America (the)"
           ],
           "locationmode": "country names",
           "locations": [
            "Australia",
            "Canada",
            "Chile",
            "United States of America (the)"
           ],
           "name": "",
           "type": "choropleth",
           "z": [
            24,
            817,
            56,
            1254
           ]
          }
         ],
         "name": "2020-10-09 00:00:00"
        },
        {
         "data": [
          {
           "coloraxis": "coloraxis",
           "geo": "geo",
           "hovertemplate": "<b>%{hovertext}</b><br><br>Date=2020-10-10 00:00:00<br>Country=%{location}<br>PercentOfBaseline=%{z}<extra></extra>",
           "hovertext": [
            "Australia",
            "Canada",
            "Chile",
            "United States of America (the)"
           ],
           "locationmode": "country names",
           "locations": [
            "Australia",
            "Canada",
            "Chile",
            "United States of America (the)"
           ],
           "name": "",
           "type": "choropleth",
           "z": [
            18,
            718,
            34,
            1057
           ]
          }
         ],
         "name": "2020-10-10 00:00:00"
        },
        {
         "data": [
          {
           "coloraxis": "coloraxis",
           "geo": "geo",
           "hovertemplate": "<b>%{hovertext}</b><br><br>Date=2020-10-11 00:00:00<br>Country=%{location}<br>PercentOfBaseline=%{z}<extra></extra>",
           "hovertext": [
            "Australia",
            "Canada",
            "Chile",
            "United States of America (the)"
           ],
           "locationmode": "country names",
           "locations": [
            "Australia",
            "Canada",
            "Chile",
            "United States of America (the)"
           ],
           "name": "",
           "type": "choropleth",
           "z": [
            25,
            588,
            15,
            1055
           ]
          }
         ],
         "name": "2020-10-11 00:00:00"
        },
        {
         "data": [
          {
           "coloraxis": "coloraxis",
           "geo": "geo",
           "hovertemplate": "<b>%{hovertext}</b><br><br>Date=2020-10-12 00:00:00<br>Country=%{location}<br>PercentOfBaseline=%{z}<extra></extra>",
           "hovertext": [
            "Australia",
            "Canada",
            "Chile",
            "United States of America (the)"
           ],
           "locationmode": "country names",
           "locations": [
            "Australia",
            "Canada",
            "Chile",
            "United States of America (the)"
           ],
           "name": "",
           "type": "choropleth",
           "z": [
            22,
            163,
            38,
            1104
           ]
          }
         ],
         "name": "2020-10-12 00:00:00"
        },
        {
         "data": [
          {
           "coloraxis": "coloraxis",
           "geo": "geo",
           "hovertemplate": "<b>%{hovertext}</b><br><br>Date=2020-10-13 00:00:00<br>Country=%{location}<br>PercentOfBaseline=%{z}<extra></extra>",
           "hovertext": [
            "Australia",
            "Canada",
            "Chile",
            "United States of America (the)"
           ],
           "locationmode": "country names",
           "locations": [
            "Australia",
            "Canada",
            "Chile",
            "United States of America (the)"
           ],
           "name": "",
           "type": "choropleth",
           "z": [
            21,
            749,
            56,
            1252
           ]
          }
         ],
         "name": "2020-10-13 00:00:00"
        },
        {
         "data": [
          {
           "coloraxis": "coloraxis",
           "geo": "geo",
           "hovertemplate": "<b>%{hovertext}</b><br><br>Date=2020-10-14 00:00:00<br>Country=%{location}<br>PercentOfBaseline=%{z}<extra></extra>",
           "hovertext": [
            "Australia",
            "Canada",
            "Chile",
            "United States of America (the)"
           ],
           "locationmode": "country names",
           "locations": [
            "Australia",
            "Canada",
            "Chile",
            "United States of America (the)"
           ],
           "name": "",
           "type": "choropleth",
           "z": [
            23,
            796,
            48,
            1277
           ]
          }
         ],
         "name": "2020-10-14 00:00:00"
        },
        {
         "data": [
          {
           "coloraxis": "coloraxis",
           "geo": "geo",
           "hovertemplate": "<b>%{hovertext}</b><br><br>Date=2020-10-15 00:00:00<br>Country=%{location}<br>PercentOfBaseline=%{z}<extra></extra>",
           "hovertext": [
            "Australia",
            "Canada",
            "Chile",
            "United States of America (the)"
           ],
           "locationmode": "country names",
           "locations": [
            "Australia",
            "Canada",
            "Chile",
            "United States of America (the)"
           ],
           "name": "",
           "type": "choropleth",
           "z": [
            18,
            804,
            49,
            1231
           ]
          }
         ],
         "name": "2020-10-15 00:00:00"
        },
        {
         "data": [
          {
           "coloraxis": "coloraxis",
           "geo": "geo",
           "hovertemplate": "<b>%{hovertext}</b><br><br>Date=2020-10-16 00:00:00<br>Country=%{location}<br>PercentOfBaseline=%{z}<extra></extra>",
           "hovertext": [
            "Australia",
            "Canada",
            "Chile",
            "United States of America (the)"
           ],
           "locationmode": "country names",
           "locations": [
            "Australia",
            "Canada",
            "Chile",
            "United States of America (the)"
           ],
           "name": "",
           "type": "choropleth",
           "z": [
            18,
            802,
            61,
            1215
           ]
          }
         ],
         "name": "2020-10-16 00:00:00"
        },
        {
         "data": [
          {
           "coloraxis": "coloraxis",
           "geo": "geo",
           "hovertemplate": "<b>%{hovertext}</b><br><br>Date=2020-10-17 00:00:00<br>Country=%{location}<br>PercentOfBaseline=%{z}<extra></extra>",
           "hovertext": [
            "Australia",
            "Canada",
            "Chile",
            "United States of America (the)"
           ],
           "locationmode": "country names",
           "locations": [
            "Australia",
            "Canada",
            "Chile",
            "United States of America (the)"
           ],
           "name": "",
           "type": "choropleth",
           "z": [
            11,
            663,
            38,
            1082
           ]
          }
         ],
         "name": "2020-10-17 00:00:00"
        },
        {
         "data": [
          {
           "coloraxis": "coloraxis",
           "geo": "geo",
           "hovertemplate": "<b>%{hovertext}</b><br><br>Date=2020-10-18 00:00:00<br>Country=%{location}<br>PercentOfBaseline=%{z}<extra></extra>",
           "hovertext": [
            "Australia",
            "Canada",
            "Chile",
            "United States of America (the)"
           ],
           "locationmode": "country names",
           "locations": [
            "Australia",
            "Canada",
            "Chile",
            "United States of America (the)"
           ],
           "name": "",
           "type": "choropleth",
           "z": [
            16,
            612,
            28,
            1049
           ]
          }
         ],
         "name": "2020-10-18 00:00:00"
        },
        {
         "data": [
          {
           "coloraxis": "coloraxis",
           "geo": "geo",
           "hovertemplate": "<b>%{hovertext}</b><br><br>Date=2020-10-19 00:00:00<br>Country=%{location}<br>PercentOfBaseline=%{z}<extra></extra>",
           "hovertext": [
            "Australia",
            "Canada",
            "Chile",
            "United States of America (the)"
           ],
           "locationmode": "country names",
           "locations": [
            "Australia",
            "Canada",
            "Chile",
            "United States of America (the)"
           ],
           "name": "",
           "type": "choropleth",
           "z": [
            22,
            833,
            55,
            1281
           ]
          }
         ],
         "name": "2020-10-19 00:00:00"
        },
        {
         "data": [
          {
           "coloraxis": "coloraxis",
           "geo": "geo",
           "hovertemplate": "<b>%{hovertext}</b><br><br>Date=2020-10-20 00:00:00<br>Country=%{location}<br>PercentOfBaseline=%{z}<extra></extra>",
           "hovertext": [
            "Australia",
            "Canada",
            "Chile",
            "United States of America (the)"
           ],
           "locationmode": "country names",
           "locations": [
            "Australia",
            "Canada",
            "Chile",
            "United States of America (the)"
           ],
           "name": "",
           "type": "choropleth",
           "z": [
            21,
            819,
            51,
            1331
           ]
          }
         ],
         "name": "2020-10-20 00:00:00"
        },
        {
         "data": [
          {
           "coloraxis": "coloraxis",
           "geo": "geo",
           "hovertemplate": "<b>%{hovertext}</b><br><br>Date=2020-10-21 00:00:00<br>Country=%{location}<br>PercentOfBaseline=%{z}<extra></extra>",
           "hovertext": [
            "Australia",
            "Canada",
            "Chile",
            "United States of America (the)"
           ],
           "locationmode": "country names",
           "locations": [
            "Australia",
            "Canada",
            "Chile",
            "United States of America (the)"
           ],
           "name": "",
           "type": "choropleth",
           "z": [
            20,
            815,
            65,
            1295
           ]
          }
         ],
         "name": "2020-10-21 00:00:00"
        },
        {
         "data": [
          {
           "coloraxis": "coloraxis",
           "geo": "geo",
           "hovertemplate": "<b>%{hovertext}</b><br><br>Date=2020-10-22 00:00:00<br>Country=%{location}<br>PercentOfBaseline=%{z}<extra></extra>",
           "hovertext": [
            "Australia",
            "Canada",
            "Chile",
            "United States of America (the)"
           ],
           "locationmode": "country names",
           "locations": [
            "Australia",
            "Canada",
            "Chile",
            "United States of America (the)"
           ],
           "name": "",
           "type": "choropleth",
           "z": [
            21,
            806,
            53,
            1299
           ]
          }
         ],
         "name": "2020-10-22 00:00:00"
        },
        {
         "data": [
          {
           "coloraxis": "coloraxis",
           "geo": "geo",
           "hovertemplate": "<b>%{hovertext}</b><br><br>Date=2020-10-23 00:00:00<br>Country=%{location}<br>PercentOfBaseline=%{z}<extra></extra>",
           "hovertext": [
            "Australia",
            "Canada",
            "Chile",
            "United States of America (the)"
           ],
           "locationmode": "country names",
           "locations": [
            "Australia",
            "Canada",
            "Chile",
            "United States of America (the)"
           ],
           "name": "",
           "type": "choropleth",
           "z": [
            15,
            841,
            50,
            1246
           ]
          }
         ],
         "name": "2020-10-23 00:00:00"
        },
        {
         "data": [
          {
           "coloraxis": "coloraxis",
           "geo": "geo",
           "hovertemplate": "<b>%{hovertext}</b><br><br>Date=2020-10-24 00:00:00<br>Country=%{location}<br>PercentOfBaseline=%{z}<extra></extra>",
           "hovertext": [
            "Australia",
            "Canada",
            "Chile",
            "United States of America (the)"
           ],
           "locationmode": "country names",
           "locations": [
            "Australia",
            "Canada",
            "Chile",
            "United States of America (the)"
           ],
           "name": "",
           "type": "choropleth",
           "z": [
            29,
            755,
            60,
            1098
           ]
          }
         ],
         "name": "2020-10-24 00:00:00"
        },
        {
         "data": [
          {
           "coloraxis": "coloraxis",
           "geo": "geo",
           "hovertemplate": "<b>%{hovertext}</b><br><br>Date=2020-10-25 00:00:00<br>Country=%{location}<br>PercentOfBaseline=%{z}<extra></extra>",
           "hovertext": [
            "Australia",
            "Canada",
            "Chile",
            "United States of America (the)"
           ],
           "locationmode": "country names",
           "locations": [
            "Australia",
            "Canada",
            "Chile",
            "United States of America (the)"
           ],
           "name": "",
           "type": "choropleth",
           "z": [
            16,
            704,
            36,
            1073
           ]
          }
         ],
         "name": "2020-10-25 00:00:00"
        },
        {
         "data": [
          {
           "coloraxis": "coloraxis",
           "geo": "geo",
           "hovertemplate": "<b>%{hovertext}</b><br><br>Date=2020-10-26 00:00:00<br>Country=%{location}<br>PercentOfBaseline=%{z}<extra></extra>",
           "hovertext": [
            "Australia",
            "Canada",
            "Chile",
            "United States of America (the)"
           ],
           "locationmode": "country names",
           "locations": [
            "Australia",
            "Canada",
            "Chile",
            "United States of America (the)"
           ],
           "name": "",
           "type": "choropleth",
           "z": [
            19,
            852,
            59,
            1234
           ]
          }
         ],
         "name": "2020-10-26 00:00:00"
        },
        {
         "data": [
          {
           "coloraxis": "coloraxis",
           "geo": "geo",
           "hovertemplate": "<b>%{hovertext}</b><br><br>Date=2020-10-27 00:00:00<br>Country=%{location}<br>PercentOfBaseline=%{z}<extra></extra>",
           "hovertext": [
            "Australia",
            "Canada",
            "Chile",
            "United States of America (the)"
           ],
           "locationmode": "country names",
           "locations": [
            "Australia",
            "Canada",
            "Chile",
            "United States of America (the)"
           ],
           "name": "",
           "type": "choropleth",
           "z": [
            23,
            826,
            58,
            1241
           ]
          }
         ],
         "name": "2020-10-27 00:00:00"
        },
        {
         "data": [
          {
           "coloraxis": "coloraxis",
           "geo": "geo",
           "hovertemplate": "<b>%{hovertext}</b><br><br>Date=2020-10-28 00:00:00<br>Country=%{location}<br>PercentOfBaseline=%{z}<extra></extra>",
           "hovertext": [
            "Australia",
            "Canada",
            "Chile",
            "United States of America (the)"
           ],
           "locationmode": "country names",
           "locations": [
            "Australia",
            "Canada",
            "Chile",
            "United States of America (the)"
           ],
           "name": "",
           "type": "choropleth",
           "z": [
            22,
            837,
            70,
            1294
           ]
          }
         ],
         "name": "2020-10-28 00:00:00"
        },
        {
         "data": [
          {
           "coloraxis": "coloraxis",
           "geo": "geo",
           "hovertemplate": "<b>%{hovertext}</b><br><br>Date=2020-10-29 00:00:00<br>Country=%{location}<br>PercentOfBaseline=%{z}<extra></extra>",
           "hovertext": [
            "Australia",
            "Canada",
            "Chile",
            "United States of America (the)"
           ],
           "locationmode": "country names",
           "locations": [
            "Australia",
            "Canada",
            "Chile",
            "United States of America (the)"
           ],
           "name": "",
           "type": "choropleth",
           "z": [
            24,
            792,
            53,
            1199
           ]
          }
         ],
         "name": "2020-10-29 00:00:00"
        },
        {
         "data": [
          {
           "coloraxis": "coloraxis",
           "geo": "geo",
           "hovertemplate": "<b>%{hovertext}</b><br><br>Date=2020-10-30 00:00:00<br>Country=%{location}<br>PercentOfBaseline=%{z}<extra></extra>",
           "hovertext": [
            "Australia",
            "Canada",
            "Chile",
            "United States of America (the)"
           ],
           "locationmode": "country names",
           "locations": [
            "Australia",
            "Canada",
            "Chile",
            "United States of America (the)"
           ],
           "name": "",
           "type": "choropleth",
           "z": [
            18,
            781,
            45,
            1191
           ]
          }
         ],
         "name": "2020-10-30 00:00:00"
        },
        {
         "data": [
          {
           "coloraxis": "coloraxis",
           "geo": "geo",
           "hovertemplate": "<b>%{hovertext}</b><br><br>Date=2020-10-31 00:00:00<br>Country=%{location}<br>PercentOfBaseline=%{z}<extra></extra>",
           "hovertext": [
            "Australia",
            "Canada",
            "Chile",
            "United States of America (the)"
           ],
           "locationmode": "country names",
           "locations": [
            "Australia",
            "Canada",
            "Chile",
            "United States of America (the)"
           ],
           "name": "",
           "type": "choropleth",
           "z": [
            22,
            683,
            33,
            1063
           ]
          }
         ],
         "name": "2020-10-31 00:00:00"
        },
        {
         "data": [
          {
           "coloraxis": "coloraxis",
           "geo": "geo",
           "hovertemplate": "<b>%{hovertext}</b><br><br>Date=2020-11-01 00:00:00<br>Country=%{location}<br>PercentOfBaseline=%{z}<extra></extra>",
           "hovertext": [
            "Australia",
            "Canada",
            "United States of America (the)"
           ],
           "locationmode": "country names",
           "locations": [
            "Australia",
            "Canada",
            "United States of America (the)"
           ],
           "name": "",
           "type": "choropleth",
           "z": [
            19,
            557,
            1026
           ]
          }
         ],
         "name": "2020-11-01 00:00:00"
        },
        {
         "data": [
          {
           "coloraxis": "coloraxis",
           "geo": "geo",
           "hovertemplate": "<b>%{hovertext}</b><br><br>Date=2020-11-02 00:00:00<br>Country=%{location}<br>PercentOfBaseline=%{z}<extra></extra>",
           "hovertext": [
            "Australia",
            "Canada",
            "Chile",
            "United States of America (the)"
           ],
           "locationmode": "country names",
           "locations": [
            "Australia",
            "Canada",
            "Chile",
            "United States of America (the)"
           ],
           "name": "",
           "type": "choropleth",
           "z": [
            17,
            840,
            60,
            1235
           ]
          }
         ],
         "name": "2020-11-02 00:00:00"
        },
        {
         "data": [
          {
           "coloraxis": "coloraxis",
           "geo": "geo",
           "hovertemplate": "<b>%{hovertext}</b><br><br>Date=2020-11-03 00:00:00<br>Country=%{location}<br>PercentOfBaseline=%{z}<extra></extra>",
           "hovertext": [
            "Australia",
            "Canada",
            "Chile",
            "United States of America (the)"
           ],
           "locationmode": "country names",
           "locations": [
            "Australia",
            "Canada",
            "Chile",
            "United States of America (the)"
           ],
           "name": "",
           "type": "choropleth",
           "z": [
            20,
            817,
            63,
            1203
           ]
          }
         ],
         "name": "2020-11-03 00:00:00"
        },
        {
         "data": [
          {
           "coloraxis": "coloraxis",
           "geo": "geo",
           "hovertemplate": "<b>%{hovertext}</b><br><br>Date=2020-11-04 00:00:00<br>Country=%{location}<br>PercentOfBaseline=%{z}<extra></extra>",
           "hovertext": [
            "Australia",
            "Canada",
            "Chile",
            "United States of America (the)"
           ],
           "locationmode": "country names",
           "locations": [
            "Australia",
            "Canada",
            "Chile",
            "United States of America (the)"
           ],
           "name": "",
           "type": "choropleth",
           "z": [
            21,
            814,
            45,
            1213
           ]
          }
         ],
         "name": "2020-11-04 00:00:00"
        },
        {
         "data": [
          {
           "coloraxis": "coloraxis",
           "geo": "geo",
           "hovertemplate": "<b>%{hovertext}</b><br><br>Date=2020-11-05 00:00:00<br>Country=%{location}<br>PercentOfBaseline=%{z}<extra></extra>",
           "hovertext": [
            "Australia",
            "Canada",
            "Chile",
            "United States of America (the)"
           ],
           "locationmode": "country names",
           "locations": [
            "Australia",
            "Canada",
            "Chile",
            "United States of America (the)"
           ],
           "name": "",
           "type": "choropleth",
           "z": [
            16,
            810,
            45,
            1241
           ]
          }
         ],
         "name": "2020-11-05 00:00:00"
        },
        {
         "data": [
          {
           "coloraxis": "coloraxis",
           "geo": "geo",
           "hovertemplate": "<b>%{hovertext}</b><br><br>Date=2020-11-06 00:00:00<br>Country=%{location}<br>PercentOfBaseline=%{z}<extra></extra>",
           "hovertext": [
            "Australia",
            "Canada",
            "Chile",
            "United States of America (the)"
           ],
           "locationmode": "country names",
           "locations": [
            "Australia",
            "Canada",
            "Chile",
            "United States of America (the)"
           ],
           "name": "",
           "type": "choropleth",
           "z": [
            20,
            822,
            57,
            1210
           ]
          }
         ],
         "name": "2020-11-06 00:00:00"
        },
        {
         "data": [
          {
           "coloraxis": "coloraxis",
           "geo": "geo",
           "hovertemplate": "<b>%{hovertext}</b><br><br>Date=2020-11-07 00:00:00<br>Country=%{location}<br>PercentOfBaseline=%{z}<extra></extra>",
           "hovertext": [
            "Canada",
            "Chile",
            "United States of America (the)"
           ],
           "locationmode": "country names",
           "locations": [
            "Canada",
            "Chile",
            "United States of America (the)"
           ],
           "name": "",
           "type": "choropleth",
           "z": [
            745,
            48,
            1123
           ]
          }
         ],
         "name": "2020-11-07 00:00:00"
        },
        {
         "data": [
          {
           "coloraxis": "coloraxis",
           "geo": "geo",
           "hovertemplate": "<b>%{hovertext}</b><br><br>Date=2020-11-08 00:00:00<br>Country=%{location}<br>PercentOfBaseline=%{z}<extra></extra>",
           "hovertext": [
            "Australia",
            "Canada",
            "United States of America (the)"
           ],
           "locationmode": "country names",
           "locations": [
            "Australia",
            "Canada",
            "United States of America (the)"
           ],
           "name": "",
           "type": "choropleth",
           "z": [
            24,
            632,
            1059
           ]
          }
         ],
         "name": "2020-11-08 00:00:00"
        },
        {
         "data": [
          {
           "coloraxis": "coloraxis",
           "geo": "geo",
           "hovertemplate": "<b>%{hovertext}</b><br><br>Date=2020-11-09 00:00:00<br>Country=%{location}<br>PercentOfBaseline=%{z}<extra></extra>",
           "hovertext": [
            "Australia",
            "Canada",
            "Chile",
            "United States of America (the)"
           ],
           "locationmode": "country names",
           "locations": [
            "Australia",
            "Canada",
            "Chile",
            "United States of America (the)"
           ],
           "name": "",
           "type": "choropleth",
           "z": [
            21,
            797,
            52,
            1203
           ]
          }
         ],
         "name": "2020-11-09 00:00:00"
        },
        {
         "data": [
          {
           "coloraxis": "coloraxis",
           "geo": "geo",
           "hovertemplate": "<b>%{hovertext}</b><br><br>Date=2020-11-10 00:00:00<br>Country=%{location}<br>PercentOfBaseline=%{z}<extra></extra>",
           "hovertext": [
            "Australia",
            "Canada",
            "Chile",
            "United States of America (the)"
           ],
           "locationmode": "country names",
           "locations": [
            "Australia",
            "Canada",
            "Chile",
            "United States of America (the)"
           ],
           "name": "",
           "type": "choropleth",
           "z": [
            27,
            815,
            52,
            1257
           ]
          }
         ],
         "name": "2020-11-10 00:00:00"
        },
        {
         "data": [
          {
           "coloraxis": "coloraxis",
           "geo": "geo",
           "hovertemplate": "<b>%{hovertext}</b><br><br>Date=2020-11-11 00:00:00<br>Country=%{location}<br>PercentOfBaseline=%{z}<extra></extra>",
           "hovertext": [
            "Australia",
            "Canada",
            "Chile",
            "United States of America (the)"
           ],
           "locationmode": "country names",
           "locations": [
            "Australia",
            "Canada",
            "Chile",
            "United States of America (the)"
           ],
           "name": "",
           "type": "choropleth",
           "z": [
            28,
            654,
            59,
            1072
           ]
          }
         ],
         "name": "2020-11-11 00:00:00"
        },
        {
         "data": [
          {
           "coloraxis": "coloraxis",
           "geo": "geo",
           "hovertemplate": "<b>%{hovertext}</b><br><br>Date=2020-11-12 00:00:00<br>Country=%{location}<br>PercentOfBaseline=%{z}<extra></extra>",
           "hovertext": [
            "Australia",
            "Canada",
            "Chile",
            "United States of America (the)"
           ],
           "locationmode": "country names",
           "locations": [
            "Australia",
            "Canada",
            "Chile",
            "United States of America (the)"
           ],
           "name": "",
           "type": "choropleth",
           "z": [
            20,
            732,
            60,
            1173
           ]
          }
         ],
         "name": "2020-11-12 00:00:00"
        },
        {
         "data": [
          {
           "coloraxis": "coloraxis",
           "geo": "geo",
           "hovertemplate": "<b>%{hovertext}</b><br><br>Date=2020-11-13 00:00:00<br>Country=%{location}<br>PercentOfBaseline=%{z}<extra></extra>",
           "hovertext": [
            "Australia",
            "Canada",
            "Chile",
            "United States of America (the)"
           ],
           "locationmode": "country names",
           "locations": [
            "Australia",
            "Canada",
            "Chile",
            "United States of America (the)"
           ],
           "name": "",
           "type": "choropleth",
           "z": [
            23,
            794,
            63,
            1251
           ]
          }
         ],
         "name": "2020-11-13 00:00:00"
        },
        {
         "data": [
          {
           "coloraxis": "coloraxis",
           "geo": "geo",
           "hovertemplate": "<b>%{hovertext}</b><br><br>Date=2020-11-14 00:00:00<br>Country=%{location}<br>PercentOfBaseline=%{z}<extra></extra>",
           "hovertext": [
            "Australia",
            "Canada",
            "Chile",
            "United States of America (the)"
           ],
           "locationmode": "country names",
           "locations": [
            "Australia",
            "Canada",
            "Chile",
            "United States of America (the)"
           ],
           "name": "",
           "type": "choropleth",
           "z": [
            18,
            725,
            41,
            1082
           ]
          }
         ],
         "name": "2020-11-14 00:00:00"
        },
        {
         "data": [
          {
           "coloraxis": "coloraxis",
           "geo": "geo",
           "hovertemplate": "<b>%{hovertext}</b><br><br>Date=2020-11-15 00:00:00<br>Country=%{location}<br>PercentOfBaseline=%{z}<extra></extra>",
           "hovertext": [
            "Australia",
            "Canada",
            "United States of America (the)"
           ],
           "locationmode": "country names",
           "locations": [
            "Australia",
            "Canada",
            "United States of America (the)"
           ],
           "name": "",
           "type": "choropleth",
           "z": [
            26,
            555,
            1045
           ]
          }
         ],
         "name": "2020-11-15 00:00:00"
        },
        {
         "data": [
          {
           "coloraxis": "coloraxis",
           "geo": "geo",
           "hovertemplate": "<b>%{hovertext}</b><br><br>Date=2020-11-16 00:00:00<br>Country=%{location}<br>PercentOfBaseline=%{z}<extra></extra>",
           "hovertext": [
            "Australia",
            "Canada",
            "Chile",
            "United States of America (the)"
           ],
           "locationmode": "country names",
           "locations": [
            "Australia",
            "Canada",
            "Chile",
            "United States of America (the)"
           ],
           "name": "",
           "type": "choropleth",
           "z": [
            23,
            803,
            65,
            1231
           ]
          }
         ],
         "name": "2020-11-16 00:00:00"
        },
        {
         "data": [
          {
           "coloraxis": "coloraxis",
           "geo": "geo",
           "hovertemplate": "<b>%{hovertext}</b><br><br>Date=2020-11-17 00:00:00<br>Country=%{location}<br>PercentOfBaseline=%{z}<extra></extra>",
           "hovertext": [
            "Australia",
            "Canada",
            "Chile",
            "United States of America (the)"
           ],
           "locationmode": "country names",
           "locations": [
            "Australia",
            "Canada",
            "Chile",
            "United States of America (the)"
           ],
           "name": "",
           "type": "choropleth",
           "z": [
            22,
            812,
            62,
            1289
           ]
          }
         ],
         "name": "2020-11-17 00:00:00"
        },
        {
         "data": [
          {
           "coloraxis": "coloraxis",
           "geo": "geo",
           "hovertemplate": "<b>%{hovertext}</b><br><br>Date=2020-11-18 00:00:00<br>Country=%{location}<br>PercentOfBaseline=%{z}<extra></extra>",
           "hovertext": [
            "Australia",
            "Canada",
            "Chile",
            "United States of America (the)"
           ],
           "locationmode": "country names",
           "locations": [
            "Australia",
            "Canada",
            "Chile",
            "United States of America (the)"
           ],
           "name": "",
           "type": "choropleth",
           "z": [
            25,
            807,
            62,
            1253
           ]
          }
         ],
         "name": "2020-11-18 00:00:00"
        },
        {
         "data": [
          {
           "coloraxis": "coloraxis",
           "geo": "geo",
           "hovertemplate": "<b>%{hovertext}</b><br><br>Date=2020-11-19 00:00:00<br>Country=%{location}<br>PercentOfBaseline=%{z}<extra></extra>",
           "hovertext": [
            "Australia",
            "Canada",
            "Chile",
            "United States of America (the)"
           ],
           "locationmode": "country names",
           "locations": [
            "Australia",
            "Canada",
            "Chile",
            "United States of America (the)"
           ],
           "name": "",
           "type": "choropleth",
           "z": [
            22,
            811,
            60,
            1217
           ]
          }
         ],
         "name": "2020-11-19 00:00:00"
        },
        {
         "data": [
          {
           "coloraxis": "coloraxis",
           "geo": "geo",
           "hovertemplate": "<b>%{hovertext}</b><br><br>Date=2020-11-20 00:00:00<br>Country=%{location}<br>PercentOfBaseline=%{z}<extra></extra>",
           "hovertext": [
            "Australia",
            "Canada",
            "Chile",
            "United States of America (the)"
           ],
           "locationmode": "country names",
           "locations": [
            "Australia",
            "Canada",
            "Chile",
            "United States of America (the)"
           ],
           "name": "",
           "type": "choropleth",
           "z": [
            27,
            779,
            64,
            1241
           ]
          }
         ],
         "name": "2020-11-20 00:00:00"
        },
        {
         "data": [
          {
           "coloraxis": "coloraxis",
           "geo": "geo",
           "hovertemplate": "<b>%{hovertext}</b><br><br>Date=2020-11-21 00:00:00<br>Country=%{location}<br>PercentOfBaseline=%{z}<extra></extra>",
           "hovertext": [
            "Australia",
            "Canada",
            "Chile",
            "United States of America (the)"
           ],
           "locationmode": "country names",
           "locations": [
            "Australia",
            "Canada",
            "Chile",
            "United States of America (the)"
           ],
           "name": "",
           "type": "choropleth",
           "z": [
            33,
            725,
            31,
            1153
           ]
          }
         ],
         "name": "2020-11-21 00:00:00"
        },
        {
         "data": [
          {
           "coloraxis": "coloraxis",
           "geo": "geo",
           "hovertemplate": "<b>%{hovertext}</b><br><br>Date=2020-11-22 00:00:00<br>Country=%{location}<br>PercentOfBaseline=%{z}<extra></extra>",
           "hovertext": [
            "Australia",
            "Canada",
            "Chile",
            "United States of America (the)"
           ],
           "locationmode": "country names",
           "locations": [
            "Australia",
            "Canada",
            "Chile",
            "United States of America (the)"
           ],
           "name": "",
           "type": "choropleth",
           "z": [
            18,
            596,
            26,
            1109
           ]
          }
         ],
         "name": "2020-11-22 00:00:00"
        },
        {
         "data": [
          {
           "coloraxis": "coloraxis",
           "geo": "geo",
           "hovertemplate": "<b>%{hovertext}</b><br><br>Date=2020-11-23 00:00:00<br>Country=%{location}<br>PercentOfBaseline=%{z}<extra></extra>",
           "hovertext": [
            "Australia",
            "Canada",
            "Chile",
            "United States of America (the)"
           ],
           "locationmode": "country names",
           "locations": [
            "Australia",
            "Canada",
            "Chile",
            "United States of America (the)"
           ],
           "name": "",
           "type": "choropleth",
           "z": [
            22,
            839,
            58,
            1273
           ]
          }
         ],
         "name": "2020-11-23 00:00:00"
        },
        {
         "data": [
          {
           "coloraxis": "coloraxis",
           "geo": "geo",
           "hovertemplate": "<b>%{hovertext}</b><br><br>Date=2020-11-24 00:00:00<br>Country=%{location}<br>PercentOfBaseline=%{z}<extra></extra>",
           "hovertext": [
            "Australia",
            "Canada",
            "Chile",
            "United States of America (the)"
           ],
           "locationmode": "country names",
           "locations": [
            "Australia",
            "Canada",
            "Chile",
            "United States of America (the)"
           ],
           "name": "",
           "type": "choropleth",
           "z": [
            25,
            804,
            44,
            1242
           ]
          }
         ],
         "name": "2020-11-24 00:00:00"
        },
        {
         "data": [
          {
           "coloraxis": "coloraxis",
           "geo": "geo",
           "hovertemplate": "<b>%{hovertext}</b><br><br>Date=2020-11-25 00:00:00<br>Country=%{location}<br>PercentOfBaseline=%{z}<extra></extra>",
           "hovertext": [
            "Australia",
            "Canada",
            "Chile",
            "United States of America (the)"
           ],
           "locationmode": "country names",
           "locations": [
            "Australia",
            "Canada",
            "Chile",
            "United States of America (the)"
           ],
           "name": "",
           "type": "choropleth",
           "z": [
            28,
            801,
            47,
            1181
           ]
          }
         ],
         "name": "2020-11-25 00:00:00"
        },
        {
         "data": [
          {
           "coloraxis": "coloraxis",
           "geo": "geo",
           "hovertemplate": "<b>%{hovertext}</b><br><br>Date=2020-11-26 00:00:00<br>Country=%{location}<br>PercentOfBaseline=%{z}<extra></extra>",
           "hovertext": [
            "Australia",
            "Canada",
            "Chile",
            "United States of America (the)"
           ],
           "locationmode": "country names",
           "locations": [
            "Australia",
            "Canada",
            "Chile",
            "United States of America (the)"
           ],
           "name": "",
           "type": "choropleth",
           "z": [
            25,
            786,
            50,
            501
           ]
          }
         ],
         "name": "2020-11-26 00:00:00"
        },
        {
         "data": [
          {
           "coloraxis": "coloraxis",
           "geo": "geo",
           "hovertemplate": "<b>%{hovertext}</b><br><br>Date=2020-11-27 00:00:00<br>Country=%{location}<br>PercentOfBaseline=%{z}<extra></extra>",
           "hovertext": [
            "Australia",
            "Canada",
            "Chile",
            "United States of America (the)"
           ],
           "locationmode": "country names",
           "locations": [
            "Australia",
            "Canada",
            "Chile",
            "United States of America (the)"
           ],
           "name": "",
           "type": "choropleth",
           "z": [
            18,
            777,
            48,
            622
           ]
          }
         ],
         "name": "2020-11-27 00:00:00"
        },
        {
         "data": [
          {
           "coloraxis": "coloraxis",
           "geo": "geo",
           "hovertemplate": "<b>%{hovertext}</b><br><br>Date=2020-11-28 00:00:00<br>Country=%{location}<br>PercentOfBaseline=%{z}<extra></extra>",
           "hovertext": [
            "Australia",
            "Canada",
            "Chile",
            "United States of America (the)"
           ],
           "locationmode": "country names",
           "locations": [
            "Australia",
            "Canada",
            "Chile",
            "United States of America (the)"
           ],
           "name": "",
           "type": "choropleth",
           "z": [
            46,
            751,
            39,
            990
           ]
          }
         ],
         "name": "2020-11-28 00:00:00"
        },
        {
         "data": [
          {
           "coloraxis": "coloraxis",
           "geo": "geo",
           "hovertemplate": "<b>%{hovertext}</b><br><br>Date=2020-11-29 00:00:00<br>Country=%{location}<br>PercentOfBaseline=%{z}<extra></extra>",
           "hovertext": [
            "Australia",
            "Canada",
            "United States of America (the)"
           ],
           "locationmode": "country names",
           "locations": [
            "Australia",
            "Canada",
            "United States of America (the)"
           ],
           "name": "",
           "type": "choropleth",
           "z": [
            28,
            727,
            1088
           ]
          }
         ],
         "name": "2020-11-29 00:00:00"
        },
        {
         "data": [
          {
           "coloraxis": "coloraxis",
           "geo": "geo",
           "hovertemplate": "<b>%{hovertext}</b><br><br>Date=2020-11-30 00:00:00<br>Country=%{location}<br>PercentOfBaseline=%{z}<extra></extra>",
           "hovertext": [
            "Australia",
            "Canada",
            "Chile",
            "United States of America (the)"
           ],
           "locationmode": "country names",
           "locations": [
            "Australia",
            "Canada",
            "Chile",
            "United States of America (the)"
           ],
           "name": "",
           "type": "choropleth",
           "z": [
            29,
            820,
            65,
            1178
           ]
          }
         ],
         "name": "2020-11-30 00:00:00"
        },
        {
         "data": [
          {
           "coloraxis": "coloraxis",
           "geo": "geo",
           "hovertemplate": "<b>%{hovertext}</b><br><br>Date=2020-12-01 00:00:00<br>Country=%{location}<br>PercentOfBaseline=%{z}<extra></extra>",
           "hovertext": [
            "Australia",
            "Canada",
            "Chile",
            "United States of America (the)"
           ],
           "locationmode": "country names",
           "locations": [
            "Australia",
            "Canada",
            "Chile",
            "United States of America (the)"
           ],
           "name": "",
           "type": "choropleth",
           "z": [
            21,
            827,
            45,
            1275
           ]
          }
         ],
         "name": "2020-12-01 00:00:00"
        },
        {
         "data": [
          {
           "coloraxis": "coloraxis",
           "geo": "geo",
           "hovertemplate": "<b>%{hovertext}</b><br><br>Date=2020-12-02 00:00:00<br>Country=%{location}<br>PercentOfBaseline=%{z}<extra></extra>",
           "hovertext": [
            "Australia",
            "Canada",
            "Chile",
            "United States of America (the)"
           ],
           "locationmode": "country names",
           "locations": [
            "Australia",
            "Canada",
            "Chile",
            "United States of America (the)"
           ],
           "name": "",
           "type": "choropleth",
           "z": [
            27,
            798,
            48,
            1276
           ]
          }
         ],
         "name": "2020-12-02 00:00:00"
        }
       ],
       "layout": {
        "coloraxis": {
         "colorbar": {
          "title": {
           "text": "PercentOfBaseline"
          }
         },
         "colorscale": [
          [
           0,
           "#0d0887"
          ],
          [
           0.1111111111111111,
           "#46039f"
          ],
          [
           0.2222222222222222,
           "#7201a8"
          ],
          [
           0.3333333333333333,
           "#9c179e"
          ],
          [
           0.4444444444444444,
           "#bd3786"
          ],
          [
           0.5555555555555556,
           "#d8576b"
          ],
          [
           0.6666666666666666,
           "#ed7953"
          ],
          [
           0.7777777777777778,
           "#fb9f3a"
          ],
          [
           0.8888888888888888,
           "#fdca26"
          ],
          [
           1,
           "#f0f921"
          ]
         ]
        },
        "geo": {
         "center": {},
         "domain": {
          "x": [
           0,
           1
          ],
          "y": [
           0,
           1
          ]
         },
         "showcoastlines": false,
         "showframe": false
        },
        "legend": {
         "tracegroupgap": 0
        },
        "margin": {
         "t": 60
        },
        "sliders": [
         {
          "active": 0,
          "currentvalue": {
           "prefix": "Date="
          },
          "len": 0.9,
          "pad": {
           "b": 10,
           "t": 60
          },
          "steps": [
           {
            "args": [
             [
              "2020-03-16 00:00:00"
             ],
             {
              "frame": {
               "duration": 0,
               "redraw": true
              },
              "fromcurrent": true,
              "mode": "immediate",
              "transition": {
               "duration": 0,
               "easing": "linear"
              }
             }
            ],
            "label": "2020-03-16 00:00:00",
            "method": "animate"
           },
           {
            "args": [
             [
              "2020-03-17 00:00:00"
             ],
             {
              "frame": {
               "duration": 0,
               "redraw": true
              },
              "fromcurrent": true,
              "mode": "immediate",
              "transition": {
               "duration": 0,
               "easing": "linear"
              }
             }
            ],
            "label": "2020-03-17 00:00:00",
            "method": "animate"
           },
           {
            "args": [
             [
              "2020-03-18 00:00:00"
             ],
             {
              "frame": {
               "duration": 0,
               "redraw": true
              },
              "fromcurrent": true,
              "mode": "immediate",
              "transition": {
               "duration": 0,
               "easing": "linear"
              }
             }
            ],
            "label": "2020-03-18 00:00:00",
            "method": "animate"
           },
           {
            "args": [
             [
              "2020-03-19 00:00:00"
             ],
             {
              "frame": {
               "duration": 0,
               "redraw": true
              },
              "fromcurrent": true,
              "mode": "immediate",
              "transition": {
               "duration": 0,
               "easing": "linear"
              }
             }
            ],
            "label": "2020-03-19 00:00:00",
            "method": "animate"
           },
           {
            "args": [
             [
              "2020-03-20 00:00:00"
             ],
             {
              "frame": {
               "duration": 0,
               "redraw": true
              },
              "fromcurrent": true,
              "mode": "immediate",
              "transition": {
               "duration": 0,
               "easing": "linear"
              }
             }
            ],
            "label": "2020-03-20 00:00:00",
            "method": "animate"
           },
           {
            "args": [
             [
              "2020-03-21 00:00:00"
             ],
             {
              "frame": {
               "duration": 0,
               "redraw": true
              },
              "fromcurrent": true,
              "mode": "immediate",
              "transition": {
               "duration": 0,
               "easing": "linear"
              }
             }
            ],
            "label": "2020-03-21 00:00:00",
            "method": "animate"
           },
           {
            "args": [
             [
              "2020-03-22 00:00:00"
             ],
             {
              "frame": {
               "duration": 0,
               "redraw": true
              },
              "fromcurrent": true,
              "mode": "immediate",
              "transition": {
               "duration": 0,
               "easing": "linear"
              }
             }
            ],
            "label": "2020-03-22 00:00:00",
            "method": "animate"
           },
           {
            "args": [
             [
              "2020-03-23 00:00:00"
             ],
             {
              "frame": {
               "duration": 0,
               "redraw": true
              },
              "fromcurrent": true,
              "mode": "immediate",
              "transition": {
               "duration": 0,
               "easing": "linear"
              }
             }
            ],
            "label": "2020-03-23 00:00:00",
            "method": "animate"
           },
           {
            "args": [
             [
              "2020-03-24 00:00:00"
             ],
             {
              "frame": {
               "duration": 0,
               "redraw": true
              },
              "fromcurrent": true,
              "mode": "immediate",
              "transition": {
               "duration": 0,
               "easing": "linear"
              }
             }
            ],
            "label": "2020-03-24 00:00:00",
            "method": "animate"
           },
           {
            "args": [
             [
              "2020-03-25 00:00:00"
             ],
             {
              "frame": {
               "duration": 0,
               "redraw": true
              },
              "fromcurrent": true,
              "mode": "immediate",
              "transition": {
               "duration": 0,
               "easing": "linear"
              }
             }
            ],
            "label": "2020-03-25 00:00:00",
            "method": "animate"
           },
           {
            "args": [
             [
              "2020-03-26 00:00:00"
             ],
             {
              "frame": {
               "duration": 0,
               "redraw": true
              },
              "fromcurrent": true,
              "mode": "immediate",
              "transition": {
               "duration": 0,
               "easing": "linear"
              }
             }
            ],
            "label": "2020-03-26 00:00:00",
            "method": "animate"
           },
           {
            "args": [
             [
              "2020-03-27 00:00:00"
             ],
             {
              "frame": {
               "duration": 0,
               "redraw": true
              },
              "fromcurrent": true,
              "mode": "immediate",
              "transition": {
               "duration": 0,
               "easing": "linear"
              }
             }
            ],
            "label": "2020-03-27 00:00:00",
            "method": "animate"
           },
           {
            "args": [
             [
              "2020-03-28 00:00:00"
             ],
             {
              "frame": {
               "duration": 0,
               "redraw": true
              },
              "fromcurrent": true,
              "mode": "immediate",
              "transition": {
               "duration": 0,
               "easing": "linear"
              }
             }
            ],
            "label": "2020-03-28 00:00:00",
            "method": "animate"
           },
           {
            "args": [
             [
              "2020-03-29 00:00:00"
             ],
             {
              "frame": {
               "duration": 0,
               "redraw": true
              },
              "fromcurrent": true,
              "mode": "immediate",
              "transition": {
               "duration": 0,
               "easing": "linear"
              }
             }
            ],
            "label": "2020-03-29 00:00:00",
            "method": "animate"
           },
           {
            "args": [
             [
              "2020-03-30 00:00:00"
             ],
             {
              "frame": {
               "duration": 0,
               "redraw": true
              },
              "fromcurrent": true,
              "mode": "immediate",
              "transition": {
               "duration": 0,
               "easing": "linear"
              }
             }
            ],
            "label": "2020-03-30 00:00:00",
            "method": "animate"
           },
           {
            "args": [
             [
              "2020-03-31 00:00:00"
             ],
             {
              "frame": {
               "duration": 0,
               "redraw": true
              },
              "fromcurrent": true,
              "mode": "immediate",
              "transition": {
               "duration": 0,
               "easing": "linear"
              }
             }
            ],
            "label": "2020-03-31 00:00:00",
            "method": "animate"
           },
           {
            "args": [
             [
              "2020-04-01 00:00:00"
             ],
             {
              "frame": {
               "duration": 0,
               "redraw": true
              },
              "fromcurrent": true,
              "mode": "immediate",
              "transition": {
               "duration": 0,
               "easing": "linear"
              }
             }
            ],
            "label": "2020-04-01 00:00:00",
            "method": "animate"
           },
           {
            "args": [
             [
              "2020-04-02 00:00:00"
             ],
             {
              "frame": {
               "duration": 0,
               "redraw": true
              },
              "fromcurrent": true,
              "mode": "immediate",
              "transition": {
               "duration": 0,
               "easing": "linear"
              }
             }
            ],
            "label": "2020-04-02 00:00:00",
            "method": "animate"
           },
           {
            "args": [
             [
              "2020-04-03 00:00:00"
             ],
             {
              "frame": {
               "duration": 0,
               "redraw": true
              },
              "fromcurrent": true,
              "mode": "immediate",
              "transition": {
               "duration": 0,
               "easing": "linear"
              }
             }
            ],
            "label": "2020-04-03 00:00:00",
            "method": "animate"
           },
           {
            "args": [
             [
              "2020-04-04 00:00:00"
             ],
             {
              "frame": {
               "duration": 0,
               "redraw": true
              },
              "fromcurrent": true,
              "mode": "immediate",
              "transition": {
               "duration": 0,
               "easing": "linear"
              }
             }
            ],
            "label": "2020-04-04 00:00:00",
            "method": "animate"
           },
           {
            "args": [
             [
              "2020-04-05 00:00:00"
             ],
             {
              "frame": {
               "duration": 0,
               "redraw": true
              },
              "fromcurrent": true,
              "mode": "immediate",
              "transition": {
               "duration": 0,
               "easing": "linear"
              }
             }
            ],
            "label": "2020-04-05 00:00:00",
            "method": "animate"
           },
           {
            "args": [
             [
              "2020-04-06 00:00:00"
             ],
             {
              "frame": {
               "duration": 0,
               "redraw": true
              },
              "fromcurrent": true,
              "mode": "immediate",
              "transition": {
               "duration": 0,
               "easing": "linear"
              }
             }
            ],
            "label": "2020-04-06 00:00:00",
            "method": "animate"
           },
           {
            "args": [
             [
              "2020-04-07 00:00:00"
             ],
             {
              "frame": {
               "duration": 0,
               "redraw": true
              },
              "fromcurrent": true,
              "mode": "immediate",
              "transition": {
               "duration": 0,
               "easing": "linear"
              }
             }
            ],
            "label": "2020-04-07 00:00:00",
            "method": "animate"
           },
           {
            "args": [
             [
              "2020-04-08 00:00:00"
             ],
             {
              "frame": {
               "duration": 0,
               "redraw": true
              },
              "fromcurrent": true,
              "mode": "immediate",
              "transition": {
               "duration": 0,
               "easing": "linear"
              }
             }
            ],
            "label": "2020-04-08 00:00:00",
            "method": "animate"
           },
           {
            "args": [
             [
              "2020-04-09 00:00:00"
             ],
             {
              "frame": {
               "duration": 0,
               "redraw": true
              },
              "fromcurrent": true,
              "mode": "immediate",
              "transition": {
               "duration": 0,
               "easing": "linear"
              }
             }
            ],
            "label": "2020-04-09 00:00:00",
            "method": "animate"
           },
           {
            "args": [
             [
              "2020-04-10 00:00:00"
             ],
             {
              "frame": {
               "duration": 0,
               "redraw": true
              },
              "fromcurrent": true,
              "mode": "immediate",
              "transition": {
               "duration": 0,
               "easing": "linear"
              }
             }
            ],
            "label": "2020-04-10 00:00:00",
            "method": "animate"
           },
           {
            "args": [
             [
              "2020-04-11 00:00:00"
             ],
             {
              "frame": {
               "duration": 0,
               "redraw": true
              },
              "fromcurrent": true,
              "mode": "immediate",
              "transition": {
               "duration": 0,
               "easing": "linear"
              }
             }
            ],
            "label": "2020-04-11 00:00:00",
            "method": "animate"
           },
           {
            "args": [
             [
              "2020-04-12 00:00:00"
             ],
             {
              "frame": {
               "duration": 0,
               "redraw": true
              },
              "fromcurrent": true,
              "mode": "immediate",
              "transition": {
               "duration": 0,
               "easing": "linear"
              }
             }
            ],
            "label": "2020-04-12 00:00:00",
            "method": "animate"
           },
           {
            "args": [
             [
              "2020-04-13 00:00:00"
             ],
             {
              "frame": {
               "duration": 0,
               "redraw": true
              },
              "fromcurrent": true,
              "mode": "immediate",
              "transition": {
               "duration": 0,
               "easing": "linear"
              }
             }
            ],
            "label": "2020-04-13 00:00:00",
            "method": "animate"
           },
           {
            "args": [
             [
              "2020-04-14 00:00:00"
             ],
             {
              "frame": {
               "duration": 0,
               "redraw": true
              },
              "fromcurrent": true,
              "mode": "immediate",
              "transition": {
               "duration": 0,
               "easing": "linear"
              }
             }
            ],
            "label": "2020-04-14 00:00:00",
            "method": "animate"
           },
           {
            "args": [
             [
              "2020-04-15 00:00:00"
             ],
             {
              "frame": {
               "duration": 0,
               "redraw": true
              },
              "fromcurrent": true,
              "mode": "immediate",
              "transition": {
               "duration": 0,
               "easing": "linear"
              }
             }
            ],
            "label": "2020-04-15 00:00:00",
            "method": "animate"
           },
           {
            "args": [
             [
              "2020-04-16 00:00:00"
             ],
             {
              "frame": {
               "duration": 0,
               "redraw": true
              },
              "fromcurrent": true,
              "mode": "immediate",
              "transition": {
               "duration": 0,
               "easing": "linear"
              }
             }
            ],
            "label": "2020-04-16 00:00:00",
            "method": "animate"
           },
           {
            "args": [
             [
              "2020-04-17 00:00:00"
             ],
             {
              "frame": {
               "duration": 0,
               "redraw": true
              },
              "fromcurrent": true,
              "mode": "immediate",
              "transition": {
               "duration": 0,
               "easing": "linear"
              }
             }
            ],
            "label": "2020-04-17 00:00:00",
            "method": "animate"
           },
           {
            "args": [
             [
              "2020-04-18 00:00:00"
             ],
             {
              "frame": {
               "duration": 0,
               "redraw": true
              },
              "fromcurrent": true,
              "mode": "immediate",
              "transition": {
               "duration": 0,
               "easing": "linear"
              }
             }
            ],
            "label": "2020-04-18 00:00:00",
            "method": "animate"
           },
           {
            "args": [
             [
              "2020-04-19 00:00:00"
             ],
             {
              "frame": {
               "duration": 0,
               "redraw": true
              },
              "fromcurrent": true,
              "mode": "immediate",
              "transition": {
               "duration": 0,
               "easing": "linear"
              }
             }
            ],
            "label": "2020-04-19 00:00:00",
            "method": "animate"
           },
           {
            "args": [
             [
              "2020-04-20 00:00:00"
             ],
             {
              "frame": {
               "duration": 0,
               "redraw": true
              },
              "fromcurrent": true,
              "mode": "immediate",
              "transition": {
               "duration": 0,
               "easing": "linear"
              }
             }
            ],
            "label": "2020-04-20 00:00:00",
            "method": "animate"
           },
           {
            "args": [
             [
              "2020-04-21 00:00:00"
             ],
             {
              "frame": {
               "duration": 0,
               "redraw": true
              },
              "fromcurrent": true,
              "mode": "immediate",
              "transition": {
               "duration": 0,
               "easing": "linear"
              }
             }
            ],
            "label": "2020-04-21 00:00:00",
            "method": "animate"
           },
           {
            "args": [
             [
              "2020-04-22 00:00:00"
             ],
             {
              "frame": {
               "duration": 0,
               "redraw": true
              },
              "fromcurrent": true,
              "mode": "immediate",
              "transition": {
               "duration": 0,
               "easing": "linear"
              }
             }
            ],
            "label": "2020-04-22 00:00:00",
            "method": "animate"
           },
           {
            "args": [
             [
              "2020-04-23 00:00:00"
             ],
             {
              "frame": {
               "duration": 0,
               "redraw": true
              },
              "fromcurrent": true,
              "mode": "immediate",
              "transition": {
               "duration": 0,
               "easing": "linear"
              }
             }
            ],
            "label": "2020-04-23 00:00:00",
            "method": "animate"
           },
           {
            "args": [
             [
              "2020-04-24 00:00:00"
             ],
             {
              "frame": {
               "duration": 0,
               "redraw": true
              },
              "fromcurrent": true,
              "mode": "immediate",
              "transition": {
               "duration": 0,
               "easing": "linear"
              }
             }
            ],
            "label": "2020-04-24 00:00:00",
            "method": "animate"
           },
           {
            "args": [
             [
              "2020-04-25 00:00:00"
             ],
             {
              "frame": {
               "duration": 0,
               "redraw": true
              },
              "fromcurrent": true,
              "mode": "immediate",
              "transition": {
               "duration": 0,
               "easing": "linear"
              }
             }
            ],
            "label": "2020-04-25 00:00:00",
            "method": "animate"
           },
           {
            "args": [
             [
              "2020-04-26 00:00:00"
             ],
             {
              "frame": {
               "duration": 0,
               "redraw": true
              },
              "fromcurrent": true,
              "mode": "immediate",
              "transition": {
               "duration": 0,
               "easing": "linear"
              }
             }
            ],
            "label": "2020-04-26 00:00:00",
            "method": "animate"
           },
           {
            "args": [
             [
              "2020-04-27 00:00:00"
             ],
             {
              "frame": {
               "duration": 0,
               "redraw": true
              },
              "fromcurrent": true,
              "mode": "immediate",
              "transition": {
               "duration": 0,
               "easing": "linear"
              }
             }
            ],
            "label": "2020-04-27 00:00:00",
            "method": "animate"
           },
           {
            "args": [
             [
              "2020-04-28 00:00:00"
             ],
             {
              "frame": {
               "duration": 0,
               "redraw": true
              },
              "fromcurrent": true,
              "mode": "immediate",
              "transition": {
               "duration": 0,
               "easing": "linear"
              }
             }
            ],
            "label": "2020-04-28 00:00:00",
            "method": "animate"
           },
           {
            "args": [
             [
              "2020-04-29 00:00:00"
             ],
             {
              "frame": {
               "duration": 0,
               "redraw": true
              },
              "fromcurrent": true,
              "mode": "immediate",
              "transition": {
               "duration": 0,
               "easing": "linear"
              }
             }
            ],
            "label": "2020-04-29 00:00:00",
            "method": "animate"
           },
           {
            "args": [
             [
              "2020-04-30 00:00:00"
             ],
             {
              "frame": {
               "duration": 0,
               "redraw": true
              },
              "fromcurrent": true,
              "mode": "immediate",
              "transition": {
               "duration": 0,
               "easing": "linear"
              }
             }
            ],
            "label": "2020-04-30 00:00:00",
            "method": "animate"
           },
           {
            "args": [
             [
              "2020-05-01 00:00:00"
             ],
             {
              "frame": {
               "duration": 0,
               "redraw": true
              },
              "fromcurrent": true,
              "mode": "immediate",
              "transition": {
               "duration": 0,
               "easing": "linear"
              }
             }
            ],
            "label": "2020-05-01 00:00:00",
            "method": "animate"
           },
           {
            "args": [
             [
              "2020-05-02 00:00:00"
             ],
             {
              "frame": {
               "duration": 0,
               "redraw": true
              },
              "fromcurrent": true,
              "mode": "immediate",
              "transition": {
               "duration": 0,
               "easing": "linear"
              }
             }
            ],
            "label": "2020-05-02 00:00:00",
            "method": "animate"
           },
           {
            "args": [
             [
              "2020-05-03 00:00:00"
             ],
             {
              "frame": {
               "duration": 0,
               "redraw": true
              },
              "fromcurrent": true,
              "mode": "immediate",
              "transition": {
               "duration": 0,
               "easing": "linear"
              }
             }
            ],
            "label": "2020-05-03 00:00:00",
            "method": "animate"
           },
           {
            "args": [
             [
              "2020-05-04 00:00:00"
             ],
             {
              "frame": {
               "duration": 0,
               "redraw": true
              },
              "fromcurrent": true,
              "mode": "immediate",
              "transition": {
               "duration": 0,
               "easing": "linear"
              }
             }
            ],
            "label": "2020-05-04 00:00:00",
            "method": "animate"
           },
           {
            "args": [
             [
              "2020-05-05 00:00:00"
             ],
             {
              "frame": {
               "duration": 0,
               "redraw": true
              },
              "fromcurrent": true,
              "mode": "immediate",
              "transition": {
               "duration": 0,
               "easing": "linear"
              }
             }
            ],
            "label": "2020-05-05 00:00:00",
            "method": "animate"
           },
           {
            "args": [
             [
              "2020-05-06 00:00:00"
             ],
             {
              "frame": {
               "duration": 0,
               "redraw": true
              },
              "fromcurrent": true,
              "mode": "immediate",
              "transition": {
               "duration": 0,
               "easing": "linear"
              }
             }
            ],
            "label": "2020-05-06 00:00:00",
            "method": "animate"
           },
           {
            "args": [
             [
              "2020-05-07 00:00:00"
             ],
             {
              "frame": {
               "duration": 0,
               "redraw": true
              },
              "fromcurrent": true,
              "mode": "immediate",
              "transition": {
               "duration": 0,
               "easing": "linear"
              }
             }
            ],
            "label": "2020-05-07 00:00:00",
            "method": "animate"
           },
           {
            "args": [
             [
              "2020-05-08 00:00:00"
             ],
             {
              "frame": {
               "duration": 0,
               "redraw": true
              },
              "fromcurrent": true,
              "mode": "immediate",
              "transition": {
               "duration": 0,
               "easing": "linear"
              }
             }
            ],
            "label": "2020-05-08 00:00:00",
            "method": "animate"
           },
           {
            "args": [
             [
              "2020-05-09 00:00:00"
             ],
             {
              "frame": {
               "duration": 0,
               "redraw": true
              },
              "fromcurrent": true,
              "mode": "immediate",
              "transition": {
               "duration": 0,
               "easing": "linear"
              }
             }
            ],
            "label": "2020-05-09 00:00:00",
            "method": "animate"
           },
           {
            "args": [
             [
              "2020-05-10 00:00:00"
             ],
             {
              "frame": {
               "duration": 0,
               "redraw": true
              },
              "fromcurrent": true,
              "mode": "immediate",
              "transition": {
               "duration": 0,
               "easing": "linear"
              }
             }
            ],
            "label": "2020-05-10 00:00:00",
            "method": "animate"
           },
           {
            "args": [
             [
              "2020-05-11 00:00:00"
             ],
             {
              "frame": {
               "duration": 0,
               "redraw": true
              },
              "fromcurrent": true,
              "mode": "immediate",
              "transition": {
               "duration": 0,
               "easing": "linear"
              }
             }
            ],
            "label": "2020-05-11 00:00:00",
            "method": "animate"
           },
           {
            "args": [
             [
              "2020-05-12 00:00:00"
             ],
             {
              "frame": {
               "duration": 0,
               "redraw": true
              },
              "fromcurrent": true,
              "mode": "immediate",
              "transition": {
               "duration": 0,
               "easing": "linear"
              }
             }
            ],
            "label": "2020-05-12 00:00:00",
            "method": "animate"
           },
           {
            "args": [
             [
              "2020-05-13 00:00:00"
             ],
             {
              "frame": {
               "duration": 0,
               "redraw": true
              },
              "fromcurrent": true,
              "mode": "immediate",
              "transition": {
               "duration": 0,
               "easing": "linear"
              }
             }
            ],
            "label": "2020-05-13 00:00:00",
            "method": "animate"
           },
           {
            "args": [
             [
              "2020-05-14 00:00:00"
             ],
             {
              "frame": {
               "duration": 0,
               "redraw": true
              },
              "fromcurrent": true,
              "mode": "immediate",
              "transition": {
               "duration": 0,
               "easing": "linear"
              }
             }
            ],
            "label": "2020-05-14 00:00:00",
            "method": "animate"
           },
           {
            "args": [
             [
              "2020-05-15 00:00:00"
             ],
             {
              "frame": {
               "duration": 0,
               "redraw": true
              },
              "fromcurrent": true,
              "mode": "immediate",
              "transition": {
               "duration": 0,
               "easing": "linear"
              }
             }
            ],
            "label": "2020-05-15 00:00:00",
            "method": "animate"
           },
           {
            "args": [
             [
              "2020-05-16 00:00:00"
             ],
             {
              "frame": {
               "duration": 0,
               "redraw": true
              },
              "fromcurrent": true,
              "mode": "immediate",
              "transition": {
               "duration": 0,
               "easing": "linear"
              }
             }
            ],
            "label": "2020-05-16 00:00:00",
            "method": "animate"
           },
           {
            "args": [
             [
              "2020-05-17 00:00:00"
             ],
             {
              "frame": {
               "duration": 0,
               "redraw": true
              },
              "fromcurrent": true,
              "mode": "immediate",
              "transition": {
               "duration": 0,
               "easing": "linear"
              }
             }
            ],
            "label": "2020-05-17 00:00:00",
            "method": "animate"
           },
           {
            "args": [
             [
              "2020-05-18 00:00:00"
             ],
             {
              "frame": {
               "duration": 0,
               "redraw": true
              },
              "fromcurrent": true,
              "mode": "immediate",
              "transition": {
               "duration": 0,
               "easing": "linear"
              }
             }
            ],
            "label": "2020-05-18 00:00:00",
            "method": "animate"
           },
           {
            "args": [
             [
              "2020-05-19 00:00:00"
             ],
             {
              "frame": {
               "duration": 0,
               "redraw": true
              },
              "fromcurrent": true,
              "mode": "immediate",
              "transition": {
               "duration": 0,
               "easing": "linear"
              }
             }
            ],
            "label": "2020-05-19 00:00:00",
            "method": "animate"
           },
           {
            "args": [
             [
              "2020-05-20 00:00:00"
             ],
             {
              "frame": {
               "duration": 0,
               "redraw": true
              },
              "fromcurrent": true,
              "mode": "immediate",
              "transition": {
               "duration": 0,
               "easing": "linear"
              }
             }
            ],
            "label": "2020-05-20 00:00:00",
            "method": "animate"
           },
           {
            "args": [
             [
              "2020-05-21 00:00:00"
             ],
             {
              "frame": {
               "duration": 0,
               "redraw": true
              },
              "fromcurrent": true,
              "mode": "immediate",
              "transition": {
               "duration": 0,
               "easing": "linear"
              }
             }
            ],
            "label": "2020-05-21 00:00:00",
            "method": "animate"
           },
           {
            "args": [
             [
              "2020-05-22 00:00:00"
             ],
             {
              "frame": {
               "duration": 0,
               "redraw": true
              },
              "fromcurrent": true,
              "mode": "immediate",
              "transition": {
               "duration": 0,
               "easing": "linear"
              }
             }
            ],
            "label": "2020-05-22 00:00:00",
            "method": "animate"
           },
           {
            "args": [
             [
              "2020-05-23 00:00:00"
             ],
             {
              "frame": {
               "duration": 0,
               "redraw": true
              },
              "fromcurrent": true,
              "mode": "immediate",
              "transition": {
               "duration": 0,
               "easing": "linear"
              }
             }
            ],
            "label": "2020-05-23 00:00:00",
            "method": "animate"
           },
           {
            "args": [
             [
              "2020-05-24 00:00:00"
             ],
             {
              "frame": {
               "duration": 0,
               "redraw": true
              },
              "fromcurrent": true,
              "mode": "immediate",
              "transition": {
               "duration": 0,
               "easing": "linear"
              }
             }
            ],
            "label": "2020-05-24 00:00:00",
            "method": "animate"
           },
           {
            "args": [
             [
              "2020-05-25 00:00:00"
             ],
             {
              "frame": {
               "duration": 0,
               "redraw": true
              },
              "fromcurrent": true,
              "mode": "immediate",
              "transition": {
               "duration": 0,
               "easing": "linear"
              }
             }
            ],
            "label": "2020-05-25 00:00:00",
            "method": "animate"
           },
           {
            "args": [
             [
              "2020-05-26 00:00:00"
             ],
             {
              "frame": {
               "duration": 0,
               "redraw": true
              },
              "fromcurrent": true,
              "mode": "immediate",
              "transition": {
               "duration": 0,
               "easing": "linear"
              }
             }
            ],
            "label": "2020-05-26 00:00:00",
            "method": "animate"
           },
           {
            "args": [
             [
              "2020-05-27 00:00:00"
             ],
             {
              "frame": {
               "duration": 0,
               "redraw": true
              },
              "fromcurrent": true,
              "mode": "immediate",
              "transition": {
               "duration": 0,
               "easing": "linear"
              }
             }
            ],
            "label": "2020-05-27 00:00:00",
            "method": "animate"
           },
           {
            "args": [
             [
              "2020-05-28 00:00:00"
             ],
             {
              "frame": {
               "duration": 0,
               "redraw": true
              },
              "fromcurrent": true,
              "mode": "immediate",
              "transition": {
               "duration": 0,
               "easing": "linear"
              }
             }
            ],
            "label": "2020-05-28 00:00:00",
            "method": "animate"
           },
           {
            "args": [
             [
              "2020-05-29 00:00:00"
             ],
             {
              "frame": {
               "duration": 0,
               "redraw": true
              },
              "fromcurrent": true,
              "mode": "immediate",
              "transition": {
               "duration": 0,
               "easing": "linear"
              }
             }
            ],
            "label": "2020-05-29 00:00:00",
            "method": "animate"
           },
           {
            "args": [
             [
              "2020-05-30 00:00:00"
             ],
             {
              "frame": {
               "duration": 0,
               "redraw": true
              },
              "fromcurrent": true,
              "mode": "immediate",
              "transition": {
               "duration": 0,
               "easing": "linear"
              }
             }
            ],
            "label": "2020-05-30 00:00:00",
            "method": "animate"
           },
           {
            "args": [
             [
              "2020-05-31 00:00:00"
             ],
             {
              "frame": {
               "duration": 0,
               "redraw": true
              },
              "fromcurrent": true,
              "mode": "immediate",
              "transition": {
               "duration": 0,
               "easing": "linear"
              }
             }
            ],
            "label": "2020-05-31 00:00:00",
            "method": "animate"
           },
           {
            "args": [
             [
              "2020-06-01 00:00:00"
             ],
             {
              "frame": {
               "duration": 0,
               "redraw": true
              },
              "fromcurrent": true,
              "mode": "immediate",
              "transition": {
               "duration": 0,
               "easing": "linear"
              }
             }
            ],
            "label": "2020-06-01 00:00:00",
            "method": "animate"
           },
           {
            "args": [
             [
              "2020-06-02 00:00:00"
             ],
             {
              "frame": {
               "duration": 0,
               "redraw": true
              },
              "fromcurrent": true,
              "mode": "immediate",
              "transition": {
               "duration": 0,
               "easing": "linear"
              }
             }
            ],
            "label": "2020-06-02 00:00:00",
            "method": "animate"
           },
           {
            "args": [
             [
              "2020-06-03 00:00:00"
             ],
             {
              "frame": {
               "duration": 0,
               "redraw": true
              },
              "fromcurrent": true,
              "mode": "immediate",
              "transition": {
               "duration": 0,
               "easing": "linear"
              }
             }
            ],
            "label": "2020-06-03 00:00:00",
            "method": "animate"
           },
           {
            "args": [
             [
              "2020-06-04 00:00:00"
             ],
             {
              "frame": {
               "duration": 0,
               "redraw": true
              },
              "fromcurrent": true,
              "mode": "immediate",
              "transition": {
               "duration": 0,
               "easing": "linear"
              }
             }
            ],
            "label": "2020-06-04 00:00:00",
            "method": "animate"
           },
           {
            "args": [
             [
              "2020-06-05 00:00:00"
             ],
             {
              "frame": {
               "duration": 0,
               "redraw": true
              },
              "fromcurrent": true,
              "mode": "immediate",
              "transition": {
               "duration": 0,
               "easing": "linear"
              }
             }
            ],
            "label": "2020-06-05 00:00:00",
            "method": "animate"
           },
           {
            "args": [
             [
              "2020-06-06 00:00:00"
             ],
             {
              "frame": {
               "duration": 0,
               "redraw": true
              },
              "fromcurrent": true,
              "mode": "immediate",
              "transition": {
               "duration": 0,
               "easing": "linear"
              }
             }
            ],
            "label": "2020-06-06 00:00:00",
            "method": "animate"
           },
           {
            "args": [
             [
              "2020-06-07 00:00:00"
             ],
             {
              "frame": {
               "duration": 0,
               "redraw": true
              },
              "fromcurrent": true,
              "mode": "immediate",
              "transition": {
               "duration": 0,
               "easing": "linear"
              }
             }
            ],
            "label": "2020-06-07 00:00:00",
            "method": "animate"
           },
           {
            "args": [
             [
              "2020-06-08 00:00:00"
             ],
             {
              "frame": {
               "duration": 0,
               "redraw": true
              },
              "fromcurrent": true,
              "mode": "immediate",
              "transition": {
               "duration": 0,
               "easing": "linear"
              }
             }
            ],
            "label": "2020-06-08 00:00:00",
            "method": "animate"
           },
           {
            "args": [
             [
              "2020-06-09 00:00:00"
             ],
             {
              "frame": {
               "duration": 0,
               "redraw": true
              },
              "fromcurrent": true,
              "mode": "immediate",
              "transition": {
               "duration": 0,
               "easing": "linear"
              }
             }
            ],
            "label": "2020-06-09 00:00:00",
            "method": "animate"
           },
           {
            "args": [
             [
              "2020-06-10 00:00:00"
             ],
             {
              "frame": {
               "duration": 0,
               "redraw": true
              },
              "fromcurrent": true,
              "mode": "immediate",
              "transition": {
               "duration": 0,
               "easing": "linear"
              }
             }
            ],
            "label": "2020-06-10 00:00:00",
            "method": "animate"
           },
           {
            "args": [
             [
              "2020-06-11 00:00:00"
             ],
             {
              "frame": {
               "duration": 0,
               "redraw": true
              },
              "fromcurrent": true,
              "mode": "immediate",
              "transition": {
               "duration": 0,
               "easing": "linear"
              }
             }
            ],
            "label": "2020-06-11 00:00:00",
            "method": "animate"
           },
           {
            "args": [
             [
              "2020-06-12 00:00:00"
             ],
             {
              "frame": {
               "duration": 0,
               "redraw": true
              },
              "fromcurrent": true,
              "mode": "immediate",
              "transition": {
               "duration": 0,
               "easing": "linear"
              }
             }
            ],
            "label": "2020-06-12 00:00:00",
            "method": "animate"
           },
           {
            "args": [
             [
              "2020-06-13 00:00:00"
             ],
             {
              "frame": {
               "duration": 0,
               "redraw": true
              },
              "fromcurrent": true,
              "mode": "immediate",
              "transition": {
               "duration": 0,
               "easing": "linear"
              }
             }
            ],
            "label": "2020-06-13 00:00:00",
            "method": "animate"
           },
           {
            "args": [
             [
              "2020-06-14 00:00:00"
             ],
             {
              "frame": {
               "duration": 0,
               "redraw": true
              },
              "fromcurrent": true,
              "mode": "immediate",
              "transition": {
               "duration": 0,
               "easing": "linear"
              }
             }
            ],
            "label": "2020-06-14 00:00:00",
            "method": "animate"
           },
           {
            "args": [
             [
              "2020-06-15 00:00:00"
             ],
             {
              "frame": {
               "duration": 0,
               "redraw": true
              },
              "fromcurrent": true,
              "mode": "immediate",
              "transition": {
               "duration": 0,
               "easing": "linear"
              }
             }
            ],
            "label": "2020-06-15 00:00:00",
            "method": "animate"
           },
           {
            "args": [
             [
              "2020-06-16 00:00:00"
             ],
             {
              "frame": {
               "duration": 0,
               "redraw": true
              },
              "fromcurrent": true,
              "mode": "immediate",
              "transition": {
               "duration": 0,
               "easing": "linear"
              }
             }
            ],
            "label": "2020-06-16 00:00:00",
            "method": "animate"
           },
           {
            "args": [
             [
              "2020-06-17 00:00:00"
             ],
             {
              "frame": {
               "duration": 0,
               "redraw": true
              },
              "fromcurrent": true,
              "mode": "immediate",
              "transition": {
               "duration": 0,
               "easing": "linear"
              }
             }
            ],
            "label": "2020-06-17 00:00:00",
            "method": "animate"
           },
           {
            "args": [
             [
              "2020-06-18 00:00:00"
             ],
             {
              "frame": {
               "duration": 0,
               "redraw": true
              },
              "fromcurrent": true,
              "mode": "immediate",
              "transition": {
               "duration": 0,
               "easing": "linear"
              }
             }
            ],
            "label": "2020-06-18 00:00:00",
            "method": "animate"
           },
           {
            "args": [
             [
              "2020-06-19 00:00:00"
             ],
             {
              "frame": {
               "duration": 0,
               "redraw": true
              },
              "fromcurrent": true,
              "mode": "immediate",
              "transition": {
               "duration": 0,
               "easing": "linear"
              }
             }
            ],
            "label": "2020-06-19 00:00:00",
            "method": "animate"
           },
           {
            "args": [
             [
              "2020-06-20 00:00:00"
             ],
             {
              "frame": {
               "duration": 0,
               "redraw": true
              },
              "fromcurrent": true,
              "mode": "immediate",
              "transition": {
               "duration": 0,
               "easing": "linear"
              }
             }
            ],
            "label": "2020-06-20 00:00:00",
            "method": "animate"
           },
           {
            "args": [
             [
              "2020-06-21 00:00:00"
             ],
             {
              "frame": {
               "duration": 0,
               "redraw": true
              },
              "fromcurrent": true,
              "mode": "immediate",
              "transition": {
               "duration": 0,
               "easing": "linear"
              }
             }
            ],
            "label": "2020-06-21 00:00:00",
            "method": "animate"
           },
           {
            "args": [
             [
              "2020-06-22 00:00:00"
             ],
             {
              "frame": {
               "duration": 0,
               "redraw": true
              },
              "fromcurrent": true,
              "mode": "immediate",
              "transition": {
               "duration": 0,
               "easing": "linear"
              }
             }
            ],
            "label": "2020-06-22 00:00:00",
            "method": "animate"
           },
           {
            "args": [
             [
              "2020-06-23 00:00:00"
             ],
             {
              "frame": {
               "duration": 0,
               "redraw": true
              },
              "fromcurrent": true,
              "mode": "immediate",
              "transition": {
               "duration": 0,
               "easing": "linear"
              }
             }
            ],
            "label": "2020-06-23 00:00:00",
            "method": "animate"
           },
           {
            "args": [
             [
              "2020-06-24 00:00:00"
             ],
             {
              "frame": {
               "duration": 0,
               "redraw": true
              },
              "fromcurrent": true,
              "mode": "immediate",
              "transition": {
               "duration": 0,
               "easing": "linear"
              }
             }
            ],
            "label": "2020-06-24 00:00:00",
            "method": "animate"
           },
           {
            "args": [
             [
              "2020-06-25 00:00:00"
             ],
             {
              "frame": {
               "duration": 0,
               "redraw": true
              },
              "fromcurrent": true,
              "mode": "immediate",
              "transition": {
               "duration": 0,
               "easing": "linear"
              }
             }
            ],
            "label": "2020-06-25 00:00:00",
            "method": "animate"
           },
           {
            "args": [
             [
              "2020-06-26 00:00:00"
             ],
             {
              "frame": {
               "duration": 0,
               "redraw": true
              },
              "fromcurrent": true,
              "mode": "immediate",
              "transition": {
               "duration": 0,
               "easing": "linear"
              }
             }
            ],
            "label": "2020-06-26 00:00:00",
            "method": "animate"
           },
           {
            "args": [
             [
              "2020-06-27 00:00:00"
             ],
             {
              "frame": {
               "duration": 0,
               "redraw": true
              },
              "fromcurrent": true,
              "mode": "immediate",
              "transition": {
               "duration": 0,
               "easing": "linear"
              }
             }
            ],
            "label": "2020-06-27 00:00:00",
            "method": "animate"
           },
           {
            "args": [
             [
              "2020-06-28 00:00:00"
             ],
             {
              "frame": {
               "duration": 0,
               "redraw": true
              },
              "fromcurrent": true,
              "mode": "immediate",
              "transition": {
               "duration": 0,
               "easing": "linear"
              }
             }
            ],
            "label": "2020-06-28 00:00:00",
            "method": "animate"
           },
           {
            "args": [
             [
              "2020-06-29 00:00:00"
             ],
             {
              "frame": {
               "duration": 0,
               "redraw": true
              },
              "fromcurrent": true,
              "mode": "immediate",
              "transition": {
               "duration": 0,
               "easing": "linear"
              }
             }
            ],
            "label": "2020-06-29 00:00:00",
            "method": "animate"
           },
           {
            "args": [
             [
              "2020-06-30 00:00:00"
             ],
             {
              "frame": {
               "duration": 0,
               "redraw": true
              },
              "fromcurrent": true,
              "mode": "immediate",
              "transition": {
               "duration": 0,
               "easing": "linear"
              }
             }
            ],
            "label": "2020-06-30 00:00:00",
            "method": "animate"
           },
           {
            "args": [
             [
              "2020-07-01 00:00:00"
             ],
             {
              "frame": {
               "duration": 0,
               "redraw": true
              },
              "fromcurrent": true,
              "mode": "immediate",
              "transition": {
               "duration": 0,
               "easing": "linear"
              }
             }
            ],
            "label": "2020-07-01 00:00:00",
            "method": "animate"
           },
           {
            "args": [
             [
              "2020-07-02 00:00:00"
             ],
             {
              "frame": {
               "duration": 0,
               "redraw": true
              },
              "fromcurrent": true,
              "mode": "immediate",
              "transition": {
               "duration": 0,
               "easing": "linear"
              }
             }
            ],
            "label": "2020-07-02 00:00:00",
            "method": "animate"
           },
           {
            "args": [
             [
              "2020-07-03 00:00:00"
             ],
             {
              "frame": {
               "duration": 0,
               "redraw": true
              },
              "fromcurrent": true,
              "mode": "immediate",
              "transition": {
               "duration": 0,
               "easing": "linear"
              }
             }
            ],
            "label": "2020-07-03 00:00:00",
            "method": "animate"
           },
           {
            "args": [
             [
              "2020-07-04 00:00:00"
             ],
             {
              "frame": {
               "duration": 0,
               "redraw": true
              },
              "fromcurrent": true,
              "mode": "immediate",
              "transition": {
               "duration": 0,
               "easing": "linear"
              }
             }
            ],
            "label": "2020-07-04 00:00:00",
            "method": "animate"
           },
           {
            "args": [
             [
              "2020-07-05 00:00:00"
             ],
             {
              "frame": {
               "duration": 0,
               "redraw": true
              },
              "fromcurrent": true,
              "mode": "immediate",
              "transition": {
               "duration": 0,
               "easing": "linear"
              }
             }
            ],
            "label": "2020-07-05 00:00:00",
            "method": "animate"
           },
           {
            "args": [
             [
              "2020-07-06 00:00:00"
             ],
             {
              "frame": {
               "duration": 0,
               "redraw": true
              },
              "fromcurrent": true,
              "mode": "immediate",
              "transition": {
               "duration": 0,
               "easing": "linear"
              }
             }
            ],
            "label": "2020-07-06 00:00:00",
            "method": "animate"
           },
           {
            "args": [
             [
              "2020-07-07 00:00:00"
             ],
             {
              "frame": {
               "duration": 0,
               "redraw": true
              },
              "fromcurrent": true,
              "mode": "immediate",
              "transition": {
               "duration": 0,
               "easing": "linear"
              }
             }
            ],
            "label": "2020-07-07 00:00:00",
            "method": "animate"
           },
           {
            "args": [
             [
              "2020-07-08 00:00:00"
             ],
             {
              "frame": {
               "duration": 0,
               "redraw": true
              },
              "fromcurrent": true,
              "mode": "immediate",
              "transition": {
               "duration": 0,
               "easing": "linear"
              }
             }
            ],
            "label": "2020-07-08 00:00:00",
            "method": "animate"
           },
           {
            "args": [
             [
              "2020-07-09 00:00:00"
             ],
             {
              "frame": {
               "duration": 0,
               "redraw": true
              },
              "fromcurrent": true,
              "mode": "immediate",
              "transition": {
               "duration": 0,
               "easing": "linear"
              }
             }
            ],
            "label": "2020-07-09 00:00:00",
            "method": "animate"
           },
           {
            "args": [
             [
              "2020-07-10 00:00:00"
             ],
             {
              "frame": {
               "duration": 0,
               "redraw": true
              },
              "fromcurrent": true,
              "mode": "immediate",
              "transition": {
               "duration": 0,
               "easing": "linear"
              }
             }
            ],
            "label": "2020-07-10 00:00:00",
            "method": "animate"
           },
           {
            "args": [
             [
              "2020-07-11 00:00:00"
             ],
             {
              "frame": {
               "duration": 0,
               "redraw": true
              },
              "fromcurrent": true,
              "mode": "immediate",
              "transition": {
               "duration": 0,
               "easing": "linear"
              }
             }
            ],
            "label": "2020-07-11 00:00:00",
            "method": "animate"
           },
           {
            "args": [
             [
              "2020-07-12 00:00:00"
             ],
             {
              "frame": {
               "duration": 0,
               "redraw": true
              },
              "fromcurrent": true,
              "mode": "immediate",
              "transition": {
               "duration": 0,
               "easing": "linear"
              }
             }
            ],
            "label": "2020-07-12 00:00:00",
            "method": "animate"
           },
           {
            "args": [
             [
              "2020-07-13 00:00:00"
             ],
             {
              "frame": {
               "duration": 0,
               "redraw": true
              },
              "fromcurrent": true,
              "mode": "immediate",
              "transition": {
               "duration": 0,
               "easing": "linear"
              }
             }
            ],
            "label": "2020-07-13 00:00:00",
            "method": "animate"
           },
           {
            "args": [
             [
              "2020-07-14 00:00:00"
             ],
             {
              "frame": {
               "duration": 0,
               "redraw": true
              },
              "fromcurrent": true,
              "mode": "immediate",
              "transition": {
               "duration": 0,
               "easing": "linear"
              }
             }
            ],
            "label": "2020-07-14 00:00:00",
            "method": "animate"
           },
           {
            "args": [
             [
              "2020-07-15 00:00:00"
             ],
             {
              "frame": {
               "duration": 0,
               "redraw": true
              },
              "fromcurrent": true,
              "mode": "immediate",
              "transition": {
               "duration": 0,
               "easing": "linear"
              }
             }
            ],
            "label": "2020-07-15 00:00:00",
            "method": "animate"
           },
           {
            "args": [
             [
              "2020-07-16 00:00:00"
             ],
             {
              "frame": {
               "duration": 0,
               "redraw": true
              },
              "fromcurrent": true,
              "mode": "immediate",
              "transition": {
               "duration": 0,
               "easing": "linear"
              }
             }
            ],
            "label": "2020-07-16 00:00:00",
            "method": "animate"
           },
           {
            "args": [
             [
              "2020-07-17 00:00:00"
             ],
             {
              "frame": {
               "duration": 0,
               "redraw": true
              },
              "fromcurrent": true,
              "mode": "immediate",
              "transition": {
               "duration": 0,
               "easing": "linear"
              }
             }
            ],
            "label": "2020-07-17 00:00:00",
            "method": "animate"
           },
           {
            "args": [
             [
              "2020-07-18 00:00:00"
             ],
             {
              "frame": {
               "duration": 0,
               "redraw": true
              },
              "fromcurrent": true,
              "mode": "immediate",
              "transition": {
               "duration": 0,
               "easing": "linear"
              }
             }
            ],
            "label": "2020-07-18 00:00:00",
            "method": "animate"
           },
           {
            "args": [
             [
              "2020-07-19 00:00:00"
             ],
             {
              "frame": {
               "duration": 0,
               "redraw": true
              },
              "fromcurrent": true,
              "mode": "immediate",
              "transition": {
               "duration": 0,
               "easing": "linear"
              }
             }
            ],
            "label": "2020-07-19 00:00:00",
            "method": "animate"
           },
           {
            "args": [
             [
              "2020-07-20 00:00:00"
             ],
             {
              "frame": {
               "duration": 0,
               "redraw": true
              },
              "fromcurrent": true,
              "mode": "immediate",
              "transition": {
               "duration": 0,
               "easing": "linear"
              }
             }
            ],
            "label": "2020-07-20 00:00:00",
            "method": "animate"
           },
           {
            "args": [
             [
              "2020-07-21 00:00:00"
             ],
             {
              "frame": {
               "duration": 0,
               "redraw": true
              },
              "fromcurrent": true,
              "mode": "immediate",
              "transition": {
               "duration": 0,
               "easing": "linear"
              }
             }
            ],
            "label": "2020-07-21 00:00:00",
            "method": "animate"
           },
           {
            "args": [
             [
              "2020-07-22 00:00:00"
             ],
             {
              "frame": {
               "duration": 0,
               "redraw": true
              },
              "fromcurrent": true,
              "mode": "immediate",
              "transition": {
               "duration": 0,
               "easing": "linear"
              }
             }
            ],
            "label": "2020-07-22 00:00:00",
            "method": "animate"
           },
           {
            "args": [
             [
              "2020-07-23 00:00:00"
             ],
             {
              "frame": {
               "duration": 0,
               "redraw": true
              },
              "fromcurrent": true,
              "mode": "immediate",
              "transition": {
               "duration": 0,
               "easing": "linear"
              }
             }
            ],
            "label": "2020-07-23 00:00:00",
            "method": "animate"
           },
           {
            "args": [
             [
              "2020-07-24 00:00:00"
             ],
             {
              "frame": {
               "duration": 0,
               "redraw": true
              },
              "fromcurrent": true,
              "mode": "immediate",
              "transition": {
               "duration": 0,
               "easing": "linear"
              }
             }
            ],
            "label": "2020-07-24 00:00:00",
            "method": "animate"
           },
           {
            "args": [
             [
              "2020-07-25 00:00:00"
             ],
             {
              "frame": {
               "duration": 0,
               "redraw": true
              },
              "fromcurrent": true,
              "mode": "immediate",
              "transition": {
               "duration": 0,
               "easing": "linear"
              }
             }
            ],
            "label": "2020-07-25 00:00:00",
            "method": "animate"
           },
           {
            "args": [
             [
              "2020-07-26 00:00:00"
             ],
             {
              "frame": {
               "duration": 0,
               "redraw": true
              },
              "fromcurrent": true,
              "mode": "immediate",
              "transition": {
               "duration": 0,
               "easing": "linear"
              }
             }
            ],
            "label": "2020-07-26 00:00:00",
            "method": "animate"
           },
           {
            "args": [
             [
              "2020-07-27 00:00:00"
             ],
             {
              "frame": {
               "duration": 0,
               "redraw": true
              },
              "fromcurrent": true,
              "mode": "immediate",
              "transition": {
               "duration": 0,
               "easing": "linear"
              }
             }
            ],
            "label": "2020-07-27 00:00:00",
            "method": "animate"
           },
           {
            "args": [
             [
              "2020-07-28 00:00:00"
             ],
             {
              "frame": {
               "duration": 0,
               "redraw": true
              },
              "fromcurrent": true,
              "mode": "immediate",
              "transition": {
               "duration": 0,
               "easing": "linear"
              }
             }
            ],
            "label": "2020-07-28 00:00:00",
            "method": "animate"
           },
           {
            "args": [
             [
              "2020-07-29 00:00:00"
             ],
             {
              "frame": {
               "duration": 0,
               "redraw": true
              },
              "fromcurrent": true,
              "mode": "immediate",
              "transition": {
               "duration": 0,
               "easing": "linear"
              }
             }
            ],
            "label": "2020-07-29 00:00:00",
            "method": "animate"
           },
           {
            "args": [
             [
              "2020-07-30 00:00:00"
             ],
             {
              "frame": {
               "duration": 0,
               "redraw": true
              },
              "fromcurrent": true,
              "mode": "immediate",
              "transition": {
               "duration": 0,
               "easing": "linear"
              }
             }
            ],
            "label": "2020-07-30 00:00:00",
            "method": "animate"
           },
           {
            "args": [
             [
              "2020-07-31 00:00:00"
             ],
             {
              "frame": {
               "duration": 0,
               "redraw": true
              },
              "fromcurrent": true,
              "mode": "immediate",
              "transition": {
               "duration": 0,
               "easing": "linear"
              }
             }
            ],
            "label": "2020-07-31 00:00:00",
            "method": "animate"
           },
           {
            "args": [
             [
              "2020-08-01 00:00:00"
             ],
             {
              "frame": {
               "duration": 0,
               "redraw": true
              },
              "fromcurrent": true,
              "mode": "immediate",
              "transition": {
               "duration": 0,
               "easing": "linear"
              }
             }
            ],
            "label": "2020-08-01 00:00:00",
            "method": "animate"
           },
           {
            "args": [
             [
              "2020-08-02 00:00:00"
             ],
             {
              "frame": {
               "duration": 0,
               "redraw": true
              },
              "fromcurrent": true,
              "mode": "immediate",
              "transition": {
               "duration": 0,
               "easing": "linear"
              }
             }
            ],
            "label": "2020-08-02 00:00:00",
            "method": "animate"
           },
           {
            "args": [
             [
              "2020-08-03 00:00:00"
             ],
             {
              "frame": {
               "duration": 0,
               "redraw": true
              },
              "fromcurrent": true,
              "mode": "immediate",
              "transition": {
               "duration": 0,
               "easing": "linear"
              }
             }
            ],
            "label": "2020-08-03 00:00:00",
            "method": "animate"
           },
           {
            "args": [
             [
              "2020-08-04 00:00:00"
             ],
             {
              "frame": {
               "duration": 0,
               "redraw": true
              },
              "fromcurrent": true,
              "mode": "immediate",
              "transition": {
               "duration": 0,
               "easing": "linear"
              }
             }
            ],
            "label": "2020-08-04 00:00:00",
            "method": "animate"
           },
           {
            "args": [
             [
              "2020-08-05 00:00:00"
             ],
             {
              "frame": {
               "duration": 0,
               "redraw": true
              },
              "fromcurrent": true,
              "mode": "immediate",
              "transition": {
               "duration": 0,
               "easing": "linear"
              }
             }
            ],
            "label": "2020-08-05 00:00:00",
            "method": "animate"
           },
           {
            "args": [
             [
              "2020-08-06 00:00:00"
             ],
             {
              "frame": {
               "duration": 0,
               "redraw": true
              },
              "fromcurrent": true,
              "mode": "immediate",
              "transition": {
               "duration": 0,
               "easing": "linear"
              }
             }
            ],
            "label": "2020-08-06 00:00:00",
            "method": "animate"
           },
           {
            "args": [
             [
              "2020-08-07 00:00:00"
             ],
             {
              "frame": {
               "duration": 0,
               "redraw": true
              },
              "fromcurrent": true,
              "mode": "immediate",
              "transition": {
               "duration": 0,
               "easing": "linear"
              }
             }
            ],
            "label": "2020-08-07 00:00:00",
            "method": "animate"
           },
           {
            "args": [
             [
              "2020-08-08 00:00:00"
             ],
             {
              "frame": {
               "duration": 0,
               "redraw": true
              },
              "fromcurrent": true,
              "mode": "immediate",
              "transition": {
               "duration": 0,
               "easing": "linear"
              }
             }
            ],
            "label": "2020-08-08 00:00:00",
            "method": "animate"
           },
           {
            "args": [
             [
              "2020-08-09 00:00:00"
             ],
             {
              "frame": {
               "duration": 0,
               "redraw": true
              },
              "fromcurrent": true,
              "mode": "immediate",
              "transition": {
               "duration": 0,
               "easing": "linear"
              }
             }
            ],
            "label": "2020-08-09 00:00:00",
            "method": "animate"
           },
           {
            "args": [
             [
              "2020-08-10 00:00:00"
             ],
             {
              "frame": {
               "duration": 0,
               "redraw": true
              },
              "fromcurrent": true,
              "mode": "immediate",
              "transition": {
               "duration": 0,
               "easing": "linear"
              }
             }
            ],
            "label": "2020-08-10 00:00:00",
            "method": "animate"
           },
           {
            "args": [
             [
              "2020-08-11 00:00:00"
             ],
             {
              "frame": {
               "duration": 0,
               "redraw": true
              },
              "fromcurrent": true,
              "mode": "immediate",
              "transition": {
               "duration": 0,
               "easing": "linear"
              }
             }
            ],
            "label": "2020-08-11 00:00:00",
            "method": "animate"
           },
           {
            "args": [
             [
              "2020-08-12 00:00:00"
             ],
             {
              "frame": {
               "duration": 0,
               "redraw": true
              },
              "fromcurrent": true,
              "mode": "immediate",
              "transition": {
               "duration": 0,
               "easing": "linear"
              }
             }
            ],
            "label": "2020-08-12 00:00:00",
            "method": "animate"
           },
           {
            "args": [
             [
              "2020-08-13 00:00:00"
             ],
             {
              "frame": {
               "duration": 0,
               "redraw": true
              },
              "fromcurrent": true,
              "mode": "immediate",
              "transition": {
               "duration": 0,
               "easing": "linear"
              }
             }
            ],
            "label": "2020-08-13 00:00:00",
            "method": "animate"
           },
           {
            "args": [
             [
              "2020-08-14 00:00:00"
             ],
             {
              "frame": {
               "duration": 0,
               "redraw": true
              },
              "fromcurrent": true,
              "mode": "immediate",
              "transition": {
               "duration": 0,
               "easing": "linear"
              }
             }
            ],
            "label": "2020-08-14 00:00:00",
            "method": "animate"
           },
           {
            "args": [
             [
              "2020-08-15 00:00:00"
             ],
             {
              "frame": {
               "duration": 0,
               "redraw": true
              },
              "fromcurrent": true,
              "mode": "immediate",
              "transition": {
               "duration": 0,
               "easing": "linear"
              }
             }
            ],
            "label": "2020-08-15 00:00:00",
            "method": "animate"
           },
           {
            "args": [
             [
              "2020-08-16 00:00:00"
             ],
             {
              "frame": {
               "duration": 0,
               "redraw": true
              },
              "fromcurrent": true,
              "mode": "immediate",
              "transition": {
               "duration": 0,
               "easing": "linear"
              }
             }
            ],
            "label": "2020-08-16 00:00:00",
            "method": "animate"
           },
           {
            "args": [
             [
              "2020-08-17 00:00:00"
             ],
             {
              "frame": {
               "duration": 0,
               "redraw": true
              },
              "fromcurrent": true,
              "mode": "immediate",
              "transition": {
               "duration": 0,
               "easing": "linear"
              }
             }
            ],
            "label": "2020-08-17 00:00:00",
            "method": "animate"
           },
           {
            "args": [
             [
              "2020-08-18 00:00:00"
             ],
             {
              "frame": {
               "duration": 0,
               "redraw": true
              },
              "fromcurrent": true,
              "mode": "immediate",
              "transition": {
               "duration": 0,
               "easing": "linear"
              }
             }
            ],
            "label": "2020-08-18 00:00:00",
            "method": "animate"
           },
           {
            "args": [
             [
              "2020-08-19 00:00:00"
             ],
             {
              "frame": {
               "duration": 0,
               "redraw": true
              },
              "fromcurrent": true,
              "mode": "immediate",
              "transition": {
               "duration": 0,
               "easing": "linear"
              }
             }
            ],
            "label": "2020-08-19 00:00:00",
            "method": "animate"
           },
           {
            "args": [
             [
              "2020-08-20 00:00:00"
             ],
             {
              "frame": {
               "duration": 0,
               "redraw": true
              },
              "fromcurrent": true,
              "mode": "immediate",
              "transition": {
               "duration": 0,
               "easing": "linear"
              }
             }
            ],
            "label": "2020-08-20 00:00:00",
            "method": "animate"
           },
           {
            "args": [
             [
              "2020-08-21 00:00:00"
             ],
             {
              "frame": {
               "duration": 0,
               "redraw": true
              },
              "fromcurrent": true,
              "mode": "immediate",
              "transition": {
               "duration": 0,
               "easing": "linear"
              }
             }
            ],
            "label": "2020-08-21 00:00:00",
            "method": "animate"
           },
           {
            "args": [
             [
              "2020-08-22 00:00:00"
             ],
             {
              "frame": {
               "duration": 0,
               "redraw": true
              },
              "fromcurrent": true,
              "mode": "immediate",
              "transition": {
               "duration": 0,
               "easing": "linear"
              }
             }
            ],
            "label": "2020-08-22 00:00:00",
            "method": "animate"
           },
           {
            "args": [
             [
              "2020-08-23 00:00:00"
             ],
             {
              "frame": {
               "duration": 0,
               "redraw": true
              },
              "fromcurrent": true,
              "mode": "immediate",
              "transition": {
               "duration": 0,
               "easing": "linear"
              }
             }
            ],
            "label": "2020-08-23 00:00:00",
            "method": "animate"
           },
           {
            "args": [
             [
              "2020-08-24 00:00:00"
             ],
             {
              "frame": {
               "duration": 0,
               "redraw": true
              },
              "fromcurrent": true,
              "mode": "immediate",
              "transition": {
               "duration": 0,
               "easing": "linear"
              }
             }
            ],
            "label": "2020-08-24 00:00:00",
            "method": "animate"
           },
           {
            "args": [
             [
              "2020-08-25 00:00:00"
             ],
             {
              "frame": {
               "duration": 0,
               "redraw": true
              },
              "fromcurrent": true,
              "mode": "immediate",
              "transition": {
               "duration": 0,
               "easing": "linear"
              }
             }
            ],
            "label": "2020-08-25 00:00:00",
            "method": "animate"
           },
           {
            "args": [
             [
              "2020-08-26 00:00:00"
             ],
             {
              "frame": {
               "duration": 0,
               "redraw": true
              },
              "fromcurrent": true,
              "mode": "immediate",
              "transition": {
               "duration": 0,
               "easing": "linear"
              }
             }
            ],
            "label": "2020-08-26 00:00:00",
            "method": "animate"
           },
           {
            "args": [
             [
              "2020-08-27 00:00:00"
             ],
             {
              "frame": {
               "duration": 0,
               "redraw": true
              },
              "fromcurrent": true,
              "mode": "immediate",
              "transition": {
               "duration": 0,
               "easing": "linear"
              }
             }
            ],
            "label": "2020-08-27 00:00:00",
            "method": "animate"
           },
           {
            "args": [
             [
              "2020-08-28 00:00:00"
             ],
             {
              "frame": {
               "duration": 0,
               "redraw": true
              },
              "fromcurrent": true,
              "mode": "immediate",
              "transition": {
               "duration": 0,
               "easing": "linear"
              }
             }
            ],
            "label": "2020-08-28 00:00:00",
            "method": "animate"
           },
           {
            "args": [
             [
              "2020-08-29 00:00:00"
             ],
             {
              "frame": {
               "duration": 0,
               "redraw": true
              },
              "fromcurrent": true,
              "mode": "immediate",
              "transition": {
               "duration": 0,
               "easing": "linear"
              }
             }
            ],
            "label": "2020-08-29 00:00:00",
            "method": "animate"
           },
           {
            "args": [
             [
              "2020-08-30 00:00:00"
             ],
             {
              "frame": {
               "duration": 0,
               "redraw": true
              },
              "fromcurrent": true,
              "mode": "immediate",
              "transition": {
               "duration": 0,
               "easing": "linear"
              }
             }
            ],
            "label": "2020-08-30 00:00:00",
            "method": "animate"
           },
           {
            "args": [
             [
              "2020-08-31 00:00:00"
             ],
             {
              "frame": {
               "duration": 0,
               "redraw": true
              },
              "fromcurrent": true,
              "mode": "immediate",
              "transition": {
               "duration": 0,
               "easing": "linear"
              }
             }
            ],
            "label": "2020-08-31 00:00:00",
            "method": "animate"
           },
           {
            "args": [
             [
              "2020-09-01 00:00:00"
             ],
             {
              "frame": {
               "duration": 0,
               "redraw": true
              },
              "fromcurrent": true,
              "mode": "immediate",
              "transition": {
               "duration": 0,
               "easing": "linear"
              }
             }
            ],
            "label": "2020-09-01 00:00:00",
            "method": "animate"
           },
           {
            "args": [
             [
              "2020-09-02 00:00:00"
             ],
             {
              "frame": {
               "duration": 0,
               "redraw": true
              },
              "fromcurrent": true,
              "mode": "immediate",
              "transition": {
               "duration": 0,
               "easing": "linear"
              }
             }
            ],
            "label": "2020-09-02 00:00:00",
            "method": "animate"
           },
           {
            "args": [
             [
              "2020-09-03 00:00:00"
             ],
             {
              "frame": {
               "duration": 0,
               "redraw": true
              },
              "fromcurrent": true,
              "mode": "immediate",
              "transition": {
               "duration": 0,
               "easing": "linear"
              }
             }
            ],
            "label": "2020-09-03 00:00:00",
            "method": "animate"
           },
           {
            "args": [
             [
              "2020-09-04 00:00:00"
             ],
             {
              "frame": {
               "duration": 0,
               "redraw": true
              },
              "fromcurrent": true,
              "mode": "immediate",
              "transition": {
               "duration": 0,
               "easing": "linear"
              }
             }
            ],
            "label": "2020-09-04 00:00:00",
            "method": "animate"
           },
           {
            "args": [
             [
              "2020-09-05 00:00:00"
             ],
             {
              "frame": {
               "duration": 0,
               "redraw": true
              },
              "fromcurrent": true,
              "mode": "immediate",
              "transition": {
               "duration": 0,
               "easing": "linear"
              }
             }
            ],
            "label": "2020-09-05 00:00:00",
            "method": "animate"
           },
           {
            "args": [
             [
              "2020-09-06 00:00:00"
             ],
             {
              "frame": {
               "duration": 0,
               "redraw": true
              },
              "fromcurrent": true,
              "mode": "immediate",
              "transition": {
               "duration": 0,
               "easing": "linear"
              }
             }
            ],
            "label": "2020-09-06 00:00:00",
            "method": "animate"
           },
           {
            "args": [
             [
              "2020-09-07 00:00:00"
             ],
             {
              "frame": {
               "duration": 0,
               "redraw": true
              },
              "fromcurrent": true,
              "mode": "immediate",
              "transition": {
               "duration": 0,
               "easing": "linear"
              }
             }
            ],
            "label": "2020-09-07 00:00:00",
            "method": "animate"
           },
           {
            "args": [
             [
              "2020-09-08 00:00:00"
             ],
             {
              "frame": {
               "duration": 0,
               "redraw": true
              },
              "fromcurrent": true,
              "mode": "immediate",
              "transition": {
               "duration": 0,
               "easing": "linear"
              }
             }
            ],
            "label": "2020-09-08 00:00:00",
            "method": "animate"
           },
           {
            "args": [
             [
              "2020-09-09 00:00:00"
             ],
             {
              "frame": {
               "duration": 0,
               "redraw": true
              },
              "fromcurrent": true,
              "mode": "immediate",
              "transition": {
               "duration": 0,
               "easing": "linear"
              }
             }
            ],
            "label": "2020-09-09 00:00:00",
            "method": "animate"
           },
           {
            "args": [
             [
              "2020-09-10 00:00:00"
             ],
             {
              "frame": {
               "duration": 0,
               "redraw": true
              },
              "fromcurrent": true,
              "mode": "immediate",
              "transition": {
               "duration": 0,
               "easing": "linear"
              }
             }
            ],
            "label": "2020-09-10 00:00:00",
            "method": "animate"
           },
           {
            "args": [
             [
              "2020-09-11 00:00:00"
             ],
             {
              "frame": {
               "duration": 0,
               "redraw": true
              },
              "fromcurrent": true,
              "mode": "immediate",
              "transition": {
               "duration": 0,
               "easing": "linear"
              }
             }
            ],
            "label": "2020-09-11 00:00:00",
            "method": "animate"
           },
           {
            "args": [
             [
              "2020-09-12 00:00:00"
             ],
             {
              "frame": {
               "duration": 0,
               "redraw": true
              },
              "fromcurrent": true,
              "mode": "immediate",
              "transition": {
               "duration": 0,
               "easing": "linear"
              }
             }
            ],
            "label": "2020-09-12 00:00:00",
            "method": "animate"
           },
           {
            "args": [
             [
              "2020-09-13 00:00:00"
             ],
             {
              "frame": {
               "duration": 0,
               "redraw": true
              },
              "fromcurrent": true,
              "mode": "immediate",
              "transition": {
               "duration": 0,
               "easing": "linear"
              }
             }
            ],
            "label": "2020-09-13 00:00:00",
            "method": "animate"
           },
           {
            "args": [
             [
              "2020-09-14 00:00:00"
             ],
             {
              "frame": {
               "duration": 0,
               "redraw": true
              },
              "fromcurrent": true,
              "mode": "immediate",
              "transition": {
               "duration": 0,
               "easing": "linear"
              }
             }
            ],
            "label": "2020-09-14 00:00:00",
            "method": "animate"
           },
           {
            "args": [
             [
              "2020-09-15 00:00:00"
             ],
             {
              "frame": {
               "duration": 0,
               "redraw": true
              },
              "fromcurrent": true,
              "mode": "immediate",
              "transition": {
               "duration": 0,
               "easing": "linear"
              }
             }
            ],
            "label": "2020-09-15 00:00:00",
            "method": "animate"
           },
           {
            "args": [
             [
              "2020-09-16 00:00:00"
             ],
             {
              "frame": {
               "duration": 0,
               "redraw": true
              },
              "fromcurrent": true,
              "mode": "immediate",
              "transition": {
               "duration": 0,
               "easing": "linear"
              }
             }
            ],
            "label": "2020-09-16 00:00:00",
            "method": "animate"
           },
           {
            "args": [
             [
              "2020-09-17 00:00:00"
             ],
             {
              "frame": {
               "duration": 0,
               "redraw": true
              },
              "fromcurrent": true,
              "mode": "immediate",
              "transition": {
               "duration": 0,
               "easing": "linear"
              }
             }
            ],
            "label": "2020-09-17 00:00:00",
            "method": "animate"
           },
           {
            "args": [
             [
              "2020-09-18 00:00:00"
             ],
             {
              "frame": {
               "duration": 0,
               "redraw": true
              },
              "fromcurrent": true,
              "mode": "immediate",
              "transition": {
               "duration": 0,
               "easing": "linear"
              }
             }
            ],
            "label": "2020-09-18 00:00:00",
            "method": "animate"
           },
           {
            "args": [
             [
              "2020-09-19 00:00:00"
             ],
             {
              "frame": {
               "duration": 0,
               "redraw": true
              },
              "fromcurrent": true,
              "mode": "immediate",
              "transition": {
               "duration": 0,
               "easing": "linear"
              }
             }
            ],
            "label": "2020-09-19 00:00:00",
            "method": "animate"
           },
           {
            "args": [
             [
              "2020-09-20 00:00:00"
             ],
             {
              "frame": {
               "duration": 0,
               "redraw": true
              },
              "fromcurrent": true,
              "mode": "immediate",
              "transition": {
               "duration": 0,
               "easing": "linear"
              }
             }
            ],
            "label": "2020-09-20 00:00:00",
            "method": "animate"
           },
           {
            "args": [
             [
              "2020-09-21 00:00:00"
             ],
             {
              "frame": {
               "duration": 0,
               "redraw": true
              },
              "fromcurrent": true,
              "mode": "immediate",
              "transition": {
               "duration": 0,
               "easing": "linear"
              }
             }
            ],
            "label": "2020-09-21 00:00:00",
            "method": "animate"
           },
           {
            "args": [
             [
              "2020-09-22 00:00:00"
             ],
             {
              "frame": {
               "duration": 0,
               "redraw": true
              },
              "fromcurrent": true,
              "mode": "immediate",
              "transition": {
               "duration": 0,
               "easing": "linear"
              }
             }
            ],
            "label": "2020-09-22 00:00:00",
            "method": "animate"
           },
           {
            "args": [
             [
              "2020-09-23 00:00:00"
             ],
             {
              "frame": {
               "duration": 0,
               "redraw": true
              },
              "fromcurrent": true,
              "mode": "immediate",
              "transition": {
               "duration": 0,
               "easing": "linear"
              }
             }
            ],
            "label": "2020-09-23 00:00:00",
            "method": "animate"
           },
           {
            "args": [
             [
              "2020-09-24 00:00:00"
             ],
             {
              "frame": {
               "duration": 0,
               "redraw": true
              },
              "fromcurrent": true,
              "mode": "immediate",
              "transition": {
               "duration": 0,
               "easing": "linear"
              }
             }
            ],
            "label": "2020-09-24 00:00:00",
            "method": "animate"
           },
           {
            "args": [
             [
              "2020-09-25 00:00:00"
             ],
             {
              "frame": {
               "duration": 0,
               "redraw": true
              },
              "fromcurrent": true,
              "mode": "immediate",
              "transition": {
               "duration": 0,
               "easing": "linear"
              }
             }
            ],
            "label": "2020-09-25 00:00:00",
            "method": "animate"
           },
           {
            "args": [
             [
              "2020-09-26 00:00:00"
             ],
             {
              "frame": {
               "duration": 0,
               "redraw": true
              },
              "fromcurrent": true,
              "mode": "immediate",
              "transition": {
               "duration": 0,
               "easing": "linear"
              }
             }
            ],
            "label": "2020-09-26 00:00:00",
            "method": "animate"
           },
           {
            "args": [
             [
              "2020-09-27 00:00:00"
             ],
             {
              "frame": {
               "duration": 0,
               "redraw": true
              },
              "fromcurrent": true,
              "mode": "immediate",
              "transition": {
               "duration": 0,
               "easing": "linear"
              }
             }
            ],
            "label": "2020-09-27 00:00:00",
            "method": "animate"
           },
           {
            "args": [
             [
              "2020-09-28 00:00:00"
             ],
             {
              "frame": {
               "duration": 0,
               "redraw": true
              },
              "fromcurrent": true,
              "mode": "immediate",
              "transition": {
               "duration": 0,
               "easing": "linear"
              }
             }
            ],
            "label": "2020-09-28 00:00:00",
            "method": "animate"
           },
           {
            "args": [
             [
              "2020-09-29 00:00:00"
             ],
             {
              "frame": {
               "duration": 0,
               "redraw": true
              },
              "fromcurrent": true,
              "mode": "immediate",
              "transition": {
               "duration": 0,
               "easing": "linear"
              }
             }
            ],
            "label": "2020-09-29 00:00:00",
            "method": "animate"
           },
           {
            "args": [
             [
              "2020-09-30 00:00:00"
             ],
             {
              "frame": {
               "duration": 0,
               "redraw": true
              },
              "fromcurrent": true,
              "mode": "immediate",
              "transition": {
               "duration": 0,
               "easing": "linear"
              }
             }
            ],
            "label": "2020-09-30 00:00:00",
            "method": "animate"
           },
           {
            "args": [
             [
              "2020-10-01 00:00:00"
             ],
             {
              "frame": {
               "duration": 0,
               "redraw": true
              },
              "fromcurrent": true,
              "mode": "immediate",
              "transition": {
               "duration": 0,
               "easing": "linear"
              }
             }
            ],
            "label": "2020-10-01 00:00:00",
            "method": "animate"
           },
           {
            "args": [
             [
              "2020-10-02 00:00:00"
             ],
             {
              "frame": {
               "duration": 0,
               "redraw": true
              },
              "fromcurrent": true,
              "mode": "immediate",
              "transition": {
               "duration": 0,
               "easing": "linear"
              }
             }
            ],
            "label": "2020-10-02 00:00:00",
            "method": "animate"
           },
           {
            "args": [
             [
              "2020-10-03 00:00:00"
             ],
             {
              "frame": {
               "duration": 0,
               "redraw": true
              },
              "fromcurrent": true,
              "mode": "immediate",
              "transition": {
               "duration": 0,
               "easing": "linear"
              }
             }
            ],
            "label": "2020-10-03 00:00:00",
            "method": "animate"
           },
           {
            "args": [
             [
              "2020-10-04 00:00:00"
             ],
             {
              "frame": {
               "duration": 0,
               "redraw": true
              },
              "fromcurrent": true,
              "mode": "immediate",
              "transition": {
               "duration": 0,
               "easing": "linear"
              }
             }
            ],
            "label": "2020-10-04 00:00:00",
            "method": "animate"
           },
           {
            "args": [
             [
              "2020-10-05 00:00:00"
             ],
             {
              "frame": {
               "duration": 0,
               "redraw": true
              },
              "fromcurrent": true,
              "mode": "immediate",
              "transition": {
               "duration": 0,
               "easing": "linear"
              }
             }
            ],
            "label": "2020-10-05 00:00:00",
            "method": "animate"
           },
           {
            "args": [
             [
              "2020-10-06 00:00:00"
             ],
             {
              "frame": {
               "duration": 0,
               "redraw": true
              },
              "fromcurrent": true,
              "mode": "immediate",
              "transition": {
               "duration": 0,
               "easing": "linear"
              }
             }
            ],
            "label": "2020-10-06 00:00:00",
            "method": "animate"
           },
           {
            "args": [
             [
              "2020-10-07 00:00:00"
             ],
             {
              "frame": {
               "duration": 0,
               "redraw": true
              },
              "fromcurrent": true,
              "mode": "immediate",
              "transition": {
               "duration": 0,
               "easing": "linear"
              }
             }
            ],
            "label": "2020-10-07 00:00:00",
            "method": "animate"
           },
           {
            "args": [
             [
              "2020-10-08 00:00:00"
             ],
             {
              "frame": {
               "duration": 0,
               "redraw": true
              },
              "fromcurrent": true,
              "mode": "immediate",
              "transition": {
               "duration": 0,
               "easing": "linear"
              }
             }
            ],
            "label": "2020-10-08 00:00:00",
            "method": "animate"
           },
           {
            "args": [
             [
              "2020-10-09 00:00:00"
             ],
             {
              "frame": {
               "duration": 0,
               "redraw": true
              },
              "fromcurrent": true,
              "mode": "immediate",
              "transition": {
               "duration": 0,
               "easing": "linear"
              }
             }
            ],
            "label": "2020-10-09 00:00:00",
            "method": "animate"
           },
           {
            "args": [
             [
              "2020-10-10 00:00:00"
             ],
             {
              "frame": {
               "duration": 0,
               "redraw": true
              },
              "fromcurrent": true,
              "mode": "immediate",
              "transition": {
               "duration": 0,
               "easing": "linear"
              }
             }
            ],
            "label": "2020-10-10 00:00:00",
            "method": "animate"
           },
           {
            "args": [
             [
              "2020-10-11 00:00:00"
             ],
             {
              "frame": {
               "duration": 0,
               "redraw": true
              },
              "fromcurrent": true,
              "mode": "immediate",
              "transition": {
               "duration": 0,
               "easing": "linear"
              }
             }
            ],
            "label": "2020-10-11 00:00:00",
            "method": "animate"
           },
           {
            "args": [
             [
              "2020-10-12 00:00:00"
             ],
             {
              "frame": {
               "duration": 0,
               "redraw": true
              },
              "fromcurrent": true,
              "mode": "immediate",
              "transition": {
               "duration": 0,
               "easing": "linear"
              }
             }
            ],
            "label": "2020-10-12 00:00:00",
            "method": "animate"
           },
           {
            "args": [
             [
              "2020-10-13 00:00:00"
             ],
             {
              "frame": {
               "duration": 0,
               "redraw": true
              },
              "fromcurrent": true,
              "mode": "immediate",
              "transition": {
               "duration": 0,
               "easing": "linear"
              }
             }
            ],
            "label": "2020-10-13 00:00:00",
            "method": "animate"
           },
           {
            "args": [
             [
              "2020-10-14 00:00:00"
             ],
             {
              "frame": {
               "duration": 0,
               "redraw": true
              },
              "fromcurrent": true,
              "mode": "immediate",
              "transition": {
               "duration": 0,
               "easing": "linear"
              }
             }
            ],
            "label": "2020-10-14 00:00:00",
            "method": "animate"
           },
           {
            "args": [
             [
              "2020-10-15 00:00:00"
             ],
             {
              "frame": {
               "duration": 0,
               "redraw": true
              },
              "fromcurrent": true,
              "mode": "immediate",
              "transition": {
               "duration": 0,
               "easing": "linear"
              }
             }
            ],
            "label": "2020-10-15 00:00:00",
            "method": "animate"
           },
           {
            "args": [
             [
              "2020-10-16 00:00:00"
             ],
             {
              "frame": {
               "duration": 0,
               "redraw": true
              },
              "fromcurrent": true,
              "mode": "immediate",
              "transition": {
               "duration": 0,
               "easing": "linear"
              }
             }
            ],
            "label": "2020-10-16 00:00:00",
            "method": "animate"
           },
           {
            "args": [
             [
              "2020-10-17 00:00:00"
             ],
             {
              "frame": {
               "duration": 0,
               "redraw": true
              },
              "fromcurrent": true,
              "mode": "immediate",
              "transition": {
               "duration": 0,
               "easing": "linear"
              }
             }
            ],
            "label": "2020-10-17 00:00:00",
            "method": "animate"
           },
           {
            "args": [
             [
              "2020-10-18 00:00:00"
             ],
             {
              "frame": {
               "duration": 0,
               "redraw": true
              },
              "fromcurrent": true,
              "mode": "immediate",
              "transition": {
               "duration": 0,
               "easing": "linear"
              }
             }
            ],
            "label": "2020-10-18 00:00:00",
            "method": "animate"
           },
           {
            "args": [
             [
              "2020-10-19 00:00:00"
             ],
             {
              "frame": {
               "duration": 0,
               "redraw": true
              },
              "fromcurrent": true,
              "mode": "immediate",
              "transition": {
               "duration": 0,
               "easing": "linear"
              }
             }
            ],
            "label": "2020-10-19 00:00:00",
            "method": "animate"
           },
           {
            "args": [
             [
              "2020-10-20 00:00:00"
             ],
             {
              "frame": {
               "duration": 0,
               "redraw": true
              },
              "fromcurrent": true,
              "mode": "immediate",
              "transition": {
               "duration": 0,
               "easing": "linear"
              }
             }
            ],
            "label": "2020-10-20 00:00:00",
            "method": "animate"
           },
           {
            "args": [
             [
              "2020-10-21 00:00:00"
             ],
             {
              "frame": {
               "duration": 0,
               "redraw": true
              },
              "fromcurrent": true,
              "mode": "immediate",
              "transition": {
               "duration": 0,
               "easing": "linear"
              }
             }
            ],
            "label": "2020-10-21 00:00:00",
            "method": "animate"
           },
           {
            "args": [
             [
              "2020-10-22 00:00:00"
             ],
             {
              "frame": {
               "duration": 0,
               "redraw": true
              },
              "fromcurrent": true,
              "mode": "immediate",
              "transition": {
               "duration": 0,
               "easing": "linear"
              }
             }
            ],
            "label": "2020-10-22 00:00:00",
            "method": "animate"
           },
           {
            "args": [
             [
              "2020-10-23 00:00:00"
             ],
             {
              "frame": {
               "duration": 0,
               "redraw": true
              },
              "fromcurrent": true,
              "mode": "immediate",
              "transition": {
               "duration": 0,
               "easing": "linear"
              }
             }
            ],
            "label": "2020-10-23 00:00:00",
            "method": "animate"
           },
           {
            "args": [
             [
              "2020-10-24 00:00:00"
             ],
             {
              "frame": {
               "duration": 0,
               "redraw": true
              },
              "fromcurrent": true,
              "mode": "immediate",
              "transition": {
               "duration": 0,
               "easing": "linear"
              }
             }
            ],
            "label": "2020-10-24 00:00:00",
            "method": "animate"
           },
           {
            "args": [
             [
              "2020-10-25 00:00:00"
             ],
             {
              "frame": {
               "duration": 0,
               "redraw": true
              },
              "fromcurrent": true,
              "mode": "immediate",
              "transition": {
               "duration": 0,
               "easing": "linear"
              }
             }
            ],
            "label": "2020-10-25 00:00:00",
            "method": "animate"
           },
           {
            "args": [
             [
              "2020-10-26 00:00:00"
             ],
             {
              "frame": {
               "duration": 0,
               "redraw": true
              },
              "fromcurrent": true,
              "mode": "immediate",
              "transition": {
               "duration": 0,
               "easing": "linear"
              }
             }
            ],
            "label": "2020-10-26 00:00:00",
            "method": "animate"
           },
           {
            "args": [
             [
              "2020-10-27 00:00:00"
             ],
             {
              "frame": {
               "duration": 0,
               "redraw": true
              },
              "fromcurrent": true,
              "mode": "immediate",
              "transition": {
               "duration": 0,
               "easing": "linear"
              }
             }
            ],
            "label": "2020-10-27 00:00:00",
            "method": "animate"
           },
           {
            "args": [
             [
              "2020-10-28 00:00:00"
             ],
             {
              "frame": {
               "duration": 0,
               "redraw": true
              },
              "fromcurrent": true,
              "mode": "immediate",
              "transition": {
               "duration": 0,
               "easing": "linear"
              }
             }
            ],
            "label": "2020-10-28 00:00:00",
            "method": "animate"
           },
           {
            "args": [
             [
              "2020-10-29 00:00:00"
             ],
             {
              "frame": {
               "duration": 0,
               "redraw": true
              },
              "fromcurrent": true,
              "mode": "immediate",
              "transition": {
               "duration": 0,
               "easing": "linear"
              }
             }
            ],
            "label": "2020-10-29 00:00:00",
            "method": "animate"
           },
           {
            "args": [
             [
              "2020-10-30 00:00:00"
             ],
             {
              "frame": {
               "duration": 0,
               "redraw": true
              },
              "fromcurrent": true,
              "mode": "immediate",
              "transition": {
               "duration": 0,
               "easing": "linear"
              }
             }
            ],
            "label": "2020-10-30 00:00:00",
            "method": "animate"
           },
           {
            "args": [
             [
              "2020-10-31 00:00:00"
             ],
             {
              "frame": {
               "duration": 0,
               "redraw": true
              },
              "fromcurrent": true,
              "mode": "immediate",
              "transition": {
               "duration": 0,
               "easing": "linear"
              }
             }
            ],
            "label": "2020-10-31 00:00:00",
            "method": "animate"
           },
           {
            "args": [
             [
              "2020-11-01 00:00:00"
             ],
             {
              "frame": {
               "duration": 0,
               "redraw": true
              },
              "fromcurrent": true,
              "mode": "immediate",
              "transition": {
               "duration": 0,
               "easing": "linear"
              }
             }
            ],
            "label": "2020-11-01 00:00:00",
            "method": "animate"
           },
           {
            "args": [
             [
              "2020-11-02 00:00:00"
             ],
             {
              "frame": {
               "duration": 0,
               "redraw": true
              },
              "fromcurrent": true,
              "mode": "immediate",
              "transition": {
               "duration": 0,
               "easing": "linear"
              }
             }
            ],
            "label": "2020-11-02 00:00:00",
            "method": "animate"
           },
           {
            "args": [
             [
              "2020-11-03 00:00:00"
             ],
             {
              "frame": {
               "duration": 0,
               "redraw": true
              },
              "fromcurrent": true,
              "mode": "immediate",
              "transition": {
               "duration": 0,
               "easing": "linear"
              }
             }
            ],
            "label": "2020-11-03 00:00:00",
            "method": "animate"
           },
           {
            "args": [
             [
              "2020-11-04 00:00:00"
             ],
             {
              "frame": {
               "duration": 0,
               "redraw": true
              },
              "fromcurrent": true,
              "mode": "immediate",
              "transition": {
               "duration": 0,
               "easing": "linear"
              }
             }
            ],
            "label": "2020-11-04 00:00:00",
            "method": "animate"
           },
           {
            "args": [
             [
              "2020-11-05 00:00:00"
             ],
             {
              "frame": {
               "duration": 0,
               "redraw": true
              },
              "fromcurrent": true,
              "mode": "immediate",
              "transition": {
               "duration": 0,
               "easing": "linear"
              }
             }
            ],
            "label": "2020-11-05 00:00:00",
            "method": "animate"
           },
           {
            "args": [
             [
              "2020-11-06 00:00:00"
             ],
             {
              "frame": {
               "duration": 0,
               "redraw": true
              },
              "fromcurrent": true,
              "mode": "immediate",
              "transition": {
               "duration": 0,
               "easing": "linear"
              }
             }
            ],
            "label": "2020-11-06 00:00:00",
            "method": "animate"
           },
           {
            "args": [
             [
              "2020-11-07 00:00:00"
             ],
             {
              "frame": {
               "duration": 0,
               "redraw": true
              },
              "fromcurrent": true,
              "mode": "immediate",
              "transition": {
               "duration": 0,
               "easing": "linear"
              }
             }
            ],
            "label": "2020-11-07 00:00:00",
            "method": "animate"
           },
           {
            "args": [
             [
              "2020-11-08 00:00:00"
             ],
             {
              "frame": {
               "duration": 0,
               "redraw": true
              },
              "fromcurrent": true,
              "mode": "immediate",
              "transition": {
               "duration": 0,
               "easing": "linear"
              }
             }
            ],
            "label": "2020-11-08 00:00:00",
            "method": "animate"
           },
           {
            "args": [
             [
              "2020-11-09 00:00:00"
             ],
             {
              "frame": {
               "duration": 0,
               "redraw": true
              },
              "fromcurrent": true,
              "mode": "immediate",
              "transition": {
               "duration": 0,
               "easing": "linear"
              }
             }
            ],
            "label": "2020-11-09 00:00:00",
            "method": "animate"
           },
           {
            "args": [
             [
              "2020-11-10 00:00:00"
             ],
             {
              "frame": {
               "duration": 0,
               "redraw": true
              },
              "fromcurrent": true,
              "mode": "immediate",
              "transition": {
               "duration": 0,
               "easing": "linear"
              }
             }
            ],
            "label": "2020-11-10 00:00:00",
            "method": "animate"
           },
           {
            "args": [
             [
              "2020-11-11 00:00:00"
             ],
             {
              "frame": {
               "duration": 0,
               "redraw": true
              },
              "fromcurrent": true,
              "mode": "immediate",
              "transition": {
               "duration": 0,
               "easing": "linear"
              }
             }
            ],
            "label": "2020-11-11 00:00:00",
            "method": "animate"
           },
           {
            "args": [
             [
              "2020-11-12 00:00:00"
             ],
             {
              "frame": {
               "duration": 0,
               "redraw": true
              },
              "fromcurrent": true,
              "mode": "immediate",
              "transition": {
               "duration": 0,
               "easing": "linear"
              }
             }
            ],
            "label": "2020-11-12 00:00:00",
            "method": "animate"
           },
           {
            "args": [
             [
              "2020-11-13 00:00:00"
             ],
             {
              "frame": {
               "duration": 0,
               "redraw": true
              },
              "fromcurrent": true,
              "mode": "immediate",
              "transition": {
               "duration": 0,
               "easing": "linear"
              }
             }
            ],
            "label": "2020-11-13 00:00:00",
            "method": "animate"
           },
           {
            "args": [
             [
              "2020-11-14 00:00:00"
             ],
             {
              "frame": {
               "duration": 0,
               "redraw": true
              },
              "fromcurrent": true,
              "mode": "immediate",
              "transition": {
               "duration": 0,
               "easing": "linear"
              }
             }
            ],
            "label": "2020-11-14 00:00:00",
            "method": "animate"
           },
           {
            "args": [
             [
              "2020-11-15 00:00:00"
             ],
             {
              "frame": {
               "duration": 0,
               "redraw": true
              },
              "fromcurrent": true,
              "mode": "immediate",
              "transition": {
               "duration": 0,
               "easing": "linear"
              }
             }
            ],
            "label": "2020-11-15 00:00:00",
            "method": "animate"
           },
           {
            "args": [
             [
              "2020-11-16 00:00:00"
             ],
             {
              "frame": {
               "duration": 0,
               "redraw": true
              },
              "fromcurrent": true,
              "mode": "immediate",
              "transition": {
               "duration": 0,
               "easing": "linear"
              }
             }
            ],
            "label": "2020-11-16 00:00:00",
            "method": "animate"
           },
           {
            "args": [
             [
              "2020-11-17 00:00:00"
             ],
             {
              "frame": {
               "duration": 0,
               "redraw": true
              },
              "fromcurrent": true,
              "mode": "immediate",
              "transition": {
               "duration": 0,
               "easing": "linear"
              }
             }
            ],
            "label": "2020-11-17 00:00:00",
            "method": "animate"
           },
           {
            "args": [
             [
              "2020-11-18 00:00:00"
             ],
             {
              "frame": {
               "duration": 0,
               "redraw": true
              },
              "fromcurrent": true,
              "mode": "immediate",
              "transition": {
               "duration": 0,
               "easing": "linear"
              }
             }
            ],
            "label": "2020-11-18 00:00:00",
            "method": "animate"
           },
           {
            "args": [
             [
              "2020-11-19 00:00:00"
             ],
             {
              "frame": {
               "duration": 0,
               "redraw": true
              },
              "fromcurrent": true,
              "mode": "immediate",
              "transition": {
               "duration": 0,
               "easing": "linear"
              }
             }
            ],
            "label": "2020-11-19 00:00:00",
            "method": "animate"
           },
           {
            "args": [
             [
              "2020-11-20 00:00:00"
             ],
             {
              "frame": {
               "duration": 0,
               "redraw": true
              },
              "fromcurrent": true,
              "mode": "immediate",
              "transition": {
               "duration": 0,
               "easing": "linear"
              }
             }
            ],
            "label": "2020-11-20 00:00:00",
            "method": "animate"
           },
           {
            "args": [
             [
              "2020-11-21 00:00:00"
             ],
             {
              "frame": {
               "duration": 0,
               "redraw": true
              },
              "fromcurrent": true,
              "mode": "immediate",
              "transition": {
               "duration": 0,
               "easing": "linear"
              }
             }
            ],
            "label": "2020-11-21 00:00:00",
            "method": "animate"
           },
           {
            "args": [
             [
              "2020-11-22 00:00:00"
             ],
             {
              "frame": {
               "duration": 0,
               "redraw": true
              },
              "fromcurrent": true,
              "mode": "immediate",
              "transition": {
               "duration": 0,
               "easing": "linear"
              }
             }
            ],
            "label": "2020-11-22 00:00:00",
            "method": "animate"
           },
           {
            "args": [
             [
              "2020-11-23 00:00:00"
             ],
             {
              "frame": {
               "duration": 0,
               "redraw": true
              },
              "fromcurrent": true,
              "mode": "immediate",
              "transition": {
               "duration": 0,
               "easing": "linear"
              }
             }
            ],
            "label": "2020-11-23 00:00:00",
            "method": "animate"
           },
           {
            "args": [
             [
              "2020-11-24 00:00:00"
             ],
             {
              "frame": {
               "duration": 0,
               "redraw": true
              },
              "fromcurrent": true,
              "mode": "immediate",
              "transition": {
               "duration": 0,
               "easing": "linear"
              }
             }
            ],
            "label": "2020-11-24 00:00:00",
            "method": "animate"
           },
           {
            "args": [
             [
              "2020-11-25 00:00:00"
             ],
             {
              "frame": {
               "duration": 0,
               "redraw": true
              },
              "fromcurrent": true,
              "mode": "immediate",
              "transition": {
               "duration": 0,
               "easing": "linear"
              }
             }
            ],
            "label": "2020-11-25 00:00:00",
            "method": "animate"
           },
           {
            "args": [
             [
              "2020-11-26 00:00:00"
             ],
             {
              "frame": {
               "duration": 0,
               "redraw": true
              },
              "fromcurrent": true,
              "mode": "immediate",
              "transition": {
               "duration": 0,
               "easing": "linear"
              }
             }
            ],
            "label": "2020-11-26 00:00:00",
            "method": "animate"
           },
           {
            "args": [
             [
              "2020-11-27 00:00:00"
             ],
             {
              "frame": {
               "duration": 0,
               "redraw": true
              },
              "fromcurrent": true,
              "mode": "immediate",
              "transition": {
               "duration": 0,
               "easing": "linear"
              }
             }
            ],
            "label": "2020-11-27 00:00:00",
            "method": "animate"
           },
           {
            "args": [
             [
              "2020-11-28 00:00:00"
             ],
             {
              "frame": {
               "duration": 0,
               "redraw": true
              },
              "fromcurrent": true,
              "mode": "immediate",
              "transition": {
               "duration": 0,
               "easing": "linear"
              }
             }
            ],
            "label": "2020-11-28 00:00:00",
            "method": "animate"
           },
           {
            "args": [
             [
              "2020-11-29 00:00:00"
             ],
             {
              "frame": {
               "duration": 0,
               "redraw": true
              },
              "fromcurrent": true,
              "mode": "immediate",
              "transition": {
               "duration": 0,
               "easing": "linear"
              }
             }
            ],
            "label": "2020-11-29 00:00:00",
            "method": "animate"
           },
           {
            "args": [
             [
              "2020-11-30 00:00:00"
             ],
             {
              "frame": {
               "duration": 0,
               "redraw": true
              },
              "fromcurrent": true,
              "mode": "immediate",
              "transition": {
               "duration": 0,
               "easing": "linear"
              }
             }
            ],
            "label": "2020-11-30 00:00:00",
            "method": "animate"
           },
           {
            "args": [
             [
              "2020-12-01 00:00:00"
             ],
             {
              "frame": {
               "duration": 0,
               "redraw": true
              },
              "fromcurrent": true,
              "mode": "immediate",
              "transition": {
               "duration": 0,
               "easing": "linear"
              }
             }
            ],
            "label": "2020-12-01 00:00:00",
            "method": "animate"
           },
           {
            "args": [
             [
              "2020-12-02 00:00:00"
             ],
             {
              "frame": {
               "duration": 0,
               "redraw": true
              },
              "fromcurrent": true,
              "mode": "immediate",
              "transition": {
               "duration": 0,
               "easing": "linear"
              }
             }
            ],
            "label": "2020-12-02 00:00:00",
            "method": "animate"
           }
          ],
          "x": 0.1,
          "xanchor": "left",
          "y": 0,
          "yanchor": "top"
         }
        ],
        "template": {
         "data": {
          "bar": [
           {
            "error_x": {
             "color": "#2a3f5f"
            },
            "error_y": {
             "color": "#2a3f5f"
            },
            "marker": {
             "line": {
              "color": "#E5ECF6",
              "width": 0.5
             },
             "pattern": {
              "fillmode": "overlay",
              "size": 10,
              "solidity": 0.2
             }
            },
            "type": "bar"
           }
          ],
          "barpolar": [
           {
            "marker": {
             "line": {
              "color": "#E5ECF6",
              "width": 0.5
             },
             "pattern": {
              "fillmode": "overlay",
              "size": 10,
              "solidity": 0.2
             }
            },
            "type": "barpolar"
           }
          ],
          "carpet": [
           {
            "aaxis": {
             "endlinecolor": "#2a3f5f",
             "gridcolor": "white",
             "linecolor": "white",
             "minorgridcolor": "white",
             "startlinecolor": "#2a3f5f"
            },
            "baxis": {
             "endlinecolor": "#2a3f5f",
             "gridcolor": "white",
             "linecolor": "white",
             "minorgridcolor": "white",
             "startlinecolor": "#2a3f5f"
            },
            "type": "carpet"
           }
          ],
          "choropleth": [
           {
            "colorbar": {
             "outlinewidth": 0,
             "ticks": ""
            },
            "type": "choropleth"
           }
          ],
          "contour": [
           {
            "colorbar": {
             "outlinewidth": 0,
             "ticks": ""
            },
            "colorscale": [
             [
              0,
              "#0d0887"
             ],
             [
              0.1111111111111111,
              "#46039f"
             ],
             [
              0.2222222222222222,
              "#7201a8"
             ],
             [
              0.3333333333333333,
              "#9c179e"
             ],
             [
              0.4444444444444444,
              "#bd3786"
             ],
             [
              0.5555555555555556,
              "#d8576b"
             ],
             [
              0.6666666666666666,
              "#ed7953"
             ],
             [
              0.7777777777777778,
              "#fb9f3a"
             ],
             [
              0.8888888888888888,
              "#fdca26"
             ],
             [
              1,
              "#f0f921"
             ]
            ],
            "type": "contour"
           }
          ],
          "contourcarpet": [
           {
            "colorbar": {
             "outlinewidth": 0,
             "ticks": ""
            },
            "type": "contourcarpet"
           }
          ],
          "heatmap": [
           {
            "colorbar": {
             "outlinewidth": 0,
             "ticks": ""
            },
            "colorscale": [
             [
              0,
              "#0d0887"
             ],
             [
              0.1111111111111111,
              "#46039f"
             ],
             [
              0.2222222222222222,
              "#7201a8"
             ],
             [
              0.3333333333333333,
              "#9c179e"
             ],
             [
              0.4444444444444444,
              "#bd3786"
             ],
             [
              0.5555555555555556,
              "#d8576b"
             ],
             [
              0.6666666666666666,
              "#ed7953"
             ],
             [
              0.7777777777777778,
              "#fb9f3a"
             ],
             [
              0.8888888888888888,
              "#fdca26"
             ],
             [
              1,
              "#f0f921"
             ]
            ],
            "type": "heatmap"
           }
          ],
          "heatmapgl": [
           {
            "colorbar": {
             "outlinewidth": 0,
             "ticks": ""
            },
            "colorscale": [
             [
              0,
              "#0d0887"
             ],
             [
              0.1111111111111111,
              "#46039f"
             ],
             [
              0.2222222222222222,
              "#7201a8"
             ],
             [
              0.3333333333333333,
              "#9c179e"
             ],
             [
              0.4444444444444444,
              "#bd3786"
             ],
             [
              0.5555555555555556,
              "#d8576b"
             ],
             [
              0.6666666666666666,
              "#ed7953"
             ],
             [
              0.7777777777777778,
              "#fb9f3a"
             ],
             [
              0.8888888888888888,
              "#fdca26"
             ],
             [
              1,
              "#f0f921"
             ]
            ],
            "type": "heatmapgl"
           }
          ],
          "histogram": [
           {
            "marker": {
             "pattern": {
              "fillmode": "overlay",
              "size": 10,
              "solidity": 0.2
             }
            },
            "type": "histogram"
           }
          ],
          "histogram2d": [
           {
            "colorbar": {
             "outlinewidth": 0,
             "ticks": ""
            },
            "colorscale": [
             [
              0,
              "#0d0887"
             ],
             [
              0.1111111111111111,
              "#46039f"
             ],
             [
              0.2222222222222222,
              "#7201a8"
             ],
             [
              0.3333333333333333,
              "#9c179e"
             ],
             [
              0.4444444444444444,
              "#bd3786"
             ],
             [
              0.5555555555555556,
              "#d8576b"
             ],
             [
              0.6666666666666666,
              "#ed7953"
             ],
             [
              0.7777777777777778,
              "#fb9f3a"
             ],
             [
              0.8888888888888888,
              "#fdca26"
             ],
             [
              1,
              "#f0f921"
             ]
            ],
            "type": "histogram2d"
           }
          ],
          "histogram2dcontour": [
           {
            "colorbar": {
             "outlinewidth": 0,
             "ticks": ""
            },
            "colorscale": [
             [
              0,
              "#0d0887"
             ],
             [
              0.1111111111111111,
              "#46039f"
             ],
             [
              0.2222222222222222,
              "#7201a8"
             ],
             [
              0.3333333333333333,
              "#9c179e"
             ],
             [
              0.4444444444444444,
              "#bd3786"
             ],
             [
              0.5555555555555556,
              "#d8576b"
             ],
             [
              0.6666666666666666,
              "#ed7953"
             ],
             [
              0.7777777777777778,
              "#fb9f3a"
             ],
             [
              0.8888888888888888,
              "#fdca26"
             ],
             [
              1,
              "#f0f921"
             ]
            ],
            "type": "histogram2dcontour"
           }
          ],
          "mesh3d": [
           {
            "colorbar": {
             "outlinewidth": 0,
             "ticks": ""
            },
            "type": "mesh3d"
           }
          ],
          "parcoords": [
           {
            "line": {
             "colorbar": {
              "outlinewidth": 0,
              "ticks": ""
             }
            },
            "type": "parcoords"
           }
          ],
          "pie": [
           {
            "automargin": true,
            "type": "pie"
           }
          ],
          "scatter": [
           {
            "fillpattern": {
             "fillmode": "overlay",
             "size": 10,
             "solidity": 0.2
            },
            "type": "scatter"
           }
          ],
          "scatter3d": [
           {
            "line": {
             "colorbar": {
              "outlinewidth": 0,
              "ticks": ""
             }
            },
            "marker": {
             "colorbar": {
              "outlinewidth": 0,
              "ticks": ""
             }
            },
            "type": "scatter3d"
           }
          ],
          "scattercarpet": [
           {
            "marker": {
             "colorbar": {
              "outlinewidth": 0,
              "ticks": ""
             }
            },
            "type": "scattercarpet"
           }
          ],
          "scattergeo": [
           {
            "marker": {
             "colorbar": {
              "outlinewidth": 0,
              "ticks": ""
             }
            },
            "type": "scattergeo"
           }
          ],
          "scattergl": [
           {
            "marker": {
             "colorbar": {
              "outlinewidth": 0,
              "ticks": ""
             }
            },
            "type": "scattergl"
           }
          ],
          "scattermapbox": [
           {
            "marker": {
             "colorbar": {
              "outlinewidth": 0,
              "ticks": ""
             }
            },
            "type": "scattermapbox"
           }
          ],
          "scatterpolar": [
           {
            "marker": {
             "colorbar": {
              "outlinewidth": 0,
              "ticks": ""
             }
            },
            "type": "scatterpolar"
           }
          ],
          "scatterpolargl": [
           {
            "marker": {
             "colorbar": {
              "outlinewidth": 0,
              "ticks": ""
             }
            },
            "type": "scatterpolargl"
           }
          ],
          "scatterternary": [
           {
            "marker": {
             "colorbar": {
              "outlinewidth": 0,
              "ticks": ""
             }
            },
            "type": "scatterternary"
           }
          ],
          "surface": [
           {
            "colorbar": {
             "outlinewidth": 0,
             "ticks": ""
            },
            "colorscale": [
             [
              0,
              "#0d0887"
             ],
             [
              0.1111111111111111,
              "#46039f"
             ],
             [
              0.2222222222222222,
              "#7201a8"
             ],
             [
              0.3333333333333333,
              "#9c179e"
             ],
             [
              0.4444444444444444,
              "#bd3786"
             ],
             [
              0.5555555555555556,
              "#d8576b"
             ],
             [
              0.6666666666666666,
              "#ed7953"
             ],
             [
              0.7777777777777778,
              "#fb9f3a"
             ],
             [
              0.8888888888888888,
              "#fdca26"
             ],
             [
              1,
              "#f0f921"
             ]
            ],
            "type": "surface"
           }
          ],
          "table": [
           {
            "cells": {
             "fill": {
              "color": "#EBF0F8"
             },
             "line": {
              "color": "white"
             }
            },
            "header": {
             "fill": {
              "color": "#C8D4E3"
             },
             "line": {
              "color": "white"
             }
            },
            "type": "table"
           }
          ]
         },
         "layout": {
          "annotationdefaults": {
           "arrowcolor": "#2a3f5f",
           "arrowhead": 0,
           "arrowwidth": 1
          },
          "autotypenumbers": "strict",
          "coloraxis": {
           "colorbar": {
            "outlinewidth": 0,
            "ticks": ""
           }
          },
          "colorscale": {
           "diverging": [
            [
             0,
             "#8e0152"
            ],
            [
             0.1,
             "#c51b7d"
            ],
            [
             0.2,
             "#de77ae"
            ],
            [
             0.3,
             "#f1b6da"
            ],
            [
             0.4,
             "#fde0ef"
            ],
            [
             0.5,
             "#f7f7f7"
            ],
            [
             0.6,
             "#e6f5d0"
            ],
            [
             0.7,
             "#b8e186"
            ],
            [
             0.8,
             "#7fbc41"
            ],
            [
             0.9,
             "#4d9221"
            ],
            [
             1,
             "#276419"
            ]
           ],
           "sequential": [
            [
             0,
             "#0d0887"
            ],
            [
             0.1111111111111111,
             "#46039f"
            ],
            [
             0.2222222222222222,
             "#7201a8"
            ],
            [
             0.3333333333333333,
             "#9c179e"
            ],
            [
             0.4444444444444444,
             "#bd3786"
            ],
            [
             0.5555555555555556,
             "#d8576b"
            ],
            [
             0.6666666666666666,
             "#ed7953"
            ],
            [
             0.7777777777777778,
             "#fb9f3a"
            ],
            [
             0.8888888888888888,
             "#fdca26"
            ],
            [
             1,
             "#f0f921"
            ]
           ],
           "sequentialminus": [
            [
             0,
             "#0d0887"
            ],
            [
             0.1111111111111111,
             "#46039f"
            ],
            [
             0.2222222222222222,
             "#7201a8"
            ],
            [
             0.3333333333333333,
             "#9c179e"
            ],
            [
             0.4444444444444444,
             "#bd3786"
            ],
            [
             0.5555555555555556,
             "#d8576b"
            ],
            [
             0.6666666666666666,
             "#ed7953"
            ],
            [
             0.7777777777777778,
             "#fb9f3a"
            ],
            [
             0.8888888888888888,
             "#fdca26"
            ],
            [
             1,
             "#f0f921"
            ]
           ]
          },
          "colorway": [
           "#636efa",
           "#EF553B",
           "#00cc96",
           "#ab63fa",
           "#FFA15A",
           "#19d3f3",
           "#FF6692",
           "#B6E880",
           "#FF97FF",
           "#FECB52"
          ],
          "font": {
           "color": "#2a3f5f"
          },
          "geo": {
           "bgcolor": "white",
           "lakecolor": "white",
           "landcolor": "#E5ECF6",
           "showlakes": true,
           "showland": true,
           "subunitcolor": "white"
          },
          "hoverlabel": {
           "align": "left"
          },
          "hovermode": "closest",
          "mapbox": {
           "style": "light"
          },
          "paper_bgcolor": "white",
          "plot_bgcolor": "#E5ECF6",
          "polar": {
           "angularaxis": {
            "gridcolor": "white",
            "linecolor": "white",
            "ticks": ""
           },
           "bgcolor": "#E5ECF6",
           "radialaxis": {
            "gridcolor": "white",
            "linecolor": "white",
            "ticks": ""
           }
          },
          "scene": {
           "xaxis": {
            "backgroundcolor": "#E5ECF6",
            "gridcolor": "white",
            "gridwidth": 2,
            "linecolor": "white",
            "showbackground": true,
            "ticks": "",
            "zerolinecolor": "white"
           },
           "yaxis": {
            "backgroundcolor": "#E5ECF6",
            "gridcolor": "white",
            "gridwidth": 2,
            "linecolor": "white",
            "showbackground": true,
            "ticks": "",
            "zerolinecolor": "white"
           },
           "zaxis": {
            "backgroundcolor": "#E5ECF6",
            "gridcolor": "white",
            "gridwidth": 2,
            "linecolor": "white",
            "showbackground": true,
            "ticks": "",
            "zerolinecolor": "white"
           }
          },
          "shapedefaults": {
           "line": {
            "color": "#2a3f5f"
           }
          },
          "ternary": {
           "aaxis": {
            "gridcolor": "white",
            "linecolor": "white",
            "ticks": ""
           },
           "baxis": {
            "gridcolor": "white",
            "linecolor": "white",
            "ticks": ""
           },
           "bgcolor": "#E5ECF6",
           "caxis": {
            "gridcolor": "white",
            "linecolor": "white",
            "ticks": ""
           }
          },
          "title": {
           "x": 0.05
          },
          "xaxis": {
           "automargin": true,
           "gridcolor": "white",
           "linecolor": "white",
           "ticks": "",
           "title": {
            "standoff": 15
           },
           "zerolinecolor": "white",
           "zerolinewidth": 2
          },
          "yaxis": {
           "automargin": true,
           "gridcolor": "white",
           "linecolor": "white",
           "ticks": "",
           "title": {
            "standoff": 15
           },
           "zerolinecolor": "white",
           "zerolinewidth": 2
          }
         }
        },
        "title": {
         "text": "Global Spread of Coronavirus",
         "x": 0.5
        },
        "updatemenus": [
         {
          "buttons": [
           {
            "args": [
             null,
             {
              "frame": {
               "duration": 500,
               "redraw": true
              },
              "fromcurrent": true,
              "mode": "immediate",
              "transition": {
               "duration": 500,
               "easing": "linear"
              }
             }
            ],
            "label": "&#9654;",
            "method": "animate"
           },
           {
            "args": [
             [
              null
             ],
             {
              "frame": {
               "duration": 0,
               "redraw": true
              },
              "fromcurrent": true,
              "mode": "immediate",
              "transition": {
               "duration": 0,
               "easing": "linear"
              }
             }
            ],
            "label": "&#9724;",
            "method": "animate"
           }
          ],
          "direction": "left",
          "pad": {
           "r": 10,
           "t": 70
          },
          "showactive": false,
          "type": "buttons",
          "x": 0.1,
          "xanchor": "right",
          "y": 0,
          "yanchor": "top"
         }
        ]
       }
      },
      "text/html": [
       "<div>                            <div id=\"4c3189bc-65cd-47a7-922a-63baec47ae9f\" class=\"plotly-graph-div\" style=\"height:525px; width:100%;\"></div>            <script type=\"text/javascript\">                require([\"plotly\"], function(Plotly) {                    window.PLOTLYENV=window.PLOTLYENV || {};                                    if (document.getElementById(\"4c3189bc-65cd-47a7-922a-63baec47ae9f\")) {                    Plotly.newPlot(                        \"4c3189bc-65cd-47a7-922a-63baec47ae9f\",                        [{\"coloraxis\":\"coloraxis\",\"geo\":\"geo\",\"hovertemplate\":\"\\u003cb\\u003e%{hovertext}\\u003c\\u002fb\\u003e\\u003cbr\\u003e\\u003cbr\\u003eDate=2020-03-16 00:00:00\\u003cbr\\u003eCountry=%{location}\\u003cbr\\u003ePercentOfBaseline=%{z}\\u003cextra\\u003e\\u003c\\u002fextra\\u003e\",\"hovertext\":[\"Australia\",\"Canada\",\"Chile\",\"United States of America (the)\"],\"locationmode\":\"country names\",\"locations\":[\"Australia\",\"Canada\",\"Chile\",\"United States of America (the)\"],\"name\":\"\",\"z\":[92,831,96,1497],\"type\":\"choropleth\"}],                        {\"template\":{\"data\":{\"histogram2dcontour\":[{\"type\":\"histogram2dcontour\",\"colorbar\":{\"outlinewidth\":0,\"ticks\":\"\"},\"colorscale\":[[0.0,\"#0d0887\"],[0.1111111111111111,\"#46039f\"],[0.2222222222222222,\"#7201a8\"],[0.3333333333333333,\"#9c179e\"],[0.4444444444444444,\"#bd3786\"],[0.5555555555555556,\"#d8576b\"],[0.6666666666666666,\"#ed7953\"],[0.7777777777777778,\"#fb9f3a\"],[0.8888888888888888,\"#fdca26\"],[1.0,\"#f0f921\"]]}],\"choropleth\":[{\"type\":\"choropleth\",\"colorbar\":{\"outlinewidth\":0,\"ticks\":\"\"}}],\"histogram2d\":[{\"type\":\"histogram2d\",\"colorbar\":{\"outlinewidth\":0,\"ticks\":\"\"},\"colorscale\":[[0.0,\"#0d0887\"],[0.1111111111111111,\"#46039f\"],[0.2222222222222222,\"#7201a8\"],[0.3333333333333333,\"#9c179e\"],[0.4444444444444444,\"#bd3786\"],[0.5555555555555556,\"#d8576b\"],[0.6666666666666666,\"#ed7953\"],[0.7777777777777778,\"#fb9f3a\"],[0.8888888888888888,\"#fdca26\"],[1.0,\"#f0f921\"]]}],\"heatmap\":[{\"type\":\"heatmap\",\"colorbar\":{\"outlinewidth\":0,\"ticks\":\"\"},\"colorscale\":[[0.0,\"#0d0887\"],[0.1111111111111111,\"#46039f\"],[0.2222222222222222,\"#7201a8\"],[0.3333333333333333,\"#9c179e\"],[0.4444444444444444,\"#bd3786\"],[0.5555555555555556,\"#d8576b\"],[0.6666666666666666,\"#ed7953\"],[0.7777777777777778,\"#fb9f3a\"],[0.8888888888888888,\"#fdca26\"],[1.0,\"#f0f921\"]]}],\"heatmapgl\":[{\"type\":\"heatmapgl\",\"colorbar\":{\"outlinewidth\":0,\"ticks\":\"\"},\"colorscale\":[[0.0,\"#0d0887\"],[0.1111111111111111,\"#46039f\"],[0.2222222222222222,\"#7201a8\"],[0.3333333333333333,\"#9c179e\"],[0.4444444444444444,\"#bd3786\"],[0.5555555555555556,\"#d8576b\"],[0.6666666666666666,\"#ed7953\"],[0.7777777777777778,\"#fb9f3a\"],[0.8888888888888888,\"#fdca26\"],[1.0,\"#f0f921\"]]}],\"contourcarpet\":[{\"type\":\"contourcarpet\",\"colorbar\":{\"outlinewidth\":0,\"ticks\":\"\"}}],\"contour\":[{\"type\":\"contour\",\"colorbar\":{\"outlinewidth\":0,\"ticks\":\"\"},\"colorscale\":[[0.0,\"#0d0887\"],[0.1111111111111111,\"#46039f\"],[0.2222222222222222,\"#7201a8\"],[0.3333333333333333,\"#9c179e\"],[0.4444444444444444,\"#bd3786\"],[0.5555555555555556,\"#d8576b\"],[0.6666666666666666,\"#ed7953\"],[0.7777777777777778,\"#fb9f3a\"],[0.8888888888888888,\"#fdca26\"],[1.0,\"#f0f921\"]]}],\"surface\":[{\"type\":\"surface\",\"colorbar\":{\"outlinewidth\":0,\"ticks\":\"\"},\"colorscale\":[[0.0,\"#0d0887\"],[0.1111111111111111,\"#46039f\"],[0.2222222222222222,\"#7201a8\"],[0.3333333333333333,\"#9c179e\"],[0.4444444444444444,\"#bd3786\"],[0.5555555555555556,\"#d8576b\"],[0.6666666666666666,\"#ed7953\"],[0.7777777777777778,\"#fb9f3a\"],[0.8888888888888888,\"#fdca26\"],[1.0,\"#f0f921\"]]}],\"mesh3d\":[{\"type\":\"mesh3d\",\"colorbar\":{\"outlinewidth\":0,\"ticks\":\"\"}}],\"scatter\":[{\"fillpattern\":{\"fillmode\":\"overlay\",\"size\":10,\"solidity\":0.2},\"type\":\"scatter\"}],\"parcoords\":[{\"type\":\"parcoords\",\"line\":{\"colorbar\":{\"outlinewidth\":0,\"ticks\":\"\"}}}],\"scatterpolargl\":[{\"type\":\"scatterpolargl\",\"marker\":{\"colorbar\":{\"outlinewidth\":0,\"ticks\":\"\"}}}],\"bar\":[{\"error_x\":{\"color\":\"#2a3f5f\"},\"error_y\":{\"color\":\"#2a3f5f\"},\"marker\":{\"line\":{\"color\":\"#E5ECF6\",\"width\":0.5},\"pattern\":{\"fillmode\":\"overlay\",\"size\":10,\"solidity\":0.2}},\"type\":\"bar\"}],\"scattergeo\":[{\"type\":\"scattergeo\",\"marker\":{\"colorbar\":{\"outlinewidth\":0,\"ticks\":\"\"}}}],\"scatterpolar\":[{\"type\":\"scatterpolar\",\"marker\":{\"colorbar\":{\"outlinewidth\":0,\"ticks\":\"\"}}}],\"histogram\":[{\"marker\":{\"pattern\":{\"fillmode\":\"overlay\",\"size\":10,\"solidity\":0.2}},\"type\":\"histogram\"}],\"scattergl\":[{\"type\":\"scattergl\",\"marker\":{\"colorbar\":{\"outlinewidth\":0,\"ticks\":\"\"}}}],\"scatter3d\":[{\"type\":\"scatter3d\",\"line\":{\"colorbar\":{\"outlinewidth\":0,\"ticks\":\"\"}},\"marker\":{\"colorbar\":{\"outlinewidth\":0,\"ticks\":\"\"}}}],\"scattermapbox\":[{\"type\":\"scattermapbox\",\"marker\":{\"colorbar\":{\"outlinewidth\":0,\"ticks\":\"\"}}}],\"scatterternary\":[{\"type\":\"scatterternary\",\"marker\":{\"colorbar\":{\"outlinewidth\":0,\"ticks\":\"\"}}}],\"scattercarpet\":[{\"type\":\"scattercarpet\",\"marker\":{\"colorbar\":{\"outlinewidth\":0,\"ticks\":\"\"}}}],\"carpet\":[{\"aaxis\":{\"endlinecolor\":\"#2a3f5f\",\"gridcolor\":\"white\",\"linecolor\":\"white\",\"minorgridcolor\":\"white\",\"startlinecolor\":\"#2a3f5f\"},\"baxis\":{\"endlinecolor\":\"#2a3f5f\",\"gridcolor\":\"white\",\"linecolor\":\"white\",\"minorgridcolor\":\"white\",\"startlinecolor\":\"#2a3f5f\"},\"type\":\"carpet\"}],\"table\":[{\"cells\":{\"fill\":{\"color\":\"#EBF0F8\"},\"line\":{\"color\":\"white\"}},\"header\":{\"fill\":{\"color\":\"#C8D4E3\"},\"line\":{\"color\":\"white\"}},\"type\":\"table\"}],\"barpolar\":[{\"marker\":{\"line\":{\"color\":\"#E5ECF6\",\"width\":0.5},\"pattern\":{\"fillmode\":\"overlay\",\"size\":10,\"solidity\":0.2}},\"type\":\"barpolar\"}],\"pie\":[{\"automargin\":true,\"type\":\"pie\"}]},\"layout\":{\"autotypenumbers\":\"strict\",\"colorway\":[\"#636efa\",\"#EF553B\",\"#00cc96\",\"#ab63fa\",\"#FFA15A\",\"#19d3f3\",\"#FF6692\",\"#B6E880\",\"#FF97FF\",\"#FECB52\"],\"font\":{\"color\":\"#2a3f5f\"},\"hovermode\":\"closest\",\"hoverlabel\":{\"align\":\"left\"},\"paper_bgcolor\":\"white\",\"plot_bgcolor\":\"#E5ECF6\",\"polar\":{\"bgcolor\":\"#E5ECF6\",\"angularaxis\":{\"gridcolor\":\"white\",\"linecolor\":\"white\",\"ticks\":\"\"},\"radialaxis\":{\"gridcolor\":\"white\",\"linecolor\":\"white\",\"ticks\":\"\"}},\"ternary\":{\"bgcolor\":\"#E5ECF6\",\"aaxis\":{\"gridcolor\":\"white\",\"linecolor\":\"white\",\"ticks\":\"\"},\"baxis\":{\"gridcolor\":\"white\",\"linecolor\":\"white\",\"ticks\":\"\"},\"caxis\":{\"gridcolor\":\"white\",\"linecolor\":\"white\",\"ticks\":\"\"}},\"coloraxis\":{\"colorbar\":{\"outlinewidth\":0,\"ticks\":\"\"}},\"colorscale\":{\"sequential\":[[0.0,\"#0d0887\"],[0.1111111111111111,\"#46039f\"],[0.2222222222222222,\"#7201a8\"],[0.3333333333333333,\"#9c179e\"],[0.4444444444444444,\"#bd3786\"],[0.5555555555555556,\"#d8576b\"],[0.6666666666666666,\"#ed7953\"],[0.7777777777777778,\"#fb9f3a\"],[0.8888888888888888,\"#fdca26\"],[1.0,\"#f0f921\"]],\"sequentialminus\":[[0.0,\"#0d0887\"],[0.1111111111111111,\"#46039f\"],[0.2222222222222222,\"#7201a8\"],[0.3333333333333333,\"#9c179e\"],[0.4444444444444444,\"#bd3786\"],[0.5555555555555556,\"#d8576b\"],[0.6666666666666666,\"#ed7953\"],[0.7777777777777778,\"#fb9f3a\"],[0.8888888888888888,\"#fdca26\"],[1.0,\"#f0f921\"]],\"diverging\":[[0,\"#8e0152\"],[0.1,\"#c51b7d\"],[0.2,\"#de77ae\"],[0.3,\"#f1b6da\"],[0.4,\"#fde0ef\"],[0.5,\"#f7f7f7\"],[0.6,\"#e6f5d0\"],[0.7,\"#b8e186\"],[0.8,\"#7fbc41\"],[0.9,\"#4d9221\"],[1,\"#276419\"]]},\"xaxis\":{\"gridcolor\":\"white\",\"linecolor\":\"white\",\"ticks\":\"\",\"title\":{\"standoff\":15},\"zerolinecolor\":\"white\",\"automargin\":true,\"zerolinewidth\":2},\"yaxis\":{\"gridcolor\":\"white\",\"linecolor\":\"white\",\"ticks\":\"\",\"title\":{\"standoff\":15},\"zerolinecolor\":\"white\",\"automargin\":true,\"zerolinewidth\":2},\"scene\":{\"xaxis\":{\"backgroundcolor\":\"#E5ECF6\",\"gridcolor\":\"white\",\"linecolor\":\"white\",\"showbackground\":true,\"ticks\":\"\",\"zerolinecolor\":\"white\",\"gridwidth\":2},\"yaxis\":{\"backgroundcolor\":\"#E5ECF6\",\"gridcolor\":\"white\",\"linecolor\":\"white\",\"showbackground\":true,\"ticks\":\"\",\"zerolinecolor\":\"white\",\"gridwidth\":2},\"zaxis\":{\"backgroundcolor\":\"#E5ECF6\",\"gridcolor\":\"white\",\"linecolor\":\"white\",\"showbackground\":true,\"ticks\":\"\",\"zerolinecolor\":\"white\",\"gridwidth\":2}},\"shapedefaults\":{\"line\":{\"color\":\"#2a3f5f\"}},\"annotationdefaults\":{\"arrowcolor\":\"#2a3f5f\",\"arrowhead\":0,\"arrowwidth\":1},\"geo\":{\"bgcolor\":\"white\",\"landcolor\":\"#E5ECF6\",\"subunitcolor\":\"white\",\"showland\":true,\"showlakes\":true,\"lakecolor\":\"white\"},\"title\":{\"x\":0.05},\"mapbox\":{\"style\":\"light\"}}},\"geo\":{\"domain\":{\"x\":[0.0,1.0],\"y\":[0.0,1.0]},\"center\":{},\"showframe\":false,\"showcoastlines\":false},\"coloraxis\":{\"colorbar\":{\"title\":{\"text\":\"PercentOfBaseline\"}},\"colorscale\":[[0.0,\"#0d0887\"],[0.1111111111111111,\"#46039f\"],[0.2222222222222222,\"#7201a8\"],[0.3333333333333333,\"#9c179e\"],[0.4444444444444444,\"#bd3786\"],[0.5555555555555556,\"#d8576b\"],[0.6666666666666666,\"#ed7953\"],[0.7777777777777778,\"#fb9f3a\"],[0.8888888888888888,\"#fdca26\"],[1.0,\"#f0f921\"]]},\"legend\":{\"tracegroupgap\":0},\"margin\":{\"t\":60},\"updatemenus\":[{\"buttons\":[{\"args\":[null,{\"frame\":{\"duration\":500,\"redraw\":true},\"mode\":\"immediate\",\"fromcurrent\":true,\"transition\":{\"duration\":500,\"easing\":\"linear\"}}],\"label\":\"&#9654;\",\"method\":\"animate\"},{\"args\":[[null],{\"frame\":{\"duration\":0,\"redraw\":true},\"mode\":\"immediate\",\"fromcurrent\":true,\"transition\":{\"duration\":0,\"easing\":\"linear\"}}],\"label\":\"&#9724;\",\"method\":\"animate\"}],\"direction\":\"left\",\"pad\":{\"r\":10,\"t\":70},\"showactive\":false,\"type\":\"buttons\",\"x\":0.1,\"xanchor\":\"right\",\"y\":0,\"yanchor\":\"top\"}],\"sliders\":[{\"active\":0,\"currentvalue\":{\"prefix\":\"Date=\"},\"len\":0.9,\"pad\":{\"b\":10,\"t\":60},\"steps\":[{\"args\":[[\"2020-03-16 00:00:00\"],{\"frame\":{\"duration\":0,\"redraw\":true},\"mode\":\"immediate\",\"fromcurrent\":true,\"transition\":{\"duration\":0,\"easing\":\"linear\"}}],\"label\":\"2020-03-16 00:00:00\",\"method\":\"animate\"},{\"args\":[[\"2020-03-17 00:00:00\"],{\"frame\":{\"duration\":0,\"redraw\":true},\"mode\":\"immediate\",\"fromcurrent\":true,\"transition\":{\"duration\":0,\"easing\":\"linear\"}}],\"label\":\"2020-03-17 00:00:00\",\"method\":\"animate\"},{\"args\":[[\"2020-03-18 00:00:00\"],{\"frame\":{\"duration\":0,\"redraw\":true},\"mode\":\"immediate\",\"fromcurrent\":true,\"transition\":{\"duration\":0,\"easing\":\"linear\"}}],\"label\":\"2020-03-18 00:00:00\",\"method\":\"animate\"},{\"args\":[[\"2020-03-19 00:00:00\"],{\"frame\":{\"duration\":0,\"redraw\":true},\"mode\":\"immediate\",\"fromcurrent\":true,\"transition\":{\"duration\":0,\"easing\":\"linear\"}}],\"label\":\"2020-03-19 00:00:00\",\"method\":\"animate\"},{\"args\":[[\"2020-03-20 00:00:00\"],{\"frame\":{\"duration\":0,\"redraw\":true},\"mode\":\"immediate\",\"fromcurrent\":true,\"transition\":{\"duration\":0,\"easing\":\"linear\"}}],\"label\":\"2020-03-20 00:00:00\",\"method\":\"animate\"},{\"args\":[[\"2020-03-21 00:00:00\"],{\"frame\":{\"duration\":0,\"redraw\":true},\"mode\":\"immediate\",\"fromcurrent\":true,\"transition\":{\"duration\":0,\"easing\":\"linear\"}}],\"label\":\"2020-03-21 00:00:00\",\"method\":\"animate\"},{\"args\":[[\"2020-03-22 00:00:00\"],{\"frame\":{\"duration\":0,\"redraw\":true},\"mode\":\"immediate\",\"fromcurrent\":true,\"transition\":{\"duration\":0,\"easing\":\"linear\"}}],\"label\":\"2020-03-22 00:00:00\",\"method\":\"animate\"},{\"args\":[[\"2020-03-23 00:00:00\"],{\"frame\":{\"duration\":0,\"redraw\":true},\"mode\":\"immediate\",\"fromcurrent\":true,\"transition\":{\"duration\":0,\"easing\":\"linear\"}}],\"label\":\"2020-03-23 00:00:00\",\"method\":\"animate\"},{\"args\":[[\"2020-03-24 00:00:00\"],{\"frame\":{\"duration\":0,\"redraw\":true},\"mode\":\"immediate\",\"fromcurrent\":true,\"transition\":{\"duration\":0,\"easing\":\"linear\"}}],\"label\":\"2020-03-24 00:00:00\",\"method\":\"animate\"},{\"args\":[[\"2020-03-25 00:00:00\"],{\"frame\":{\"duration\":0,\"redraw\":true},\"mode\":\"immediate\",\"fromcurrent\":true,\"transition\":{\"duration\":0,\"easing\":\"linear\"}}],\"label\":\"2020-03-25 00:00:00\",\"method\":\"animate\"},{\"args\":[[\"2020-03-26 00:00:00\"],{\"frame\":{\"duration\":0,\"redraw\":true},\"mode\":\"immediate\",\"fromcurrent\":true,\"transition\":{\"duration\":0,\"easing\":\"linear\"}}],\"label\":\"2020-03-26 00:00:00\",\"method\":\"animate\"},{\"args\":[[\"2020-03-27 00:00:00\"],{\"frame\":{\"duration\":0,\"redraw\":true},\"mode\":\"immediate\",\"fromcurrent\":true,\"transition\":{\"duration\":0,\"easing\":\"linear\"}}],\"label\":\"2020-03-27 00:00:00\",\"method\":\"animate\"},{\"args\":[[\"2020-03-28 00:00:00\"],{\"frame\":{\"duration\":0,\"redraw\":true},\"mode\":\"immediate\",\"fromcurrent\":true,\"transition\":{\"duration\":0,\"easing\":\"linear\"}}],\"label\":\"2020-03-28 00:00:00\",\"method\":\"animate\"},{\"args\":[[\"2020-03-29 00:00:00\"],{\"frame\":{\"duration\":0,\"redraw\":true},\"mode\":\"immediate\",\"fromcurrent\":true,\"transition\":{\"duration\":0,\"easing\":\"linear\"}}],\"label\":\"2020-03-29 00:00:00\",\"method\":\"animate\"},{\"args\":[[\"2020-03-30 00:00:00\"],{\"frame\":{\"duration\":0,\"redraw\":true},\"mode\":\"immediate\",\"fromcurrent\":true,\"transition\":{\"duration\":0,\"easing\":\"linear\"}}],\"label\":\"2020-03-30 00:00:00\",\"method\":\"animate\"},{\"args\":[[\"2020-03-31 00:00:00\"],{\"frame\":{\"duration\":0,\"redraw\":true},\"mode\":\"immediate\",\"fromcurrent\":true,\"transition\":{\"duration\":0,\"easing\":\"linear\"}}],\"label\":\"2020-03-31 00:00:00\",\"method\":\"animate\"},{\"args\":[[\"2020-04-01 00:00:00\"],{\"frame\":{\"duration\":0,\"redraw\":true},\"mode\":\"immediate\",\"fromcurrent\":true,\"transition\":{\"duration\":0,\"easing\":\"linear\"}}],\"label\":\"2020-04-01 00:00:00\",\"method\":\"animate\"},{\"args\":[[\"2020-04-02 00:00:00\"],{\"frame\":{\"duration\":0,\"redraw\":true},\"mode\":\"immediate\",\"fromcurrent\":true,\"transition\":{\"duration\":0,\"easing\":\"linear\"}}],\"label\":\"2020-04-02 00:00:00\",\"method\":\"animate\"},{\"args\":[[\"2020-04-03 00:00:00\"],{\"frame\":{\"duration\":0,\"redraw\":true},\"mode\":\"immediate\",\"fromcurrent\":true,\"transition\":{\"duration\":0,\"easing\":\"linear\"}}],\"label\":\"2020-04-03 00:00:00\",\"method\":\"animate\"},{\"args\":[[\"2020-04-04 00:00:00\"],{\"frame\":{\"duration\":0,\"redraw\":true},\"mode\":\"immediate\",\"fromcurrent\":true,\"transition\":{\"duration\":0,\"easing\":\"linear\"}}],\"label\":\"2020-04-04 00:00:00\",\"method\":\"animate\"},{\"args\":[[\"2020-04-05 00:00:00\"],{\"frame\":{\"duration\":0,\"redraw\":true},\"mode\":\"immediate\",\"fromcurrent\":true,\"transition\":{\"duration\":0,\"easing\":\"linear\"}}],\"label\":\"2020-04-05 00:00:00\",\"method\":\"animate\"},{\"args\":[[\"2020-04-06 00:00:00\"],{\"frame\":{\"duration\":0,\"redraw\":true},\"mode\":\"immediate\",\"fromcurrent\":true,\"transition\":{\"duration\":0,\"easing\":\"linear\"}}],\"label\":\"2020-04-06 00:00:00\",\"method\":\"animate\"},{\"args\":[[\"2020-04-07 00:00:00\"],{\"frame\":{\"duration\":0,\"redraw\":true},\"mode\":\"immediate\",\"fromcurrent\":true,\"transition\":{\"duration\":0,\"easing\":\"linear\"}}],\"label\":\"2020-04-07 00:00:00\",\"method\":\"animate\"},{\"args\":[[\"2020-04-08 00:00:00\"],{\"frame\":{\"duration\":0,\"redraw\":true},\"mode\":\"immediate\",\"fromcurrent\":true,\"transition\":{\"duration\":0,\"easing\":\"linear\"}}],\"label\":\"2020-04-08 00:00:00\",\"method\":\"animate\"},{\"args\":[[\"2020-04-09 00:00:00\"],{\"frame\":{\"duration\":0,\"redraw\":true},\"mode\":\"immediate\",\"fromcurrent\":true,\"transition\":{\"duration\":0,\"easing\":\"linear\"}}],\"label\":\"2020-04-09 00:00:00\",\"method\":\"animate\"},{\"args\":[[\"2020-04-10 00:00:00\"],{\"frame\":{\"duration\":0,\"redraw\":true},\"mode\":\"immediate\",\"fromcurrent\":true,\"transition\":{\"duration\":0,\"easing\":\"linear\"}}],\"label\":\"2020-04-10 00:00:00\",\"method\":\"animate\"},{\"args\":[[\"2020-04-11 00:00:00\"],{\"frame\":{\"duration\":0,\"redraw\":true},\"mode\":\"immediate\",\"fromcurrent\":true,\"transition\":{\"duration\":0,\"easing\":\"linear\"}}],\"label\":\"2020-04-11 00:00:00\",\"method\":\"animate\"},{\"args\":[[\"2020-04-12 00:00:00\"],{\"frame\":{\"duration\":0,\"redraw\":true},\"mode\":\"immediate\",\"fromcurrent\":true,\"transition\":{\"duration\":0,\"easing\":\"linear\"}}],\"label\":\"2020-04-12 00:00:00\",\"method\":\"animate\"},{\"args\":[[\"2020-04-13 00:00:00\"],{\"frame\":{\"duration\":0,\"redraw\":true},\"mode\":\"immediate\",\"fromcurrent\":true,\"transition\":{\"duration\":0,\"easing\":\"linear\"}}],\"label\":\"2020-04-13 00:00:00\",\"method\":\"animate\"},{\"args\":[[\"2020-04-14 00:00:00\"],{\"frame\":{\"duration\":0,\"redraw\":true},\"mode\":\"immediate\",\"fromcurrent\":true,\"transition\":{\"duration\":0,\"easing\":\"linear\"}}],\"label\":\"2020-04-14 00:00:00\",\"method\":\"animate\"},{\"args\":[[\"2020-04-15 00:00:00\"],{\"frame\":{\"duration\":0,\"redraw\":true},\"mode\":\"immediate\",\"fromcurrent\":true,\"transition\":{\"duration\":0,\"easing\":\"linear\"}}],\"label\":\"2020-04-15 00:00:00\",\"method\":\"animate\"},{\"args\":[[\"2020-04-16 00:00:00\"],{\"frame\":{\"duration\":0,\"redraw\":true},\"mode\":\"immediate\",\"fromcurrent\":true,\"transition\":{\"duration\":0,\"easing\":\"linear\"}}],\"label\":\"2020-04-16 00:00:00\",\"method\":\"animate\"},{\"args\":[[\"2020-04-17 00:00:00\"],{\"frame\":{\"duration\":0,\"redraw\":true},\"mode\":\"immediate\",\"fromcurrent\":true,\"transition\":{\"duration\":0,\"easing\":\"linear\"}}],\"label\":\"2020-04-17 00:00:00\",\"method\":\"animate\"},{\"args\":[[\"2020-04-18 00:00:00\"],{\"frame\":{\"duration\":0,\"redraw\":true},\"mode\":\"immediate\",\"fromcurrent\":true,\"transition\":{\"duration\":0,\"easing\":\"linear\"}}],\"label\":\"2020-04-18 00:00:00\",\"method\":\"animate\"},{\"args\":[[\"2020-04-19 00:00:00\"],{\"frame\":{\"duration\":0,\"redraw\":true},\"mode\":\"immediate\",\"fromcurrent\":true,\"transition\":{\"duration\":0,\"easing\":\"linear\"}}],\"label\":\"2020-04-19 00:00:00\",\"method\":\"animate\"},{\"args\":[[\"2020-04-20 00:00:00\"],{\"frame\":{\"duration\":0,\"redraw\":true},\"mode\":\"immediate\",\"fromcurrent\":true,\"transition\":{\"duration\":0,\"easing\":\"linear\"}}],\"label\":\"2020-04-20 00:00:00\",\"method\":\"animate\"},{\"args\":[[\"2020-04-21 00:00:00\"],{\"frame\":{\"duration\":0,\"redraw\":true},\"mode\":\"immediate\",\"fromcurrent\":true,\"transition\":{\"duration\":0,\"easing\":\"linear\"}}],\"label\":\"2020-04-21 00:00:00\",\"method\":\"animate\"},{\"args\":[[\"2020-04-22 00:00:00\"],{\"frame\":{\"duration\":0,\"redraw\":true},\"mode\":\"immediate\",\"fromcurrent\":true,\"transition\":{\"duration\":0,\"easing\":\"linear\"}}],\"label\":\"2020-04-22 00:00:00\",\"method\":\"animate\"},{\"args\":[[\"2020-04-23 00:00:00\"],{\"frame\":{\"duration\":0,\"redraw\":true},\"mode\":\"immediate\",\"fromcurrent\":true,\"transition\":{\"duration\":0,\"easing\":\"linear\"}}],\"label\":\"2020-04-23 00:00:00\",\"method\":\"animate\"},{\"args\":[[\"2020-04-24 00:00:00\"],{\"frame\":{\"duration\":0,\"redraw\":true},\"mode\":\"immediate\",\"fromcurrent\":true,\"transition\":{\"duration\":0,\"easing\":\"linear\"}}],\"label\":\"2020-04-24 00:00:00\",\"method\":\"animate\"},{\"args\":[[\"2020-04-25 00:00:00\"],{\"frame\":{\"duration\":0,\"redraw\":true},\"mode\":\"immediate\",\"fromcurrent\":true,\"transition\":{\"duration\":0,\"easing\":\"linear\"}}],\"label\":\"2020-04-25 00:00:00\",\"method\":\"animate\"},{\"args\":[[\"2020-04-26 00:00:00\"],{\"frame\":{\"duration\":0,\"redraw\":true},\"mode\":\"immediate\",\"fromcurrent\":true,\"transition\":{\"duration\":0,\"easing\":\"linear\"}}],\"label\":\"2020-04-26 00:00:00\",\"method\":\"animate\"},{\"args\":[[\"2020-04-27 00:00:00\"],{\"frame\":{\"duration\":0,\"redraw\":true},\"mode\":\"immediate\",\"fromcurrent\":true,\"transition\":{\"duration\":0,\"easing\":\"linear\"}}],\"label\":\"2020-04-27 00:00:00\",\"method\":\"animate\"},{\"args\":[[\"2020-04-28 00:00:00\"],{\"frame\":{\"duration\":0,\"redraw\":true},\"mode\":\"immediate\",\"fromcurrent\":true,\"transition\":{\"duration\":0,\"easing\":\"linear\"}}],\"label\":\"2020-04-28 00:00:00\",\"method\":\"animate\"},{\"args\":[[\"2020-04-29 00:00:00\"],{\"frame\":{\"duration\":0,\"redraw\":true},\"mode\":\"immediate\",\"fromcurrent\":true,\"transition\":{\"duration\":0,\"easing\":\"linear\"}}],\"label\":\"2020-04-29 00:00:00\",\"method\":\"animate\"},{\"args\":[[\"2020-04-30 00:00:00\"],{\"frame\":{\"duration\":0,\"redraw\":true},\"mode\":\"immediate\",\"fromcurrent\":true,\"transition\":{\"duration\":0,\"easing\":\"linear\"}}],\"label\":\"2020-04-30 00:00:00\",\"method\":\"animate\"},{\"args\":[[\"2020-05-01 00:00:00\"],{\"frame\":{\"duration\":0,\"redraw\":true},\"mode\":\"immediate\",\"fromcurrent\":true,\"transition\":{\"duration\":0,\"easing\":\"linear\"}}],\"label\":\"2020-05-01 00:00:00\",\"method\":\"animate\"},{\"args\":[[\"2020-05-02 00:00:00\"],{\"frame\":{\"duration\":0,\"redraw\":true},\"mode\":\"immediate\",\"fromcurrent\":true,\"transition\":{\"duration\":0,\"easing\":\"linear\"}}],\"label\":\"2020-05-02 00:00:00\",\"method\":\"animate\"},{\"args\":[[\"2020-05-03 00:00:00\"],{\"frame\":{\"duration\":0,\"redraw\":true},\"mode\":\"immediate\",\"fromcurrent\":true,\"transition\":{\"duration\":0,\"easing\":\"linear\"}}],\"label\":\"2020-05-03 00:00:00\",\"method\":\"animate\"},{\"args\":[[\"2020-05-04 00:00:00\"],{\"frame\":{\"duration\":0,\"redraw\":true},\"mode\":\"immediate\",\"fromcurrent\":true,\"transition\":{\"duration\":0,\"easing\":\"linear\"}}],\"label\":\"2020-05-04 00:00:00\",\"method\":\"animate\"},{\"args\":[[\"2020-05-05 00:00:00\"],{\"frame\":{\"duration\":0,\"redraw\":true},\"mode\":\"immediate\",\"fromcurrent\":true,\"transition\":{\"duration\":0,\"easing\":\"linear\"}}],\"label\":\"2020-05-05 00:00:00\",\"method\":\"animate\"},{\"args\":[[\"2020-05-06 00:00:00\"],{\"frame\":{\"duration\":0,\"redraw\":true},\"mode\":\"immediate\",\"fromcurrent\":true,\"transition\":{\"duration\":0,\"easing\":\"linear\"}}],\"label\":\"2020-05-06 00:00:00\",\"method\":\"animate\"},{\"args\":[[\"2020-05-07 00:00:00\"],{\"frame\":{\"duration\":0,\"redraw\":true},\"mode\":\"immediate\",\"fromcurrent\":true,\"transition\":{\"duration\":0,\"easing\":\"linear\"}}],\"label\":\"2020-05-07 00:00:00\",\"method\":\"animate\"},{\"args\":[[\"2020-05-08 00:00:00\"],{\"frame\":{\"duration\":0,\"redraw\":true},\"mode\":\"immediate\",\"fromcurrent\":true,\"transition\":{\"duration\":0,\"easing\":\"linear\"}}],\"label\":\"2020-05-08 00:00:00\",\"method\":\"animate\"},{\"args\":[[\"2020-05-09 00:00:00\"],{\"frame\":{\"duration\":0,\"redraw\":true},\"mode\":\"immediate\",\"fromcurrent\":true,\"transition\":{\"duration\":0,\"easing\":\"linear\"}}],\"label\":\"2020-05-09 00:00:00\",\"method\":\"animate\"},{\"args\":[[\"2020-05-10 00:00:00\"],{\"frame\":{\"duration\":0,\"redraw\":true},\"mode\":\"immediate\",\"fromcurrent\":true,\"transition\":{\"duration\":0,\"easing\":\"linear\"}}],\"label\":\"2020-05-10 00:00:00\",\"method\":\"animate\"},{\"args\":[[\"2020-05-11 00:00:00\"],{\"frame\":{\"duration\":0,\"redraw\":true},\"mode\":\"immediate\",\"fromcurrent\":true,\"transition\":{\"duration\":0,\"easing\":\"linear\"}}],\"label\":\"2020-05-11 00:00:00\",\"method\":\"animate\"},{\"args\":[[\"2020-05-12 00:00:00\"],{\"frame\":{\"duration\":0,\"redraw\":true},\"mode\":\"immediate\",\"fromcurrent\":true,\"transition\":{\"duration\":0,\"easing\":\"linear\"}}],\"label\":\"2020-05-12 00:00:00\",\"method\":\"animate\"},{\"args\":[[\"2020-05-13 00:00:00\"],{\"frame\":{\"duration\":0,\"redraw\":true},\"mode\":\"immediate\",\"fromcurrent\":true,\"transition\":{\"duration\":0,\"easing\":\"linear\"}}],\"label\":\"2020-05-13 00:00:00\",\"method\":\"animate\"},{\"args\":[[\"2020-05-14 00:00:00\"],{\"frame\":{\"duration\":0,\"redraw\":true},\"mode\":\"immediate\",\"fromcurrent\":true,\"transition\":{\"duration\":0,\"easing\":\"linear\"}}],\"label\":\"2020-05-14 00:00:00\",\"method\":\"animate\"},{\"args\":[[\"2020-05-15 00:00:00\"],{\"frame\":{\"duration\":0,\"redraw\":true},\"mode\":\"immediate\",\"fromcurrent\":true,\"transition\":{\"duration\":0,\"easing\":\"linear\"}}],\"label\":\"2020-05-15 00:00:00\",\"method\":\"animate\"},{\"args\":[[\"2020-05-16 00:00:00\"],{\"frame\":{\"duration\":0,\"redraw\":true},\"mode\":\"immediate\",\"fromcurrent\":true,\"transition\":{\"duration\":0,\"easing\":\"linear\"}}],\"label\":\"2020-05-16 00:00:00\",\"method\":\"animate\"},{\"args\":[[\"2020-05-17 00:00:00\"],{\"frame\":{\"duration\":0,\"redraw\":true},\"mode\":\"immediate\",\"fromcurrent\":true,\"transition\":{\"duration\":0,\"easing\":\"linear\"}}],\"label\":\"2020-05-17 00:00:00\",\"method\":\"animate\"},{\"args\":[[\"2020-05-18 00:00:00\"],{\"frame\":{\"duration\":0,\"redraw\":true},\"mode\":\"immediate\",\"fromcurrent\":true,\"transition\":{\"duration\":0,\"easing\":\"linear\"}}],\"label\":\"2020-05-18 00:00:00\",\"method\":\"animate\"},{\"args\":[[\"2020-05-19 00:00:00\"],{\"frame\":{\"duration\":0,\"redraw\":true},\"mode\":\"immediate\",\"fromcurrent\":true,\"transition\":{\"duration\":0,\"easing\":\"linear\"}}],\"label\":\"2020-05-19 00:00:00\",\"method\":\"animate\"},{\"args\":[[\"2020-05-20 00:00:00\"],{\"frame\":{\"duration\":0,\"redraw\":true},\"mode\":\"immediate\",\"fromcurrent\":true,\"transition\":{\"duration\":0,\"easing\":\"linear\"}}],\"label\":\"2020-05-20 00:00:00\",\"method\":\"animate\"},{\"args\":[[\"2020-05-21 00:00:00\"],{\"frame\":{\"duration\":0,\"redraw\":true},\"mode\":\"immediate\",\"fromcurrent\":true,\"transition\":{\"duration\":0,\"easing\":\"linear\"}}],\"label\":\"2020-05-21 00:00:00\",\"method\":\"animate\"},{\"args\":[[\"2020-05-22 00:00:00\"],{\"frame\":{\"duration\":0,\"redraw\":true},\"mode\":\"immediate\",\"fromcurrent\":true,\"transition\":{\"duration\":0,\"easing\":\"linear\"}}],\"label\":\"2020-05-22 00:00:00\",\"method\":\"animate\"},{\"args\":[[\"2020-05-23 00:00:00\"],{\"frame\":{\"duration\":0,\"redraw\":true},\"mode\":\"immediate\",\"fromcurrent\":true,\"transition\":{\"duration\":0,\"easing\":\"linear\"}}],\"label\":\"2020-05-23 00:00:00\",\"method\":\"animate\"},{\"args\":[[\"2020-05-24 00:00:00\"],{\"frame\":{\"duration\":0,\"redraw\":true},\"mode\":\"immediate\",\"fromcurrent\":true,\"transition\":{\"duration\":0,\"easing\":\"linear\"}}],\"label\":\"2020-05-24 00:00:00\",\"method\":\"animate\"},{\"args\":[[\"2020-05-25 00:00:00\"],{\"frame\":{\"duration\":0,\"redraw\":true},\"mode\":\"immediate\",\"fromcurrent\":true,\"transition\":{\"duration\":0,\"easing\":\"linear\"}}],\"label\":\"2020-05-25 00:00:00\",\"method\":\"animate\"},{\"args\":[[\"2020-05-26 00:00:00\"],{\"frame\":{\"duration\":0,\"redraw\":true},\"mode\":\"immediate\",\"fromcurrent\":true,\"transition\":{\"duration\":0,\"easing\":\"linear\"}}],\"label\":\"2020-05-26 00:00:00\",\"method\":\"animate\"},{\"args\":[[\"2020-05-27 00:00:00\"],{\"frame\":{\"duration\":0,\"redraw\":true},\"mode\":\"immediate\",\"fromcurrent\":true,\"transition\":{\"duration\":0,\"easing\":\"linear\"}}],\"label\":\"2020-05-27 00:00:00\",\"method\":\"animate\"},{\"args\":[[\"2020-05-28 00:00:00\"],{\"frame\":{\"duration\":0,\"redraw\":true},\"mode\":\"immediate\",\"fromcurrent\":true,\"transition\":{\"duration\":0,\"easing\":\"linear\"}}],\"label\":\"2020-05-28 00:00:00\",\"method\":\"animate\"},{\"args\":[[\"2020-05-29 00:00:00\"],{\"frame\":{\"duration\":0,\"redraw\":true},\"mode\":\"immediate\",\"fromcurrent\":true,\"transition\":{\"duration\":0,\"easing\":\"linear\"}}],\"label\":\"2020-05-29 00:00:00\",\"method\":\"animate\"},{\"args\":[[\"2020-05-30 00:00:00\"],{\"frame\":{\"duration\":0,\"redraw\":true},\"mode\":\"immediate\",\"fromcurrent\":true,\"transition\":{\"duration\":0,\"easing\":\"linear\"}}],\"label\":\"2020-05-30 00:00:00\",\"method\":\"animate\"},{\"args\":[[\"2020-05-31 00:00:00\"],{\"frame\":{\"duration\":0,\"redraw\":true},\"mode\":\"immediate\",\"fromcurrent\":true,\"transition\":{\"duration\":0,\"easing\":\"linear\"}}],\"label\":\"2020-05-31 00:00:00\",\"method\":\"animate\"},{\"args\":[[\"2020-06-01 00:00:00\"],{\"frame\":{\"duration\":0,\"redraw\":true},\"mode\":\"immediate\",\"fromcurrent\":true,\"transition\":{\"duration\":0,\"easing\":\"linear\"}}],\"label\":\"2020-06-01 00:00:00\",\"method\":\"animate\"},{\"args\":[[\"2020-06-02 00:00:00\"],{\"frame\":{\"duration\":0,\"redraw\":true},\"mode\":\"immediate\",\"fromcurrent\":true,\"transition\":{\"duration\":0,\"easing\":\"linear\"}}],\"label\":\"2020-06-02 00:00:00\",\"method\":\"animate\"},{\"args\":[[\"2020-06-03 00:00:00\"],{\"frame\":{\"duration\":0,\"redraw\":true},\"mode\":\"immediate\",\"fromcurrent\":true,\"transition\":{\"duration\":0,\"easing\":\"linear\"}}],\"label\":\"2020-06-03 00:00:00\",\"method\":\"animate\"},{\"args\":[[\"2020-06-04 00:00:00\"],{\"frame\":{\"duration\":0,\"redraw\":true},\"mode\":\"immediate\",\"fromcurrent\":true,\"transition\":{\"duration\":0,\"easing\":\"linear\"}}],\"label\":\"2020-06-04 00:00:00\",\"method\":\"animate\"},{\"args\":[[\"2020-06-05 00:00:00\"],{\"frame\":{\"duration\":0,\"redraw\":true},\"mode\":\"immediate\",\"fromcurrent\":true,\"transition\":{\"duration\":0,\"easing\":\"linear\"}}],\"label\":\"2020-06-05 00:00:00\",\"method\":\"animate\"},{\"args\":[[\"2020-06-06 00:00:00\"],{\"frame\":{\"duration\":0,\"redraw\":true},\"mode\":\"immediate\",\"fromcurrent\":true,\"transition\":{\"duration\":0,\"easing\":\"linear\"}}],\"label\":\"2020-06-06 00:00:00\",\"method\":\"animate\"},{\"args\":[[\"2020-06-07 00:00:00\"],{\"frame\":{\"duration\":0,\"redraw\":true},\"mode\":\"immediate\",\"fromcurrent\":true,\"transition\":{\"duration\":0,\"easing\":\"linear\"}}],\"label\":\"2020-06-07 00:00:00\",\"method\":\"animate\"},{\"args\":[[\"2020-06-08 00:00:00\"],{\"frame\":{\"duration\":0,\"redraw\":true},\"mode\":\"immediate\",\"fromcurrent\":true,\"transition\":{\"duration\":0,\"easing\":\"linear\"}}],\"label\":\"2020-06-08 00:00:00\",\"method\":\"animate\"},{\"args\":[[\"2020-06-09 00:00:00\"],{\"frame\":{\"duration\":0,\"redraw\":true},\"mode\":\"immediate\",\"fromcurrent\":true,\"transition\":{\"duration\":0,\"easing\":\"linear\"}}],\"label\":\"2020-06-09 00:00:00\",\"method\":\"animate\"},{\"args\":[[\"2020-06-10 00:00:00\"],{\"frame\":{\"duration\":0,\"redraw\":true},\"mode\":\"immediate\",\"fromcurrent\":true,\"transition\":{\"duration\":0,\"easing\":\"linear\"}}],\"label\":\"2020-06-10 00:00:00\",\"method\":\"animate\"},{\"args\":[[\"2020-06-11 00:00:00\"],{\"frame\":{\"duration\":0,\"redraw\":true},\"mode\":\"immediate\",\"fromcurrent\":true,\"transition\":{\"duration\":0,\"easing\":\"linear\"}}],\"label\":\"2020-06-11 00:00:00\",\"method\":\"animate\"},{\"args\":[[\"2020-06-12 00:00:00\"],{\"frame\":{\"duration\":0,\"redraw\":true},\"mode\":\"immediate\",\"fromcurrent\":true,\"transition\":{\"duration\":0,\"easing\":\"linear\"}}],\"label\":\"2020-06-12 00:00:00\",\"method\":\"animate\"},{\"args\":[[\"2020-06-13 00:00:00\"],{\"frame\":{\"duration\":0,\"redraw\":true},\"mode\":\"immediate\",\"fromcurrent\":true,\"transition\":{\"duration\":0,\"easing\":\"linear\"}}],\"label\":\"2020-06-13 00:00:00\",\"method\":\"animate\"},{\"args\":[[\"2020-06-14 00:00:00\"],{\"frame\":{\"duration\":0,\"redraw\":true},\"mode\":\"immediate\",\"fromcurrent\":true,\"transition\":{\"duration\":0,\"easing\":\"linear\"}}],\"label\":\"2020-06-14 00:00:00\",\"method\":\"animate\"},{\"args\":[[\"2020-06-15 00:00:00\"],{\"frame\":{\"duration\":0,\"redraw\":true},\"mode\":\"immediate\",\"fromcurrent\":true,\"transition\":{\"duration\":0,\"easing\":\"linear\"}}],\"label\":\"2020-06-15 00:00:00\",\"method\":\"animate\"},{\"args\":[[\"2020-06-16 00:00:00\"],{\"frame\":{\"duration\":0,\"redraw\":true},\"mode\":\"immediate\",\"fromcurrent\":true,\"transition\":{\"duration\":0,\"easing\":\"linear\"}}],\"label\":\"2020-06-16 00:00:00\",\"method\":\"animate\"},{\"args\":[[\"2020-06-17 00:00:00\"],{\"frame\":{\"duration\":0,\"redraw\":true},\"mode\":\"immediate\",\"fromcurrent\":true,\"transition\":{\"duration\":0,\"easing\":\"linear\"}}],\"label\":\"2020-06-17 00:00:00\",\"method\":\"animate\"},{\"args\":[[\"2020-06-18 00:00:00\"],{\"frame\":{\"duration\":0,\"redraw\":true},\"mode\":\"immediate\",\"fromcurrent\":true,\"transition\":{\"duration\":0,\"easing\":\"linear\"}}],\"label\":\"2020-06-18 00:00:00\",\"method\":\"animate\"},{\"args\":[[\"2020-06-19 00:00:00\"],{\"frame\":{\"duration\":0,\"redraw\":true},\"mode\":\"immediate\",\"fromcurrent\":true,\"transition\":{\"duration\":0,\"easing\":\"linear\"}}],\"label\":\"2020-06-19 00:00:00\",\"method\":\"animate\"},{\"args\":[[\"2020-06-20 00:00:00\"],{\"frame\":{\"duration\":0,\"redraw\":true},\"mode\":\"immediate\",\"fromcurrent\":true,\"transition\":{\"duration\":0,\"easing\":\"linear\"}}],\"label\":\"2020-06-20 00:00:00\",\"method\":\"animate\"},{\"args\":[[\"2020-06-21 00:00:00\"],{\"frame\":{\"duration\":0,\"redraw\":true},\"mode\":\"immediate\",\"fromcurrent\":true,\"transition\":{\"duration\":0,\"easing\":\"linear\"}}],\"label\":\"2020-06-21 00:00:00\",\"method\":\"animate\"},{\"args\":[[\"2020-06-22 00:00:00\"],{\"frame\":{\"duration\":0,\"redraw\":true},\"mode\":\"immediate\",\"fromcurrent\":true,\"transition\":{\"duration\":0,\"easing\":\"linear\"}}],\"label\":\"2020-06-22 00:00:00\",\"method\":\"animate\"},{\"args\":[[\"2020-06-23 00:00:00\"],{\"frame\":{\"duration\":0,\"redraw\":true},\"mode\":\"immediate\",\"fromcurrent\":true,\"transition\":{\"duration\":0,\"easing\":\"linear\"}}],\"label\":\"2020-06-23 00:00:00\",\"method\":\"animate\"},{\"args\":[[\"2020-06-24 00:00:00\"],{\"frame\":{\"duration\":0,\"redraw\":true},\"mode\":\"immediate\",\"fromcurrent\":true,\"transition\":{\"duration\":0,\"easing\":\"linear\"}}],\"label\":\"2020-06-24 00:00:00\",\"method\":\"animate\"},{\"args\":[[\"2020-06-25 00:00:00\"],{\"frame\":{\"duration\":0,\"redraw\":true},\"mode\":\"immediate\",\"fromcurrent\":true,\"transition\":{\"duration\":0,\"easing\":\"linear\"}}],\"label\":\"2020-06-25 00:00:00\",\"method\":\"animate\"},{\"args\":[[\"2020-06-26 00:00:00\"],{\"frame\":{\"duration\":0,\"redraw\":true},\"mode\":\"immediate\",\"fromcurrent\":true,\"transition\":{\"duration\":0,\"easing\":\"linear\"}}],\"label\":\"2020-06-26 00:00:00\",\"method\":\"animate\"},{\"args\":[[\"2020-06-27 00:00:00\"],{\"frame\":{\"duration\":0,\"redraw\":true},\"mode\":\"immediate\",\"fromcurrent\":true,\"transition\":{\"duration\":0,\"easing\":\"linear\"}}],\"label\":\"2020-06-27 00:00:00\",\"method\":\"animate\"},{\"args\":[[\"2020-06-28 00:00:00\"],{\"frame\":{\"duration\":0,\"redraw\":true},\"mode\":\"immediate\",\"fromcurrent\":true,\"transition\":{\"duration\":0,\"easing\":\"linear\"}}],\"label\":\"2020-06-28 00:00:00\",\"method\":\"animate\"},{\"args\":[[\"2020-06-29 00:00:00\"],{\"frame\":{\"duration\":0,\"redraw\":true},\"mode\":\"immediate\",\"fromcurrent\":true,\"transition\":{\"duration\":0,\"easing\":\"linear\"}}],\"label\":\"2020-06-29 00:00:00\",\"method\":\"animate\"},{\"args\":[[\"2020-06-30 00:00:00\"],{\"frame\":{\"duration\":0,\"redraw\":true},\"mode\":\"immediate\",\"fromcurrent\":true,\"transition\":{\"duration\":0,\"easing\":\"linear\"}}],\"label\":\"2020-06-30 00:00:00\",\"method\":\"animate\"},{\"args\":[[\"2020-07-01 00:00:00\"],{\"frame\":{\"duration\":0,\"redraw\":true},\"mode\":\"immediate\",\"fromcurrent\":true,\"transition\":{\"duration\":0,\"easing\":\"linear\"}}],\"label\":\"2020-07-01 00:00:00\",\"method\":\"animate\"},{\"args\":[[\"2020-07-02 00:00:00\"],{\"frame\":{\"duration\":0,\"redraw\":true},\"mode\":\"immediate\",\"fromcurrent\":true,\"transition\":{\"duration\":0,\"easing\":\"linear\"}}],\"label\":\"2020-07-02 00:00:00\",\"method\":\"animate\"},{\"args\":[[\"2020-07-03 00:00:00\"],{\"frame\":{\"duration\":0,\"redraw\":true},\"mode\":\"immediate\",\"fromcurrent\":true,\"transition\":{\"duration\":0,\"easing\":\"linear\"}}],\"label\":\"2020-07-03 00:00:00\",\"method\":\"animate\"},{\"args\":[[\"2020-07-04 00:00:00\"],{\"frame\":{\"duration\":0,\"redraw\":true},\"mode\":\"immediate\",\"fromcurrent\":true,\"transition\":{\"duration\":0,\"easing\":\"linear\"}}],\"label\":\"2020-07-04 00:00:00\",\"method\":\"animate\"},{\"args\":[[\"2020-07-05 00:00:00\"],{\"frame\":{\"duration\":0,\"redraw\":true},\"mode\":\"immediate\",\"fromcurrent\":true,\"transition\":{\"duration\":0,\"easing\":\"linear\"}}],\"label\":\"2020-07-05 00:00:00\",\"method\":\"animate\"},{\"args\":[[\"2020-07-06 00:00:00\"],{\"frame\":{\"duration\":0,\"redraw\":true},\"mode\":\"immediate\",\"fromcurrent\":true,\"transition\":{\"duration\":0,\"easing\":\"linear\"}}],\"label\":\"2020-07-06 00:00:00\",\"method\":\"animate\"},{\"args\":[[\"2020-07-07 00:00:00\"],{\"frame\":{\"duration\":0,\"redraw\":true},\"mode\":\"immediate\",\"fromcurrent\":true,\"transition\":{\"duration\":0,\"easing\":\"linear\"}}],\"label\":\"2020-07-07 00:00:00\",\"method\":\"animate\"},{\"args\":[[\"2020-07-08 00:00:00\"],{\"frame\":{\"duration\":0,\"redraw\":true},\"mode\":\"immediate\",\"fromcurrent\":true,\"transition\":{\"duration\":0,\"easing\":\"linear\"}}],\"label\":\"2020-07-08 00:00:00\",\"method\":\"animate\"},{\"args\":[[\"2020-07-09 00:00:00\"],{\"frame\":{\"duration\":0,\"redraw\":true},\"mode\":\"immediate\",\"fromcurrent\":true,\"transition\":{\"duration\":0,\"easing\":\"linear\"}}],\"label\":\"2020-07-09 00:00:00\",\"method\":\"animate\"},{\"args\":[[\"2020-07-10 00:00:00\"],{\"frame\":{\"duration\":0,\"redraw\":true},\"mode\":\"immediate\",\"fromcurrent\":true,\"transition\":{\"duration\":0,\"easing\":\"linear\"}}],\"label\":\"2020-07-10 00:00:00\",\"method\":\"animate\"},{\"args\":[[\"2020-07-11 00:00:00\"],{\"frame\":{\"duration\":0,\"redraw\":true},\"mode\":\"immediate\",\"fromcurrent\":true,\"transition\":{\"duration\":0,\"easing\":\"linear\"}}],\"label\":\"2020-07-11 00:00:00\",\"method\":\"animate\"},{\"args\":[[\"2020-07-12 00:00:00\"],{\"frame\":{\"duration\":0,\"redraw\":true},\"mode\":\"immediate\",\"fromcurrent\":true,\"transition\":{\"duration\":0,\"easing\":\"linear\"}}],\"label\":\"2020-07-12 00:00:00\",\"method\":\"animate\"},{\"args\":[[\"2020-07-13 00:00:00\"],{\"frame\":{\"duration\":0,\"redraw\":true},\"mode\":\"immediate\",\"fromcurrent\":true,\"transition\":{\"duration\":0,\"easing\":\"linear\"}}],\"label\":\"2020-07-13 00:00:00\",\"method\":\"animate\"},{\"args\":[[\"2020-07-14 00:00:00\"],{\"frame\":{\"duration\":0,\"redraw\":true},\"mode\":\"immediate\",\"fromcurrent\":true,\"transition\":{\"duration\":0,\"easing\":\"linear\"}}],\"label\":\"2020-07-14 00:00:00\",\"method\":\"animate\"},{\"args\":[[\"2020-07-15 00:00:00\"],{\"frame\":{\"duration\":0,\"redraw\":true},\"mode\":\"immediate\",\"fromcurrent\":true,\"transition\":{\"duration\":0,\"easing\":\"linear\"}}],\"label\":\"2020-07-15 00:00:00\",\"method\":\"animate\"},{\"args\":[[\"2020-07-16 00:00:00\"],{\"frame\":{\"duration\":0,\"redraw\":true},\"mode\":\"immediate\",\"fromcurrent\":true,\"transition\":{\"duration\":0,\"easing\":\"linear\"}}],\"label\":\"2020-07-16 00:00:00\",\"method\":\"animate\"},{\"args\":[[\"2020-07-17 00:00:00\"],{\"frame\":{\"duration\":0,\"redraw\":true},\"mode\":\"immediate\",\"fromcurrent\":true,\"transition\":{\"duration\":0,\"easing\":\"linear\"}}],\"label\":\"2020-07-17 00:00:00\",\"method\":\"animate\"},{\"args\":[[\"2020-07-18 00:00:00\"],{\"frame\":{\"duration\":0,\"redraw\":true},\"mode\":\"immediate\",\"fromcurrent\":true,\"transition\":{\"duration\":0,\"easing\":\"linear\"}}],\"label\":\"2020-07-18 00:00:00\",\"method\":\"animate\"},{\"args\":[[\"2020-07-19 00:00:00\"],{\"frame\":{\"duration\":0,\"redraw\":true},\"mode\":\"immediate\",\"fromcurrent\":true,\"transition\":{\"duration\":0,\"easing\":\"linear\"}}],\"label\":\"2020-07-19 00:00:00\",\"method\":\"animate\"},{\"args\":[[\"2020-07-20 00:00:00\"],{\"frame\":{\"duration\":0,\"redraw\":true},\"mode\":\"immediate\",\"fromcurrent\":true,\"transition\":{\"duration\":0,\"easing\":\"linear\"}}],\"label\":\"2020-07-20 00:00:00\",\"method\":\"animate\"},{\"args\":[[\"2020-07-21 00:00:00\"],{\"frame\":{\"duration\":0,\"redraw\":true},\"mode\":\"immediate\",\"fromcurrent\":true,\"transition\":{\"duration\":0,\"easing\":\"linear\"}}],\"label\":\"2020-07-21 00:00:00\",\"method\":\"animate\"},{\"args\":[[\"2020-07-22 00:00:00\"],{\"frame\":{\"duration\":0,\"redraw\":true},\"mode\":\"immediate\",\"fromcurrent\":true,\"transition\":{\"duration\":0,\"easing\":\"linear\"}}],\"label\":\"2020-07-22 00:00:00\",\"method\":\"animate\"},{\"args\":[[\"2020-07-23 00:00:00\"],{\"frame\":{\"duration\":0,\"redraw\":true},\"mode\":\"immediate\",\"fromcurrent\":true,\"transition\":{\"duration\":0,\"easing\":\"linear\"}}],\"label\":\"2020-07-23 00:00:00\",\"method\":\"animate\"},{\"args\":[[\"2020-07-24 00:00:00\"],{\"frame\":{\"duration\":0,\"redraw\":true},\"mode\":\"immediate\",\"fromcurrent\":true,\"transition\":{\"duration\":0,\"easing\":\"linear\"}}],\"label\":\"2020-07-24 00:00:00\",\"method\":\"animate\"},{\"args\":[[\"2020-07-25 00:00:00\"],{\"frame\":{\"duration\":0,\"redraw\":true},\"mode\":\"immediate\",\"fromcurrent\":true,\"transition\":{\"duration\":0,\"easing\":\"linear\"}}],\"label\":\"2020-07-25 00:00:00\",\"method\":\"animate\"},{\"args\":[[\"2020-07-26 00:00:00\"],{\"frame\":{\"duration\":0,\"redraw\":true},\"mode\":\"immediate\",\"fromcurrent\":true,\"transition\":{\"duration\":0,\"easing\":\"linear\"}}],\"label\":\"2020-07-26 00:00:00\",\"method\":\"animate\"},{\"args\":[[\"2020-07-27 00:00:00\"],{\"frame\":{\"duration\":0,\"redraw\":true},\"mode\":\"immediate\",\"fromcurrent\":true,\"transition\":{\"duration\":0,\"easing\":\"linear\"}}],\"label\":\"2020-07-27 00:00:00\",\"method\":\"animate\"},{\"args\":[[\"2020-07-28 00:00:00\"],{\"frame\":{\"duration\":0,\"redraw\":true},\"mode\":\"immediate\",\"fromcurrent\":true,\"transition\":{\"duration\":0,\"easing\":\"linear\"}}],\"label\":\"2020-07-28 00:00:00\",\"method\":\"animate\"},{\"args\":[[\"2020-07-29 00:00:00\"],{\"frame\":{\"duration\":0,\"redraw\":true},\"mode\":\"immediate\",\"fromcurrent\":true,\"transition\":{\"duration\":0,\"easing\":\"linear\"}}],\"label\":\"2020-07-29 00:00:00\",\"method\":\"animate\"},{\"args\":[[\"2020-07-30 00:00:00\"],{\"frame\":{\"duration\":0,\"redraw\":true},\"mode\":\"immediate\",\"fromcurrent\":true,\"transition\":{\"duration\":0,\"easing\":\"linear\"}}],\"label\":\"2020-07-30 00:00:00\",\"method\":\"animate\"},{\"args\":[[\"2020-07-31 00:00:00\"],{\"frame\":{\"duration\":0,\"redraw\":true},\"mode\":\"immediate\",\"fromcurrent\":true,\"transition\":{\"duration\":0,\"easing\":\"linear\"}}],\"label\":\"2020-07-31 00:00:00\",\"method\":\"animate\"},{\"args\":[[\"2020-08-01 00:00:00\"],{\"frame\":{\"duration\":0,\"redraw\":true},\"mode\":\"immediate\",\"fromcurrent\":true,\"transition\":{\"duration\":0,\"easing\":\"linear\"}}],\"label\":\"2020-08-01 00:00:00\",\"method\":\"animate\"},{\"args\":[[\"2020-08-02 00:00:00\"],{\"frame\":{\"duration\":0,\"redraw\":true},\"mode\":\"immediate\",\"fromcurrent\":true,\"transition\":{\"duration\":0,\"easing\":\"linear\"}}],\"label\":\"2020-08-02 00:00:00\",\"method\":\"animate\"},{\"args\":[[\"2020-08-03 00:00:00\"],{\"frame\":{\"duration\":0,\"redraw\":true},\"mode\":\"immediate\",\"fromcurrent\":true,\"transition\":{\"duration\":0,\"easing\":\"linear\"}}],\"label\":\"2020-08-03 00:00:00\",\"method\":\"animate\"},{\"args\":[[\"2020-08-04 00:00:00\"],{\"frame\":{\"duration\":0,\"redraw\":true},\"mode\":\"immediate\",\"fromcurrent\":true,\"transition\":{\"duration\":0,\"easing\":\"linear\"}}],\"label\":\"2020-08-04 00:00:00\",\"method\":\"animate\"},{\"args\":[[\"2020-08-05 00:00:00\"],{\"frame\":{\"duration\":0,\"redraw\":true},\"mode\":\"immediate\",\"fromcurrent\":true,\"transition\":{\"duration\":0,\"easing\":\"linear\"}}],\"label\":\"2020-08-05 00:00:00\",\"method\":\"animate\"},{\"args\":[[\"2020-08-06 00:00:00\"],{\"frame\":{\"duration\":0,\"redraw\":true},\"mode\":\"immediate\",\"fromcurrent\":true,\"transition\":{\"duration\":0,\"easing\":\"linear\"}}],\"label\":\"2020-08-06 00:00:00\",\"method\":\"animate\"},{\"args\":[[\"2020-08-07 00:00:00\"],{\"frame\":{\"duration\":0,\"redraw\":true},\"mode\":\"immediate\",\"fromcurrent\":true,\"transition\":{\"duration\":0,\"easing\":\"linear\"}}],\"label\":\"2020-08-07 00:00:00\",\"method\":\"animate\"},{\"args\":[[\"2020-08-08 00:00:00\"],{\"frame\":{\"duration\":0,\"redraw\":true},\"mode\":\"immediate\",\"fromcurrent\":true,\"transition\":{\"duration\":0,\"easing\":\"linear\"}}],\"label\":\"2020-08-08 00:00:00\",\"method\":\"animate\"},{\"args\":[[\"2020-08-09 00:00:00\"],{\"frame\":{\"duration\":0,\"redraw\":true},\"mode\":\"immediate\",\"fromcurrent\":true,\"transition\":{\"duration\":0,\"easing\":\"linear\"}}],\"label\":\"2020-08-09 00:00:00\",\"method\":\"animate\"},{\"args\":[[\"2020-08-10 00:00:00\"],{\"frame\":{\"duration\":0,\"redraw\":true},\"mode\":\"immediate\",\"fromcurrent\":true,\"transition\":{\"duration\":0,\"easing\":\"linear\"}}],\"label\":\"2020-08-10 00:00:00\",\"method\":\"animate\"},{\"args\":[[\"2020-08-11 00:00:00\"],{\"frame\":{\"duration\":0,\"redraw\":true},\"mode\":\"immediate\",\"fromcurrent\":true,\"transition\":{\"duration\":0,\"easing\":\"linear\"}}],\"label\":\"2020-08-11 00:00:00\",\"method\":\"animate\"},{\"args\":[[\"2020-08-12 00:00:00\"],{\"frame\":{\"duration\":0,\"redraw\":true},\"mode\":\"immediate\",\"fromcurrent\":true,\"transition\":{\"duration\":0,\"easing\":\"linear\"}}],\"label\":\"2020-08-12 00:00:00\",\"method\":\"animate\"},{\"args\":[[\"2020-08-13 00:00:00\"],{\"frame\":{\"duration\":0,\"redraw\":true},\"mode\":\"immediate\",\"fromcurrent\":true,\"transition\":{\"duration\":0,\"easing\":\"linear\"}}],\"label\":\"2020-08-13 00:00:00\",\"method\":\"animate\"},{\"args\":[[\"2020-08-14 00:00:00\"],{\"frame\":{\"duration\":0,\"redraw\":true},\"mode\":\"immediate\",\"fromcurrent\":true,\"transition\":{\"duration\":0,\"easing\":\"linear\"}}],\"label\":\"2020-08-14 00:00:00\",\"method\":\"animate\"},{\"args\":[[\"2020-08-15 00:00:00\"],{\"frame\":{\"duration\":0,\"redraw\":true},\"mode\":\"immediate\",\"fromcurrent\":true,\"transition\":{\"duration\":0,\"easing\":\"linear\"}}],\"label\":\"2020-08-15 00:00:00\",\"method\":\"animate\"},{\"args\":[[\"2020-08-16 00:00:00\"],{\"frame\":{\"duration\":0,\"redraw\":true},\"mode\":\"immediate\",\"fromcurrent\":true,\"transition\":{\"duration\":0,\"easing\":\"linear\"}}],\"label\":\"2020-08-16 00:00:00\",\"method\":\"animate\"},{\"args\":[[\"2020-08-17 00:00:00\"],{\"frame\":{\"duration\":0,\"redraw\":true},\"mode\":\"immediate\",\"fromcurrent\":true,\"transition\":{\"duration\":0,\"easing\":\"linear\"}}],\"label\":\"2020-08-17 00:00:00\",\"method\":\"animate\"},{\"args\":[[\"2020-08-18 00:00:00\"],{\"frame\":{\"duration\":0,\"redraw\":true},\"mode\":\"immediate\",\"fromcurrent\":true,\"transition\":{\"duration\":0,\"easing\":\"linear\"}}],\"label\":\"2020-08-18 00:00:00\",\"method\":\"animate\"},{\"args\":[[\"2020-08-19 00:00:00\"],{\"frame\":{\"duration\":0,\"redraw\":true},\"mode\":\"immediate\",\"fromcurrent\":true,\"transition\":{\"duration\":0,\"easing\":\"linear\"}}],\"label\":\"2020-08-19 00:00:00\",\"method\":\"animate\"},{\"args\":[[\"2020-08-20 00:00:00\"],{\"frame\":{\"duration\":0,\"redraw\":true},\"mode\":\"immediate\",\"fromcurrent\":true,\"transition\":{\"duration\":0,\"easing\":\"linear\"}}],\"label\":\"2020-08-20 00:00:00\",\"method\":\"animate\"},{\"args\":[[\"2020-08-21 00:00:00\"],{\"frame\":{\"duration\":0,\"redraw\":true},\"mode\":\"immediate\",\"fromcurrent\":true,\"transition\":{\"duration\":0,\"easing\":\"linear\"}}],\"label\":\"2020-08-21 00:00:00\",\"method\":\"animate\"},{\"args\":[[\"2020-08-22 00:00:00\"],{\"frame\":{\"duration\":0,\"redraw\":true},\"mode\":\"immediate\",\"fromcurrent\":true,\"transition\":{\"duration\":0,\"easing\":\"linear\"}}],\"label\":\"2020-08-22 00:00:00\",\"method\":\"animate\"},{\"args\":[[\"2020-08-23 00:00:00\"],{\"frame\":{\"duration\":0,\"redraw\":true},\"mode\":\"immediate\",\"fromcurrent\":true,\"transition\":{\"duration\":0,\"easing\":\"linear\"}}],\"label\":\"2020-08-23 00:00:00\",\"method\":\"animate\"},{\"args\":[[\"2020-08-24 00:00:00\"],{\"frame\":{\"duration\":0,\"redraw\":true},\"mode\":\"immediate\",\"fromcurrent\":true,\"transition\":{\"duration\":0,\"easing\":\"linear\"}}],\"label\":\"2020-08-24 00:00:00\",\"method\":\"animate\"},{\"args\":[[\"2020-08-25 00:00:00\"],{\"frame\":{\"duration\":0,\"redraw\":true},\"mode\":\"immediate\",\"fromcurrent\":true,\"transition\":{\"duration\":0,\"easing\":\"linear\"}}],\"label\":\"2020-08-25 00:00:00\",\"method\":\"animate\"},{\"args\":[[\"2020-08-26 00:00:00\"],{\"frame\":{\"duration\":0,\"redraw\":true},\"mode\":\"immediate\",\"fromcurrent\":true,\"transition\":{\"duration\":0,\"easing\":\"linear\"}}],\"label\":\"2020-08-26 00:00:00\",\"method\":\"animate\"},{\"args\":[[\"2020-08-27 00:00:00\"],{\"frame\":{\"duration\":0,\"redraw\":true},\"mode\":\"immediate\",\"fromcurrent\":true,\"transition\":{\"duration\":0,\"easing\":\"linear\"}}],\"label\":\"2020-08-27 00:00:00\",\"method\":\"animate\"},{\"args\":[[\"2020-08-28 00:00:00\"],{\"frame\":{\"duration\":0,\"redraw\":true},\"mode\":\"immediate\",\"fromcurrent\":true,\"transition\":{\"duration\":0,\"easing\":\"linear\"}}],\"label\":\"2020-08-28 00:00:00\",\"method\":\"animate\"},{\"args\":[[\"2020-08-29 00:00:00\"],{\"frame\":{\"duration\":0,\"redraw\":true},\"mode\":\"immediate\",\"fromcurrent\":true,\"transition\":{\"duration\":0,\"easing\":\"linear\"}}],\"label\":\"2020-08-29 00:00:00\",\"method\":\"animate\"},{\"args\":[[\"2020-08-30 00:00:00\"],{\"frame\":{\"duration\":0,\"redraw\":true},\"mode\":\"immediate\",\"fromcurrent\":true,\"transition\":{\"duration\":0,\"easing\":\"linear\"}}],\"label\":\"2020-08-30 00:00:00\",\"method\":\"animate\"},{\"args\":[[\"2020-08-31 00:00:00\"],{\"frame\":{\"duration\":0,\"redraw\":true},\"mode\":\"immediate\",\"fromcurrent\":true,\"transition\":{\"duration\":0,\"easing\":\"linear\"}}],\"label\":\"2020-08-31 00:00:00\",\"method\":\"animate\"},{\"args\":[[\"2020-09-01 00:00:00\"],{\"frame\":{\"duration\":0,\"redraw\":true},\"mode\":\"immediate\",\"fromcurrent\":true,\"transition\":{\"duration\":0,\"easing\":\"linear\"}}],\"label\":\"2020-09-01 00:00:00\",\"method\":\"animate\"},{\"args\":[[\"2020-09-02 00:00:00\"],{\"frame\":{\"duration\":0,\"redraw\":true},\"mode\":\"immediate\",\"fromcurrent\":true,\"transition\":{\"duration\":0,\"easing\":\"linear\"}}],\"label\":\"2020-09-02 00:00:00\",\"method\":\"animate\"},{\"args\":[[\"2020-09-03 00:00:00\"],{\"frame\":{\"duration\":0,\"redraw\":true},\"mode\":\"immediate\",\"fromcurrent\":true,\"transition\":{\"duration\":0,\"easing\":\"linear\"}}],\"label\":\"2020-09-03 00:00:00\",\"method\":\"animate\"},{\"args\":[[\"2020-09-04 00:00:00\"],{\"frame\":{\"duration\":0,\"redraw\":true},\"mode\":\"immediate\",\"fromcurrent\":true,\"transition\":{\"duration\":0,\"easing\":\"linear\"}}],\"label\":\"2020-09-04 00:00:00\",\"method\":\"animate\"},{\"args\":[[\"2020-09-05 00:00:00\"],{\"frame\":{\"duration\":0,\"redraw\":true},\"mode\":\"immediate\",\"fromcurrent\":true,\"transition\":{\"duration\":0,\"easing\":\"linear\"}}],\"label\":\"2020-09-05 00:00:00\",\"method\":\"animate\"},{\"args\":[[\"2020-09-06 00:00:00\"],{\"frame\":{\"duration\":0,\"redraw\":true},\"mode\":\"immediate\",\"fromcurrent\":true,\"transition\":{\"duration\":0,\"easing\":\"linear\"}}],\"label\":\"2020-09-06 00:00:00\",\"method\":\"animate\"},{\"args\":[[\"2020-09-07 00:00:00\"],{\"frame\":{\"duration\":0,\"redraw\":true},\"mode\":\"immediate\",\"fromcurrent\":true,\"transition\":{\"duration\":0,\"easing\":\"linear\"}}],\"label\":\"2020-09-07 00:00:00\",\"method\":\"animate\"},{\"args\":[[\"2020-09-08 00:00:00\"],{\"frame\":{\"duration\":0,\"redraw\":true},\"mode\":\"immediate\",\"fromcurrent\":true,\"transition\":{\"duration\":0,\"easing\":\"linear\"}}],\"label\":\"2020-09-08 00:00:00\",\"method\":\"animate\"},{\"args\":[[\"2020-09-09 00:00:00\"],{\"frame\":{\"duration\":0,\"redraw\":true},\"mode\":\"immediate\",\"fromcurrent\":true,\"transition\":{\"duration\":0,\"easing\":\"linear\"}}],\"label\":\"2020-09-09 00:00:00\",\"method\":\"animate\"},{\"args\":[[\"2020-09-10 00:00:00\"],{\"frame\":{\"duration\":0,\"redraw\":true},\"mode\":\"immediate\",\"fromcurrent\":true,\"transition\":{\"duration\":0,\"easing\":\"linear\"}}],\"label\":\"2020-09-10 00:00:00\",\"method\":\"animate\"},{\"args\":[[\"2020-09-11 00:00:00\"],{\"frame\":{\"duration\":0,\"redraw\":true},\"mode\":\"immediate\",\"fromcurrent\":true,\"transition\":{\"duration\":0,\"easing\":\"linear\"}}],\"label\":\"2020-09-11 00:00:00\",\"method\":\"animate\"},{\"args\":[[\"2020-09-12 00:00:00\"],{\"frame\":{\"duration\":0,\"redraw\":true},\"mode\":\"immediate\",\"fromcurrent\":true,\"transition\":{\"duration\":0,\"easing\":\"linear\"}}],\"label\":\"2020-09-12 00:00:00\",\"method\":\"animate\"},{\"args\":[[\"2020-09-13 00:00:00\"],{\"frame\":{\"duration\":0,\"redraw\":true},\"mode\":\"immediate\",\"fromcurrent\":true,\"transition\":{\"duration\":0,\"easing\":\"linear\"}}],\"label\":\"2020-09-13 00:00:00\",\"method\":\"animate\"},{\"args\":[[\"2020-09-14 00:00:00\"],{\"frame\":{\"duration\":0,\"redraw\":true},\"mode\":\"immediate\",\"fromcurrent\":true,\"transition\":{\"duration\":0,\"easing\":\"linear\"}}],\"label\":\"2020-09-14 00:00:00\",\"method\":\"animate\"},{\"args\":[[\"2020-09-15 00:00:00\"],{\"frame\":{\"duration\":0,\"redraw\":true},\"mode\":\"immediate\",\"fromcurrent\":true,\"transition\":{\"duration\":0,\"easing\":\"linear\"}}],\"label\":\"2020-09-15 00:00:00\",\"method\":\"animate\"},{\"args\":[[\"2020-09-16 00:00:00\"],{\"frame\":{\"duration\":0,\"redraw\":true},\"mode\":\"immediate\",\"fromcurrent\":true,\"transition\":{\"duration\":0,\"easing\":\"linear\"}}],\"label\":\"2020-09-16 00:00:00\",\"method\":\"animate\"},{\"args\":[[\"2020-09-17 00:00:00\"],{\"frame\":{\"duration\":0,\"redraw\":true},\"mode\":\"immediate\",\"fromcurrent\":true,\"transition\":{\"duration\":0,\"easing\":\"linear\"}}],\"label\":\"2020-09-17 00:00:00\",\"method\":\"animate\"},{\"args\":[[\"2020-09-18 00:00:00\"],{\"frame\":{\"duration\":0,\"redraw\":true},\"mode\":\"immediate\",\"fromcurrent\":true,\"transition\":{\"duration\":0,\"easing\":\"linear\"}}],\"label\":\"2020-09-18 00:00:00\",\"method\":\"animate\"},{\"args\":[[\"2020-09-19 00:00:00\"],{\"frame\":{\"duration\":0,\"redraw\":true},\"mode\":\"immediate\",\"fromcurrent\":true,\"transition\":{\"duration\":0,\"easing\":\"linear\"}}],\"label\":\"2020-09-19 00:00:00\",\"method\":\"animate\"},{\"args\":[[\"2020-09-20 00:00:00\"],{\"frame\":{\"duration\":0,\"redraw\":true},\"mode\":\"immediate\",\"fromcurrent\":true,\"transition\":{\"duration\":0,\"easing\":\"linear\"}}],\"label\":\"2020-09-20 00:00:00\",\"method\":\"animate\"},{\"args\":[[\"2020-09-21 00:00:00\"],{\"frame\":{\"duration\":0,\"redraw\":true},\"mode\":\"immediate\",\"fromcurrent\":true,\"transition\":{\"duration\":0,\"easing\":\"linear\"}}],\"label\":\"2020-09-21 00:00:00\",\"method\":\"animate\"},{\"args\":[[\"2020-09-22 00:00:00\"],{\"frame\":{\"duration\":0,\"redraw\":true},\"mode\":\"immediate\",\"fromcurrent\":true,\"transition\":{\"duration\":0,\"easing\":\"linear\"}}],\"label\":\"2020-09-22 00:00:00\",\"method\":\"animate\"},{\"args\":[[\"2020-09-23 00:00:00\"],{\"frame\":{\"duration\":0,\"redraw\":true},\"mode\":\"immediate\",\"fromcurrent\":true,\"transition\":{\"duration\":0,\"easing\":\"linear\"}}],\"label\":\"2020-09-23 00:00:00\",\"method\":\"animate\"},{\"args\":[[\"2020-09-24 00:00:00\"],{\"frame\":{\"duration\":0,\"redraw\":true},\"mode\":\"immediate\",\"fromcurrent\":true,\"transition\":{\"duration\":0,\"easing\":\"linear\"}}],\"label\":\"2020-09-24 00:00:00\",\"method\":\"animate\"},{\"args\":[[\"2020-09-25 00:00:00\"],{\"frame\":{\"duration\":0,\"redraw\":true},\"mode\":\"immediate\",\"fromcurrent\":true,\"transition\":{\"duration\":0,\"easing\":\"linear\"}}],\"label\":\"2020-09-25 00:00:00\",\"method\":\"animate\"},{\"args\":[[\"2020-09-26 00:00:00\"],{\"frame\":{\"duration\":0,\"redraw\":true},\"mode\":\"immediate\",\"fromcurrent\":true,\"transition\":{\"duration\":0,\"easing\":\"linear\"}}],\"label\":\"2020-09-26 00:00:00\",\"method\":\"animate\"},{\"args\":[[\"2020-09-27 00:00:00\"],{\"frame\":{\"duration\":0,\"redraw\":true},\"mode\":\"immediate\",\"fromcurrent\":true,\"transition\":{\"duration\":0,\"easing\":\"linear\"}}],\"label\":\"2020-09-27 00:00:00\",\"method\":\"animate\"},{\"args\":[[\"2020-09-28 00:00:00\"],{\"frame\":{\"duration\":0,\"redraw\":true},\"mode\":\"immediate\",\"fromcurrent\":true,\"transition\":{\"duration\":0,\"easing\":\"linear\"}}],\"label\":\"2020-09-28 00:00:00\",\"method\":\"animate\"},{\"args\":[[\"2020-09-29 00:00:00\"],{\"frame\":{\"duration\":0,\"redraw\":true},\"mode\":\"immediate\",\"fromcurrent\":true,\"transition\":{\"duration\":0,\"easing\":\"linear\"}}],\"label\":\"2020-09-29 00:00:00\",\"method\":\"animate\"},{\"args\":[[\"2020-09-30 00:00:00\"],{\"frame\":{\"duration\":0,\"redraw\":true},\"mode\":\"immediate\",\"fromcurrent\":true,\"transition\":{\"duration\":0,\"easing\":\"linear\"}}],\"label\":\"2020-09-30 00:00:00\",\"method\":\"animate\"},{\"args\":[[\"2020-10-01 00:00:00\"],{\"frame\":{\"duration\":0,\"redraw\":true},\"mode\":\"immediate\",\"fromcurrent\":true,\"transition\":{\"duration\":0,\"easing\":\"linear\"}}],\"label\":\"2020-10-01 00:00:00\",\"method\":\"animate\"},{\"args\":[[\"2020-10-02 00:00:00\"],{\"frame\":{\"duration\":0,\"redraw\":true},\"mode\":\"immediate\",\"fromcurrent\":true,\"transition\":{\"duration\":0,\"easing\":\"linear\"}}],\"label\":\"2020-10-02 00:00:00\",\"method\":\"animate\"},{\"args\":[[\"2020-10-03 00:00:00\"],{\"frame\":{\"duration\":0,\"redraw\":true},\"mode\":\"immediate\",\"fromcurrent\":true,\"transition\":{\"duration\":0,\"easing\":\"linear\"}}],\"label\":\"2020-10-03 00:00:00\",\"method\":\"animate\"},{\"args\":[[\"2020-10-04 00:00:00\"],{\"frame\":{\"duration\":0,\"redraw\":true},\"mode\":\"immediate\",\"fromcurrent\":true,\"transition\":{\"duration\":0,\"easing\":\"linear\"}}],\"label\":\"2020-10-04 00:00:00\",\"method\":\"animate\"},{\"args\":[[\"2020-10-05 00:00:00\"],{\"frame\":{\"duration\":0,\"redraw\":true},\"mode\":\"immediate\",\"fromcurrent\":true,\"transition\":{\"duration\":0,\"easing\":\"linear\"}}],\"label\":\"2020-10-05 00:00:00\",\"method\":\"animate\"},{\"args\":[[\"2020-10-06 00:00:00\"],{\"frame\":{\"duration\":0,\"redraw\":true},\"mode\":\"immediate\",\"fromcurrent\":true,\"transition\":{\"duration\":0,\"easing\":\"linear\"}}],\"label\":\"2020-10-06 00:00:00\",\"method\":\"animate\"},{\"args\":[[\"2020-10-07 00:00:00\"],{\"frame\":{\"duration\":0,\"redraw\":true},\"mode\":\"immediate\",\"fromcurrent\":true,\"transition\":{\"duration\":0,\"easing\":\"linear\"}}],\"label\":\"2020-10-07 00:00:00\",\"method\":\"animate\"},{\"args\":[[\"2020-10-08 00:00:00\"],{\"frame\":{\"duration\":0,\"redraw\":true},\"mode\":\"immediate\",\"fromcurrent\":true,\"transition\":{\"duration\":0,\"easing\":\"linear\"}}],\"label\":\"2020-10-08 00:00:00\",\"method\":\"animate\"},{\"args\":[[\"2020-10-09 00:00:00\"],{\"frame\":{\"duration\":0,\"redraw\":true},\"mode\":\"immediate\",\"fromcurrent\":true,\"transition\":{\"duration\":0,\"easing\":\"linear\"}}],\"label\":\"2020-10-09 00:00:00\",\"method\":\"animate\"},{\"args\":[[\"2020-10-10 00:00:00\"],{\"frame\":{\"duration\":0,\"redraw\":true},\"mode\":\"immediate\",\"fromcurrent\":true,\"transition\":{\"duration\":0,\"easing\":\"linear\"}}],\"label\":\"2020-10-10 00:00:00\",\"method\":\"animate\"},{\"args\":[[\"2020-10-11 00:00:00\"],{\"frame\":{\"duration\":0,\"redraw\":true},\"mode\":\"immediate\",\"fromcurrent\":true,\"transition\":{\"duration\":0,\"easing\":\"linear\"}}],\"label\":\"2020-10-11 00:00:00\",\"method\":\"animate\"},{\"args\":[[\"2020-10-12 00:00:00\"],{\"frame\":{\"duration\":0,\"redraw\":true},\"mode\":\"immediate\",\"fromcurrent\":true,\"transition\":{\"duration\":0,\"easing\":\"linear\"}}],\"label\":\"2020-10-12 00:00:00\",\"method\":\"animate\"},{\"args\":[[\"2020-10-13 00:00:00\"],{\"frame\":{\"duration\":0,\"redraw\":true},\"mode\":\"immediate\",\"fromcurrent\":true,\"transition\":{\"duration\":0,\"easing\":\"linear\"}}],\"label\":\"2020-10-13 00:00:00\",\"method\":\"animate\"},{\"args\":[[\"2020-10-14 00:00:00\"],{\"frame\":{\"duration\":0,\"redraw\":true},\"mode\":\"immediate\",\"fromcurrent\":true,\"transition\":{\"duration\":0,\"easing\":\"linear\"}}],\"label\":\"2020-10-14 00:00:00\",\"method\":\"animate\"},{\"args\":[[\"2020-10-15 00:00:00\"],{\"frame\":{\"duration\":0,\"redraw\":true},\"mode\":\"immediate\",\"fromcurrent\":true,\"transition\":{\"duration\":0,\"easing\":\"linear\"}}],\"label\":\"2020-10-15 00:00:00\",\"method\":\"animate\"},{\"args\":[[\"2020-10-16 00:00:00\"],{\"frame\":{\"duration\":0,\"redraw\":true},\"mode\":\"immediate\",\"fromcurrent\":true,\"transition\":{\"duration\":0,\"easing\":\"linear\"}}],\"label\":\"2020-10-16 00:00:00\",\"method\":\"animate\"},{\"args\":[[\"2020-10-17 00:00:00\"],{\"frame\":{\"duration\":0,\"redraw\":true},\"mode\":\"immediate\",\"fromcurrent\":true,\"transition\":{\"duration\":0,\"easing\":\"linear\"}}],\"label\":\"2020-10-17 00:00:00\",\"method\":\"animate\"},{\"args\":[[\"2020-10-18 00:00:00\"],{\"frame\":{\"duration\":0,\"redraw\":true},\"mode\":\"immediate\",\"fromcurrent\":true,\"transition\":{\"duration\":0,\"easing\":\"linear\"}}],\"label\":\"2020-10-18 00:00:00\",\"method\":\"animate\"},{\"args\":[[\"2020-10-19 00:00:00\"],{\"frame\":{\"duration\":0,\"redraw\":true},\"mode\":\"immediate\",\"fromcurrent\":true,\"transition\":{\"duration\":0,\"easing\":\"linear\"}}],\"label\":\"2020-10-19 00:00:00\",\"method\":\"animate\"},{\"args\":[[\"2020-10-20 00:00:00\"],{\"frame\":{\"duration\":0,\"redraw\":true},\"mode\":\"immediate\",\"fromcurrent\":true,\"transition\":{\"duration\":0,\"easing\":\"linear\"}}],\"label\":\"2020-10-20 00:00:00\",\"method\":\"animate\"},{\"args\":[[\"2020-10-21 00:00:00\"],{\"frame\":{\"duration\":0,\"redraw\":true},\"mode\":\"immediate\",\"fromcurrent\":true,\"transition\":{\"duration\":0,\"easing\":\"linear\"}}],\"label\":\"2020-10-21 00:00:00\",\"method\":\"animate\"},{\"args\":[[\"2020-10-22 00:00:00\"],{\"frame\":{\"duration\":0,\"redraw\":true},\"mode\":\"immediate\",\"fromcurrent\":true,\"transition\":{\"duration\":0,\"easing\":\"linear\"}}],\"label\":\"2020-10-22 00:00:00\",\"method\":\"animate\"},{\"args\":[[\"2020-10-23 00:00:00\"],{\"frame\":{\"duration\":0,\"redraw\":true},\"mode\":\"immediate\",\"fromcurrent\":true,\"transition\":{\"duration\":0,\"easing\":\"linear\"}}],\"label\":\"2020-10-23 00:00:00\",\"method\":\"animate\"},{\"args\":[[\"2020-10-24 00:00:00\"],{\"frame\":{\"duration\":0,\"redraw\":true},\"mode\":\"immediate\",\"fromcurrent\":true,\"transition\":{\"duration\":0,\"easing\":\"linear\"}}],\"label\":\"2020-10-24 00:00:00\",\"method\":\"animate\"},{\"args\":[[\"2020-10-25 00:00:00\"],{\"frame\":{\"duration\":0,\"redraw\":true},\"mode\":\"immediate\",\"fromcurrent\":true,\"transition\":{\"duration\":0,\"easing\":\"linear\"}}],\"label\":\"2020-10-25 00:00:00\",\"method\":\"animate\"},{\"args\":[[\"2020-10-26 00:00:00\"],{\"frame\":{\"duration\":0,\"redraw\":true},\"mode\":\"immediate\",\"fromcurrent\":true,\"transition\":{\"duration\":0,\"easing\":\"linear\"}}],\"label\":\"2020-10-26 00:00:00\",\"method\":\"animate\"},{\"args\":[[\"2020-10-27 00:00:00\"],{\"frame\":{\"duration\":0,\"redraw\":true},\"mode\":\"immediate\",\"fromcurrent\":true,\"transition\":{\"duration\":0,\"easing\":\"linear\"}}],\"label\":\"2020-10-27 00:00:00\",\"method\":\"animate\"},{\"args\":[[\"2020-10-28 00:00:00\"],{\"frame\":{\"duration\":0,\"redraw\":true},\"mode\":\"immediate\",\"fromcurrent\":true,\"transition\":{\"duration\":0,\"easing\":\"linear\"}}],\"label\":\"2020-10-28 00:00:00\",\"method\":\"animate\"},{\"args\":[[\"2020-10-29 00:00:00\"],{\"frame\":{\"duration\":0,\"redraw\":true},\"mode\":\"immediate\",\"fromcurrent\":true,\"transition\":{\"duration\":0,\"easing\":\"linear\"}}],\"label\":\"2020-10-29 00:00:00\",\"method\":\"animate\"},{\"args\":[[\"2020-10-30 00:00:00\"],{\"frame\":{\"duration\":0,\"redraw\":true},\"mode\":\"immediate\",\"fromcurrent\":true,\"transition\":{\"duration\":0,\"easing\":\"linear\"}}],\"label\":\"2020-10-30 00:00:00\",\"method\":\"animate\"},{\"args\":[[\"2020-10-31 00:00:00\"],{\"frame\":{\"duration\":0,\"redraw\":true},\"mode\":\"immediate\",\"fromcurrent\":true,\"transition\":{\"duration\":0,\"easing\":\"linear\"}}],\"label\":\"2020-10-31 00:00:00\",\"method\":\"animate\"},{\"args\":[[\"2020-11-01 00:00:00\"],{\"frame\":{\"duration\":0,\"redraw\":true},\"mode\":\"immediate\",\"fromcurrent\":true,\"transition\":{\"duration\":0,\"easing\":\"linear\"}}],\"label\":\"2020-11-01 00:00:00\",\"method\":\"animate\"},{\"args\":[[\"2020-11-02 00:00:00\"],{\"frame\":{\"duration\":0,\"redraw\":true},\"mode\":\"immediate\",\"fromcurrent\":true,\"transition\":{\"duration\":0,\"easing\":\"linear\"}}],\"label\":\"2020-11-02 00:00:00\",\"method\":\"animate\"},{\"args\":[[\"2020-11-03 00:00:00\"],{\"frame\":{\"duration\":0,\"redraw\":true},\"mode\":\"immediate\",\"fromcurrent\":true,\"transition\":{\"duration\":0,\"easing\":\"linear\"}}],\"label\":\"2020-11-03 00:00:00\",\"method\":\"animate\"},{\"args\":[[\"2020-11-04 00:00:00\"],{\"frame\":{\"duration\":0,\"redraw\":true},\"mode\":\"immediate\",\"fromcurrent\":true,\"transition\":{\"duration\":0,\"easing\":\"linear\"}}],\"label\":\"2020-11-04 00:00:00\",\"method\":\"animate\"},{\"args\":[[\"2020-11-05 00:00:00\"],{\"frame\":{\"duration\":0,\"redraw\":true},\"mode\":\"immediate\",\"fromcurrent\":true,\"transition\":{\"duration\":0,\"easing\":\"linear\"}}],\"label\":\"2020-11-05 00:00:00\",\"method\":\"animate\"},{\"args\":[[\"2020-11-06 00:00:00\"],{\"frame\":{\"duration\":0,\"redraw\":true},\"mode\":\"immediate\",\"fromcurrent\":true,\"transition\":{\"duration\":0,\"easing\":\"linear\"}}],\"label\":\"2020-11-06 00:00:00\",\"method\":\"animate\"},{\"args\":[[\"2020-11-07 00:00:00\"],{\"frame\":{\"duration\":0,\"redraw\":true},\"mode\":\"immediate\",\"fromcurrent\":true,\"transition\":{\"duration\":0,\"easing\":\"linear\"}}],\"label\":\"2020-11-07 00:00:00\",\"method\":\"animate\"},{\"args\":[[\"2020-11-08 00:00:00\"],{\"frame\":{\"duration\":0,\"redraw\":true},\"mode\":\"immediate\",\"fromcurrent\":true,\"transition\":{\"duration\":0,\"easing\":\"linear\"}}],\"label\":\"2020-11-08 00:00:00\",\"method\":\"animate\"},{\"args\":[[\"2020-11-09 00:00:00\"],{\"frame\":{\"duration\":0,\"redraw\":true},\"mode\":\"immediate\",\"fromcurrent\":true,\"transition\":{\"duration\":0,\"easing\":\"linear\"}}],\"label\":\"2020-11-09 00:00:00\",\"method\":\"animate\"},{\"args\":[[\"2020-11-10 00:00:00\"],{\"frame\":{\"duration\":0,\"redraw\":true},\"mode\":\"immediate\",\"fromcurrent\":true,\"transition\":{\"duration\":0,\"easing\":\"linear\"}}],\"label\":\"2020-11-10 00:00:00\",\"method\":\"animate\"},{\"args\":[[\"2020-11-11 00:00:00\"],{\"frame\":{\"duration\":0,\"redraw\":true},\"mode\":\"immediate\",\"fromcurrent\":true,\"transition\":{\"duration\":0,\"easing\":\"linear\"}}],\"label\":\"2020-11-11 00:00:00\",\"method\":\"animate\"},{\"args\":[[\"2020-11-12 00:00:00\"],{\"frame\":{\"duration\":0,\"redraw\":true},\"mode\":\"immediate\",\"fromcurrent\":true,\"transition\":{\"duration\":0,\"easing\":\"linear\"}}],\"label\":\"2020-11-12 00:00:00\",\"method\":\"animate\"},{\"args\":[[\"2020-11-13 00:00:00\"],{\"frame\":{\"duration\":0,\"redraw\":true},\"mode\":\"immediate\",\"fromcurrent\":true,\"transition\":{\"duration\":0,\"easing\":\"linear\"}}],\"label\":\"2020-11-13 00:00:00\",\"method\":\"animate\"},{\"args\":[[\"2020-11-14 00:00:00\"],{\"frame\":{\"duration\":0,\"redraw\":true},\"mode\":\"immediate\",\"fromcurrent\":true,\"transition\":{\"duration\":0,\"easing\":\"linear\"}}],\"label\":\"2020-11-14 00:00:00\",\"method\":\"animate\"},{\"args\":[[\"2020-11-15 00:00:00\"],{\"frame\":{\"duration\":0,\"redraw\":true},\"mode\":\"immediate\",\"fromcurrent\":true,\"transition\":{\"duration\":0,\"easing\":\"linear\"}}],\"label\":\"2020-11-15 00:00:00\",\"method\":\"animate\"},{\"args\":[[\"2020-11-16 00:00:00\"],{\"frame\":{\"duration\":0,\"redraw\":true},\"mode\":\"immediate\",\"fromcurrent\":true,\"transition\":{\"duration\":0,\"easing\":\"linear\"}}],\"label\":\"2020-11-16 00:00:00\",\"method\":\"animate\"},{\"args\":[[\"2020-11-17 00:00:00\"],{\"frame\":{\"duration\":0,\"redraw\":true},\"mode\":\"immediate\",\"fromcurrent\":true,\"transition\":{\"duration\":0,\"easing\":\"linear\"}}],\"label\":\"2020-11-17 00:00:00\",\"method\":\"animate\"},{\"args\":[[\"2020-11-18 00:00:00\"],{\"frame\":{\"duration\":0,\"redraw\":true},\"mode\":\"immediate\",\"fromcurrent\":true,\"transition\":{\"duration\":0,\"easing\":\"linear\"}}],\"label\":\"2020-11-18 00:00:00\",\"method\":\"animate\"},{\"args\":[[\"2020-11-19 00:00:00\"],{\"frame\":{\"duration\":0,\"redraw\":true},\"mode\":\"immediate\",\"fromcurrent\":true,\"transition\":{\"duration\":0,\"easing\":\"linear\"}}],\"label\":\"2020-11-19 00:00:00\",\"method\":\"animate\"},{\"args\":[[\"2020-11-20 00:00:00\"],{\"frame\":{\"duration\":0,\"redraw\":true},\"mode\":\"immediate\",\"fromcurrent\":true,\"transition\":{\"duration\":0,\"easing\":\"linear\"}}],\"label\":\"2020-11-20 00:00:00\",\"method\":\"animate\"},{\"args\":[[\"2020-11-21 00:00:00\"],{\"frame\":{\"duration\":0,\"redraw\":true},\"mode\":\"immediate\",\"fromcurrent\":true,\"transition\":{\"duration\":0,\"easing\":\"linear\"}}],\"label\":\"2020-11-21 00:00:00\",\"method\":\"animate\"},{\"args\":[[\"2020-11-22 00:00:00\"],{\"frame\":{\"duration\":0,\"redraw\":true},\"mode\":\"immediate\",\"fromcurrent\":true,\"transition\":{\"duration\":0,\"easing\":\"linear\"}}],\"label\":\"2020-11-22 00:00:00\",\"method\":\"animate\"},{\"args\":[[\"2020-11-23 00:00:00\"],{\"frame\":{\"duration\":0,\"redraw\":true},\"mode\":\"immediate\",\"fromcurrent\":true,\"transition\":{\"duration\":0,\"easing\":\"linear\"}}],\"label\":\"2020-11-23 00:00:00\",\"method\":\"animate\"},{\"args\":[[\"2020-11-24 00:00:00\"],{\"frame\":{\"duration\":0,\"redraw\":true},\"mode\":\"immediate\",\"fromcurrent\":true,\"transition\":{\"duration\":0,\"easing\":\"linear\"}}],\"label\":\"2020-11-24 00:00:00\",\"method\":\"animate\"},{\"args\":[[\"2020-11-25 00:00:00\"],{\"frame\":{\"duration\":0,\"redraw\":true},\"mode\":\"immediate\",\"fromcurrent\":true,\"transition\":{\"duration\":0,\"easing\":\"linear\"}}],\"label\":\"2020-11-25 00:00:00\",\"method\":\"animate\"},{\"args\":[[\"2020-11-26 00:00:00\"],{\"frame\":{\"duration\":0,\"redraw\":true},\"mode\":\"immediate\",\"fromcurrent\":true,\"transition\":{\"duration\":0,\"easing\":\"linear\"}}],\"label\":\"2020-11-26 00:00:00\",\"method\":\"animate\"},{\"args\":[[\"2020-11-27 00:00:00\"],{\"frame\":{\"duration\":0,\"redraw\":true},\"mode\":\"immediate\",\"fromcurrent\":true,\"transition\":{\"duration\":0,\"easing\":\"linear\"}}],\"label\":\"2020-11-27 00:00:00\",\"method\":\"animate\"},{\"args\":[[\"2020-11-28 00:00:00\"],{\"frame\":{\"duration\":0,\"redraw\":true},\"mode\":\"immediate\",\"fromcurrent\":true,\"transition\":{\"duration\":0,\"easing\":\"linear\"}}],\"label\":\"2020-11-28 00:00:00\",\"method\":\"animate\"},{\"args\":[[\"2020-11-29 00:00:00\"],{\"frame\":{\"duration\":0,\"redraw\":true},\"mode\":\"immediate\",\"fromcurrent\":true,\"transition\":{\"duration\":0,\"easing\":\"linear\"}}],\"label\":\"2020-11-29 00:00:00\",\"method\":\"animate\"},{\"args\":[[\"2020-11-30 00:00:00\"],{\"frame\":{\"duration\":0,\"redraw\":true},\"mode\":\"immediate\",\"fromcurrent\":true,\"transition\":{\"duration\":0,\"easing\":\"linear\"}}],\"label\":\"2020-11-30 00:00:00\",\"method\":\"animate\"},{\"args\":[[\"2020-12-01 00:00:00\"],{\"frame\":{\"duration\":0,\"redraw\":true},\"mode\":\"immediate\",\"fromcurrent\":true,\"transition\":{\"duration\":0,\"easing\":\"linear\"}}],\"label\":\"2020-12-01 00:00:00\",\"method\":\"animate\"},{\"args\":[[\"2020-12-02 00:00:00\"],{\"frame\":{\"duration\":0,\"redraw\":true},\"mode\":\"immediate\",\"fromcurrent\":true,\"transition\":{\"duration\":0,\"easing\":\"linear\"}}],\"label\":\"2020-12-02 00:00:00\",\"method\":\"animate\"}],\"x\":0.1,\"xanchor\":\"left\",\"y\":0,\"yanchor\":\"top\"}],\"title\":{\"text\":\"Global Spread of Coronavirus\",\"x\":0.5}},                        {\"responsive\": true}                    ).then(function(){\n",
       "                            Plotly.addFrames('4c3189bc-65cd-47a7-922a-63baec47ae9f', [{\"data\":[{\"coloraxis\":\"coloraxis\",\"geo\":\"geo\",\"hovertemplate\":\"\\u003cb\\u003e%{hovertext}\\u003c\\u002fb\\u003e\\u003cbr\\u003e\\u003cbr\\u003eDate=2020-03-16 00:00:00\\u003cbr\\u003eCountry=%{location}\\u003cbr\\u003ePercentOfBaseline=%{z}\\u003cextra\\u003e\\u003c\\u002fextra\\u003e\",\"hovertext\":[\"Australia\",\"Canada\",\"Chile\",\"United States of America (the)\"],\"locationmode\":\"country names\",\"locations\":[\"Australia\",\"Canada\",\"Chile\",\"United States of America (the)\"],\"name\":\"\",\"z\":[92,831,96,1497],\"type\":\"choropleth\"}],\"name\":\"2020-03-16 00:00:00\"},{\"data\":[{\"coloraxis\":\"coloraxis\",\"geo\":\"geo\",\"hovertemplate\":\"\\u003cb\\u003e%{hovertext}\\u003c\\u002fb\\u003e\\u003cbr\\u003e\\u003cbr\\u003eDate=2020-03-17 00:00:00\\u003cbr\\u003eCountry=%{location}\\u003cbr\\u003ePercentOfBaseline=%{z}\\u003cextra\\u003e\\u003c\\u002fextra\\u003e\",\"hovertext\":[\"Australia\",\"Canada\",\"Chile\",\"United States of America (the)\"],\"locationmode\":\"country names\",\"locations\":[\"Australia\",\"Canada\",\"Chile\",\"United States of America (the)\"],\"name\":\"\",\"z\":[90,791,72,1493],\"type\":\"choropleth\"}],\"name\":\"2020-03-17 00:00:00\"},{\"data\":[{\"coloraxis\":\"coloraxis\",\"geo\":\"geo\",\"hovertemplate\":\"\\u003cb\\u003e%{hovertext}\\u003c\\u002fb\\u003e\\u003cbr\\u003e\\u003cbr\\u003eDate=2020-03-18 00:00:00\\u003cbr\\u003eCountry=%{location}\\u003cbr\\u003ePercentOfBaseline=%{z}\\u003cextra\\u003e\\u003c\\u002fextra\\u003e\",\"hovertext\":[\"Australia\",\"Canada\",\"Chile\",\"United States of America (the)\"],\"locationmode\":\"country names\",\"locations\":[\"Australia\",\"Canada\",\"Chile\",\"United States of America (the)\"],\"name\":\"\",\"z\":[97,792,56,1389],\"type\":\"choropleth\"}],\"name\":\"2020-03-18 00:00:00\"},{\"data\":[{\"coloraxis\":\"coloraxis\",\"geo\":\"geo\",\"hovertemplate\":\"\\u003cb\\u003e%{hovertext}\\u003c\\u002fb\\u003e\\u003cbr\\u003e\\u003cbr\\u003eDate=2020-03-19 00:00:00\\u003cbr\\u003eCountry=%{location}\\u003cbr\\u003ePercentOfBaseline=%{z}\\u003cextra\\u003e\\u003c\\u002fextra\\u003e\",\"hovertext\":[\"Australia\",\"Canada\",\"Chile\",\"United States of America (the)\"],\"locationmode\":\"country names\",\"locations\":[\"Australia\",\"Canada\",\"Chile\",\"United States of America (the)\"],\"name\":\"\",\"z\":[89,763,52,1254],\"type\":\"choropleth\"}],\"name\":\"2020-03-19 00:00:00\"},{\"data\":[{\"coloraxis\":\"coloraxis\",\"geo\":\"geo\",\"hovertemplate\":\"\\u003cb\\u003e%{hovertext}\\u003c\\u002fb\\u003e\\u003cbr\\u003e\\u003cbr\\u003eDate=2020-03-20 00:00:00\\u003cbr\\u003eCountry=%{location}\\u003cbr\\u003ePercentOfBaseline=%{z}\\u003cextra\\u003e\\u003c\\u002fextra\\u003e\",\"hovertext\":[\"Australia\",\"Canada\",\"Chile\",\"United States of America (the)\"],\"locationmode\":\"country names\",\"locations\":[\"Australia\",\"Canada\",\"Chile\",\"United States of America (the)\"],\"name\":\"\",\"z\":[85,780,53,1242],\"type\":\"choropleth\"}],\"name\":\"2020-03-20 00:00:00\"},{\"data\":[{\"coloraxis\":\"coloraxis\",\"geo\":\"geo\",\"hovertemplate\":\"\\u003cb\\u003e%{hovertext}\\u003c\\u002fb\\u003e\\u003cbr\\u003e\\u003cbr\\u003eDate=2020-03-21 00:00:00\\u003cbr\\u003eCountry=%{location}\\u003cbr\\u003ePercentOfBaseline=%{z}\\u003cextra\\u003e\\u003c\\u002fextra\\u003e\",\"hovertext\":[\"Australia\",\"Canada\",\"Chile\",\"United States of America (the)\"],\"locationmode\":\"country names\",\"locations\":[\"Australia\",\"Canada\",\"Chile\",\"United States of America (the)\"],\"name\":\"\",\"z\":[100,661,38,1227],\"type\":\"choropleth\"}],\"name\":\"2020-03-21 00:00:00\"},{\"data\":[{\"coloraxis\":\"coloraxis\",\"geo\":\"geo\",\"hovertemplate\":\"\\u003cb\\u003e%{hovertext}\\u003c\\u002fb\\u003e\\u003cbr\\u003e\\u003cbr\\u003eDate=2020-03-22 00:00:00\\u003cbr\\u003eCountry=%{location}\\u003cbr\\u003ePercentOfBaseline=%{z}\\u003cextra\\u003e\\u003c\\u002fextra\\u003e\",\"hovertext\":[\"Australia\",\"Canada\",\"Chile\",\"United States of America (the)\"],\"locationmode\":\"country names\",\"locations\":[\"Australia\",\"Canada\",\"Chile\",\"United States of America (the)\"],\"name\":\"\",\"z\":[89,599,13,1216],\"type\":\"choropleth\"}],\"name\":\"2020-03-22 00:00:00\"},{\"data\":[{\"coloraxis\":\"coloraxis\",\"geo\":\"geo\",\"hovertemplate\":\"\\u003cb\\u003e%{hovertext}\\u003c\\u002fb\\u003e\\u003cbr\\u003e\\u003cbr\\u003eDate=2020-03-23 00:00:00\\u003cbr\\u003eCountry=%{location}\\u003cbr\\u003ePercentOfBaseline=%{z}\\u003cextra\\u003e\\u003c\\u002fextra\\u003e\",\"hovertext\":[\"Australia\",\"Canada\",\"Chile\",\"United States of America (the)\"],\"locationmode\":\"country names\",\"locations\":[\"Australia\",\"Canada\",\"Chile\",\"United States of America (the)\"],\"name\":\"\",\"z\":[84,765,32,1180],\"type\":\"choropleth\"}],\"name\":\"2020-03-23 00:00:00\"},{\"data\":[{\"coloraxis\":\"coloraxis\",\"geo\":\"geo\",\"hovertemplate\":\"\\u003cb\\u003e%{hovertext}\\u003c\\u002fb\\u003e\\u003cbr\\u003e\\u003cbr\\u003eDate=2020-03-24 00:00:00\\u003cbr\\u003eCountry=%{location}\\u003cbr\\u003ePercentOfBaseline=%{z}\\u003cextra\\u003e\\u003c\\u002fextra\\u003e\",\"hovertext\":[\"Australia\",\"Canada\",\"Chile\",\"United States of America (the)\"],\"locationmode\":\"country names\",\"locations\":[\"Australia\",\"Canada\",\"Chile\",\"United States of America (the)\"],\"name\":\"\",\"z\":[89,735,29,1185],\"type\":\"choropleth\"}],\"name\":\"2020-03-24 00:00:00\"},{\"data\":[{\"coloraxis\":\"coloraxis\",\"geo\":\"geo\",\"hovertemplate\":\"\\u003cb\\u003e%{hovertext}\\u003c\\u002fb\\u003e\\u003cbr\\u003e\\u003cbr\\u003eDate=2020-03-25 00:00:00\\u003cbr\\u003eCountry=%{location}\\u003cbr\\u003ePercentOfBaseline=%{z}\\u003cextra\\u003e\\u003c\\u002fextra\\u003e\",\"hovertext\":[\"Australia\",\"Canada\",\"Chile\",\"United States of America (the)\"],\"locationmode\":\"country names\",\"locations\":[\"Australia\",\"Canada\",\"Chile\",\"United States of America (the)\"],\"name\":\"\",\"z\":[84,662,26,1167],\"type\":\"choropleth\"}],\"name\":\"2020-03-25 00:00:00\"},{\"data\":[{\"coloraxis\":\"coloraxis\",\"geo\":\"geo\",\"hovertemplate\":\"\\u003cb\\u003e%{hovertext}\\u003c\\u002fb\\u003e\\u003cbr\\u003e\\u003cbr\\u003eDate=2020-03-26 00:00:00\\u003cbr\\u003eCountry=%{location}\\u003cbr\\u003ePercentOfBaseline=%{z}\\u003cextra\\u003e\\u003c\\u002fextra\\u003e\",\"hovertext\":[\"Australia\",\"Canada\",\"Chile\",\"United States of America (the)\"],\"locationmode\":\"country names\",\"locations\":[\"Australia\",\"Canada\",\"Chile\",\"United States of America (the)\"],\"name\":\"\",\"z\":[76,640,24,1085],\"type\":\"choropleth\"}],\"name\":\"2020-03-26 00:00:00\"},{\"data\":[{\"coloraxis\":\"coloraxis\",\"geo\":\"geo\",\"hovertemplate\":\"\\u003cb\\u003e%{hovertext}\\u003c\\u002fb\\u003e\\u003cbr\\u003e\\u003cbr\\u003eDate=2020-03-27 00:00:00\\u003cbr\\u003eCountry=%{location}\\u003cbr\\u003ePercentOfBaseline=%{z}\\u003cextra\\u003e\\u003c\\u002fextra\\u003e\",\"hovertext\":[\"Australia\",\"Canada\",\"Chile\",\"United States of America (the)\"],\"locationmode\":\"country names\",\"locations\":[\"Australia\",\"Canada\",\"Chile\",\"United States of America (the)\"],\"name\":\"\",\"z\":[81,683,31,1095],\"type\":\"choropleth\"}],\"name\":\"2020-03-27 00:00:00\"},{\"data\":[{\"coloraxis\":\"coloraxis\",\"geo\":\"geo\",\"hovertemplate\":\"\\u003cb\\u003e%{hovertext}\\u003c\\u002fb\\u003e\\u003cbr\\u003e\\u003cbr\\u003eDate=2020-03-28 00:00:00\\u003cbr\\u003eCountry=%{location}\\u003cbr\\u003ePercentOfBaseline=%{z}\\u003cextra\\u003e\\u003c\\u002fextra\\u003e\",\"hovertext\":[\"Australia\",\"Canada\",\"United States of America (the)\"],\"locationmode\":\"country names\",\"locations\":[\"Australia\",\"Canada\",\"United States of America (the)\"],\"name\":\"\",\"z\":[62,544,1005],\"type\":\"choropleth\"}],\"name\":\"2020-03-28 00:00:00\"},{\"data\":[{\"coloraxis\":\"coloraxis\",\"geo\":\"geo\",\"hovertemplate\":\"\\u003cb\\u003e%{hovertext}\\u003c\\u002fb\\u003e\\u003cbr\\u003e\\u003cbr\\u003eDate=2020-03-29 00:00:00\\u003cbr\\u003eCountry=%{location}\\u003cbr\\u003ePercentOfBaseline=%{z}\\u003cextra\\u003e\\u003c\\u002fextra\\u003e\",\"hovertext\":[\"Australia\",\"Canada\",\"Chile\",\"United States of America (the)\"],\"locationmode\":\"country names\",\"locations\":[\"Australia\",\"Canada\",\"Chile\",\"United States of America (the)\"],\"name\":\"\",\"z\":[66,401,9,930],\"type\":\"choropleth\"}],\"name\":\"2020-03-29 00:00:00\"},{\"data\":[{\"coloraxis\":\"coloraxis\",\"geo\":\"geo\",\"hovertemplate\":\"\\u003cb\\u003e%{hovertext}\\u003c\\u002fb\\u003e\\u003cbr\\u003e\\u003cbr\\u003eDate=2020-03-30 00:00:00\\u003cbr\\u003eCountry=%{location}\\u003cbr\\u003ePercentOfBaseline=%{z}\\u003cextra\\u003e\\u003c\\u002fextra\\u003e\",\"hovertext\":[\"Australia\",\"Canada\",\"Chile\",\"United States of America (the)\"],\"locationmode\":\"country names\",\"locations\":[\"Australia\",\"Canada\",\"Chile\",\"United States of America (the)\"],\"name\":\"\",\"z\":[75,646,19,1040],\"type\":\"choropleth\"}],\"name\":\"2020-03-30 00:00:00\"},{\"data\":[{\"coloraxis\":\"coloraxis\",\"geo\":\"geo\",\"hovertemplate\":\"\\u003cb\\u003e%{hovertext}\\u003c\\u002fb\\u003e\\u003cbr\\u003e\\u003cbr\\u003eDate=2020-03-31 00:00:00\\u003cbr\\u003eCountry=%{location}\\u003cbr\\u003ePercentOfBaseline=%{z}\\u003cextra\\u003e\\u003c\\u002fextra\\u003e\",\"hovertext\":[\"Australia\",\"Canada\",\"Chile\",\"United States of America (the)\"],\"locationmode\":\"country names\",\"locations\":[\"Australia\",\"Canada\",\"Chile\",\"United States of America (the)\"],\"name\":\"\",\"z\":[71,651,26,1084],\"type\":\"choropleth\"}],\"name\":\"2020-03-31 00:00:00\"},{\"data\":[{\"coloraxis\":\"coloraxis\",\"geo\":\"geo\",\"hovertemplate\":\"\\u003cb\\u003e%{hovertext}\\u003c\\u002fb\\u003e\\u003cbr\\u003e\\u003cbr\\u003eDate=2020-04-01 00:00:00\\u003cbr\\u003eCountry=%{location}\\u003cbr\\u003ePercentOfBaseline=%{z}\\u003cextra\\u003e\\u003c\\u002fextra\\u003e\",\"hovertext\":[\"Australia\",\"Canada\",\"Chile\",\"United States of America (the)\"],\"locationmode\":\"country names\",\"locations\":[\"Australia\",\"Canada\",\"Chile\",\"United States of America (the)\"],\"name\":\"\",\"z\":[69,636,27,1064],\"type\":\"choropleth\"}],\"name\":\"2020-04-01 00:00:00\"},{\"data\":[{\"coloraxis\":\"coloraxis\",\"geo\":\"geo\",\"hovertemplate\":\"\\u003cb\\u003e%{hovertext}\\u003c\\u002fb\\u003e\\u003cbr\\u003e\\u003cbr\\u003eDate=2020-04-02 00:00:00\\u003cbr\\u003eCountry=%{location}\\u003cbr\\u003ePercentOfBaseline=%{z}\\u003cextra\\u003e\\u003c\\u002fextra\\u003e\",\"hovertext\":[\"Australia\",\"Canada\",\"Chile\",\"United States of America (the)\"],\"locationmode\":\"country names\",\"locations\":[\"Australia\",\"Canada\",\"Chile\",\"United States of America (the)\"],\"name\":\"\",\"z\":[77,653,21,998],\"type\":\"choropleth\"}],\"name\":\"2020-04-02 00:00:00\"},{\"data\":[{\"coloraxis\":\"coloraxis\",\"geo\":\"geo\",\"hovertemplate\":\"\\u003cb\\u003e%{hovertext}\\u003c\\u002fb\\u003e\\u003cbr\\u003e\\u003cbr\\u003eDate=2020-04-03 00:00:00\\u003cbr\\u003eCountry=%{location}\\u003cbr\\u003ePercentOfBaseline=%{z}\\u003cextra\\u003e\\u003c\\u002fextra\\u003e\",\"hovertext\":[\"Australia\",\"Canada\",\"Chile\",\"United States of America (the)\"],\"locationmode\":\"country names\",\"locations\":[\"Australia\",\"Canada\",\"Chile\",\"United States of America (the)\"],\"name\":\"\",\"z\":[64,603,31,968],\"type\":\"choropleth\"}],\"name\":\"2020-04-03 00:00:00\"},{\"data\":[{\"coloraxis\":\"coloraxis\",\"geo\":\"geo\",\"hovertemplate\":\"\\u003cb\\u003e%{hovertext}\\u003c\\u002fb\\u003e\\u003cbr\\u003e\\u003cbr\\u003eDate=2020-04-04 00:00:00\\u003cbr\\u003eCountry=%{location}\\u003cbr\\u003ePercentOfBaseline=%{z}\\u003cextra\\u003e\\u003c\\u002fextra\\u003e\",\"hovertext\":[\"Australia\",\"Canada\",\"Chile\",\"United States of America (the)\"],\"locationmode\":\"country names\",\"locations\":[\"Australia\",\"Canada\",\"Chile\",\"United States of America (the)\"],\"name\":\"\",\"z\":[27,411,19,868],\"type\":\"choropleth\"}],\"name\":\"2020-04-04 00:00:00\"},{\"data\":[{\"coloraxis\":\"coloraxis\",\"geo\":\"geo\",\"hovertemplate\":\"\\u003cb\\u003e%{hovertext}\\u003c\\u002fb\\u003e\\u003cbr\\u003e\\u003cbr\\u003eDate=2020-04-05 00:00:00\\u003cbr\\u003eCountry=%{location}\\u003cbr\\u003ePercentOfBaseline=%{z}\\u003cextra\\u003e\\u003c\\u002fextra\\u003e\",\"hovertext\":[\"Australia\",\"Canada\",\"Chile\",\"United States of America (the)\"],\"locationmode\":\"country names\",\"locations\":[\"Australia\",\"Canada\",\"Chile\",\"United States of America (the)\"],\"name\":\"\",\"z\":[57,256,11,812],\"type\":\"choropleth\"}],\"name\":\"2020-04-05 00:00:00\"},{\"data\":[{\"coloraxis\":\"coloraxis\",\"geo\":\"geo\",\"hovertemplate\":\"\\u003cb\\u003e%{hovertext}\\u003c\\u002fb\\u003e\\u003cbr\\u003e\\u003cbr\\u003eDate=2020-04-06 00:00:00\\u003cbr\\u003eCountry=%{location}\\u003cbr\\u003ePercentOfBaseline=%{z}\\u003cextra\\u003e\\u003c\\u002fextra\\u003e\",\"hovertext\":[\"Australia\",\"Canada\",\"Chile\",\"United States of America (the)\"],\"locationmode\":\"country names\",\"locations\":[\"Australia\",\"Canada\",\"Chile\",\"United States of America (the)\"],\"name\":\"\",\"z\":[59,674,27,1003],\"type\":\"choropleth\"}],\"name\":\"2020-04-06 00:00:00\"},{\"data\":[{\"coloraxis\":\"coloraxis\",\"geo\":\"geo\",\"hovertemplate\":\"\\u003cb\\u003e%{hovertext}\\u003c\\u002fb\\u003e\\u003cbr\\u003e\\u003cbr\\u003eDate=2020-04-07 00:00:00\\u003cbr\\u003eCountry=%{location}\\u003cbr\\u003ePercentOfBaseline=%{z}\\u003cextra\\u003e\\u003c\\u002fextra\\u003e\",\"hovertext\":[\"Australia\",\"Canada\",\"Chile\",\"United States of America (the)\"],\"locationmode\":\"country names\",\"locations\":[\"Australia\",\"Canada\",\"Chile\",\"United States of America (the)\"],\"name\":\"\",\"z\":[64,652,25,1008],\"type\":\"choropleth\"}],\"name\":\"2020-04-07 00:00:00\"},{\"data\":[{\"coloraxis\":\"coloraxis\",\"geo\":\"geo\",\"hovertemplate\":\"\\u003cb\\u003e%{hovertext}\\u003c\\u002fb\\u003e\\u003cbr\\u003e\\u003cbr\\u003eDate=2020-04-08 00:00:00\\u003cbr\\u003eCountry=%{location}\\u003cbr\\u003ePercentOfBaseline=%{z}\\u003cextra\\u003e\\u003c\\u002fextra\\u003e\",\"hovertext\":[\"Australia\",\"Canada\",\"Chile\",\"United States of America (the)\"],\"locationmode\":\"country names\",\"locations\":[\"Australia\",\"Canada\",\"Chile\",\"United States of America (the)\"],\"name\":\"\",\"z\":[69,593,21,1018],\"type\":\"choropleth\"}],\"name\":\"2020-04-08 00:00:00\"},{\"data\":[{\"coloraxis\":\"coloraxis\",\"geo\":\"geo\",\"hovertemplate\":\"\\u003cb\\u003e%{hovertext}\\u003c\\u002fb\\u003e\\u003cbr\\u003e\\u003cbr\\u003eDate=2020-04-09 00:00:00\\u003cbr\\u003eCountry=%{location}\\u003cbr\\u003ePercentOfBaseline=%{z}\\u003cextra\\u003e\\u003c\\u002fextra\\u003e\",\"hovertext\":[\"Australia\",\"Canada\",\"Chile\",\"United States of America (the)\"],\"locationmode\":\"country names\",\"locations\":[\"Australia\",\"Canada\",\"Chile\",\"United States of America (the)\"],\"name\":\"\",\"z\":[54,605,24,956],\"type\":\"choropleth\"}],\"name\":\"2020-04-09 00:00:00\"},{\"data\":[{\"coloraxis\":\"coloraxis\",\"geo\":\"geo\",\"hovertemplate\":\"\\u003cb\\u003e%{hovertext}\\u003c\\u002fb\\u003e\\u003cbr\\u003e\\u003cbr\\u003eDate=2020-04-10 00:00:00\\u003cbr\\u003eCountry=%{location}\\u003cbr\\u003ePercentOfBaseline=%{z}\\u003cextra\\u003e\\u003c\\u002fextra\\u003e\",\"hovertext\":[\"Australia\",\"Canada\",\"Chile\",\"United States of America (the)\"],\"locationmode\":\"country names\",\"locations\":[\"Australia\",\"Canada\",\"Chile\",\"United States of America (the)\"],\"name\":\"\",\"z\":[8,147,12,888],\"type\":\"choropleth\"}],\"name\":\"2020-04-10 00:00:00\"},{\"data\":[{\"coloraxis\":\"coloraxis\",\"geo\":\"geo\",\"hovertemplate\":\"\\u003cb\\u003e%{hovertext}\\u003c\\u002fb\\u003e\\u003cbr\\u003e\\u003cbr\\u003eDate=2020-04-11 00:00:00\\u003cbr\\u003eCountry=%{location}\\u003cbr\\u003ePercentOfBaseline=%{z}\\u003cextra\\u003e\\u003c\\u002fextra\\u003e\",\"hovertext\":[\"Australia\",\"Canada\",\"Chile\",\"United States of America (the)\"],\"locationmode\":\"country names\",\"locations\":[\"Australia\",\"Canada\",\"Chile\",\"United States of America (the)\"],\"name\":\"\",\"z\":[22,204,15,809],\"type\":\"choropleth\"}],\"name\":\"2020-04-11 00:00:00\"},{\"data\":[{\"coloraxis\":\"coloraxis\",\"geo\":\"geo\",\"hovertemplate\":\"\\u003cb\\u003e%{hovertext}\\u003c\\u002fb\\u003e\\u003cbr\\u003e\\u003cbr\\u003eDate=2020-04-12 00:00:00\\u003cbr\\u003eCountry=%{location}\\u003cbr\\u003ePercentOfBaseline=%{z}\\u003cextra\\u003e\\u003c\\u002fextra\\u003e\",\"hovertext\":[\"Australia\",\"Canada\",\"Chile\",\"United States of America (the)\"],\"locationmode\":\"country names\",\"locations\":[\"Australia\",\"Canada\",\"Chile\",\"United States of America (the)\"],\"name\":\"\",\"z\":[25,340,4,751],\"type\":\"choropleth\"}],\"name\":\"2020-04-12 00:00:00\"},{\"data\":[{\"coloraxis\":\"coloraxis\",\"geo\":\"geo\",\"hovertemplate\":\"\\u003cb\\u003e%{hovertext}\\u003c\\u002fb\\u003e\\u003cbr\\u003e\\u003cbr\\u003eDate=2020-04-13 00:00:00\\u003cbr\\u003eCountry=%{location}\\u003cbr\\u003ePercentOfBaseline=%{z}\\u003cextra\\u003e\\u003c\\u002fextra\\u003e\",\"hovertext\":[\"Australia\",\"Canada\",\"Chile\",\"United States of America (the)\"],\"locationmode\":\"country names\",\"locations\":[\"Australia\",\"Canada\",\"Chile\",\"United States of America (the)\"],\"name\":\"\",\"z\":[29,530,26,889],\"type\":\"choropleth\"}],\"name\":\"2020-04-13 00:00:00\"},{\"data\":[{\"coloraxis\":\"coloraxis\",\"geo\":\"geo\",\"hovertemplate\":\"\\u003cb\\u003e%{hovertext}\\u003c\\u002fb\\u003e\\u003cbr\\u003e\\u003cbr\\u003eDate=2020-04-14 00:00:00\\u003cbr\\u003eCountry=%{location}\\u003cbr\\u003ePercentOfBaseline=%{z}\\u003cextra\\u003e\\u003c\\u002fextra\\u003e\",\"hovertext\":[\"Australia\",\"Canada\",\"Chile\",\"United States of America (the)\"],\"locationmode\":\"country names\",\"locations\":[\"Australia\",\"Canada\",\"Chile\",\"United States of America (the)\"],\"name\":\"\",\"z\":[59,630,20,961],\"type\":\"choropleth\"}],\"name\":\"2020-04-14 00:00:00\"},{\"data\":[{\"coloraxis\":\"coloraxis\",\"geo\":\"geo\",\"hovertemplate\":\"\\u003cb\\u003e%{hovertext}\\u003c\\u002fb\\u003e\\u003cbr\\u003e\\u003cbr\\u003eDate=2020-04-15 00:00:00\\u003cbr\\u003eCountry=%{location}\\u003cbr\\u003ePercentOfBaseline=%{z}\\u003cextra\\u003e\\u003c\\u002fextra\\u003e\",\"hovertext\":[\"Australia\",\"Canada\",\"Chile\",\"United States of America (the)\"],\"locationmode\":\"country names\",\"locations\":[\"Australia\",\"Canada\",\"Chile\",\"United States of America (the)\"],\"name\":\"\",\"z\":[61,611,21,962],\"type\":\"choropleth\"}],\"name\":\"2020-04-15 00:00:00\"},{\"data\":[{\"coloraxis\":\"coloraxis\",\"geo\":\"geo\",\"hovertemplate\":\"\\u003cb\\u003e%{hovertext}\\u003c\\u002fb\\u003e\\u003cbr\\u003e\\u003cbr\\u003eDate=2020-04-16 00:00:00\\u003cbr\\u003eCountry=%{location}\\u003cbr\\u003ePercentOfBaseline=%{z}\\u003cextra\\u003e\\u003c\\u002fextra\\u003e\",\"hovertext\":[\"Australia\",\"Canada\",\"Chile\",\"United States of America (the)\"],\"locationmode\":\"country names\",\"locations\":[\"Australia\",\"Canada\",\"Chile\",\"United States of America (the)\"],\"name\":\"\",\"z\":[60,607,17,937],\"type\":\"choropleth\"}],\"name\":\"2020-04-16 00:00:00\"},{\"data\":[{\"coloraxis\":\"coloraxis\",\"geo\":\"geo\",\"hovertemplate\":\"\\u003cb\\u003e%{hovertext}\\u003c\\u002fb\\u003e\\u003cbr\\u003e\\u003cbr\\u003eDate=2020-04-17 00:00:00\\u003cbr\\u003eCountry=%{location}\\u003cbr\\u003ePercentOfBaseline=%{z}\\u003cextra\\u003e\\u003c\\u002fextra\\u003e\",\"hovertext\":[\"Australia\",\"Canada\",\"Chile\",\"United States of America (the)\"],\"locationmode\":\"country names\",\"locations\":[\"Australia\",\"Canada\",\"Chile\",\"United States of America (the)\"],\"name\":\"\",\"z\":[69,571,18,932],\"type\":\"choropleth\"}],\"name\":\"2020-04-17 00:00:00\"},{\"data\":[{\"coloraxis\":\"coloraxis\",\"geo\":\"geo\",\"hovertemplate\":\"\\u003cb\\u003e%{hovertext}\\u003c\\u002fb\\u003e\\u003cbr\\u003e\\u003cbr\\u003eDate=2020-04-18 00:00:00\\u003cbr\\u003eCountry=%{location}\\u003cbr\\u003ePercentOfBaseline=%{z}\\u003cextra\\u003e\\u003c\\u002fextra\\u003e\",\"hovertext\":[\"Australia\",\"Canada\",\"Chile\",\"United States of America (the)\"],\"locationmode\":\"country names\",\"locations\":[\"Australia\",\"Canada\",\"Chile\",\"United States of America (the)\"],\"name\":\"\",\"z\":[32,539,10,852],\"type\":\"choropleth\"}],\"name\":\"2020-04-18 00:00:00\"},{\"data\":[{\"coloraxis\":\"coloraxis\",\"geo\":\"geo\",\"hovertemplate\":\"\\u003cb\\u003e%{hovertext}\\u003c\\u002fb\\u003e\\u003cbr\\u003e\\u003cbr\\u003eDate=2020-04-19 00:00:00\\u003cbr\\u003eCountry=%{location}\\u003cbr\\u003ePercentOfBaseline=%{z}\\u003cextra\\u003e\\u003c\\u002fextra\\u003e\",\"hovertext\":[\"Australia\",\"Canada\",\"United States of America (the)\"],\"locationmode\":\"country names\",\"locations\":[\"Australia\",\"Canada\",\"United States of America (the)\"],\"name\":\"\",\"z\":[49,325,789],\"type\":\"choropleth\"}],\"name\":\"2020-04-19 00:00:00\"},{\"data\":[{\"coloraxis\":\"coloraxis\",\"geo\":\"geo\",\"hovertemplate\":\"\\u003cb\\u003e%{hovertext}\\u003c\\u002fb\\u003e\\u003cbr\\u003e\\u003cbr\\u003eDate=2020-04-20 00:00:00\\u003cbr\\u003eCountry=%{location}\\u003cbr\\u003ePercentOfBaseline=%{z}\\u003cextra\\u003e\\u003c\\u002fextra\\u003e\",\"hovertext\":[\"Australia\",\"Canada\",\"Chile\",\"United States of America (the)\"],\"locationmode\":\"country names\",\"locations\":[\"Australia\",\"Canada\",\"Chile\",\"United States of America (the)\"],\"name\":\"\",\"z\":[60,668,22,972],\"type\":\"choropleth\"}],\"name\":\"2020-04-20 00:00:00\"},{\"data\":[{\"coloraxis\":\"coloraxis\",\"geo\":\"geo\",\"hovertemplate\":\"\\u003cb\\u003e%{hovertext}\\u003c\\u002fb\\u003e\\u003cbr\\u003e\\u003cbr\\u003eDate=2020-04-21 00:00:00\\u003cbr\\u003eCountry=%{location}\\u003cbr\\u003ePercentOfBaseline=%{z}\\u003cextra\\u003e\\u003c\\u002fextra\\u003e\",\"hovertext\":[\"Australia\",\"Canada\",\"Chile\",\"United States of America (the)\"],\"locationmode\":\"country names\",\"locations\":[\"Australia\",\"Canada\",\"Chile\",\"United States of America (the)\"],\"name\":\"\",\"z\":[65,697,17,976],\"type\":\"choropleth\"}],\"name\":\"2020-04-21 00:00:00\"},{\"data\":[{\"coloraxis\":\"coloraxis\",\"geo\":\"geo\",\"hovertemplate\":\"\\u003cb\\u003e%{hovertext}\\u003c\\u002fb\\u003e\\u003cbr\\u003e\\u003cbr\\u003eDate=2020-04-22 00:00:00\\u003cbr\\u003eCountry=%{location}\\u003cbr\\u003ePercentOfBaseline=%{z}\\u003cextra\\u003e\\u003c\\u002fextra\\u003e\",\"hovertext\":[\"Australia\",\"Canada\",\"Chile\",\"United States of America (the)\"],\"locationmode\":\"country names\",\"locations\":[\"Australia\",\"Canada\",\"Chile\",\"United States of America (the)\"],\"name\":\"\",\"z\":[60,667,21,1015],\"type\":\"choropleth\"}],\"name\":\"2020-04-22 00:00:00\"},{\"data\":[{\"coloraxis\":\"coloraxis\",\"geo\":\"geo\",\"hovertemplate\":\"\\u003cb\\u003e%{hovertext}\\u003c\\u002fb\\u003e\\u003cbr\\u003e\\u003cbr\\u003eDate=2020-04-23 00:00:00\\u003cbr\\u003eCountry=%{location}\\u003cbr\\u003ePercentOfBaseline=%{z}\\u003cextra\\u003e\\u003c\\u002fextra\\u003e\",\"hovertext\":[\"Australia\",\"Canada\",\"Chile\",\"United States of America (the)\"],\"locationmode\":\"country names\",\"locations\":[\"Australia\",\"Canada\",\"Chile\",\"United States of America (the)\"],\"name\":\"\",\"z\":[61,586,20,935],\"type\":\"choropleth\"}],\"name\":\"2020-04-23 00:00:00\"},{\"data\":[{\"coloraxis\":\"coloraxis\",\"geo\":\"geo\",\"hovertemplate\":\"\\u003cb\\u003e%{hovertext}\\u003c\\u002fb\\u003e\\u003cbr\\u003e\\u003cbr\\u003eDate=2020-04-24 00:00:00\\u003cbr\\u003eCountry=%{location}\\u003cbr\\u003ePercentOfBaseline=%{z}\\u003cextra\\u003e\\u003c\\u002fextra\\u003e\",\"hovertext\":[\"Australia\",\"Canada\",\"Chile\",\"United States of America (the)\"],\"locationmode\":\"country names\",\"locations\":[\"Australia\",\"Canada\",\"Chile\",\"United States of America (the)\"],\"name\":\"\",\"z\":[62,623,16,932],\"type\":\"choropleth\"}],\"name\":\"2020-04-24 00:00:00\"},{\"data\":[{\"coloraxis\":\"coloraxis\",\"geo\":\"geo\",\"hovertemplate\":\"\\u003cb\\u003e%{hovertext}\\u003c\\u002fb\\u003e\\u003cbr\\u003e\\u003cbr\\u003eDate=2020-04-25 00:00:00\\u003cbr\\u003eCountry=%{location}\\u003cbr\\u003ePercentOfBaseline=%{z}\\u003cextra\\u003e\\u003c\\u002fextra\\u003e\",\"hovertext\":[\"Canada\",\"United States of America (the)\"],\"locationmode\":\"country names\",\"locations\":[\"Canada\",\"United States of America (the)\"],\"name\":\"\",\"z\":[490,833],\"type\":\"choropleth\"}],\"name\":\"2020-04-25 00:00:00\"},{\"data\":[{\"coloraxis\":\"coloraxis\",\"geo\":\"geo\",\"hovertemplate\":\"\\u003cb\\u003e%{hovertext}\\u003c\\u002fb\\u003e\\u003cbr\\u003e\\u003cbr\\u003eDate=2020-04-26 00:00:00\\u003cbr\\u003eCountry=%{location}\\u003cbr\\u003ePercentOfBaseline=%{z}\\u003cextra\\u003e\\u003c\\u002fextra\\u003e\",\"hovertext\":[\"Australia\",\"Canada\",\"Chile\",\"United States of America (the)\"],\"locationmode\":\"country names\",\"locations\":[\"Australia\",\"Canada\",\"Chile\",\"United States of America (the)\"],\"name\":\"\",\"z\":[48,361,7,806],\"type\":\"choropleth\"}],\"name\":\"2020-04-26 00:00:00\"},{\"data\":[{\"coloraxis\":\"coloraxis\",\"geo\":\"geo\",\"hovertemplate\":\"\\u003cb\\u003e%{hovertext}\\u003c\\u002fb\\u003e\\u003cbr\\u003e\\u003cbr\\u003eDate=2020-04-27 00:00:00\\u003cbr\\u003eCountry=%{location}\\u003cbr\\u003ePercentOfBaseline=%{z}\\u003cextra\\u003e\\u003c\\u002fextra\\u003e\",\"hovertext\":[\"Australia\",\"Canada\",\"Chile\",\"United States of America (the)\"],\"locationmode\":\"country names\",\"locations\":[\"Australia\",\"Canada\",\"Chile\",\"United States of America (the)\"],\"name\":\"\",\"z\":[53,679,22,977],\"type\":\"choropleth\"}],\"name\":\"2020-04-27 00:00:00\"},{\"data\":[{\"coloraxis\":\"coloraxis\",\"geo\":\"geo\",\"hovertemplate\":\"\\u003cb\\u003e%{hovertext}\\u003c\\u002fb\\u003e\\u003cbr\\u003e\\u003cbr\\u003eDate=2020-04-28 00:00:00\\u003cbr\\u003eCountry=%{location}\\u003cbr\\u003ePercentOfBaseline=%{z}\\u003cextra\\u003e\\u003c\\u002fextra\\u003e\",\"hovertext\":[\"Australia\",\"Canada\",\"Chile\",\"United States of America (the)\"],\"locationmode\":\"country names\",\"locations\":[\"Australia\",\"Canada\",\"Chile\",\"United States of America (the)\"],\"name\":\"\",\"z\":[57,701,21,1033],\"type\":\"choropleth\"}],\"name\":\"2020-04-28 00:00:00\"},{\"data\":[{\"coloraxis\":\"coloraxis\",\"geo\":\"geo\",\"hovertemplate\":\"\\u003cb\\u003e%{hovertext}\\u003c\\u002fb\\u003e\\u003cbr\\u003e\\u003cbr\\u003eDate=2020-04-29 00:00:00\\u003cbr\\u003eCountry=%{location}\\u003cbr\\u003ePercentOfBaseline=%{z}\\u003cextra\\u003e\\u003c\\u002fextra\\u003e\",\"hovertext\":[\"Australia\",\"Canada\",\"Chile\",\"United States of America (the)\"],\"locationmode\":\"country names\",\"locations\":[\"Australia\",\"Canada\",\"Chile\",\"United States of America (the)\"],\"name\":\"\",\"z\":[59,649,22,1030],\"type\":\"choropleth\"}],\"name\":\"2020-04-29 00:00:00\"},{\"data\":[{\"coloraxis\":\"coloraxis\",\"geo\":\"geo\",\"hovertemplate\":\"\\u003cb\\u003e%{hovertext}\\u003c\\u002fb\\u003e\\u003cbr\\u003e\\u003cbr\\u003eDate=2020-04-30 00:00:00\\u003cbr\\u003eCountry=%{location}\\u003cbr\\u003ePercentOfBaseline=%{z}\\u003cextra\\u003e\\u003c\\u002fextra\\u003e\",\"hovertext\":[\"Australia\",\"Canada\",\"Chile\",\"United States of America (the)\"],\"locationmode\":\"country names\",\"locations\":[\"Australia\",\"Canada\",\"Chile\",\"United States of America (the)\"],\"name\":\"\",\"z\":[65,647,31,985],\"type\":\"choropleth\"}],\"name\":\"2020-04-30 00:00:00\"},{\"data\":[{\"coloraxis\":\"coloraxis\",\"geo\":\"geo\",\"hovertemplate\":\"\\u003cb\\u003e%{hovertext}\\u003c\\u002fb\\u003e\\u003cbr\\u003e\\u003cbr\\u003eDate=2020-05-01 00:00:00\\u003cbr\\u003eCountry=%{location}\\u003cbr\\u003ePercentOfBaseline=%{z}\\u003cextra\\u003e\\u003c\\u002fextra\\u003e\",\"hovertext\":[\"Australia\",\"Canada\",\"United States of America (the)\"],\"locationmode\":\"country names\",\"locations\":[\"Australia\",\"Canada\",\"United States of America (the)\"],\"name\":\"\",\"z\":[61,644,977],\"type\":\"choropleth\"}],\"name\":\"2020-05-01 00:00:00\"},{\"data\":[{\"coloraxis\":\"coloraxis\",\"geo\":\"geo\",\"hovertemplate\":\"\\u003cb\\u003e%{hovertext}\\u003c\\u002fb\\u003e\\u003cbr\\u003e\\u003cbr\\u003eDate=2020-05-02 00:00:00\\u003cbr\\u003eCountry=%{location}\\u003cbr\\u003ePercentOfBaseline=%{z}\\u003cextra\\u003e\\u003c\\u002fextra\\u003e\",\"hovertext\":[\"Australia\",\"Canada\",\"United States of America (the)\"],\"locationmode\":\"country names\",\"locations\":[\"Australia\",\"Canada\",\"United States of America (the)\"],\"name\":\"\",\"z\":[41,524,863],\"type\":\"choropleth\"}],\"name\":\"2020-05-02 00:00:00\"},{\"data\":[{\"coloraxis\":\"coloraxis\",\"geo\":\"geo\",\"hovertemplate\":\"\\u003cb\\u003e%{hovertext}\\u003c\\u002fb\\u003e\\u003cbr\\u003e\\u003cbr\\u003eDate=2020-05-03 00:00:00\\u003cbr\\u003eCountry=%{location}\\u003cbr\\u003ePercentOfBaseline=%{z}\\u003cextra\\u003e\\u003c\\u002fextra\\u003e\",\"hovertext\":[\"Australia\",\"Canada\",\"United States of America (the)\"],\"locationmode\":\"country names\",\"locations\":[\"Australia\",\"Canada\",\"United States of America (the)\"],\"name\":\"\",\"z\":[50,435,803],\"type\":\"choropleth\"}],\"name\":\"2020-05-03 00:00:00\"},{\"data\":[{\"coloraxis\":\"coloraxis\",\"geo\":\"geo\",\"hovertemplate\":\"\\u003cb\\u003e%{hovertext}\\u003c\\u002fb\\u003e\\u003cbr\\u003e\\u003cbr\\u003eDate=2020-05-04 00:00:00\\u003cbr\\u003eCountry=%{location}\\u003cbr\\u003ePercentOfBaseline=%{z}\\u003cextra\\u003e\\u003c\\u002fextra\\u003e\",\"hovertext\":[\"Australia\",\"Canada\",\"Chile\",\"United States of America (the)\"],\"locationmode\":\"country names\",\"locations\":[\"Australia\",\"Canada\",\"Chile\",\"United States of America (the)\"],\"name\":\"\",\"z\":[53,674,25,1012],\"type\":\"choropleth\"}],\"name\":\"2020-05-04 00:00:00\"},{\"data\":[{\"coloraxis\":\"coloraxis\",\"geo\":\"geo\",\"hovertemplate\":\"\\u003cb\\u003e%{hovertext}\\u003c\\u002fb\\u003e\\u003cbr\\u003e\\u003cbr\\u003eDate=2020-05-05 00:00:00\\u003cbr\\u003eCountry=%{location}\\u003cbr\\u003ePercentOfBaseline=%{z}\\u003cextra\\u003e\\u003c\\u002fextra\\u003e\",\"hovertext\":[\"Australia\",\"Canada\",\"Chile\",\"United States of America (the)\"],\"locationmode\":\"country names\",\"locations\":[\"Australia\",\"Canada\",\"Chile\",\"United States of America (the)\"],\"name\":\"\",\"z\":[56,708,13,1014],\"type\":\"choropleth\"}],\"name\":\"2020-05-05 00:00:00\"},{\"data\":[{\"coloraxis\":\"coloraxis\",\"geo\":\"geo\",\"hovertemplate\":\"\\u003cb\\u003e%{hovertext}\\u003c\\u002fb\\u003e\\u003cbr\\u003e\\u003cbr\\u003eDate=2020-05-06 00:00:00\\u003cbr\\u003eCountry=%{location}\\u003cbr\\u003ePercentOfBaseline=%{z}\\u003cextra\\u003e\\u003c\\u002fextra\\u003e\",\"hovertext\":[\"Australia\",\"Canada\",\"Chile\",\"United States of America (the)\"],\"locationmode\":\"country names\",\"locations\":[\"Australia\",\"Canada\",\"Chile\",\"United States of America (the)\"],\"name\":\"\",\"z\":[52,679,22,1027],\"type\":\"choropleth\"}],\"name\":\"2020-05-06 00:00:00\"},{\"data\":[{\"coloraxis\":\"coloraxis\",\"geo\":\"geo\",\"hovertemplate\":\"\\u003cb\\u003e%{hovertext}\\u003c\\u002fb\\u003e\\u003cbr\\u003e\\u003cbr\\u003eDate=2020-05-07 00:00:00\\u003cbr\\u003eCountry=%{location}\\u003cbr\\u003ePercentOfBaseline=%{z}\\u003cextra\\u003e\\u003c\\u002fextra\\u003e\",\"hovertext\":[\"Australia\",\"Canada\",\"Chile\",\"United States of America (the)\"],\"locationmode\":\"country names\",\"locations\":[\"Australia\",\"Canada\",\"Chile\",\"United States of America (the)\"],\"name\":\"\",\"z\":[62,686,28,978],\"type\":\"choropleth\"}],\"name\":\"2020-05-07 00:00:00\"},{\"data\":[{\"coloraxis\":\"coloraxis\",\"geo\":\"geo\",\"hovertemplate\":\"\\u003cb\\u003e%{hovertext}\\u003c\\u002fb\\u003e\\u003cbr\\u003e\\u003cbr\\u003eDate=2020-05-08 00:00:00\\u003cbr\\u003eCountry=%{location}\\u003cbr\\u003ePercentOfBaseline=%{z}\\u003cextra\\u003e\\u003c\\u002fextra\\u003e\",\"hovertext\":[\"Australia\",\"Canada\",\"Chile\",\"United States of America (the)\"],\"locationmode\":\"country names\",\"locations\":[\"Australia\",\"Canada\",\"Chile\",\"United States of America (the)\"],\"name\":\"\",\"z\":[56,667,19,979],\"type\":\"choropleth\"}],\"name\":\"2020-05-08 00:00:00\"},{\"data\":[{\"coloraxis\":\"coloraxis\",\"geo\":\"geo\",\"hovertemplate\":\"\\u003cb\\u003e%{hovertext}\\u003c\\u002fb\\u003e\\u003cbr\\u003e\\u003cbr\\u003eDate=2020-05-09 00:00:00\\u003cbr\\u003eCountry=%{location}\\u003cbr\\u003ePercentOfBaseline=%{z}\\u003cextra\\u003e\\u003c\\u002fextra\\u003e\",\"hovertext\":[\"Australia\",\"Canada\",\"Chile\",\"United States of America (the)\"],\"locationmode\":\"country names\",\"locations\":[\"Australia\",\"Canada\",\"Chile\",\"United States of America (the)\"],\"name\":\"\",\"z\":[19,516,15,828],\"type\":\"choropleth\"}],\"name\":\"2020-05-09 00:00:00\"},{\"data\":[{\"coloraxis\":\"coloraxis\",\"geo\":\"geo\",\"hovertemplate\":\"\\u003cb\\u003e%{hovertext}\\u003c\\u002fb\\u003e\\u003cbr\\u003e\\u003cbr\\u003eDate=2020-05-10 00:00:00\\u003cbr\\u003eCountry=%{location}\\u003cbr\\u003ePercentOfBaseline=%{z}\\u003cextra\\u003e\\u003c\\u002fextra\\u003e\",\"hovertext\":[\"Australia\",\"Canada\",\"Chile\",\"United States of America (the)\"],\"locationmode\":\"country names\",\"locations\":[\"Australia\",\"Canada\",\"Chile\",\"United States of America (the)\"],\"name\":\"\",\"z\":[40,385,12,794],\"type\":\"choropleth\"}],\"name\":\"2020-05-10 00:00:00\"},{\"data\":[{\"coloraxis\":\"coloraxis\",\"geo\":\"geo\",\"hovertemplate\":\"\\u003cb\\u003e%{hovertext}\\u003c\\u002fb\\u003e\\u003cbr\\u003e\\u003cbr\\u003eDate=2020-05-11 00:00:00\\u003cbr\\u003eCountry=%{location}\\u003cbr\\u003ePercentOfBaseline=%{z}\\u003cextra\\u003e\\u003c\\u002fextra\\u003e\",\"hovertext\":[\"Australia\",\"Canada\",\"Chile\",\"United States of America (the)\"],\"locationmode\":\"country names\",\"locations\":[\"Australia\",\"Canada\",\"Chile\",\"United States of America (the)\"],\"name\":\"\",\"z\":[47,743,28,991],\"type\":\"choropleth\"}],\"name\":\"2020-05-11 00:00:00\"},{\"data\":[{\"coloraxis\":\"coloraxis\",\"geo\":\"geo\",\"hovertemplate\":\"\\u003cb\\u003e%{hovertext}\\u003c\\u002fb\\u003e\\u003cbr\\u003e\\u003cbr\\u003eDate=2020-05-12 00:00:00\\u003cbr\\u003eCountry=%{location}\\u003cbr\\u003ePercentOfBaseline=%{z}\\u003cextra\\u003e\\u003c\\u002fextra\\u003e\",\"hovertext\":[\"Australia\",\"Canada\",\"Chile\",\"United States of America (the)\"],\"locationmode\":\"country names\",\"locations\":[\"Australia\",\"Canada\",\"Chile\",\"United States of America (the)\"],\"name\":\"\",\"z\":[54,752,35,1002],\"type\":\"choropleth\"}],\"name\":\"2020-05-12 00:00:00\"},{\"data\":[{\"coloraxis\":\"coloraxis\",\"geo\":\"geo\",\"hovertemplate\":\"\\u003cb\\u003e%{hovertext}\\u003c\\u002fb\\u003e\\u003cbr\\u003e\\u003cbr\\u003eDate=2020-05-13 00:00:00\\u003cbr\\u003eCountry=%{location}\\u003cbr\\u003ePercentOfBaseline=%{z}\\u003cextra\\u003e\\u003c\\u002fextra\\u003e\",\"hovertext\":[\"Australia\",\"Canada\",\"Chile\",\"United States of America (the)\"],\"locationmode\":\"country names\",\"locations\":[\"Australia\",\"Canada\",\"Chile\",\"United States of America (the)\"],\"name\":\"\",\"z\":[56,712,32,1045],\"type\":\"choropleth\"}],\"name\":\"2020-05-13 00:00:00\"},{\"data\":[{\"coloraxis\":\"coloraxis\",\"geo\":\"geo\",\"hovertemplate\":\"\\u003cb\\u003e%{hovertext}\\u003c\\u002fb\\u003e\\u003cbr\\u003e\\u003cbr\\u003eDate=2020-05-14 00:00:00\\u003cbr\\u003eCountry=%{location}\\u003cbr\\u003ePercentOfBaseline=%{z}\\u003cextra\\u003e\\u003c\\u002fextra\\u003e\",\"hovertext\":[\"Australia\",\"Canada\",\"Chile\",\"United States of America (the)\"],\"locationmode\":\"country names\",\"locations\":[\"Australia\",\"Canada\",\"Chile\",\"United States of America (the)\"],\"name\":\"\",\"z\":[59,666,18,1005],\"type\":\"choropleth\"}],\"name\":\"2020-05-14 00:00:00\"},{\"data\":[{\"coloraxis\":\"coloraxis\",\"geo\":\"geo\",\"hovertemplate\":\"\\u003cb\\u003e%{hovertext}\\u003c\\u002fb\\u003e\\u003cbr\\u003e\\u003cbr\\u003eDate=2020-05-15 00:00:00\\u003cbr\\u003eCountry=%{location}\\u003cbr\\u003ePercentOfBaseline=%{z}\\u003cextra\\u003e\\u003c\\u002fextra\\u003e\",\"hovertext\":[\"Australia\",\"Canada\",\"Chile\",\"United States of America (the)\"],\"locationmode\":\"country names\",\"locations\":[\"Australia\",\"Canada\",\"Chile\",\"United States of America (the)\"],\"name\":\"\",\"z\":[59,680,23,982],\"type\":\"choropleth\"}],\"name\":\"2020-05-15 00:00:00\"},{\"data\":[{\"coloraxis\":\"coloraxis\",\"geo\":\"geo\",\"hovertemplate\":\"\\u003cb\\u003e%{hovertext}\\u003c\\u002fb\\u003e\\u003cbr\\u003e\\u003cbr\\u003eDate=2020-05-16 00:00:00\\u003cbr\\u003eCountry=%{location}\\u003cbr\\u003ePercentOfBaseline=%{z}\\u003cextra\\u003e\\u003c\\u002fextra\\u003e\",\"hovertext\":[\"Australia\",\"Canada\",\"Chile\",\"United States of America (the)\"],\"locationmode\":\"country names\",\"locations\":[\"Australia\",\"Canada\",\"Chile\",\"United States of America (the)\"],\"name\":\"\",\"z\":[23,565,22,848],\"type\":\"choropleth\"}],\"name\":\"2020-05-16 00:00:00\"},{\"data\":[{\"coloraxis\":\"coloraxis\",\"geo\":\"geo\",\"hovertemplate\":\"\\u003cb\\u003e%{hovertext}\\u003c\\u002fb\\u003e\\u003cbr\\u003e\\u003cbr\\u003eDate=2020-05-17 00:00:00\\u003cbr\\u003eCountry=%{location}\\u003cbr\\u003ePercentOfBaseline=%{z}\\u003cextra\\u003e\\u003c\\u002fextra\\u003e\",\"hovertext\":[\"Australia\",\"Canada\",\"Chile\",\"United States of America (the)\"],\"locationmode\":\"country names\",\"locations\":[\"Australia\",\"Canada\",\"Chile\",\"United States of America (the)\"],\"name\":\"\",\"z\":[43,458,10,804],\"type\":\"choropleth\"}],\"name\":\"2020-05-17 00:00:00\"},{\"data\":[{\"coloraxis\":\"coloraxis\",\"geo\":\"geo\",\"hovertemplate\":\"\\u003cb\\u003e%{hovertext}\\u003c\\u002fb\\u003e\\u003cbr\\u003e\\u003cbr\\u003eDate=2020-05-18 00:00:00\\u003cbr\\u003eCountry=%{location}\\u003cbr\\u003ePercentOfBaseline=%{z}\\u003cextra\\u003e\\u003c\\u002fextra\\u003e\",\"hovertext\":[\"Australia\",\"Canada\",\"Chile\",\"United States of America (the)\"],\"locationmode\":\"country names\",\"locations\":[\"Australia\",\"Canada\",\"Chile\",\"United States of America (the)\"],\"name\":\"\",\"z\":[51,151,27,1006],\"type\":\"choropleth\"}],\"name\":\"2020-05-18 00:00:00\"},{\"data\":[{\"coloraxis\":\"coloraxis\",\"geo\":\"geo\",\"hovertemplate\":\"\\u003cb\\u003e%{hovertext}\\u003c\\u002fb\\u003e\\u003cbr\\u003e\\u003cbr\\u003eDate=2020-05-19 00:00:00\\u003cbr\\u003eCountry=%{location}\\u003cbr\\u003ePercentOfBaseline=%{z}\\u003cextra\\u003e\\u003c\\u002fextra\\u003e\",\"hovertext\":[\"Australia\",\"Canada\",\"Chile\",\"United States of America (the)\"],\"locationmode\":\"country names\",\"locations\":[\"Australia\",\"Canada\",\"Chile\",\"United States of America (the)\"],\"name\":\"\",\"z\":[60,685,29,1074],\"type\":\"choropleth\"}],\"name\":\"2020-05-19 00:00:00\"},{\"data\":[{\"coloraxis\":\"coloraxis\",\"geo\":\"geo\",\"hovertemplate\":\"\\u003cb\\u003e%{hovertext}\\u003c\\u002fb\\u003e\\u003cbr\\u003e\\u003cbr\\u003eDate=2020-05-20 00:00:00\\u003cbr\\u003eCountry=%{location}\\u003cbr\\u003ePercentOfBaseline=%{z}\\u003cextra\\u003e\\u003c\\u002fextra\\u003e\",\"hovertext\":[\"Australia\",\"Canada\",\"Chile\",\"United States of America (the)\"],\"locationmode\":\"country names\",\"locations\":[\"Australia\",\"Canada\",\"Chile\",\"United States of America (the)\"],\"name\":\"\",\"z\":[61,721,35,1083],\"type\":\"choropleth\"}],\"name\":\"2020-05-20 00:00:00\"},{\"data\":[{\"coloraxis\":\"coloraxis\",\"geo\":\"geo\",\"hovertemplate\":\"\\u003cb\\u003e%{hovertext}\\u003c\\u002fb\\u003e\\u003cbr\\u003e\\u003cbr\\u003eDate=2020-05-21 00:00:00\\u003cbr\\u003eCountry=%{location}\\u003cbr\\u003ePercentOfBaseline=%{z}\\u003cextra\\u003e\\u003c\\u002fextra\\u003e\",\"hovertext\":[\"Australia\",\"Canada\",\"Chile\",\"United States of America (the)\"],\"locationmode\":\"country names\",\"locations\":[\"Australia\",\"Canada\",\"Chile\",\"United States of America (the)\"],\"name\":\"\",\"z\":[54,688,13,1045],\"type\":\"choropleth\"}],\"name\":\"2020-05-21 00:00:00\"},{\"data\":[{\"coloraxis\":\"coloraxis\",\"geo\":\"geo\",\"hovertemplate\":\"\\u003cb\\u003e%{hovertext}\\u003c\\u002fb\\u003e\\u003cbr\\u003e\\u003cbr\\u003eDate=2020-05-22 00:00:00\\u003cbr\\u003eCountry=%{location}\\u003cbr\\u003ePercentOfBaseline=%{z}\\u003cextra\\u003e\\u003c\\u002fextra\\u003e\",\"hovertext\":[\"Australia\",\"Canada\",\"Chile\",\"United States of America (the)\"],\"locationmode\":\"country names\",\"locations\":[\"Australia\",\"Canada\",\"Chile\",\"United States of America (the)\"],\"name\":\"\",\"z\":[50,712,18,994],\"type\":\"choropleth\"}],\"name\":\"2020-05-22 00:00:00\"},{\"data\":[{\"coloraxis\":\"coloraxis\",\"geo\":\"geo\",\"hovertemplate\":\"\\u003cb\\u003e%{hovertext}\\u003c\\u002fb\\u003e\\u003cbr\\u003e\\u003cbr\\u003eDate=2020-05-23 00:00:00\\u003cbr\\u003eCountry=%{location}\\u003cbr\\u003ePercentOfBaseline=%{z}\\u003cextra\\u003e\\u003c\\u002fextra\\u003e\",\"hovertext\":[\"Australia\",\"Canada\",\"Chile\",\"United States of America (the)\"],\"locationmode\":\"country names\",\"locations\":[\"Australia\",\"Canada\",\"Chile\",\"United States of America (the)\"],\"name\":\"\",\"z\":[16,506,15,843],\"type\":\"choropleth\"}],\"name\":\"2020-05-23 00:00:00\"},{\"data\":[{\"coloraxis\":\"coloraxis\",\"geo\":\"geo\",\"hovertemplate\":\"\\u003cb\\u003e%{hovertext}\\u003c\\u002fb\\u003e\\u003cbr\\u003e\\u003cbr\\u003eDate=2020-05-24 00:00:00\\u003cbr\\u003eCountry=%{location}\\u003cbr\\u003ePercentOfBaseline=%{z}\\u003cextra\\u003e\\u003c\\u002fextra\\u003e\",\"hovertext\":[\"Australia\",\"Canada\",\"Chile\",\"United States of America (the)\"],\"locationmode\":\"country names\",\"locations\":[\"Australia\",\"Canada\",\"Chile\",\"United States of America (the)\"],\"name\":\"\",\"z\":[40,468,9,798],\"type\":\"choropleth\"}],\"name\":\"2020-05-24 00:00:00\"},{\"data\":[{\"coloraxis\":\"coloraxis\",\"geo\":\"geo\",\"hovertemplate\":\"\\u003cb\\u003e%{hovertext}\\u003c\\u002fb\\u003e\\u003cbr\\u003e\\u003cbr\\u003eDate=2020-05-25 00:00:00\\u003cbr\\u003eCountry=%{location}\\u003cbr\\u003ePercentOfBaseline=%{z}\\u003cextra\\u003e\\u003c\\u002fextra\\u003e\",\"hovertext\":[\"Australia\",\"Canada\",\"Chile\",\"United States of America (the)\"],\"locationmode\":\"country names\",\"locations\":[\"Australia\",\"Canada\",\"Chile\",\"United States of America (the)\"],\"name\":\"\",\"z\":[53,762,27,405],\"type\":\"choropleth\"}],\"name\":\"2020-05-25 00:00:00\"},{\"data\":[{\"coloraxis\":\"coloraxis\",\"geo\":\"geo\",\"hovertemplate\":\"\\u003cb\\u003e%{hovertext}\\u003c\\u002fb\\u003e\\u003cbr\\u003e\\u003cbr\\u003eDate=2020-05-26 00:00:00\\u003cbr\\u003eCountry=%{location}\\u003cbr\\u003ePercentOfBaseline=%{z}\\u003cextra\\u003e\\u003c\\u002fextra\\u003e\",\"hovertext\":[\"Australia\",\"Canada\",\"Chile\",\"United States of America (the)\"],\"locationmode\":\"country names\",\"locations\":[\"Australia\",\"Canada\",\"Chile\",\"United States of America (the)\"],\"name\":\"\",\"z\":[53,750,22,972],\"type\":\"choropleth\"}],\"name\":\"2020-05-26 00:00:00\"},{\"data\":[{\"coloraxis\":\"coloraxis\",\"geo\":\"geo\",\"hovertemplate\":\"\\u003cb\\u003e%{hovertext}\\u003c\\u002fb\\u003e\\u003cbr\\u003e\\u003cbr\\u003eDate=2020-05-27 00:00:00\\u003cbr\\u003eCountry=%{location}\\u003cbr\\u003ePercentOfBaseline=%{z}\\u003cextra\\u003e\\u003c\\u002fextra\\u003e\",\"hovertext\":[\"Australia\",\"Canada\",\"Chile\",\"United States of America (the)\"],\"locationmode\":\"country names\",\"locations\":[\"Australia\",\"Canada\",\"Chile\",\"United States of America (the)\"],\"name\":\"\",\"z\":[58,747,19,1088],\"type\":\"choropleth\"}],\"name\":\"2020-05-27 00:00:00\"},{\"data\":[{\"coloraxis\":\"coloraxis\",\"geo\":\"geo\",\"hovertemplate\":\"\\u003cb\\u003e%{hovertext}\\u003c\\u002fb\\u003e\\u003cbr\\u003e\\u003cbr\\u003eDate=2020-05-28 00:00:00\\u003cbr\\u003eCountry=%{location}\\u003cbr\\u003ePercentOfBaseline=%{z}\\u003cextra\\u003e\\u003c\\u002fextra\\u003e\",\"hovertext\":[\"Australia\",\"Canada\",\"Chile\",\"United States of America (the)\"],\"locationmode\":\"country names\",\"locations\":[\"Australia\",\"Canada\",\"Chile\",\"United States of America (the)\"],\"name\":\"\",\"z\":[61,744,22,1087],\"type\":\"choropleth\"}],\"name\":\"2020-05-28 00:00:00\"},{\"data\":[{\"coloraxis\":\"coloraxis\",\"geo\":\"geo\",\"hovertemplate\":\"\\u003cb\\u003e%{hovertext}\\u003c\\u002fb\\u003e\\u003cbr\\u003e\\u003cbr\\u003eDate=2020-05-29 00:00:00\\u003cbr\\u003eCountry=%{location}\\u003cbr\\u003ePercentOfBaseline=%{z}\\u003cextra\\u003e\\u003c\\u002fextra\\u003e\",\"hovertext\":[\"Australia\",\"Canada\",\"Chile\",\"United States of America (the)\"],\"locationmode\":\"country names\",\"locations\":[\"Australia\",\"Canada\",\"Chile\",\"United States of America (the)\"],\"name\":\"\",\"z\":[54,712,28,1056],\"type\":\"choropleth\"}],\"name\":\"2020-05-29 00:00:00\"},{\"data\":[{\"coloraxis\":\"coloraxis\",\"geo\":\"geo\",\"hovertemplate\":\"\\u003cb\\u003e%{hovertext}\\u003c\\u002fb\\u003e\\u003cbr\\u003e\\u003cbr\\u003eDate=2020-05-30 00:00:00\\u003cbr\\u003eCountry=%{location}\\u003cbr\\u003ePercentOfBaseline=%{z}\\u003cextra\\u003e\\u003c\\u002fextra\\u003e\",\"hovertext\":[\"Australia\",\"Canada\",\"Chile\",\"United States of America (the)\"],\"locationmode\":\"country names\",\"locations\":[\"Australia\",\"Canada\",\"Chile\",\"United States of America (the)\"],\"name\":\"\",\"z\":[30,586,13,928],\"type\":\"choropleth\"}],\"name\":\"2020-05-30 00:00:00\"},{\"data\":[{\"coloraxis\":\"coloraxis\",\"geo\":\"geo\",\"hovertemplate\":\"\\u003cb\\u003e%{hovertext}\\u003c\\u002fb\\u003e\\u003cbr\\u003e\\u003cbr\\u003eDate=2020-05-31 00:00:00\\u003cbr\\u003eCountry=%{location}\\u003cbr\\u003ePercentOfBaseline=%{z}\\u003cextra\\u003e\\u003c\\u002fextra\\u003e\",\"hovertext\":[\"Australia\",\"Canada\",\"United States of America (the)\"],\"locationmode\":\"country names\",\"locations\":[\"Australia\",\"Canada\",\"United States of America (the)\"],\"name\":\"\",\"z\":[51,683,857],\"type\":\"choropleth\"}],\"name\":\"2020-05-31 00:00:00\"},{\"data\":[{\"coloraxis\":\"coloraxis\",\"geo\":\"geo\",\"hovertemplate\":\"\\u003cb\\u003e%{hovertext}\\u003c\\u002fb\\u003e\\u003cbr\\u003e\\u003cbr\\u003eDate=2020-06-01 00:00:00\\u003cbr\\u003eCountry=%{location}\\u003cbr\\u003ePercentOfBaseline=%{z}\\u003cextra\\u003e\\u003c\\u002fextra\\u003e\",\"hovertext\":[\"Australia\",\"Canada\",\"Chile\",\"United States of America (the)\"],\"locationmode\":\"country names\",\"locations\":[\"Australia\",\"Canada\",\"Chile\",\"United States of America (the)\"],\"name\":\"\",\"z\":[55,799,20,1064],\"type\":\"choropleth\"}],\"name\":\"2020-06-01 00:00:00\"},{\"data\":[{\"coloraxis\":\"coloraxis\",\"geo\":\"geo\",\"hovertemplate\":\"\\u003cb\\u003e%{hovertext}\\u003c\\u002fb\\u003e\\u003cbr\\u003e\\u003cbr\\u003eDate=2020-06-02 00:00:00\\u003cbr\\u003eCountry=%{location}\\u003cbr\\u003ePercentOfBaseline=%{z}\\u003cextra\\u003e\\u003c\\u002fextra\\u003e\",\"hovertext\":[\"Australia\",\"Canada\",\"Chile\",\"United States of America (the)\"],\"locationmode\":\"country names\",\"locations\":[\"Australia\",\"Canada\",\"Chile\",\"United States of America (the)\"],\"name\":\"\",\"z\":[59,752,34,1103],\"type\":\"choropleth\"}],\"name\":\"2020-06-02 00:00:00\"},{\"data\":[{\"coloraxis\":\"coloraxis\",\"geo\":\"geo\",\"hovertemplate\":\"\\u003cb\\u003e%{hovertext}\\u003c\\u002fb\\u003e\\u003cbr\\u003e\\u003cbr\\u003eDate=2020-06-03 00:00:00\\u003cbr\\u003eCountry=%{location}\\u003cbr\\u003ePercentOfBaseline=%{z}\\u003cextra\\u003e\\u003c\\u002fextra\\u003e\",\"hovertext\":[\"Australia\",\"Canada\",\"Chile\",\"United States of America (the)\"],\"locationmode\":\"country names\",\"locations\":[\"Australia\",\"Canada\",\"Chile\",\"United States of America (the)\"],\"name\":\"\",\"z\":[61,747,41,1102],\"type\":\"choropleth\"}],\"name\":\"2020-06-03 00:00:00\"},{\"data\":[{\"coloraxis\":\"coloraxis\",\"geo\":\"geo\",\"hovertemplate\":\"\\u003cb\\u003e%{hovertext}\\u003c\\u002fb\\u003e\\u003cbr\\u003e\\u003cbr\\u003eDate=2020-06-04 00:00:00\\u003cbr\\u003eCountry=%{location}\\u003cbr\\u003ePercentOfBaseline=%{z}\\u003cextra\\u003e\\u003c\\u002fextra\\u003e\",\"hovertext\":[\"Australia\",\"Canada\",\"Chile\",\"United States of America (the)\"],\"locationmode\":\"country names\",\"locations\":[\"Australia\",\"Canada\",\"Chile\",\"United States of America (the)\"],\"name\":\"\",\"z\":[59,715,20,1090],\"type\":\"choropleth\"}],\"name\":\"2020-06-04 00:00:00\"},{\"data\":[{\"coloraxis\":\"coloraxis\",\"geo\":\"geo\",\"hovertemplate\":\"\\u003cb\\u003e%{hovertext}\\u003c\\u002fb\\u003e\\u003cbr\\u003e\\u003cbr\\u003eDate=2020-06-05 00:00:00\\u003cbr\\u003eCountry=%{location}\\u003cbr\\u003ePercentOfBaseline=%{z}\\u003cextra\\u003e\\u003c\\u002fextra\\u003e\",\"hovertext\":[\"Australia\",\"Canada\",\"Chile\",\"United States of America (the)\"],\"locationmode\":\"country names\",\"locations\":[\"Australia\",\"Canada\",\"Chile\",\"United States of America (the)\"],\"name\":\"\",\"z\":[50,710,27,1087],\"type\":\"choropleth\"}],\"name\":\"2020-06-05 00:00:00\"},{\"data\":[{\"coloraxis\":\"coloraxis\",\"geo\":\"geo\",\"hovertemplate\":\"\\u003cb\\u003e%{hovertext}\\u003c\\u002fb\\u003e\\u003cbr\\u003e\\u003cbr\\u003eDate=2020-06-06 00:00:00\\u003cbr\\u003eCountry=%{location}\\u003cbr\\u003ePercentOfBaseline=%{z}\\u003cextra\\u003e\\u003c\\u002fextra\\u003e\",\"hovertext\":[\"Canada\",\"Chile\",\"United States of America (the)\"],\"locationmode\":\"country names\",\"locations\":[\"Canada\",\"Chile\",\"United States of America (the)\"],\"name\":\"\",\"z\":[517,22,971],\"type\":\"choropleth\"}],\"name\":\"2020-06-06 00:00:00\"},{\"data\":[{\"coloraxis\":\"coloraxis\",\"geo\":\"geo\",\"hovertemplate\":\"\\u003cb\\u003e%{hovertext}\\u003c\\u002fb\\u003e\\u003cbr\\u003e\\u003cbr\\u003eDate=2020-06-07 00:00:00\\u003cbr\\u003eCountry=%{location}\\u003cbr\\u003ePercentOfBaseline=%{z}\\u003cextra\\u003e\\u003c\\u002fextra\\u003e\",\"hovertext\":[\"Australia\",\"Canada\",\"United States of America (the)\"],\"locationmode\":\"country names\",\"locations\":[\"Australia\",\"Canada\",\"United States of America (the)\"],\"name\":\"\",\"z\":[21,588,939],\"type\":\"choropleth\"}],\"name\":\"2020-06-07 00:00:00\"},{\"data\":[{\"coloraxis\":\"coloraxis\",\"geo\":\"geo\",\"hovertemplate\":\"\\u003cb\\u003e%{hovertext}\\u003c\\u002fb\\u003e\\u003cbr\\u003e\\u003cbr\\u003eDate=2020-06-08 00:00:00\\u003cbr\\u003eCountry=%{location}\\u003cbr\\u003ePercentOfBaseline=%{z}\\u003cextra\\u003e\\u003c\\u002fextra\\u003e\",\"hovertext\":[\"Australia\",\"Canada\",\"Chile\",\"United States of America (the)\"],\"locationmode\":\"country names\",\"locations\":[\"Australia\",\"Canada\",\"Chile\",\"United States of America (the)\"],\"name\":\"\",\"z\":[25,794,28,1082],\"type\":\"choropleth\"}],\"name\":\"2020-06-08 00:00:00\"},{\"data\":[{\"coloraxis\":\"coloraxis\",\"geo\":\"geo\",\"hovertemplate\":\"\\u003cb\\u003e%{hovertext}\\u003c\\u002fb\\u003e\\u003cbr\\u003e\\u003cbr\\u003eDate=2020-06-09 00:00:00\\u003cbr\\u003eCountry=%{location}\\u003cbr\\u003ePercentOfBaseline=%{z}\\u003cextra\\u003e\\u003c\\u002fextra\\u003e\",\"hovertext\":[\"Australia\",\"Canada\",\"Chile\",\"United States of America (the)\"],\"locationmode\":\"country names\",\"locations\":[\"Australia\",\"Canada\",\"Chile\",\"United States of America (the)\"],\"name\":\"\",\"z\":[54,764,25,1089],\"type\":\"choropleth\"}],\"name\":\"2020-06-09 00:00:00\"},{\"data\":[{\"coloraxis\":\"coloraxis\",\"geo\":\"geo\",\"hovertemplate\":\"\\u003cb\\u003e%{hovertext}\\u003c\\u002fb\\u003e\\u003cbr\\u003e\\u003cbr\\u003eDate=2020-06-10 00:00:00\\u003cbr\\u003eCountry=%{location}\\u003cbr\\u003ePercentOfBaseline=%{z}\\u003cextra\\u003e\\u003c\\u002fextra\\u003e\",\"hovertext\":[\"Australia\",\"Canada\",\"Chile\",\"United States of America (the)\"],\"locationmode\":\"country names\",\"locations\":[\"Australia\",\"Canada\",\"Chile\",\"United States of America (the)\"],\"name\":\"\",\"z\":[56,738,24,1075],\"type\":\"choropleth\"}],\"name\":\"2020-06-10 00:00:00\"},{\"data\":[{\"coloraxis\":\"coloraxis\",\"geo\":\"geo\",\"hovertemplate\":\"\\u003cb\\u003e%{hovertext}\\u003c\\u002fb\\u003e\\u003cbr\\u003e\\u003cbr\\u003eDate=2020-06-11 00:00:00\\u003cbr\\u003eCountry=%{location}\\u003cbr\\u003ePercentOfBaseline=%{z}\\u003cextra\\u003e\\u003c\\u002fextra\\u003e\",\"hovertext\":[\"Australia\",\"Canada\",\"Chile\",\"United States of America (the)\"],\"locationmode\":\"country names\",\"locations\":[\"Australia\",\"Canada\",\"Chile\",\"United States of America (the)\"],\"name\":\"\",\"z\":[64,755,24,1085],\"type\":\"choropleth\"}],\"name\":\"2020-06-11 00:00:00\"},{\"data\":[{\"coloraxis\":\"coloraxis\",\"geo\":\"geo\",\"hovertemplate\":\"\\u003cb\\u003e%{hovertext}\\u003c\\u002fb\\u003e\\u003cbr\\u003e\\u003cbr\\u003eDate=2020-06-12 00:00:00\\u003cbr\\u003eCountry=%{location}\\u003cbr\\u003ePercentOfBaseline=%{z}\\u003cextra\\u003e\\u003c\\u002fextra\\u003e\",\"hovertext\":[\"Australia\",\"Canada\",\"Chile\",\"United States of America (the)\"],\"locationmode\":\"country names\",\"locations\":[\"Australia\",\"Canada\",\"Chile\",\"United States of America (the)\"],\"name\":\"\",\"z\":[60,738,31,1067],\"type\":\"choropleth\"}],\"name\":\"2020-06-12 00:00:00\"},{\"data\":[{\"coloraxis\":\"coloraxis\",\"geo\":\"geo\",\"hovertemplate\":\"\\u003cb\\u003e%{hovertext}\\u003c\\u002fb\\u003e\\u003cbr\\u003e\\u003cbr\\u003eDate=2020-06-13 00:00:00\\u003cbr\\u003eCountry=%{location}\\u003cbr\\u003ePercentOfBaseline=%{z}\\u003cextra\\u003e\\u003c\\u002fextra\\u003e\",\"hovertext\":[\"Australia\",\"Canada\",\"United States of America (the)\"],\"locationmode\":\"country names\",\"locations\":[\"Australia\",\"Canada\",\"United States of America (the)\"],\"name\":\"\",\"z\":[36,554,963],\"type\":\"choropleth\"}],\"name\":\"2020-06-13 00:00:00\"},{\"data\":[{\"coloraxis\":\"coloraxis\",\"geo\":\"geo\",\"hovertemplate\":\"\\u003cb\\u003e%{hovertext}\\u003c\\u002fb\\u003e\\u003cbr\\u003e\\u003cbr\\u003eDate=2020-06-14 00:00:00\\u003cbr\\u003eCountry=%{location}\\u003cbr\\u003ePercentOfBaseline=%{z}\\u003cextra\\u003e\\u003c\\u002fextra\\u003e\",\"hovertext\":[\"Australia\",\"Canada\",\"United States of America (the)\"],\"locationmode\":\"country names\",\"locations\":[\"Australia\",\"Canada\",\"United States of America (the)\"],\"name\":\"\",\"z\":[55,672,911],\"type\":\"choropleth\"}],\"name\":\"2020-06-14 00:00:00\"},{\"data\":[{\"coloraxis\":\"coloraxis\",\"geo\":\"geo\",\"hovertemplate\":\"\\u003cb\\u003e%{hovertext}\\u003c\\u002fb\\u003e\\u003cbr\\u003e\\u003cbr\\u003eDate=2020-06-15 00:00:00\\u003cbr\\u003eCountry=%{location}\\u003cbr\\u003ePercentOfBaseline=%{z}\\u003cextra\\u003e\\u003c\\u002fextra\\u003e\",\"hovertext\":[\"Australia\",\"Canada\",\"Chile\",\"United States of America (the)\"],\"locationmode\":\"country names\",\"locations\":[\"Australia\",\"Canada\",\"Chile\",\"United States of America (the)\"],\"name\":\"\",\"z\":[52,823,32,1099],\"type\":\"choropleth\"}],\"name\":\"2020-06-15 00:00:00\"},{\"data\":[{\"coloraxis\":\"coloraxis\",\"geo\":\"geo\",\"hovertemplate\":\"\\u003cb\\u003e%{hovertext}\\u003c\\u002fb\\u003e\\u003cbr\\u003e\\u003cbr\\u003eDate=2020-06-16 00:00:00\\u003cbr\\u003eCountry=%{location}\\u003cbr\\u003ePercentOfBaseline=%{z}\\u003cextra\\u003e\\u003c\\u002fextra\\u003e\",\"hovertext\":[\"Australia\",\"Canada\",\"Chile\",\"United States of America (the)\"],\"locationmode\":\"country names\",\"locations\":[\"Australia\",\"Canada\",\"Chile\",\"United States of America (the)\"],\"name\":\"\",\"z\":[63,780,27,1122],\"type\":\"choropleth\"}],\"name\":\"2020-06-16 00:00:00\"},{\"data\":[{\"coloraxis\":\"coloraxis\",\"geo\":\"geo\",\"hovertemplate\":\"\\u003cb\\u003e%{hovertext}\\u003c\\u002fb\\u003e\\u003cbr\\u003e\\u003cbr\\u003eDate=2020-06-17 00:00:00\\u003cbr\\u003eCountry=%{location}\\u003cbr\\u003ePercentOfBaseline=%{z}\\u003cextra\\u003e\\u003c\\u002fextra\\u003e\",\"hovertext\":[\"Australia\",\"Canada\",\"Chile\",\"United States of America (the)\"],\"locationmode\":\"country names\",\"locations\":[\"Australia\",\"Canada\",\"Chile\",\"United States of America (the)\"],\"name\":\"\",\"z\":[58,764,30,1122],\"type\":\"choropleth\"}],\"name\":\"2020-06-17 00:00:00\"},{\"data\":[{\"coloraxis\":\"coloraxis\",\"geo\":\"geo\",\"hovertemplate\":\"\\u003cb\\u003e%{hovertext}\\u003c\\u002fb\\u003e\\u003cbr\\u003e\\u003cbr\\u003eDate=2020-06-18 00:00:00\\u003cbr\\u003eCountry=%{location}\\u003cbr\\u003ePercentOfBaseline=%{z}\\u003cextra\\u003e\\u003c\\u002fextra\\u003e\",\"hovertext\":[\"Australia\",\"Canada\",\"Chile\",\"United States of America (the)\"],\"locationmode\":\"country names\",\"locations\":[\"Australia\",\"Canada\",\"Chile\",\"United States of America (the)\"],\"name\":\"\",\"z\":[59,766,30,1110],\"type\":\"choropleth\"}],\"name\":\"2020-06-18 00:00:00\"},{\"data\":[{\"coloraxis\":\"coloraxis\",\"geo\":\"geo\",\"hovertemplate\":\"\\u003cb\\u003e%{hovertext}\\u003c\\u002fb\\u003e\\u003cbr\\u003e\\u003cbr\\u003eDate=2020-06-19 00:00:00\\u003cbr\\u003eCountry=%{location}\\u003cbr\\u003ePercentOfBaseline=%{z}\\u003cextra\\u003e\\u003c\\u002fextra\\u003e\",\"hovertext\":[\"Australia\",\"Canada\",\"Chile\",\"United States of America (the)\"],\"locationmode\":\"country names\",\"locations\":[\"Australia\",\"Canada\",\"Chile\",\"United States of America (the)\"],\"name\":\"\",\"z\":[65,769,28,1086],\"type\":\"choropleth\"}],\"name\":\"2020-06-19 00:00:00\"},{\"data\":[{\"coloraxis\":\"coloraxis\",\"geo\":\"geo\",\"hovertemplate\":\"\\u003cb\\u003e%{hovertext}\\u003c\\u002fb\\u003e\\u003cbr\\u003e\\u003cbr\\u003eDate=2020-06-20 00:00:00\\u003cbr\\u003eCountry=%{location}\\u003cbr\\u003ePercentOfBaseline=%{z}\\u003cextra\\u003e\\u003c\\u002fextra\\u003e\",\"hovertext\":[\"Australia\",\"Canada\",\"Chile\",\"United States of America (the)\"],\"locationmode\":\"country names\",\"locations\":[\"Australia\",\"Canada\",\"Chile\",\"United States of America (the)\"],\"name\":\"\",\"z\":[26,599,16,944],\"type\":\"choropleth\"}],\"name\":\"2020-06-20 00:00:00\"},{\"data\":[{\"coloraxis\":\"coloraxis\",\"geo\":\"geo\",\"hovertemplate\":\"\\u003cb\\u003e%{hovertext}\\u003c\\u002fb\\u003e\\u003cbr\\u003e\\u003cbr\\u003eDate=2020-06-21 00:00:00\\u003cbr\\u003eCountry=%{location}\\u003cbr\\u003ePercentOfBaseline=%{z}\\u003cextra\\u003e\\u003c\\u002fextra\\u003e\",\"hovertext\":[\"Australia\",\"Canada\",\"Chile\",\"United States of America (the)\"],\"locationmode\":\"country names\",\"locations\":[\"Australia\",\"Canada\",\"Chile\",\"United States of America (the)\"],\"name\":\"\",\"z\":[46,508,14,853],\"type\":\"choropleth\"}],\"name\":\"2020-06-21 00:00:00\"},{\"data\":[{\"coloraxis\":\"coloraxis\",\"geo\":\"geo\",\"hovertemplate\":\"\\u003cb\\u003e%{hovertext}\\u003c\\u002fb\\u003e\\u003cbr\\u003e\\u003cbr\\u003eDate=2020-06-22 00:00:00\\u003cbr\\u003eCountry=%{location}\\u003cbr\\u003ePercentOfBaseline=%{z}\\u003cextra\\u003e\\u003c\\u002fextra\\u003e\",\"hovertext\":[\"Australia\",\"Canada\",\"Chile\",\"United States of America (the)\"],\"locationmode\":\"country names\",\"locations\":[\"Australia\",\"Canada\",\"Chile\",\"United States of America (the)\"],\"name\":\"\",\"z\":[50,826,37,1091],\"type\":\"choropleth\"}],\"name\":\"2020-06-22 00:00:00\"},{\"data\":[{\"coloraxis\":\"coloraxis\",\"geo\":\"geo\",\"hovertemplate\":\"\\u003cb\\u003e%{hovertext}\\u003c\\u002fb\\u003e\\u003cbr\\u003e\\u003cbr\\u003eDate=2020-06-23 00:00:00\\u003cbr\\u003eCountry=%{location}\\u003cbr\\u003ePercentOfBaseline=%{z}\\u003cextra\\u003e\\u003c\\u002fextra\\u003e\",\"hovertext\":[\"Australia\",\"Canada\",\"Chile\",\"United States of America (the)\"],\"locationmode\":\"country names\",\"locations\":[\"Australia\",\"Canada\",\"Chile\",\"United States of America (the)\"],\"name\":\"\",\"z\":[58,779,32,1167],\"type\":\"choropleth\"}],\"name\":\"2020-06-23 00:00:00\"},{\"data\":[{\"coloraxis\":\"coloraxis\",\"geo\":\"geo\",\"hovertemplate\":\"\\u003cb\\u003e%{hovertext}\\u003c\\u002fb\\u003e\\u003cbr\\u003e\\u003cbr\\u003eDate=2020-06-24 00:00:00\\u003cbr\\u003eCountry=%{location}\\u003cbr\\u003ePercentOfBaseline=%{z}\\u003cextra\\u003e\\u003c\\u002fextra\\u003e\",\"hovertext\":[\"Australia\",\"Canada\",\"Chile\",\"United States of America (the)\"],\"locationmode\":\"country names\",\"locations\":[\"Australia\",\"Canada\",\"Chile\",\"United States of America (the)\"],\"name\":\"\",\"z\":[58,670,30,1162],\"type\":\"choropleth\"}],\"name\":\"2020-06-24 00:00:00\"},{\"data\":[{\"coloraxis\":\"coloraxis\",\"geo\":\"geo\",\"hovertemplate\":\"\\u003cb\\u003e%{hovertext}\\u003c\\u002fb\\u003e\\u003cbr\\u003e\\u003cbr\\u003eDate=2020-06-25 00:00:00\\u003cbr\\u003eCountry=%{location}\\u003cbr\\u003ePercentOfBaseline=%{z}\\u003cextra\\u003e\\u003c\\u002fextra\\u003e\",\"hovertext\":[\"Australia\",\"Canada\",\"Chile\",\"United States of America (the)\"],\"locationmode\":\"country names\",\"locations\":[\"Australia\",\"Canada\",\"Chile\",\"United States of America (the)\"],\"name\":\"\",\"z\":[62,744,29,1123],\"type\":\"choropleth\"}],\"name\":\"2020-06-25 00:00:00\"},{\"data\":[{\"coloraxis\":\"coloraxis\",\"geo\":\"geo\",\"hovertemplate\":\"\\u003cb\\u003e%{hovertext}\\u003c\\u002fb\\u003e\\u003cbr\\u003e\\u003cbr\\u003eDate=2020-06-26 00:00:00\\u003cbr\\u003eCountry=%{location}\\u003cbr\\u003ePercentOfBaseline=%{z}\\u003cextra\\u003e\\u003c\\u002fextra\\u003e\",\"hovertext\":[\"Australia\",\"Canada\",\"Chile\",\"United States of America (the)\"],\"locationmode\":\"country names\",\"locations\":[\"Australia\",\"Canada\",\"Chile\",\"United States of America (the)\"],\"name\":\"\",\"z\":[53,765,32,1124],\"type\":\"choropleth\"}],\"name\":\"2020-06-26 00:00:00\"},{\"data\":[{\"coloraxis\":\"coloraxis\",\"geo\":\"geo\",\"hovertemplate\":\"\\u003cb\\u003e%{hovertext}\\u003c\\u002fb\\u003e\\u003cbr\\u003e\\u003cbr\\u003eDate=2020-06-27 00:00:00\\u003cbr\\u003eCountry=%{location}\\u003cbr\\u003ePercentOfBaseline=%{z}\\u003cextra\\u003e\\u003c\\u002fextra\\u003e\",\"hovertext\":[\"Australia\",\"Canada\",\"Chile\",\"United States of America (the)\"],\"locationmode\":\"country names\",\"locations\":[\"Australia\",\"Canada\",\"Chile\",\"United States of America (the)\"],\"name\":\"\",\"z\":[51,549,19,1028],\"type\":\"choropleth\"}],\"name\":\"2020-06-27 00:00:00\"},{\"data\":[{\"coloraxis\":\"coloraxis\",\"geo\":\"geo\",\"hovertemplate\":\"\\u003cb\\u003e%{hovertext}\\u003c\\u002fb\\u003e\\u003cbr\\u003e\\u003cbr\\u003eDate=2020-06-28 00:00:00\\u003cbr\\u003eCountry=%{location}\\u003cbr\\u003ePercentOfBaseline=%{z}\\u003cextra\\u003e\\u003c\\u002fextra\\u003e\",\"hovertext\":[\"Australia\",\"Canada\",\"United States of America (the)\"],\"locationmode\":\"country names\",\"locations\":[\"Australia\",\"Canada\",\"United States of America (the)\"],\"name\":\"\",\"z\":[48,595,930],\"type\":\"choropleth\"}],\"name\":\"2020-06-28 00:00:00\"},{\"data\":[{\"coloraxis\":\"coloraxis\",\"geo\":\"geo\",\"hovertemplate\":\"\\u003cb\\u003e%{hovertext}\\u003c\\u002fb\\u003e\\u003cbr\\u003e\\u003cbr\\u003eDate=2020-06-29 00:00:00\\u003cbr\\u003eCountry=%{location}\\u003cbr\\u003ePercentOfBaseline=%{z}\\u003cextra\\u003e\\u003c\\u002fextra\\u003e\",\"hovertext\":[\"Australia\",\"Canada\",\"Chile\",\"United States of America (the)\"],\"locationmode\":\"country names\",\"locations\":[\"Australia\",\"Canada\",\"Chile\",\"United States of America (the)\"],\"name\":\"\",\"z\":[57,814,19,1115],\"type\":\"choropleth\"}],\"name\":\"2020-06-29 00:00:00\"},{\"data\":[{\"coloraxis\":\"coloraxis\",\"geo\":\"geo\",\"hovertemplate\":\"\\u003cb\\u003e%{hovertext}\\u003c\\u002fb\\u003e\\u003cbr\\u003e\\u003cbr\\u003eDate=2020-06-30 00:00:00\\u003cbr\\u003eCountry=%{location}\\u003cbr\\u003ePercentOfBaseline=%{z}\\u003cextra\\u003e\\u003c\\u002fextra\\u003e\",\"hovertext\":[\"Australia\",\"Canada\",\"Chile\",\"United States of America (the)\"],\"locationmode\":\"country names\",\"locations\":[\"Australia\",\"Canada\",\"Chile\",\"United States of America (the)\"],\"name\":\"\",\"z\":[62,769,27,1153],\"type\":\"choropleth\"}],\"name\":\"2020-06-30 00:00:00\"},{\"data\":[{\"coloraxis\":\"coloraxis\",\"geo\":\"geo\",\"hovertemplate\":\"\\u003cb\\u003e%{hovertext}\\u003c\\u002fb\\u003e\\u003cbr\\u003e\\u003cbr\\u003eDate=2020-07-01 00:00:00\\u003cbr\\u003eCountry=%{location}\\u003cbr\\u003ePercentOfBaseline=%{z}\\u003cextra\\u003e\\u003c\\u002fextra\\u003e\",\"hovertext\":[\"Australia\",\"Canada\",\"Chile\",\"United States of America (the)\"],\"locationmode\":\"country names\",\"locations\":[\"Australia\",\"Canada\",\"Chile\",\"United States of America (the)\"],\"name\":\"\",\"z\":[62,280,33,1166],\"type\":\"choropleth\"}],\"name\":\"2020-07-01 00:00:00\"},{\"data\":[{\"coloraxis\":\"coloraxis\",\"geo\":\"geo\",\"hovertemplate\":\"\\u003cb\\u003e%{hovertext}\\u003c\\u002fb\\u003e\\u003cbr\\u003e\\u003cbr\\u003eDate=2020-07-02 00:00:00\\u003cbr\\u003eCountry=%{location}\\u003cbr\\u003ePercentOfBaseline=%{z}\\u003cextra\\u003e\\u003c\\u002fextra\\u003e\",\"hovertext\":[\"Australia\",\"Canada\",\"Chile\",\"United States of America (the)\"],\"locationmode\":\"country names\",\"locations\":[\"Australia\",\"Canada\",\"Chile\",\"United States of America (the)\"],\"name\":\"\",\"z\":[56,673,25,1130],\"type\":\"choropleth\"}],\"name\":\"2020-07-02 00:00:00\"},{\"data\":[{\"coloraxis\":\"coloraxis\",\"geo\":\"geo\",\"hovertemplate\":\"\\u003cb\\u003e%{hovertext}\\u003c\\u002fb\\u003e\\u003cbr\\u003e\\u003cbr\\u003eDate=2020-07-03 00:00:00\\u003cbr\\u003eCountry=%{location}\\u003cbr\\u003ePercentOfBaseline=%{z}\\u003cextra\\u003e\\u003c\\u002fextra\\u003e\",\"hovertext\":[\"Australia\",\"Canada\",\"Chile\",\"United States of America (the)\"],\"locationmode\":\"country names\",\"locations\":[\"Australia\",\"Canada\",\"Chile\",\"United States of America (the)\"],\"name\":\"\",\"z\":[46,669,32,758],\"type\":\"choropleth\"}],\"name\":\"2020-07-03 00:00:00\"},{\"data\":[{\"coloraxis\":\"coloraxis\",\"geo\":\"geo\",\"hovertemplate\":\"\\u003cb\\u003e%{hovertext}\\u003c\\u002fb\\u003e\\u003cbr\\u003e\\u003cbr\\u003eDate=2020-07-04 00:00:00\\u003cbr\\u003eCountry=%{location}\\u003cbr\\u003ePercentOfBaseline=%{z}\\u003cextra\\u003e\\u003c\\u002fextra\\u003e\",\"hovertext\":[\"Australia\",\"Canada\",\"Chile\",\"United States of America (the)\"],\"locationmode\":\"country names\",\"locations\":[\"Australia\",\"Canada\",\"Chile\",\"United States of America (the)\"],\"name\":\"\",\"z\":[48,571,19,641],\"type\":\"choropleth\"}],\"name\":\"2020-07-04 00:00:00\"},{\"data\":[{\"coloraxis\":\"coloraxis\",\"geo\":\"geo\",\"hovertemplate\":\"\\u003cb\\u003e%{hovertext}\\u003c\\u002fb\\u003e\\u003cbr\\u003e\\u003cbr\\u003eDate=2020-07-05 00:00:00\\u003cbr\\u003eCountry=%{location}\\u003cbr\\u003ePercentOfBaseline=%{z}\\u003cextra\\u003e\\u003c\\u002fextra\\u003e\",\"hovertext\":[\"Australia\",\"Canada\",\"United States of America (the)\"],\"locationmode\":\"country names\",\"locations\":[\"Australia\",\"Canada\",\"United States of America (the)\"],\"name\":\"\",\"z\":[52,632,841],\"type\":\"choropleth\"}],\"name\":\"2020-07-05 00:00:00\"},{\"data\":[{\"coloraxis\":\"coloraxis\",\"geo\":\"geo\",\"hovertemplate\":\"\\u003cb\\u003e%{hovertext}\\u003c\\u002fb\\u003e\\u003cbr\\u003e\\u003cbr\\u003eDate=2020-07-06 00:00:00\\u003cbr\\u003eCountry=%{location}\\u003cbr\\u003ePercentOfBaseline=%{z}\\u003cextra\\u003e\\u003c\\u002fextra\\u003e\",\"hovertext\":[\"Australia\",\"Canada\",\"Chile\",\"United States of America (the)\"],\"locationmode\":\"country names\",\"locations\":[\"Australia\",\"Canada\",\"Chile\",\"United States of America (the)\"],\"name\":\"\",\"z\":[55,845,33,1076],\"type\":\"choropleth\"}],\"name\":\"2020-07-06 00:00:00\"},{\"data\":[{\"coloraxis\":\"coloraxis\",\"geo\":\"geo\",\"hovertemplate\":\"\\u003cb\\u003e%{hovertext}\\u003c\\u002fb\\u003e\\u003cbr\\u003e\\u003cbr\\u003eDate=2020-07-07 00:00:00\\u003cbr\\u003eCountry=%{location}\\u003cbr\\u003ePercentOfBaseline=%{z}\\u003cextra\\u003e\\u003c\\u002fextra\\u003e\",\"hovertext\":[\"Australia\",\"Canada\",\"Chile\",\"United States of America (the)\"],\"locationmode\":\"country names\",\"locations\":[\"Australia\",\"Canada\",\"Chile\",\"United States of America (the)\"],\"name\":\"\",\"z\":[59,776,30,1202],\"type\":\"choropleth\"}],\"name\":\"2020-07-07 00:00:00\"},{\"data\":[{\"coloraxis\":\"coloraxis\",\"geo\":\"geo\",\"hovertemplate\":\"\\u003cb\\u003e%{hovertext}\\u003c\\u002fb\\u003e\\u003cbr\\u003e\\u003cbr\\u003eDate=2020-07-08 00:00:00\\u003cbr\\u003eCountry=%{location}\\u003cbr\\u003ePercentOfBaseline=%{z}\\u003cextra\\u003e\\u003c\\u002fextra\\u003e\",\"hovertext\":[\"Australia\",\"Canada\",\"Chile\",\"United States of America (the)\"],\"locationmode\":\"country names\",\"locations\":[\"Australia\",\"Canada\",\"Chile\",\"United States of America (the)\"],\"name\":\"\",\"z\":[55,792,32,1200],\"type\":\"choropleth\"}],\"name\":\"2020-07-08 00:00:00\"},{\"data\":[{\"coloraxis\":\"coloraxis\",\"geo\":\"geo\",\"hovertemplate\":\"\\u003cb\\u003e%{hovertext}\\u003c\\u002fb\\u003e\\u003cbr\\u003e\\u003cbr\\u003eDate=2020-07-09 00:00:00\\u003cbr\\u003eCountry=%{location}\\u003cbr\\u003ePercentOfBaseline=%{z}\\u003cextra\\u003e\\u003c\\u002fextra\\u003e\",\"hovertext\":[\"Australia\",\"Canada\",\"Chile\",\"United States of America (the)\"],\"locationmode\":\"country names\",\"locations\":[\"Australia\",\"Canada\",\"Chile\",\"United States of America (the)\"],\"name\":\"\",\"z\":[55,756,33,1164],\"type\":\"choropleth\"}],\"name\":\"2020-07-09 00:00:00\"},{\"data\":[{\"coloraxis\":\"coloraxis\",\"geo\":\"geo\",\"hovertemplate\":\"\\u003cb\\u003e%{hovertext}\\u003c\\u002fb\\u003e\\u003cbr\\u003e\\u003cbr\\u003eDate=2020-07-10 00:00:00\\u003cbr\\u003eCountry=%{location}\\u003cbr\\u003ePercentOfBaseline=%{z}\\u003cextra\\u003e\\u003c\\u002fextra\\u003e\",\"hovertext\":[\"Australia\",\"Canada\",\"Chile\",\"United States of America (the)\"],\"locationmode\":\"country names\",\"locations\":[\"Australia\",\"Canada\",\"Chile\",\"United States of America (the)\"],\"name\":\"\",\"z\":[54,773,37,1159],\"type\":\"choropleth\"}],\"name\":\"2020-07-10 00:00:00\"},{\"data\":[{\"coloraxis\":\"coloraxis\",\"geo\":\"geo\",\"hovertemplate\":\"\\u003cb\\u003e%{hovertext}\\u003c\\u002fb\\u003e\\u003cbr\\u003e\\u003cbr\\u003eDate=2020-07-11 00:00:00\\u003cbr\\u003eCountry=%{location}\\u003cbr\\u003ePercentOfBaseline=%{z}\\u003cextra\\u003e\\u003c\\u002fextra\\u003e\",\"hovertext\":[\"Australia\",\"Canada\",\"Chile\",\"United States of America (the)\"],\"locationmode\":\"country names\",\"locations\":[\"Australia\",\"Canada\",\"Chile\",\"United States of America (the)\"],\"name\":\"\",\"z\":[52,610,26,1062],\"type\":\"choropleth\"}],\"name\":\"2020-07-11 00:00:00\"},{\"data\":[{\"coloraxis\":\"coloraxis\",\"geo\":\"geo\",\"hovertemplate\":\"\\u003cb\\u003e%{hovertext}\\u003c\\u002fb\\u003e\\u003cbr\\u003e\\u003cbr\\u003eDate=2020-07-12 00:00:00\\u003cbr\\u003eCountry=%{location}\\u003cbr\\u003ePercentOfBaseline=%{z}\\u003cextra\\u003e\\u003c\\u002fextra\\u003e\",\"hovertext\":[\"Australia\",\"Canada\",\"United States of America (the)\"],\"locationmode\":\"country names\",\"locations\":[\"Australia\",\"Canada\",\"United States of America (the)\"],\"name\":\"\",\"z\":[54,550,968],\"type\":\"choropleth\"}],\"name\":\"2020-07-12 00:00:00\"},{\"data\":[{\"coloraxis\":\"coloraxis\",\"geo\":\"geo\",\"hovertemplate\":\"\\u003cb\\u003e%{hovertext}\\u003c\\u002fb\\u003e\\u003cbr\\u003e\\u003cbr\\u003eDate=2020-07-13 00:00:00\\u003cbr\\u003eCountry=%{location}\\u003cbr\\u003ePercentOfBaseline=%{z}\\u003cextra\\u003e\\u003c\\u002fextra\\u003e\",\"hovertext\":[\"Australia\",\"Canada\",\"Chile\",\"United States of America (the)\"],\"locationmode\":\"country names\",\"locations\":[\"Australia\",\"Canada\",\"Chile\",\"United States of America (the)\"],\"name\":\"\",\"z\":[52,835,32,1150],\"type\":\"choropleth\"}],\"name\":\"2020-07-13 00:00:00\"},{\"data\":[{\"coloraxis\":\"coloraxis\",\"geo\":\"geo\",\"hovertemplate\":\"\\u003cb\\u003e%{hovertext}\\u003c\\u002fb\\u003e\\u003cbr\\u003e\\u003cbr\\u003eDate=2020-07-14 00:00:00\\u003cbr\\u003eCountry=%{location}\\u003cbr\\u003ePercentOfBaseline=%{z}\\u003cextra\\u003e\\u003c\\u002fextra\\u003e\",\"hovertext\":[\"Australia\",\"Canada\",\"Chile\",\"United States of America (the)\"],\"locationmode\":\"country names\",\"locations\":[\"Australia\",\"Canada\",\"Chile\",\"United States of America (the)\"],\"name\":\"\",\"z\":[58,780,36,1222],\"type\":\"choropleth\"}],\"name\":\"2020-07-14 00:00:00\"},{\"data\":[{\"coloraxis\":\"coloraxis\",\"geo\":\"geo\",\"hovertemplate\":\"\\u003cb\\u003e%{hovertext}\\u003c\\u002fb\\u003e\\u003cbr\\u003e\\u003cbr\\u003eDate=2020-07-15 00:00:00\\u003cbr\\u003eCountry=%{location}\\u003cbr\\u003ePercentOfBaseline=%{z}\\u003cextra\\u003e\\u003c\\u002fextra\\u003e\",\"hovertext\":[\"Australia\",\"Canada\",\"Chile\",\"United States of America (the)\"],\"locationmode\":\"country names\",\"locations\":[\"Australia\",\"Canada\",\"Chile\",\"United States of America (the)\"],\"name\":\"\",\"z\":[58,762,39,1171],\"type\":\"choropleth\"}],\"name\":\"2020-07-15 00:00:00\"},{\"data\":[{\"coloraxis\":\"coloraxis\",\"geo\":\"geo\",\"hovertemplate\":\"\\u003cb\\u003e%{hovertext}\\u003c\\u002fb\\u003e\\u003cbr\\u003e\\u003cbr\\u003eDate=2020-07-16 00:00:00\\u003cbr\\u003eCountry=%{location}\\u003cbr\\u003ePercentOfBaseline=%{z}\\u003cextra\\u003e\\u003c\\u002fextra\\u003e\",\"hovertext\":[\"Australia\",\"Canada\",\"Chile\",\"United States of America (the)\"],\"locationmode\":\"country names\",\"locations\":[\"Australia\",\"Canada\",\"Chile\",\"United States of America (the)\"],\"name\":\"\",\"z\":[56,762,27,1173],\"type\":\"choropleth\"}],\"name\":\"2020-07-16 00:00:00\"},{\"data\":[{\"coloraxis\":\"coloraxis\",\"geo\":\"geo\",\"hovertemplate\":\"\\u003cb\\u003e%{hovertext}\\u003c\\u002fb\\u003e\\u003cbr\\u003e\\u003cbr\\u003eDate=2020-07-17 00:00:00\\u003cbr\\u003eCountry=%{location}\\u003cbr\\u003ePercentOfBaseline=%{z}\\u003cextra\\u003e\\u003c\\u002fextra\\u003e\",\"hovertext\":[\"Australia\",\"Canada\",\"Chile\",\"United States of America (the)\"],\"locationmode\":\"country names\",\"locations\":[\"Australia\",\"Canada\",\"Chile\",\"United States of America (the)\"],\"name\":\"\",\"z\":[51,747,26,1179],\"type\":\"choropleth\"}],\"name\":\"2020-07-17 00:00:00\"},{\"data\":[{\"coloraxis\":\"coloraxis\",\"geo\":\"geo\",\"hovertemplate\":\"\\u003cb\\u003e%{hovertext}\\u003c\\u002fb\\u003e\\u003cbr\\u003e\\u003cbr\\u003eDate=2020-07-18 00:00:00\\u003cbr\\u003eCountry=%{location}\\u003cbr\\u003ePercentOfBaseline=%{z}\\u003cextra\\u003e\\u003c\\u002fextra\\u003e\",\"hovertext\":[\"Australia\",\"Canada\",\"Chile\",\"United States of America (the)\"],\"locationmode\":\"country names\",\"locations\":[\"Australia\",\"Canada\",\"Chile\",\"United States of America (the)\"],\"name\":\"\",\"z\":[36,553,29,1058],\"type\":\"choropleth\"}],\"name\":\"2020-07-18 00:00:00\"},{\"data\":[{\"coloraxis\":\"coloraxis\",\"geo\":\"geo\",\"hovertemplate\":\"\\u003cb\\u003e%{hovertext}\\u003c\\u002fb\\u003e\\u003cbr\\u003e\\u003cbr\\u003eDate=2020-07-19 00:00:00\\u003cbr\\u003eCountry=%{location}\\u003cbr\\u003ePercentOfBaseline=%{z}\\u003cextra\\u003e\\u003c\\u002fextra\\u003e\",\"hovertext\":[\"Australia\",\"Canada\",\"Chile\",\"United States of America (the)\"],\"locationmode\":\"country names\",\"locations\":[\"Australia\",\"Canada\",\"Chile\",\"United States of America (the)\"],\"name\":\"\",\"z\":[52,558,16,1004],\"type\":\"choropleth\"}],\"name\":\"2020-07-19 00:00:00\"},{\"data\":[{\"coloraxis\":\"coloraxis\",\"geo\":\"geo\",\"hovertemplate\":\"\\u003cb\\u003e%{hovertext}\\u003c\\u002fb\\u003e\\u003cbr\\u003e\\u003cbr\\u003eDate=2020-07-20 00:00:00\\u003cbr\\u003eCountry=%{location}\\u003cbr\\u003ePercentOfBaseline=%{z}\\u003cextra\\u003e\\u003c\\u002fextra\\u003e\",\"hovertext\":[\"Australia\",\"Canada\",\"Chile\",\"United States of America (the)\"],\"locationmode\":\"country names\",\"locations\":[\"Australia\",\"Canada\",\"Chile\",\"United States of America (the)\"],\"name\":\"\",\"z\":[51,827,34,1187],\"type\":\"choropleth\"}],\"name\":\"2020-07-20 00:00:00\"},{\"data\":[{\"coloraxis\":\"coloraxis\",\"geo\":\"geo\",\"hovertemplate\":\"\\u003cb\\u003e%{hovertext}\\u003c\\u002fb\\u003e\\u003cbr\\u003e\\u003cbr\\u003eDate=2020-07-21 00:00:00\\u003cbr\\u003eCountry=%{location}\\u003cbr\\u003ePercentOfBaseline=%{z}\\u003cextra\\u003e\\u003c\\u002fextra\\u003e\",\"hovertext\":[\"Australia\",\"Canada\",\"Chile\",\"United States of America (the)\"],\"locationmode\":\"country names\",\"locations\":[\"Australia\",\"Canada\",\"Chile\",\"United States of America (the)\"],\"name\":\"\",\"z\":[59,766,36,1293],\"type\":\"choropleth\"}],\"name\":\"2020-07-21 00:00:00\"},{\"data\":[{\"coloraxis\":\"coloraxis\",\"geo\":\"geo\",\"hovertemplate\":\"\\u003cb\\u003e%{hovertext}\\u003c\\u002fb\\u003e\\u003cbr\\u003e\\u003cbr\\u003eDate=2020-07-22 00:00:00\\u003cbr\\u003eCountry=%{location}\\u003cbr\\u003ePercentOfBaseline=%{z}\\u003cextra\\u003e\\u003c\\u002fextra\\u003e\",\"hovertext\":[\"Australia\",\"Canada\",\"Chile\",\"United States of America (the)\"],\"locationmode\":\"country names\",\"locations\":[\"Australia\",\"Canada\",\"Chile\",\"United States of America (the)\"],\"name\":\"\",\"z\":[65,774,36,1281],\"type\":\"choropleth\"}],\"name\":\"2020-07-22 00:00:00\"},{\"data\":[{\"coloraxis\":\"coloraxis\",\"geo\":\"geo\",\"hovertemplate\":\"\\u003cb\\u003e%{hovertext}\\u003c\\u002fb\\u003e\\u003cbr\\u003e\\u003cbr\\u003eDate=2020-07-23 00:00:00\\u003cbr\\u003eCountry=%{location}\\u003cbr\\u003ePercentOfBaseline=%{z}\\u003cextra\\u003e\\u003c\\u002fextra\\u003e\",\"hovertext\":[\"Australia\",\"Canada\",\"Chile\",\"United States of America (the)\"],\"locationmode\":\"country names\",\"locations\":[\"Australia\",\"Canada\",\"Chile\",\"United States of America (the)\"],\"name\":\"\",\"z\":[57,749,28,1159],\"type\":\"choropleth\"}],\"name\":\"2020-07-23 00:00:00\"},{\"data\":[{\"coloraxis\":\"coloraxis\",\"geo\":\"geo\",\"hovertemplate\":\"\\u003cb\\u003e%{hovertext}\\u003c\\u002fb\\u003e\\u003cbr\\u003e\\u003cbr\\u003eDate=2020-07-24 00:00:00\\u003cbr\\u003eCountry=%{location}\\u003cbr\\u003ePercentOfBaseline=%{z}\\u003cextra\\u003e\\u003c\\u002fextra\\u003e\",\"hovertext\":[\"Australia\",\"Canada\",\"Chile\",\"United States of America (the)\"],\"locationmode\":\"country names\",\"locations\":[\"Australia\",\"Canada\",\"Chile\",\"United States of America (the)\"],\"name\":\"\",\"z\":[35,730,34,1168],\"type\":\"choropleth\"}],\"name\":\"2020-07-24 00:00:00\"},{\"data\":[{\"coloraxis\":\"coloraxis\",\"geo\":\"geo\",\"hovertemplate\":\"\\u003cb\\u003e%{hovertext}\\u003c\\u002fb\\u003e\\u003cbr\\u003e\\u003cbr\\u003eDate=2020-07-25 00:00:00\\u003cbr\\u003eCountry=%{location}\\u003cbr\\u003ePercentOfBaseline=%{z}\\u003cextra\\u003e\\u003c\\u002fextra\\u003e\",\"hovertext\":[\"Australia\",\"Canada\",\"Chile\",\"United States of America (the)\"],\"locationmode\":\"country names\",\"locations\":[\"Australia\",\"Canada\",\"Chile\",\"United States of America (the)\"],\"name\":\"\",\"z\":[35,567,19,1091],\"type\":\"choropleth\"}],\"name\":\"2020-07-25 00:00:00\"},{\"data\":[{\"coloraxis\":\"coloraxis\",\"geo\":\"geo\",\"hovertemplate\":\"\\u003cb\\u003e%{hovertext}\\u003c\\u002fb\\u003e\\u003cbr\\u003e\\u003cbr\\u003eDate=2020-07-26 00:00:00\\u003cbr\\u003eCountry=%{location}\\u003cbr\\u003ePercentOfBaseline=%{z}\\u003cextra\\u003e\\u003c\\u002fextra\\u003e\",\"hovertext\":[\"Australia\",\"Canada\",\"United States of America (the)\"],\"locationmode\":\"country names\",\"locations\":[\"Australia\",\"Canada\",\"United States of America (the)\"],\"name\":\"\",\"z\":[17,558,1069],\"type\":\"choropleth\"}],\"name\":\"2020-07-26 00:00:00\"},{\"data\":[{\"coloraxis\":\"coloraxis\",\"geo\":\"geo\",\"hovertemplate\":\"\\u003cb\\u003e%{hovertext}\\u003c\\u002fb\\u003e\\u003cbr\\u003e\\u003cbr\\u003eDate=2020-07-27 00:00:00\\u003cbr\\u003eCountry=%{location}\\u003cbr\\u003ePercentOfBaseline=%{z}\\u003cextra\\u003e\\u003c\\u002fextra\\u003e\",\"hovertext\":[\"Australia\",\"Canada\",\"Chile\",\"United States of America (the)\"],\"locationmode\":\"country names\",\"locations\":[\"Australia\",\"Canada\",\"Chile\",\"United States of America (the)\"],\"name\":\"\",\"z\":[17,770,46,1159],\"type\":\"choropleth\"}],\"name\":\"2020-07-27 00:00:00\"},{\"data\":[{\"coloraxis\":\"coloraxis\",\"geo\":\"geo\",\"hovertemplate\":\"\\u003cb\\u003e%{hovertext}\\u003c\\u002fb\\u003e\\u003cbr\\u003e\\u003cbr\\u003eDate=2020-07-28 00:00:00\\u003cbr\\u003eCountry=%{location}\\u003cbr\\u003ePercentOfBaseline=%{z}\\u003cextra\\u003e\\u003c\\u002fextra\\u003e\",\"hovertext\":[\"Australia\",\"Canada\",\"Chile\",\"United States of America (the)\"],\"locationmode\":\"country names\",\"locations\":[\"Australia\",\"Canada\",\"Chile\",\"United States of America (the)\"],\"name\":\"\",\"z\":[22,766,29,1196],\"type\":\"choropleth\"}],\"name\":\"2020-07-28 00:00:00\"},{\"data\":[{\"coloraxis\":\"coloraxis\",\"geo\":\"geo\",\"hovertemplate\":\"\\u003cb\\u003e%{hovertext}\\u003c\\u002fb\\u003e\\u003cbr\\u003e\\u003cbr\\u003eDate=2020-07-29 00:00:00\\u003cbr\\u003eCountry=%{location}\\u003cbr\\u003ePercentOfBaseline=%{z}\\u003cextra\\u003e\\u003c\\u002fextra\\u003e\",\"hovertext\":[\"Australia\",\"Canada\",\"Chile\",\"United States of America (the)\"],\"locationmode\":\"country names\",\"locations\":[\"Australia\",\"Canada\",\"Chile\",\"United States of America (the)\"],\"name\":\"\",\"z\":[18,752,42,1185],\"type\":\"choropleth\"}],\"name\":\"2020-07-29 00:00:00\"},{\"data\":[{\"coloraxis\":\"coloraxis\",\"geo\":\"geo\",\"hovertemplate\":\"\\u003cb\\u003e%{hovertext}\\u003c\\u002fb\\u003e\\u003cbr\\u003e\\u003cbr\\u003eDate=2020-07-30 00:00:00\\u003cbr\\u003eCountry=%{location}\\u003cbr\\u003ePercentOfBaseline=%{z}\\u003cextra\\u003e\\u003c\\u002fextra\\u003e\",\"hovertext\":[\"Australia\",\"Canada\",\"Chile\",\"United States of America (the)\"],\"locationmode\":\"country names\",\"locations\":[\"Australia\",\"Canada\",\"Chile\",\"United States of America (the)\"],\"name\":\"\",\"z\":[22,737,27,1170],\"type\":\"choropleth\"}],\"name\":\"2020-07-30 00:00:00\"},{\"data\":[{\"coloraxis\":\"coloraxis\",\"geo\":\"geo\",\"hovertemplate\":\"\\u003cb\\u003e%{hovertext}\\u003c\\u002fb\\u003e\\u003cbr\\u003e\\u003cbr\\u003eDate=2020-07-31 00:00:00\\u003cbr\\u003eCountry=%{location}\\u003cbr\\u003ePercentOfBaseline=%{z}\\u003cextra\\u003e\\u003c\\u002fextra\\u003e\",\"hovertext\":[\"Australia\",\"Canada\",\"Chile\",\"United States of America (the)\"],\"locationmode\":\"country names\",\"locations\":[\"Australia\",\"Canada\",\"Chile\",\"United States of America (the)\"],\"name\":\"\",\"z\":[25,691,35,1124],\"type\":\"choropleth\"}],\"name\":\"2020-07-31 00:00:00\"},{\"data\":[{\"coloraxis\":\"coloraxis\",\"geo\":\"geo\",\"hovertemplate\":\"\\u003cb\\u003e%{hovertext}\\u003c\\u002fb\\u003e\\u003cbr\\u003e\\u003cbr\\u003eDate=2020-08-01 00:00:00\\u003cbr\\u003eCountry=%{location}\\u003cbr\\u003ePercentOfBaseline=%{z}\\u003cextra\\u003e\\u003c\\u002fextra\\u003e\",\"hovertext\":[\"Australia\",\"Canada\",\"Chile\",\"United States of America (the)\"],\"locationmode\":\"country names\",\"locations\":[\"Australia\",\"Canada\",\"Chile\",\"United States of America (the)\"],\"name\":\"\",\"z\":[25,574,19,1084],\"type\":\"choropleth\"}],\"name\":\"2020-08-01 00:00:00\"},{\"data\":[{\"coloraxis\":\"coloraxis\",\"geo\":\"geo\",\"hovertemplate\":\"\\u003cb\\u003e%{hovertext}\\u003c\\u002fb\\u003e\\u003cbr\\u003e\\u003cbr\\u003eDate=2020-08-02 00:00:00\\u003cbr\\u003eCountry=%{location}\\u003cbr\\u003ePercentOfBaseline=%{z}\\u003cextra\\u003e\\u003c\\u002fextra\\u003e\",\"hovertext\":[\"Australia\",\"Canada\",\"United States of America (the)\"],\"locationmode\":\"country names\",\"locations\":[\"Australia\",\"Canada\",\"United States of America (the)\"],\"name\":\"\",\"z\":[13,553,1027],\"type\":\"choropleth\"}],\"name\":\"2020-08-02 00:00:00\"},{\"data\":[{\"coloraxis\":\"coloraxis\",\"geo\":\"geo\",\"hovertemplate\":\"\\u003cb\\u003e%{hovertext}\\u003c\\u002fb\\u003e\\u003cbr\\u003e\\u003cbr\\u003eDate=2020-08-03 00:00:00\\u003cbr\\u003eCountry=%{location}\\u003cbr\\u003ePercentOfBaseline=%{z}\\u003cextra\\u003e\\u003c\\u002fextra\\u003e\",\"hovertext\":[\"Australia\",\"Canada\",\"Chile\",\"United States of America (the)\"],\"locationmode\":\"country names\",\"locations\":[\"Australia\",\"Canada\",\"Chile\",\"United States of America (the)\"],\"name\":\"\",\"z\":[15,285,48,1168],\"type\":\"choropleth\"}],\"name\":\"2020-08-03 00:00:00\"},{\"data\":[{\"coloraxis\":\"coloraxis\",\"geo\":\"geo\",\"hovertemplate\":\"\\u003cb\\u003e%{hovertext}\\u003c\\u002fb\\u003e\\u003cbr\\u003e\\u003cbr\\u003eDate=2020-08-04 00:00:00\\u003cbr\\u003eCountry=%{location}\\u003cbr\\u003ePercentOfBaseline=%{z}\\u003cextra\\u003e\\u003c\\u002fextra\\u003e\",\"hovertext\":[\"Australia\",\"Canada\",\"Chile\",\"United States of America (the)\"],\"locationmode\":\"country names\",\"locations\":[\"Australia\",\"Canada\",\"Chile\",\"United States of America (the)\"],\"name\":\"\",\"z\":[20,703,33,1202],\"type\":\"choropleth\"}],\"name\":\"2020-08-04 00:00:00\"},{\"data\":[{\"coloraxis\":\"coloraxis\",\"geo\":\"geo\",\"hovertemplate\":\"\\u003cb\\u003e%{hovertext}\\u003c\\u002fb\\u003e\\u003cbr\\u003e\\u003cbr\\u003eDate=2020-08-05 00:00:00\\u003cbr\\u003eCountry=%{location}\\u003cbr\\u003ePercentOfBaseline=%{z}\\u003cextra\\u003e\\u003c\\u002fextra\\u003e\",\"hovertext\":[\"Australia\",\"Canada\",\"Chile\",\"United States of America (the)\"],\"locationmode\":\"country names\",\"locations\":[\"Australia\",\"Canada\",\"Chile\",\"United States of America (the)\"],\"name\":\"\",\"z\":[20,757,25,1193],\"type\":\"choropleth\"}],\"name\":\"2020-08-05 00:00:00\"},{\"data\":[{\"coloraxis\":\"coloraxis\",\"geo\":\"geo\",\"hovertemplate\":\"\\u003cb\\u003e%{hovertext}\\u003c\\u002fb\\u003e\\u003cbr\\u003e\\u003cbr\\u003eDate=2020-08-06 00:00:00\\u003cbr\\u003eCountry=%{location}\\u003cbr\\u003ePercentOfBaseline=%{z}\\u003cextra\\u003e\\u003c\\u002fextra\\u003e\",\"hovertext\":[\"Australia\",\"Canada\",\"Chile\",\"United States of America (the)\"],\"locationmode\":\"country names\",\"locations\":[\"Australia\",\"Canada\",\"Chile\",\"United States of America (the)\"],\"name\":\"\",\"z\":[21,726,24,1222],\"type\":\"choropleth\"}],\"name\":\"2020-08-06 00:00:00\"},{\"data\":[{\"coloraxis\":\"coloraxis\",\"geo\":\"geo\",\"hovertemplate\":\"\\u003cb\\u003e%{hovertext}\\u003c\\u002fb\\u003e\\u003cbr\\u003e\\u003cbr\\u003eDate=2020-08-07 00:00:00\\u003cbr\\u003eCountry=%{location}\\u003cbr\\u003ePercentOfBaseline=%{z}\\u003cextra\\u003e\\u003c\\u002fextra\\u003e\",\"hovertext\":[\"Australia\",\"Canada\",\"Chile\",\"United States of America (the)\"],\"locationmode\":\"country names\",\"locations\":[\"Australia\",\"Canada\",\"Chile\",\"United States of America (the)\"],\"name\":\"\",\"z\":[22,747,32,1172],\"type\":\"choropleth\"}],\"name\":\"2020-08-07 00:00:00\"},{\"data\":[{\"coloraxis\":\"coloraxis\",\"geo\":\"geo\",\"hovertemplate\":\"\\u003cb\\u003e%{hovertext}\\u003c\\u002fb\\u003e\\u003cbr\\u003e\\u003cbr\\u003eDate=2020-08-08 00:00:00\\u003cbr\\u003eCountry=%{location}\\u003cbr\\u003ePercentOfBaseline=%{z}\\u003cextra\\u003e\\u003c\\u002fextra\\u003e\",\"hovertext\":[\"Australia\",\"Canada\",\"Chile\",\"United States of America (the)\"],\"locationmode\":\"country names\",\"locations\":[\"Australia\",\"Canada\",\"Chile\",\"United States of America (the)\"],\"name\":\"\",\"z\":[26,575,19,1084],\"type\":\"choropleth\"}],\"name\":\"2020-08-08 00:00:00\"},{\"data\":[{\"coloraxis\":\"coloraxis\",\"geo\":\"geo\",\"hovertemplate\":\"\\u003cb\\u003e%{hovertext}\\u003c\\u002fb\\u003e\\u003cbr\\u003e\\u003cbr\\u003eDate=2020-08-09 00:00:00\\u003cbr\\u003eCountry=%{location}\\u003cbr\\u003ePercentOfBaseline=%{z}\\u003cextra\\u003e\\u003c\\u002fextra\\u003e\",\"hovertext\":[\"Australia\",\"Canada\",\"United States of America (the)\"],\"locationmode\":\"country names\",\"locations\":[\"Australia\",\"Canada\",\"United States of America (the)\"],\"name\":\"\",\"z\":[19,479,1040],\"type\":\"choropleth\"}],\"name\":\"2020-08-09 00:00:00\"},{\"data\":[{\"coloraxis\":\"coloraxis\",\"geo\":\"geo\",\"hovertemplate\":\"\\u003cb\\u003e%{hovertext}\\u003c\\u002fb\\u003e\\u003cbr\\u003e\\u003cbr\\u003eDate=2020-08-10 00:00:00\\u003cbr\\u003eCountry=%{location}\\u003cbr\\u003ePercentOfBaseline=%{z}\\u003cextra\\u003e\\u003c\\u002fextra\\u003e\",\"hovertext\":[\"Australia\",\"Canada\",\"Chile\",\"United States of America (the)\"],\"locationmode\":\"country names\",\"locations\":[\"Australia\",\"Canada\",\"Chile\",\"United States of America (the)\"],\"name\":\"\",\"z\":[19,790,42,1149],\"type\":\"choropleth\"}],\"name\":\"2020-08-10 00:00:00\"},{\"data\":[{\"coloraxis\":\"coloraxis\",\"geo\":\"geo\",\"hovertemplate\":\"\\u003cb\\u003e%{hovertext}\\u003c\\u002fb\\u003e\\u003cbr\\u003e\\u003cbr\\u003eDate=2020-08-11 00:00:00\\u003cbr\\u003eCountry=%{location}\\u003cbr\\u003ePercentOfBaseline=%{z}\\u003cextra\\u003e\\u003c\\u002fextra\\u003e\",\"hovertext\":[\"Australia\",\"Canada\",\"Chile\",\"United States of America (the)\"],\"locationmode\":\"country names\",\"locations\":[\"Australia\",\"Canada\",\"Chile\",\"United States of America (the)\"],\"name\":\"\",\"z\":[20,774,36,1200],\"type\":\"choropleth\"}],\"name\":\"2020-08-11 00:00:00\"},{\"data\":[{\"coloraxis\":\"coloraxis\",\"geo\":\"geo\",\"hovertemplate\":\"\\u003cb\\u003e%{hovertext}\\u003c\\u002fb\\u003e\\u003cbr\\u003e\\u003cbr\\u003eDate=2020-08-12 00:00:00\\u003cbr\\u003eCountry=%{location}\\u003cbr\\u003ePercentOfBaseline=%{z}\\u003cextra\\u003e\\u003c\\u002fextra\\u003e\",\"hovertext\":[\"Australia\",\"Canada\",\"Chile\",\"United States of America (the)\"],\"locationmode\":\"country names\",\"locations\":[\"Australia\",\"Canada\",\"Chile\",\"United States of America (the)\"],\"name\":\"\",\"z\":[19,775,31,1189],\"type\":\"choropleth\"}],\"name\":\"2020-08-12 00:00:00\"},{\"data\":[{\"coloraxis\":\"coloraxis\",\"geo\":\"geo\",\"hovertemplate\":\"\\u003cb\\u003e%{hovertext}\\u003c\\u002fb\\u003e\\u003cbr\\u003e\\u003cbr\\u003eDate=2020-08-13 00:00:00\\u003cbr\\u003eCountry=%{location}\\u003cbr\\u003ePercentOfBaseline=%{z}\\u003cextra\\u003e\\u003c\\u002fextra\\u003e\",\"hovertext\":[\"Australia\",\"Canada\",\"Chile\",\"United States of America (the)\"],\"locationmode\":\"country names\",\"locations\":[\"Australia\",\"Canada\",\"Chile\",\"United States of America (the)\"],\"name\":\"\",\"z\":[14,738,31,1161],\"type\":\"choropleth\"}],\"name\":\"2020-08-13 00:00:00\"},{\"data\":[{\"coloraxis\":\"coloraxis\",\"geo\":\"geo\",\"hovertemplate\":\"\\u003cb\\u003e%{hovertext}\\u003c\\u002fb\\u003e\\u003cbr\\u003e\\u003cbr\\u003eDate=2020-08-14 00:00:00\\u003cbr\\u003eCountry=%{location}\\u003cbr\\u003ePercentOfBaseline=%{z}\\u003cextra\\u003e\\u003c\\u002fextra\\u003e\",\"hovertext\":[\"Australia\",\"Canada\",\"Chile\",\"United States of America (the)\"],\"locationmode\":\"country names\",\"locations\":[\"Australia\",\"Canada\",\"Chile\",\"United States of America (the)\"],\"name\":\"\",\"z\":[26,745,38,1163],\"type\":\"choropleth\"}],\"name\":\"2020-08-14 00:00:00\"},{\"data\":[{\"coloraxis\":\"coloraxis\",\"geo\":\"geo\",\"hovertemplate\":\"\\u003cb\\u003e%{hovertext}\\u003c\\u002fb\\u003e\\u003cbr\\u003e\\u003cbr\\u003eDate=2020-08-15 00:00:00\\u003cbr\\u003eCountry=%{location}\\u003cbr\\u003ePercentOfBaseline=%{z}\\u003cextra\\u003e\\u003c\\u002fextra\\u003e\",\"hovertext\":[\"Australia\",\"Canada\",\"Chile\",\"United States of America (the)\"],\"locationmode\":\"country names\",\"locations\":[\"Australia\",\"Canada\",\"Chile\",\"United States of America (the)\"],\"name\":\"\",\"z\":[16,609,18,1066],\"type\":\"choropleth\"}],\"name\":\"2020-08-15 00:00:00\"},{\"data\":[{\"coloraxis\":\"coloraxis\",\"geo\":\"geo\",\"hovertemplate\":\"\\u003cb\\u003e%{hovertext}\\u003c\\u002fb\\u003e\\u003cbr\\u003e\\u003cbr\\u003eDate=2020-08-16 00:00:00\\u003cbr\\u003eCountry=%{location}\\u003cbr\\u003ePercentOfBaseline=%{z}\\u003cextra\\u003e\\u003c\\u002fextra\\u003e\",\"hovertext\":[\"Australia\",\"Canada\",\"United States of America (the)\"],\"locationmode\":\"country names\",\"locations\":[\"Australia\",\"Canada\",\"United States of America (the)\"],\"name\":\"\",\"z\":[13,587,1066],\"type\":\"choropleth\"}],\"name\":\"2020-08-16 00:00:00\"},{\"data\":[{\"coloraxis\":\"coloraxis\",\"geo\":\"geo\",\"hovertemplate\":\"\\u003cb\\u003e%{hovertext}\\u003c\\u002fb\\u003e\\u003cbr\\u003e\\u003cbr\\u003eDate=2020-08-17 00:00:00\\u003cbr\\u003eCountry=%{location}\\u003cbr\\u003ePercentOfBaseline=%{z}\\u003cextra\\u003e\\u003c\\u002fextra\\u003e\",\"hovertext\":[\"United States of America (the)\"],\"locationmode\":\"country names\",\"locations\":[\"United States of America (the)\"],\"name\":\"\",\"z\":[1],\"type\":\"choropleth\"}],\"name\":\"2020-08-17 00:00:00\"},{\"data\":[{\"coloraxis\":\"coloraxis\",\"geo\":\"geo\",\"hovertemplate\":\"\\u003cb\\u003e%{hovertext}\\u003c\\u002fb\\u003e\\u003cbr\\u003e\\u003cbr\\u003eDate=2020-08-18 00:00:00\\u003cbr\\u003eCountry=%{location}\\u003cbr\\u003ePercentOfBaseline=%{z}\\u003cextra\\u003e\\u003c\\u002fextra\\u003e\",\"hovertext\":[\"Australia\",\"Canada\",\"Chile\",\"United States of America (the)\"],\"locationmode\":\"country names\",\"locations\":[\"Australia\",\"Canada\",\"Chile\",\"United States of America (the)\"],\"name\":\"\",\"z\":[21,777,40,1218],\"type\":\"choropleth\"}],\"name\":\"2020-08-18 00:00:00\"},{\"data\":[{\"coloraxis\":\"coloraxis\",\"geo\":\"geo\",\"hovertemplate\":\"\\u003cb\\u003e%{hovertext}\\u003c\\u002fb\\u003e\\u003cbr\\u003e\\u003cbr\\u003eDate=2020-08-19 00:00:00\\u003cbr\\u003eCountry=%{location}\\u003cbr\\u003ePercentOfBaseline=%{z}\\u003cextra\\u003e\\u003c\\u002fextra\\u003e\",\"hovertext\":[\"Australia\",\"Canada\",\"Chile\",\"United States of America (the)\"],\"locationmode\":\"country names\",\"locations\":[\"Australia\",\"Canada\",\"Chile\",\"United States of America (the)\"],\"name\":\"\",\"z\":[20,786,48,1230],\"type\":\"choropleth\"}],\"name\":\"2020-08-19 00:00:00\"},{\"data\":[{\"coloraxis\":\"coloraxis\",\"geo\":\"geo\",\"hovertemplate\":\"\\u003cb\\u003e%{hovertext}\\u003c\\u002fb\\u003e\\u003cbr\\u003e\\u003cbr\\u003eDate=2020-08-20 00:00:00\\u003cbr\\u003eCountry=%{location}\\u003cbr\\u003ePercentOfBaseline=%{z}\\u003cextra\\u003e\\u003c\\u002fextra\\u003e\",\"hovertext\":[\"Australia\",\"Canada\",\"Chile\",\"United States of America (the)\"],\"locationmode\":\"country names\",\"locations\":[\"Australia\",\"Canada\",\"Chile\",\"United States of America (the)\"],\"name\":\"\",\"z\":[13,774,32,1213],\"type\":\"choropleth\"}],\"name\":\"2020-08-20 00:00:00\"},{\"data\":[{\"coloraxis\":\"coloraxis\",\"geo\":\"geo\",\"hovertemplate\":\"\\u003cb\\u003e%{hovertext}\\u003c\\u002fb\\u003e\\u003cbr\\u003e\\u003cbr\\u003eDate=2020-08-21 00:00:00\\u003cbr\\u003eCountry=%{location}\\u003cbr\\u003ePercentOfBaseline=%{z}\\u003cextra\\u003e\\u003c\\u002fextra\\u003e\",\"hovertext\":[\"Australia\",\"Canada\",\"Chile\",\"United States of America (the)\"],\"locationmode\":\"country names\",\"locations\":[\"Australia\",\"Canada\",\"Chile\",\"United States of America (the)\"],\"name\":\"\",\"z\":[17,733,35,1177],\"type\":\"choropleth\"}],\"name\":\"2020-08-21 00:00:00\"},{\"data\":[{\"coloraxis\":\"coloraxis\",\"geo\":\"geo\",\"hovertemplate\":\"\\u003cb\\u003e%{hovertext}\\u003c\\u002fb\\u003e\\u003cbr\\u003e\\u003cbr\\u003eDate=2020-08-22 00:00:00\\u003cbr\\u003eCountry=%{location}\\u003cbr\\u003ePercentOfBaseline=%{z}\\u003cextra\\u003e\\u003c\\u002fextra\\u003e\",\"hovertext\":[\"Australia\",\"Canada\",\"Chile\",\"United States of America (the)\"],\"locationmode\":\"country names\",\"locations\":[\"Australia\",\"Canada\",\"Chile\",\"United States of America (the)\"],\"name\":\"\",\"z\":[27,565,33,1071],\"type\":\"choropleth\"}],\"name\":\"2020-08-22 00:00:00\"},{\"data\":[{\"coloraxis\":\"coloraxis\",\"geo\":\"geo\",\"hovertemplate\":\"\\u003cb\\u003e%{hovertext}\\u003c\\u002fb\\u003e\\u003cbr\\u003e\\u003cbr\\u003eDate=2020-08-23 00:00:00\\u003cbr\\u003eCountry=%{location}\\u003cbr\\u003ePercentOfBaseline=%{z}\\u003cextra\\u003e\\u003c\\u002fextra\\u003e\",\"hovertext\":[\"Australia\",\"Canada\",\"Chile\",\"United States of America (the)\"],\"locationmode\":\"country names\",\"locations\":[\"Australia\",\"Canada\",\"Chile\",\"United States of America (the)\"],\"name\":\"\",\"z\":[9,585,22,1158],\"type\":\"choropleth\"}],\"name\":\"2020-08-23 00:00:00\"},{\"data\":[{\"coloraxis\":\"coloraxis\",\"geo\":\"geo\",\"hovertemplate\":\"\\u003cb\\u003e%{hovertext}\\u003c\\u002fb\\u003e\\u003cbr\\u003e\\u003cbr\\u003eDate=2020-08-24 00:00:00\\u003cbr\\u003eCountry=%{location}\\u003cbr\\u003ePercentOfBaseline=%{z}\\u003cextra\\u003e\\u003c\\u002fextra\\u003e\",\"hovertext\":[\"Australia\",\"Canada\",\"Chile\",\"United States of America (the)\"],\"locationmode\":\"country names\",\"locations\":[\"Australia\",\"Canada\",\"Chile\",\"United States of America (the)\"],\"name\":\"\",\"z\":[11,771,46,1209],\"type\":\"choropleth\"}],\"name\":\"2020-08-24 00:00:00\"},{\"data\":[{\"coloraxis\":\"coloraxis\",\"geo\":\"geo\",\"hovertemplate\":\"\\u003cb\\u003e%{hovertext}\\u003c\\u002fb\\u003e\\u003cbr\\u003e\\u003cbr\\u003eDate=2020-08-25 00:00:00\\u003cbr\\u003eCountry=%{location}\\u003cbr\\u003ePercentOfBaseline=%{z}\\u003cextra\\u003e\\u003c\\u002fextra\\u003e\",\"hovertext\":[\"Australia\",\"Canada\",\"Chile\",\"United States of America (the)\"],\"locationmode\":\"country names\",\"locations\":[\"Australia\",\"Canada\",\"Chile\",\"United States of America (the)\"],\"name\":\"\",\"z\":[12,780,37,1240],\"type\":\"choropleth\"}],\"name\":\"2020-08-25 00:00:00\"},{\"data\":[{\"coloraxis\":\"coloraxis\",\"geo\":\"geo\",\"hovertemplate\":\"\\u003cb\\u003e%{hovertext}\\u003c\\u002fb\\u003e\\u003cbr\\u003e\\u003cbr\\u003eDate=2020-08-26 00:00:00\\u003cbr\\u003eCountry=%{location}\\u003cbr\\u003ePercentOfBaseline=%{z}\\u003cextra\\u003e\\u003c\\u002fextra\\u003e\",\"hovertext\":[\"Australia\",\"Canada\",\"Chile\",\"United States of America (the)\"],\"locationmode\":\"country names\",\"locations\":[\"Australia\",\"Canada\",\"Chile\",\"United States of America (the)\"],\"name\":\"\",\"z\":[11,755,36,1278],\"type\":\"choropleth\"}],\"name\":\"2020-08-26 00:00:00\"},{\"data\":[{\"coloraxis\":\"coloraxis\",\"geo\":\"geo\",\"hovertemplate\":\"\\u003cb\\u003e%{hovertext}\\u003c\\u002fb\\u003e\\u003cbr\\u003e\\u003cbr\\u003eDate=2020-08-27 00:00:00\\u003cbr\\u003eCountry=%{location}\\u003cbr\\u003ePercentOfBaseline=%{z}\\u003cextra\\u003e\\u003c\\u002fextra\\u003e\",\"hovertext\":[\"Australia\",\"Canada\",\"Chile\",\"United States of America (the)\"],\"locationmode\":\"country names\",\"locations\":[\"Australia\",\"Canada\",\"Chile\",\"United States of America (the)\"],\"name\":\"\",\"z\":[17,732,42,1247],\"type\":\"choropleth\"}],\"name\":\"2020-08-27 00:00:00\"},{\"data\":[{\"coloraxis\":\"coloraxis\",\"geo\":\"geo\",\"hovertemplate\":\"\\u003cb\\u003e%{hovertext}\\u003c\\u002fb\\u003e\\u003cbr\\u003e\\u003cbr\\u003eDate=2020-08-28 00:00:00\\u003cbr\\u003eCountry=%{location}\\u003cbr\\u003ePercentOfBaseline=%{z}\\u003cextra\\u003e\\u003c\\u002fextra\\u003e\",\"hovertext\":[\"Australia\",\"Canada\",\"Chile\",\"United States of America (the)\"],\"locationmode\":\"country names\",\"locations\":[\"Australia\",\"Canada\",\"Chile\",\"United States of America (the)\"],\"name\":\"\",\"z\":[22,771,33,1208],\"type\":\"choropleth\"}],\"name\":\"2020-08-28 00:00:00\"},{\"data\":[{\"coloraxis\":\"coloraxis\",\"geo\":\"geo\",\"hovertemplate\":\"\\u003cb\\u003e%{hovertext}\\u003c\\u002fb\\u003e\\u003cbr\\u003e\\u003cbr\\u003eDate=2020-08-29 00:00:00\\u003cbr\\u003eCountry=%{location}\\u003cbr\\u003ePercentOfBaseline=%{z}\\u003cextra\\u003e\\u003c\\u002fextra\\u003e\",\"hovertext\":[\"Canada\",\"Chile\",\"United States of America (the)\"],\"locationmode\":\"country names\",\"locations\":[\"Canada\",\"Chile\",\"United States of America (the)\"],\"name\":\"\",\"z\":[588,20,1121],\"type\":\"choropleth\"}],\"name\":\"2020-08-29 00:00:00\"},{\"data\":[{\"coloraxis\":\"coloraxis\",\"geo\":\"geo\",\"hovertemplate\":\"\\u003cb\\u003e%{hovertext}\\u003c\\u002fb\\u003e\\u003cbr\\u003e\\u003cbr\\u003eDate=2020-08-30 00:00:00\\u003cbr\\u003eCountry=%{location}\\u003cbr\\u003ePercentOfBaseline=%{z}\\u003cextra\\u003e\\u003c\\u002fextra\\u003e\",\"hovertext\":[\"Australia\",\"Canada\",\"United States of America (the)\"],\"locationmode\":\"country names\",\"locations\":[\"Australia\",\"Canada\",\"United States of America (the)\"],\"name\":\"\",\"z\":[10,584,1095],\"type\":\"choropleth\"}],\"name\":\"2020-08-30 00:00:00\"},{\"data\":[{\"coloraxis\":\"coloraxis\",\"geo\":\"geo\",\"hovertemplate\":\"\\u003cb\\u003e%{hovertext}\\u003c\\u002fb\\u003e\\u003cbr\\u003e\\u003cbr\\u003eDate=2020-08-31 00:00:00\\u003cbr\\u003eCountry=%{location}\\u003cbr\\u003ePercentOfBaseline=%{z}\\u003cextra\\u003e\\u003c\\u002fextra\\u003e\",\"hovertext\":[\"Australia\",\"Canada\",\"Chile\",\"United States of America (the)\"],\"locationmode\":\"country names\",\"locations\":[\"Australia\",\"Canada\",\"Chile\",\"United States of America (the)\"],\"name\":\"\",\"z\":[18,801,45,1155],\"type\":\"choropleth\"}],\"name\":\"2020-08-31 00:00:00\"},{\"data\":[{\"coloraxis\":\"coloraxis\",\"geo\":\"geo\",\"hovertemplate\":\"\\u003cb\\u003e%{hovertext}\\u003c\\u002fb\\u003e\\u003cbr\\u003e\\u003cbr\\u003eDate=2020-09-01 00:00:00\\u003cbr\\u003eCountry=%{location}\\u003cbr\\u003ePercentOfBaseline=%{z}\\u003cextra\\u003e\\u003c\\u002fextra\\u003e\",\"hovertext\":[\"Australia\",\"Canada\",\"Chile\",\"United States of America (the)\"],\"locationmode\":\"country names\",\"locations\":[\"Australia\",\"Canada\",\"Chile\",\"United States of America (the)\"],\"name\":\"\",\"z\":[15,726,47,1242],\"type\":\"choropleth\"}],\"name\":\"2020-09-01 00:00:00\"},{\"data\":[{\"coloraxis\":\"coloraxis\",\"geo\":\"geo\",\"hovertemplate\":\"\\u003cb\\u003e%{hovertext}\\u003c\\u002fb\\u003e\\u003cbr\\u003e\\u003cbr\\u003eDate=2020-09-02 00:00:00\\u003cbr\\u003eCountry=%{location}\\u003cbr\\u003ePercentOfBaseline=%{z}\\u003cextra\\u003e\\u003c\\u002fextra\\u003e\",\"hovertext\":[\"Australia\",\"Canada\",\"Chile\",\"United States of America (the)\"],\"locationmode\":\"country names\",\"locations\":[\"Australia\",\"Canada\",\"Chile\",\"United States of America (the)\"],\"name\":\"\",\"z\":[18,787,40,1217],\"type\":\"choropleth\"}],\"name\":\"2020-09-02 00:00:00\"},{\"data\":[{\"coloraxis\":\"coloraxis\",\"geo\":\"geo\",\"hovertemplate\":\"\\u003cb\\u003e%{hovertext}\\u003c\\u002fb\\u003e\\u003cbr\\u003e\\u003cbr\\u003eDate=2020-09-03 00:00:00\\u003cbr\\u003eCountry=%{location}\\u003cbr\\u003ePercentOfBaseline=%{z}\\u003cextra\\u003e\\u003c\\u002fextra\\u003e\",\"hovertext\":[\"Australia\",\"Canada\",\"Chile\",\"United States of America (the)\"],\"locationmode\":\"country names\",\"locations\":[\"Australia\",\"Canada\",\"Chile\",\"United States of America (the)\"],\"name\":\"\",\"z\":[12,781,33,1242],\"type\":\"choropleth\"}],\"name\":\"2020-09-03 00:00:00\"},{\"data\":[{\"coloraxis\":\"coloraxis\",\"geo\":\"geo\",\"hovertemplate\":\"\\u003cb\\u003e%{hovertext}\\u003c\\u002fb\\u003e\\u003cbr\\u003e\\u003cbr\\u003eDate=2020-09-04 00:00:00\\u003cbr\\u003eCountry=%{location}\\u003cbr\\u003ePercentOfBaseline=%{z}\\u003cextra\\u003e\\u003c\\u002fextra\\u003e\",\"hovertext\":[\"Australia\",\"Canada\",\"Chile\",\"United States of America (the)\"],\"locationmode\":\"country names\",\"locations\":[\"Australia\",\"Canada\",\"Chile\",\"United States of America (the)\"],\"name\":\"\",\"z\":[15,766,32,1185],\"type\":\"choropleth\"}],\"name\":\"2020-09-04 00:00:00\"},{\"data\":[{\"coloraxis\":\"coloraxis\",\"geo\":\"geo\",\"hovertemplate\":\"\\u003cb\\u003e%{hovertext}\\u003c\\u002fb\\u003e\\u003cbr\\u003e\\u003cbr\\u003eDate=2020-09-05 00:00:00\\u003cbr\\u003eCountry=%{location}\\u003cbr\\u003ePercentOfBaseline=%{z}\\u003cextra\\u003e\\u003c\\u002fextra\\u003e\",\"hovertext\":[\"Australia\",\"Canada\",\"Chile\",\"United States of America (the)\"],\"locationmode\":\"country names\",\"locations\":[\"Australia\",\"Canada\",\"Chile\",\"United States of America (the)\"],\"name\":\"\",\"z\":[27,563,25,1080],\"type\":\"choropleth\"}],\"name\":\"2020-09-05 00:00:00\"},{\"data\":[{\"coloraxis\":\"coloraxis\",\"geo\":\"geo\",\"hovertemplate\":\"\\u003cb\\u003e%{hovertext}\\u003c\\u002fb\\u003e\\u003cbr\\u003e\\u003cbr\\u003eDate=2020-09-06 00:00:00\\u003cbr\\u003eCountry=%{location}\\u003cbr\\u003ePercentOfBaseline=%{z}\\u003cextra\\u003e\\u003c\\u002fextra\\u003e\",\"hovertext\":[\"Australia\",\"Canada\",\"Chile\",\"United States of America (the)\"],\"locationmode\":\"country names\",\"locations\":[\"Australia\",\"Canada\",\"Chile\",\"United States of America (the)\"],\"name\":\"\",\"z\":[9,511,20,1052],\"type\":\"choropleth\"}],\"name\":\"2020-09-06 00:00:00\"},{\"data\":[{\"coloraxis\":\"coloraxis\",\"geo\":\"geo\",\"hovertemplate\":\"\\u003cb\\u003e%{hovertext}\\u003c\\u002fb\\u003e\\u003cbr\\u003e\\u003cbr\\u003eDate=2020-09-07 00:00:00\\u003cbr\\u003eCountry=%{location}\\u003cbr\\u003ePercentOfBaseline=%{z}\\u003cextra\\u003e\\u003c\\u002fextra\\u003e\",\"hovertext\":[\"Australia\",\"Canada\",\"Chile\",\"United States of America (the)\"],\"locationmode\":\"country names\",\"locations\":[\"Australia\",\"Canada\",\"Chile\",\"United States of America (the)\"],\"name\":\"\",\"z\":[11,126,42,552],\"type\":\"choropleth\"}],\"name\":\"2020-09-07 00:00:00\"},{\"data\":[{\"coloraxis\":\"coloraxis\",\"geo\":\"geo\",\"hovertemplate\":\"\\u003cb\\u003e%{hovertext}\\u003c\\u002fb\\u003e\\u003cbr\\u003e\\u003cbr\\u003eDate=2020-09-08 00:00:00\\u003cbr\\u003eCountry=%{location}\\u003cbr\\u003ePercentOfBaseline=%{z}\\u003cextra\\u003e\\u003c\\u002fextra\\u003e\",\"hovertext\":[\"Australia\",\"Canada\",\"Chile\",\"United States of America (the)\"],\"locationmode\":\"country names\",\"locations\":[\"Australia\",\"Canada\",\"Chile\",\"United States of America (the)\"],\"name\":\"\",\"z\":[12,694,47,1128],\"type\":\"choropleth\"}],\"name\":\"2020-09-08 00:00:00\"},{\"data\":[{\"coloraxis\":\"coloraxis\",\"geo\":\"geo\",\"hovertemplate\":\"\\u003cb\\u003e%{hovertext}\\u003c\\u002fb\\u003e\\u003cbr\\u003e\\u003cbr\\u003eDate=2020-09-09 00:00:00\\u003cbr\\u003eCountry=%{location}\\u003cbr\\u003ePercentOfBaseline=%{z}\\u003cextra\\u003e\\u003c\\u002fextra\\u003e\",\"hovertext\":[\"Australia\",\"Canada\",\"Chile\",\"United States of America (the)\"],\"locationmode\":\"country names\",\"locations\":[\"Australia\",\"Canada\",\"Chile\",\"United States of America (the)\"],\"name\":\"\",\"z\":[16,799,35,1238],\"type\":\"choropleth\"}],\"name\":\"2020-09-09 00:00:00\"},{\"data\":[{\"coloraxis\":\"coloraxis\",\"geo\":\"geo\",\"hovertemplate\":\"\\u003cb\\u003e%{hovertext}\\u003c\\u002fb\\u003e\\u003cbr\\u003e\\u003cbr\\u003eDate=2020-09-10 00:00:00\\u003cbr\\u003eCountry=%{location}\\u003cbr\\u003ePercentOfBaseline=%{z}\\u003cextra\\u003e\\u003c\\u002fextra\\u003e\",\"hovertext\":[\"Australia\",\"Canada\",\"Chile\",\"United States of America (the)\"],\"locationmode\":\"country names\",\"locations\":[\"Australia\",\"Canada\",\"Chile\",\"United States of America (the)\"],\"name\":\"\",\"z\":[16,776,40,1227],\"type\":\"choropleth\"}],\"name\":\"2020-09-10 00:00:00\"},{\"data\":[{\"coloraxis\":\"coloraxis\",\"geo\":\"geo\",\"hovertemplate\":\"\\u003cb\\u003e%{hovertext}\\u003c\\u002fb\\u003e\\u003cbr\\u003e\\u003cbr\\u003eDate=2020-09-11 00:00:00\\u003cbr\\u003eCountry=%{location}\\u003cbr\\u003ePercentOfBaseline=%{z}\\u003cextra\\u003e\\u003c\\u002fextra\\u003e\",\"hovertext\":[\"Australia\",\"Canada\",\"Chile\",\"United States of America (the)\"],\"locationmode\":\"country names\",\"locations\":[\"Australia\",\"Canada\",\"Chile\",\"United States of America (the)\"],\"name\":\"\",\"z\":[17,795,49,1218],\"type\":\"choropleth\"}],\"name\":\"2020-09-11 00:00:00\"},{\"data\":[{\"coloraxis\":\"coloraxis\",\"geo\":\"geo\",\"hovertemplate\":\"\\u003cb\\u003e%{hovertext}\\u003c\\u002fb\\u003e\\u003cbr\\u003e\\u003cbr\\u003eDate=2020-09-12 00:00:00\\u003cbr\\u003eCountry=%{location}\\u003cbr\\u003ePercentOfBaseline=%{z}\\u003cextra\\u003e\\u003c\\u002fextra\\u003e\",\"hovertext\":[\"Australia\",\"Canada\",\"Chile\",\"United States of America (the)\"],\"locationmode\":\"country names\",\"locations\":[\"Australia\",\"Canada\",\"Chile\",\"United States of America (the)\"],\"name\":\"\",\"z\":[29,589,31,1140],\"type\":\"choropleth\"}],\"name\":\"2020-09-12 00:00:00\"},{\"data\":[{\"coloraxis\":\"coloraxis\",\"geo\":\"geo\",\"hovertemplate\":\"\\u003cb\\u003e%{hovertext}\\u003c\\u002fb\\u003e\\u003cbr\\u003e\\u003cbr\\u003eDate=2020-09-13 00:00:00\\u003cbr\\u003eCountry=%{location}\\u003cbr\\u003ePercentOfBaseline=%{z}\\u003cextra\\u003e\\u003c\\u002fextra\\u003e\",\"hovertext\":[\"Australia\",\"Canada\",\"Chile\",\"United States of America (the)\"],\"locationmode\":\"country names\",\"locations\":[\"Australia\",\"Canada\",\"Chile\",\"United States of America (the)\"],\"name\":\"\",\"z\":[10,595,25,1081],\"type\":\"choropleth\"}],\"name\":\"2020-09-13 00:00:00\"},{\"data\":[{\"coloraxis\":\"coloraxis\",\"geo\":\"geo\",\"hovertemplate\":\"\\u003cb\\u003e%{hovertext}\\u003c\\u002fb\\u003e\\u003cbr\\u003e\\u003cbr\\u003eDate=2020-09-14 00:00:00\\u003cbr\\u003eCountry=%{location}\\u003cbr\\u003ePercentOfBaseline=%{z}\\u003cextra\\u003e\\u003c\\u002fextra\\u003e\",\"hovertext\":[\"Australia\",\"Canada\",\"Chile\",\"United States of America (the)\"],\"locationmode\":\"country names\",\"locations\":[\"Australia\",\"Canada\",\"Chile\",\"United States of America (the)\"],\"name\":\"\",\"z\":[18,811,47,1233],\"type\":\"choropleth\"}],\"name\":\"2020-09-14 00:00:00\"},{\"data\":[{\"coloraxis\":\"coloraxis\",\"geo\":\"geo\",\"hovertemplate\":\"\\u003cb\\u003e%{hovertext}\\u003c\\u002fb\\u003e\\u003cbr\\u003e\\u003cbr\\u003eDate=2020-09-15 00:00:00\\u003cbr\\u003eCountry=%{location}\\u003cbr\\u003ePercentOfBaseline=%{z}\\u003cextra\\u003e\\u003c\\u002fextra\\u003e\",\"hovertext\":[\"Australia\",\"Canada\",\"Chile\",\"United States of America (the)\"],\"locationmode\":\"country names\",\"locations\":[\"Australia\",\"Canada\",\"Chile\",\"United States of America (the)\"],\"name\":\"\",\"z\":[19,794,54,1263],\"type\":\"choropleth\"}],\"name\":\"2020-09-15 00:00:00\"},{\"data\":[{\"coloraxis\":\"coloraxis\",\"geo\":\"geo\",\"hovertemplate\":\"\\u003cb\\u003e%{hovertext}\\u003c\\u002fb\\u003e\\u003cbr\\u003e\\u003cbr\\u003eDate=2020-09-16 00:00:00\\u003cbr\\u003eCountry=%{location}\\u003cbr\\u003ePercentOfBaseline=%{z}\\u003cextra\\u003e\\u003c\\u002fextra\\u003e\",\"hovertext\":[\"Australia\",\"Canada\",\"Chile\",\"United States of America (the)\"],\"locationmode\":\"country names\",\"locations\":[\"Australia\",\"Canada\",\"Chile\",\"United States of America (the)\"],\"name\":\"\",\"z\":[18,772,53,1256],\"type\":\"choropleth\"}],\"name\":\"2020-09-16 00:00:00\"},{\"data\":[{\"coloraxis\":\"coloraxis\",\"geo\":\"geo\",\"hovertemplate\":\"\\u003cb\\u003e%{hovertext}\\u003c\\u002fb\\u003e\\u003cbr\\u003e\\u003cbr\\u003eDate=2020-09-17 00:00:00\\u003cbr\\u003eCountry=%{location}\\u003cbr\\u003ePercentOfBaseline=%{z}\\u003cextra\\u003e\\u003c\\u002fextra\\u003e\",\"hovertext\":[\"Australia\",\"Canada\",\"Chile\",\"United States of America (the)\"],\"locationmode\":\"country names\",\"locations\":[\"Australia\",\"Canada\",\"Chile\",\"United States of America (the)\"],\"name\":\"\",\"z\":[17,776,31,1202],\"type\":\"choropleth\"}],\"name\":\"2020-09-17 00:00:00\"},{\"data\":[{\"coloraxis\":\"coloraxis\",\"geo\":\"geo\",\"hovertemplate\":\"\\u003cb\\u003e%{hovertext}\\u003c\\u002fb\\u003e\\u003cbr\\u003e\\u003cbr\\u003eDate=2020-09-18 00:00:00\\u003cbr\\u003eCountry=%{location}\\u003cbr\\u003ePercentOfBaseline=%{z}\\u003cextra\\u003e\\u003c\\u002fextra\\u003e\",\"hovertext\":[\"Australia\",\"Canada\",\"Chile\",\"United States of America (the)\"],\"locationmode\":\"country names\",\"locations\":[\"Australia\",\"Canada\",\"Chile\",\"United States of America (the)\"],\"name\":\"\",\"z\":[16,767,12,1251],\"type\":\"choropleth\"}],\"name\":\"2020-09-18 00:00:00\"},{\"data\":[{\"coloraxis\":\"coloraxis\",\"geo\":\"geo\",\"hovertemplate\":\"\\u003cb\\u003e%{hovertext}\\u003c\\u002fb\\u003e\\u003cbr\\u003e\\u003cbr\\u003eDate=2020-09-19 00:00:00\\u003cbr\\u003eCountry=%{location}\\u003cbr\\u003ePercentOfBaseline=%{z}\\u003cextra\\u003e\\u003c\\u002fextra\\u003e\",\"hovertext\":[\"Australia\",\"Canada\",\"United States of America (the)\"],\"locationmode\":\"country names\",\"locations\":[\"Australia\",\"Canada\",\"United States of America (the)\"],\"name\":\"\",\"z\":[26,603,1122],\"type\":\"choropleth\"}],\"name\":\"2020-09-19 00:00:00\"},{\"data\":[{\"coloraxis\":\"coloraxis\",\"geo\":\"geo\",\"hovertemplate\":\"\\u003cb\\u003e%{hovertext}\\u003c\\u002fb\\u003e\\u003cbr\\u003e\\u003cbr\\u003eDate=2020-09-20 00:00:00\\u003cbr\\u003eCountry=%{location}\\u003cbr\\u003ePercentOfBaseline=%{z}\\u003cextra\\u003e\\u003c\\u002fextra\\u003e\",\"hovertext\":[\"Australia\",\"Canada\",\"Chile\",\"United States of America (the)\"],\"locationmode\":\"country names\",\"locations\":[\"Australia\",\"Canada\",\"Chile\",\"United States of America (the)\"],\"name\":\"\",\"z\":[16,555,23,1072],\"type\":\"choropleth\"}],\"name\":\"2020-09-20 00:00:00\"},{\"data\":[{\"coloraxis\":\"coloraxis\",\"geo\":\"geo\",\"hovertemplate\":\"\\u003cb\\u003e%{hovertext}\\u003c\\u002fb\\u003e\\u003cbr\\u003e\\u003cbr\\u003eDate=2020-09-21 00:00:00\\u003cbr\\u003eCountry=%{location}\\u003cbr\\u003ePercentOfBaseline=%{z}\\u003cextra\\u003e\\u003c\\u002fextra\\u003e\",\"hovertext\":[\"Australia\",\"Canada\",\"Chile\",\"United States of America (the)\"],\"locationmode\":\"country names\",\"locations\":[\"Australia\",\"Canada\",\"Chile\",\"United States of America (the)\"],\"name\":\"\",\"z\":[15,803,36,1251],\"type\":\"choropleth\"}],\"name\":\"2020-09-21 00:00:00\"},{\"data\":[{\"coloraxis\":\"coloraxis\",\"geo\":\"geo\",\"hovertemplate\":\"\\u003cb\\u003e%{hovertext}\\u003c\\u002fb\\u003e\\u003cbr\\u003e\\u003cbr\\u003eDate=2020-09-22 00:00:00\\u003cbr\\u003eCountry=%{location}\\u003cbr\\u003ePercentOfBaseline=%{z}\\u003cextra\\u003e\\u003c\\u002fextra\\u003e\",\"hovertext\":[\"Australia\",\"Canada\",\"Chile\",\"United States of America (the)\"],\"locationmode\":\"country names\",\"locations\":[\"Australia\",\"Canada\",\"Chile\",\"United States of America (the)\"],\"name\":\"\",\"z\":[16,812,47,1269],\"type\":\"choropleth\"}],\"name\":\"2020-09-22 00:00:00\"},{\"data\":[{\"coloraxis\":\"coloraxis\",\"geo\":\"geo\",\"hovertemplate\":\"\\u003cb\\u003e%{hovertext}\\u003c\\u002fb\\u003e\\u003cbr\\u003e\\u003cbr\\u003eDate=2020-09-23 00:00:00\\u003cbr\\u003eCountry=%{location}\\u003cbr\\u003ePercentOfBaseline=%{z}\\u003cextra\\u003e\\u003c\\u002fextra\\u003e\",\"hovertext\":[\"Australia\",\"Canada\",\"Chile\",\"United States of America (the)\"],\"locationmode\":\"country names\",\"locations\":[\"Australia\",\"Canada\",\"Chile\",\"United States of America (the)\"],\"name\":\"\",\"z\":[17,752,44,1268],\"type\":\"choropleth\"}],\"name\":\"2020-09-23 00:00:00\"},{\"data\":[{\"coloraxis\":\"coloraxis\",\"geo\":\"geo\",\"hovertemplate\":\"\\u003cb\\u003e%{hovertext}\\u003c\\u002fb\\u003e\\u003cbr\\u003e\\u003cbr\\u003eDate=2020-09-24 00:00:00\\u003cbr\\u003eCountry=%{location}\\u003cbr\\u003ePercentOfBaseline=%{z}\\u003cextra\\u003e\\u003c\\u002fextra\\u003e\",\"hovertext\":[\"Australia\",\"Canada\",\"Chile\",\"United States of America (the)\"],\"locationmode\":\"country names\",\"locations\":[\"Australia\",\"Canada\",\"Chile\",\"United States of America (the)\"],\"name\":\"\",\"z\":[15,787,36,1247],\"type\":\"choropleth\"}],\"name\":\"2020-09-24 00:00:00\"},{\"data\":[{\"coloraxis\":\"coloraxis\",\"geo\":\"geo\",\"hovertemplate\":\"\\u003cb\\u003e%{hovertext}\\u003c\\u002fb\\u003e\\u003cbr\\u003e\\u003cbr\\u003eDate=2020-09-25 00:00:00\\u003cbr\\u003eCountry=%{location}\\u003cbr\\u003ePercentOfBaseline=%{z}\\u003cextra\\u003e\\u003c\\u002fextra\\u003e\",\"hovertext\":[\"Australia\",\"Canada\",\"Chile\",\"United States of America (the)\"],\"locationmode\":\"country names\",\"locations\":[\"Australia\",\"Canada\",\"Chile\",\"United States of America (the)\"],\"name\":\"\",\"z\":[13,782,42,1241],\"type\":\"choropleth\"}],\"name\":\"2020-09-25 00:00:00\"},{\"data\":[{\"coloraxis\":\"coloraxis\",\"geo\":\"geo\",\"hovertemplate\":\"\\u003cb\\u003e%{hovertext}\\u003c\\u002fb\\u003e\\u003cbr\\u003e\\u003cbr\\u003eDate=2020-09-26 00:00:00\\u003cbr\\u003eCountry=%{location}\\u003cbr\\u003ePercentOfBaseline=%{z}\\u003cextra\\u003e\\u003c\\u002fextra\\u003e\",\"hovertext\":[\"Australia\",\"Canada\",\"Chile\",\"United States of America (the)\"],\"locationmode\":\"country names\",\"locations\":[\"Australia\",\"Canada\",\"Chile\",\"United States of America (the)\"],\"name\":\"\",\"z\":[18,586,28,1109],\"type\":\"choropleth\"}],\"name\":\"2020-09-26 00:00:00\"},{\"data\":[{\"coloraxis\":\"coloraxis\",\"geo\":\"geo\",\"hovertemplate\":\"\\u003cb\\u003e%{hovertext}\\u003c\\u002fb\\u003e\\u003cbr\\u003e\\u003cbr\\u003eDate=2020-09-27 00:00:00\\u003cbr\\u003eCountry=%{location}\\u003cbr\\u003ePercentOfBaseline=%{z}\\u003cextra\\u003e\\u003c\\u002fextra\\u003e\",\"hovertext\":[\"Australia\",\"Canada\",\"Chile\",\"United States of America (the)\"],\"locationmode\":\"country names\",\"locations\":[\"Australia\",\"Canada\",\"Chile\",\"United States of America (the)\"],\"name\":\"\",\"z\":[12,616,26,1033],\"type\":\"choropleth\"}],\"name\":\"2020-09-27 00:00:00\"},{\"data\":[{\"coloraxis\":\"coloraxis\",\"geo\":\"geo\",\"hovertemplate\":\"\\u003cb\\u003e%{hovertext}\\u003c\\u002fb\\u003e\\u003cbr\\u003e\\u003cbr\\u003eDate=2020-09-28 00:00:00\\u003cbr\\u003eCountry=%{location}\\u003cbr\\u003ePercentOfBaseline=%{z}\\u003cextra\\u003e\\u003c\\u002fextra\\u003e\",\"hovertext\":[\"Australia\",\"Canada\",\"Chile\",\"United States of America (the)\"],\"locationmode\":\"country names\",\"locations\":[\"Australia\",\"Canada\",\"Chile\",\"United States of America (the)\"],\"name\":\"\",\"z\":[12,869,39,1241],\"type\":\"choropleth\"}],\"name\":\"2020-09-28 00:00:00\"},{\"data\":[{\"coloraxis\":\"coloraxis\",\"geo\":\"geo\",\"hovertemplate\":\"\\u003cb\\u003e%{hovertext}\\u003c\\u002fb\\u003e\\u003cbr\\u003e\\u003cbr\\u003eDate=2020-09-29 00:00:00\\u003cbr\\u003eCountry=%{location}\\u003cbr\\u003ePercentOfBaseline=%{z}\\u003cextra\\u003e\\u003c\\u002fextra\\u003e\",\"hovertext\":[\"Australia\",\"Canada\",\"Chile\",\"United States of America (the)\"],\"locationmode\":\"country names\",\"locations\":[\"Australia\",\"Canada\",\"Chile\",\"United States of America (the)\"],\"name\":\"\",\"z\":[21,832,46,1295],\"type\":\"choropleth\"}],\"name\":\"2020-09-29 00:00:00\"},{\"data\":[{\"coloraxis\":\"coloraxis\",\"geo\":\"geo\",\"hovertemplate\":\"\\u003cb\\u003e%{hovertext}\\u003c\\u002fb\\u003e\\u003cbr\\u003e\\u003cbr\\u003eDate=2020-09-30 00:00:00\\u003cbr\\u003eCountry=%{location}\\u003cbr\\u003ePercentOfBaseline=%{z}\\u003cextra\\u003e\\u003c\\u002fextra\\u003e\",\"hovertext\":[\"Australia\",\"Canada\",\"Chile\",\"United States of America (the)\"],\"locationmode\":\"country names\",\"locations\":[\"Australia\",\"Canada\",\"Chile\",\"United States of America (the)\"],\"name\":\"\",\"z\":[16,820,49,1284],\"type\":\"choropleth\"}],\"name\":\"2020-09-30 00:00:00\"},{\"data\":[{\"coloraxis\":\"coloraxis\",\"geo\":\"geo\",\"hovertemplate\":\"\\u003cb\\u003e%{hovertext}\\u003c\\u002fb\\u003e\\u003cbr\\u003e\\u003cbr\\u003eDate=2020-10-01 00:00:00\\u003cbr\\u003eCountry=%{location}\\u003cbr\\u003ePercentOfBaseline=%{z}\\u003cextra\\u003e\\u003c\\u002fextra\\u003e\",\"hovertext\":[\"Australia\",\"Canada\",\"Chile\",\"United States of America (the)\"],\"locationmode\":\"country names\",\"locations\":[\"Australia\",\"Canada\",\"Chile\",\"United States of America (the)\"],\"name\":\"\",\"z\":[19,813,39,1278],\"type\":\"choropleth\"}],\"name\":\"2020-10-01 00:00:00\"},{\"data\":[{\"coloraxis\":\"coloraxis\",\"geo\":\"geo\",\"hovertemplate\":\"\\u003cb\\u003e%{hovertext}\\u003c\\u002fb\\u003e\\u003cbr\\u003e\\u003cbr\\u003eDate=2020-10-02 00:00:00\\u003cbr\\u003eCountry=%{location}\\u003cbr\\u003ePercentOfBaseline=%{z}\\u003cextra\\u003e\\u003c\\u002fextra\\u003e\",\"hovertext\":[\"Australia\",\"Canada\",\"Chile\",\"United States of America (the)\"],\"locationmode\":\"country names\",\"locations\":[\"Australia\",\"Canada\",\"Chile\",\"United States of America (the)\"],\"name\":\"\",\"z\":[16,813,53,1253],\"type\":\"choropleth\"}],\"name\":\"2020-10-02 00:00:00\"},{\"data\":[{\"coloraxis\":\"coloraxis\",\"geo\":\"geo\",\"hovertemplate\":\"\\u003cb\\u003e%{hovertext}\\u003c\\u002fb\\u003e\\u003cbr\\u003e\\u003cbr\\u003eDate=2020-10-03 00:00:00\\u003cbr\\u003eCountry=%{location}\\u003cbr\\u003ePercentOfBaseline=%{z}\\u003cextra\\u003e\\u003c\\u002fextra\\u003e\",\"hovertext\":[\"Australia\",\"Canada\",\"Chile\",\"United States of America (the)\"],\"locationmode\":\"country names\",\"locations\":[\"Australia\",\"Canada\",\"Chile\",\"United States of America (the)\"],\"name\":\"\",\"z\":[20,649,29,1095],\"type\":\"choropleth\"}],\"name\":\"2020-10-03 00:00:00\"},{\"data\":[{\"coloraxis\":\"coloraxis\",\"geo\":\"geo\",\"hovertemplate\":\"\\u003cb\\u003e%{hovertext}\\u003c\\u002fb\\u003e\\u003cbr\\u003e\\u003cbr\\u003eDate=2020-10-04 00:00:00\\u003cbr\\u003eCountry=%{location}\\u003cbr\\u003ePercentOfBaseline=%{z}\\u003cextra\\u003e\\u003c\\u002fextra\\u003e\",\"hovertext\":[\"Australia\",\"Canada\",\"Chile\",\"United States of America (the)\"],\"locationmode\":\"country names\",\"locations\":[\"Australia\",\"Canada\",\"Chile\",\"United States of America (the)\"],\"name\":\"\",\"z\":[6,477,36,1061],\"type\":\"choropleth\"}],\"name\":\"2020-10-04 00:00:00\"},{\"data\":[{\"coloraxis\":\"coloraxis\",\"geo\":\"geo\",\"hovertemplate\":\"\\u003cb\\u003e%{hovertext}\\u003c\\u002fb\\u003e\\u003cbr\\u003e\\u003cbr\\u003eDate=2020-10-05 00:00:00\\u003cbr\\u003eCountry=%{location}\\u003cbr\\u003ePercentOfBaseline=%{z}\\u003cextra\\u003e\\u003c\\u002fextra\\u003e\",\"hovertext\":[\"Australia\",\"Canada\",\"Chile\",\"United States of America (the)\"],\"locationmode\":\"country names\",\"locations\":[\"Australia\",\"Canada\",\"Chile\",\"United States of America (the)\"],\"name\":\"\",\"z\":[10,860,56,1270],\"type\":\"choropleth\"}],\"name\":\"2020-10-05 00:00:00\"},{\"data\":[{\"coloraxis\":\"coloraxis\",\"geo\":\"geo\",\"hovertemplate\":\"\\u003cb\\u003e%{hovertext}\\u003c\\u002fb\\u003e\\u003cbr\\u003e\\u003cbr\\u003eDate=2020-10-06 00:00:00\\u003cbr\\u003eCountry=%{location}\\u003cbr\\u003ePercentOfBaseline=%{z}\\u003cextra\\u003e\\u003c\\u002fextra\\u003e\",\"hovertext\":[\"Australia\",\"Canada\",\"Chile\",\"United States of America (the)\"],\"locationmode\":\"country names\",\"locations\":[\"Australia\",\"Canada\",\"Chile\",\"United States of America (the)\"],\"name\":\"\",\"z\":[22,857,53,1264],\"type\":\"choropleth\"}],\"name\":\"2020-10-06 00:00:00\"},{\"data\":[{\"coloraxis\":\"coloraxis\",\"geo\":\"geo\",\"hovertemplate\":\"\\u003cb\\u003e%{hovertext}\\u003c\\u002fb\\u003e\\u003cbr\\u003e\\u003cbr\\u003eDate=2020-10-07 00:00:00\\u003cbr\\u003eCountry=%{location}\\u003cbr\\u003ePercentOfBaseline=%{z}\\u003cextra\\u003e\\u003c\\u002fextra\\u003e\",\"hovertext\":[\"Australia\",\"Canada\",\"Chile\",\"United States of America (the)\"],\"locationmode\":\"country names\",\"locations\":[\"Australia\",\"Canada\",\"Chile\",\"United States of America (the)\"],\"name\":\"\",\"z\":[16,807,55,1308],\"type\":\"choropleth\"}],\"name\":\"2020-10-07 00:00:00\"},{\"data\":[{\"coloraxis\":\"coloraxis\",\"geo\":\"geo\",\"hovertemplate\":\"\\u003cb\\u003e%{hovertext}\\u003c\\u002fb\\u003e\\u003cbr\\u003e\\u003cbr\\u003eDate=2020-10-08 00:00:00\\u003cbr\\u003eCountry=%{location}\\u003cbr\\u003ePercentOfBaseline=%{z}\\u003cextra\\u003e\\u003c\\u002fextra\\u003e\",\"hovertext\":[\"Australia\",\"Canada\",\"Chile\",\"United States of America (the)\"],\"locationmode\":\"country names\",\"locations\":[\"Australia\",\"Canada\",\"Chile\",\"United States of America (the)\"],\"name\":\"\",\"z\":[24,843,50,1264],\"type\":\"choropleth\"}],\"name\":\"2020-10-08 00:00:00\"},{\"data\":[{\"coloraxis\":\"coloraxis\",\"geo\":\"geo\",\"hovertemplate\":\"\\u003cb\\u003e%{hovertext}\\u003c\\u002fb\\u003e\\u003cbr\\u003e\\u003cbr\\u003eDate=2020-10-09 00:00:00\\u003cbr\\u003eCountry=%{location}\\u003cbr\\u003ePercentOfBaseline=%{z}\\u003cextra\\u003e\\u003c\\u002fextra\\u003e\",\"hovertext\":[\"Australia\",\"Canada\",\"Chile\",\"United States of America (the)\"],\"locationmode\":\"country names\",\"locations\":[\"Australia\",\"Canada\",\"Chile\",\"United States of America (the)\"],\"name\":\"\",\"z\":[24,817,56,1254],\"type\":\"choropleth\"}],\"name\":\"2020-10-09 00:00:00\"},{\"data\":[{\"coloraxis\":\"coloraxis\",\"geo\":\"geo\",\"hovertemplate\":\"\\u003cb\\u003e%{hovertext}\\u003c\\u002fb\\u003e\\u003cbr\\u003e\\u003cbr\\u003eDate=2020-10-10 00:00:00\\u003cbr\\u003eCountry=%{location}\\u003cbr\\u003ePercentOfBaseline=%{z}\\u003cextra\\u003e\\u003c\\u002fextra\\u003e\",\"hovertext\":[\"Australia\",\"Canada\",\"Chile\",\"United States of America (the)\"],\"locationmode\":\"country names\",\"locations\":[\"Australia\",\"Canada\",\"Chile\",\"United States of America (the)\"],\"name\":\"\",\"z\":[18,718,34,1057],\"type\":\"choropleth\"}],\"name\":\"2020-10-10 00:00:00\"},{\"data\":[{\"coloraxis\":\"coloraxis\",\"geo\":\"geo\",\"hovertemplate\":\"\\u003cb\\u003e%{hovertext}\\u003c\\u002fb\\u003e\\u003cbr\\u003e\\u003cbr\\u003eDate=2020-10-11 00:00:00\\u003cbr\\u003eCountry=%{location}\\u003cbr\\u003ePercentOfBaseline=%{z}\\u003cextra\\u003e\\u003c\\u002fextra\\u003e\",\"hovertext\":[\"Australia\",\"Canada\",\"Chile\",\"United States of America (the)\"],\"locationmode\":\"country names\",\"locations\":[\"Australia\",\"Canada\",\"Chile\",\"United States of America (the)\"],\"name\":\"\",\"z\":[25,588,15,1055],\"type\":\"choropleth\"}],\"name\":\"2020-10-11 00:00:00\"},{\"data\":[{\"coloraxis\":\"coloraxis\",\"geo\":\"geo\",\"hovertemplate\":\"\\u003cb\\u003e%{hovertext}\\u003c\\u002fb\\u003e\\u003cbr\\u003e\\u003cbr\\u003eDate=2020-10-12 00:00:00\\u003cbr\\u003eCountry=%{location}\\u003cbr\\u003ePercentOfBaseline=%{z}\\u003cextra\\u003e\\u003c\\u002fextra\\u003e\",\"hovertext\":[\"Australia\",\"Canada\",\"Chile\",\"United States of America (the)\"],\"locationmode\":\"country names\",\"locations\":[\"Australia\",\"Canada\",\"Chile\",\"United States of America (the)\"],\"name\":\"\",\"z\":[22,163,38,1104],\"type\":\"choropleth\"}],\"name\":\"2020-10-12 00:00:00\"},{\"data\":[{\"coloraxis\":\"coloraxis\",\"geo\":\"geo\",\"hovertemplate\":\"\\u003cb\\u003e%{hovertext}\\u003c\\u002fb\\u003e\\u003cbr\\u003e\\u003cbr\\u003eDate=2020-10-13 00:00:00\\u003cbr\\u003eCountry=%{location}\\u003cbr\\u003ePercentOfBaseline=%{z}\\u003cextra\\u003e\\u003c\\u002fextra\\u003e\",\"hovertext\":[\"Australia\",\"Canada\",\"Chile\",\"United States of America (the)\"],\"locationmode\":\"country names\",\"locations\":[\"Australia\",\"Canada\",\"Chile\",\"United States of America (the)\"],\"name\":\"\",\"z\":[21,749,56,1252],\"type\":\"choropleth\"}],\"name\":\"2020-10-13 00:00:00\"},{\"data\":[{\"coloraxis\":\"coloraxis\",\"geo\":\"geo\",\"hovertemplate\":\"\\u003cb\\u003e%{hovertext}\\u003c\\u002fb\\u003e\\u003cbr\\u003e\\u003cbr\\u003eDate=2020-10-14 00:00:00\\u003cbr\\u003eCountry=%{location}\\u003cbr\\u003ePercentOfBaseline=%{z}\\u003cextra\\u003e\\u003c\\u002fextra\\u003e\",\"hovertext\":[\"Australia\",\"Canada\",\"Chile\",\"United States of America (the)\"],\"locationmode\":\"country names\",\"locations\":[\"Australia\",\"Canada\",\"Chile\",\"United States of America (the)\"],\"name\":\"\",\"z\":[23,796,48,1277],\"type\":\"choropleth\"}],\"name\":\"2020-10-14 00:00:00\"},{\"data\":[{\"coloraxis\":\"coloraxis\",\"geo\":\"geo\",\"hovertemplate\":\"\\u003cb\\u003e%{hovertext}\\u003c\\u002fb\\u003e\\u003cbr\\u003e\\u003cbr\\u003eDate=2020-10-15 00:00:00\\u003cbr\\u003eCountry=%{location}\\u003cbr\\u003ePercentOfBaseline=%{z}\\u003cextra\\u003e\\u003c\\u002fextra\\u003e\",\"hovertext\":[\"Australia\",\"Canada\",\"Chile\",\"United States of America (the)\"],\"locationmode\":\"country names\",\"locations\":[\"Australia\",\"Canada\",\"Chile\",\"United States of America (the)\"],\"name\":\"\",\"z\":[18,804,49,1231],\"type\":\"choropleth\"}],\"name\":\"2020-10-15 00:00:00\"},{\"data\":[{\"coloraxis\":\"coloraxis\",\"geo\":\"geo\",\"hovertemplate\":\"\\u003cb\\u003e%{hovertext}\\u003c\\u002fb\\u003e\\u003cbr\\u003e\\u003cbr\\u003eDate=2020-10-16 00:00:00\\u003cbr\\u003eCountry=%{location}\\u003cbr\\u003ePercentOfBaseline=%{z}\\u003cextra\\u003e\\u003c\\u002fextra\\u003e\",\"hovertext\":[\"Australia\",\"Canada\",\"Chile\",\"United States of America (the)\"],\"locationmode\":\"country names\",\"locations\":[\"Australia\",\"Canada\",\"Chile\",\"United States of America (the)\"],\"name\":\"\",\"z\":[18,802,61,1215],\"type\":\"choropleth\"}],\"name\":\"2020-10-16 00:00:00\"},{\"data\":[{\"coloraxis\":\"coloraxis\",\"geo\":\"geo\",\"hovertemplate\":\"\\u003cb\\u003e%{hovertext}\\u003c\\u002fb\\u003e\\u003cbr\\u003e\\u003cbr\\u003eDate=2020-10-17 00:00:00\\u003cbr\\u003eCountry=%{location}\\u003cbr\\u003ePercentOfBaseline=%{z}\\u003cextra\\u003e\\u003c\\u002fextra\\u003e\",\"hovertext\":[\"Australia\",\"Canada\",\"Chile\",\"United States of America (the)\"],\"locationmode\":\"country names\",\"locations\":[\"Australia\",\"Canada\",\"Chile\",\"United States of America (the)\"],\"name\":\"\",\"z\":[11,663,38,1082],\"type\":\"choropleth\"}],\"name\":\"2020-10-17 00:00:00\"},{\"data\":[{\"coloraxis\":\"coloraxis\",\"geo\":\"geo\",\"hovertemplate\":\"\\u003cb\\u003e%{hovertext}\\u003c\\u002fb\\u003e\\u003cbr\\u003e\\u003cbr\\u003eDate=2020-10-18 00:00:00\\u003cbr\\u003eCountry=%{location}\\u003cbr\\u003ePercentOfBaseline=%{z}\\u003cextra\\u003e\\u003c\\u002fextra\\u003e\",\"hovertext\":[\"Australia\",\"Canada\",\"Chile\",\"United States of America (the)\"],\"locationmode\":\"country names\",\"locations\":[\"Australia\",\"Canada\",\"Chile\",\"United States of America (the)\"],\"name\":\"\",\"z\":[16,612,28,1049],\"type\":\"choropleth\"}],\"name\":\"2020-10-18 00:00:00\"},{\"data\":[{\"coloraxis\":\"coloraxis\",\"geo\":\"geo\",\"hovertemplate\":\"\\u003cb\\u003e%{hovertext}\\u003c\\u002fb\\u003e\\u003cbr\\u003e\\u003cbr\\u003eDate=2020-10-19 00:00:00\\u003cbr\\u003eCountry=%{location}\\u003cbr\\u003ePercentOfBaseline=%{z}\\u003cextra\\u003e\\u003c\\u002fextra\\u003e\",\"hovertext\":[\"Australia\",\"Canada\",\"Chile\",\"United States of America (the)\"],\"locationmode\":\"country names\",\"locations\":[\"Australia\",\"Canada\",\"Chile\",\"United States of America (the)\"],\"name\":\"\",\"z\":[22,833,55,1281],\"type\":\"choropleth\"}],\"name\":\"2020-10-19 00:00:00\"},{\"data\":[{\"coloraxis\":\"coloraxis\",\"geo\":\"geo\",\"hovertemplate\":\"\\u003cb\\u003e%{hovertext}\\u003c\\u002fb\\u003e\\u003cbr\\u003e\\u003cbr\\u003eDate=2020-10-20 00:00:00\\u003cbr\\u003eCountry=%{location}\\u003cbr\\u003ePercentOfBaseline=%{z}\\u003cextra\\u003e\\u003c\\u002fextra\\u003e\",\"hovertext\":[\"Australia\",\"Canada\",\"Chile\",\"United States of America (the)\"],\"locationmode\":\"country names\",\"locations\":[\"Australia\",\"Canada\",\"Chile\",\"United States of America (the)\"],\"name\":\"\",\"z\":[21,819,51,1331],\"type\":\"choropleth\"}],\"name\":\"2020-10-20 00:00:00\"},{\"data\":[{\"coloraxis\":\"coloraxis\",\"geo\":\"geo\",\"hovertemplate\":\"\\u003cb\\u003e%{hovertext}\\u003c\\u002fb\\u003e\\u003cbr\\u003e\\u003cbr\\u003eDate=2020-10-21 00:00:00\\u003cbr\\u003eCountry=%{location}\\u003cbr\\u003ePercentOfBaseline=%{z}\\u003cextra\\u003e\\u003c\\u002fextra\\u003e\",\"hovertext\":[\"Australia\",\"Canada\",\"Chile\",\"United States of America (the)\"],\"locationmode\":\"country names\",\"locations\":[\"Australia\",\"Canada\",\"Chile\",\"United States of America (the)\"],\"name\":\"\",\"z\":[20,815,65,1295],\"type\":\"choropleth\"}],\"name\":\"2020-10-21 00:00:00\"},{\"data\":[{\"coloraxis\":\"coloraxis\",\"geo\":\"geo\",\"hovertemplate\":\"\\u003cb\\u003e%{hovertext}\\u003c\\u002fb\\u003e\\u003cbr\\u003e\\u003cbr\\u003eDate=2020-10-22 00:00:00\\u003cbr\\u003eCountry=%{location}\\u003cbr\\u003ePercentOfBaseline=%{z}\\u003cextra\\u003e\\u003c\\u002fextra\\u003e\",\"hovertext\":[\"Australia\",\"Canada\",\"Chile\",\"United States of America (the)\"],\"locationmode\":\"country names\",\"locations\":[\"Australia\",\"Canada\",\"Chile\",\"United States of America (the)\"],\"name\":\"\",\"z\":[21,806,53,1299],\"type\":\"choropleth\"}],\"name\":\"2020-10-22 00:00:00\"},{\"data\":[{\"coloraxis\":\"coloraxis\",\"geo\":\"geo\",\"hovertemplate\":\"\\u003cb\\u003e%{hovertext}\\u003c\\u002fb\\u003e\\u003cbr\\u003e\\u003cbr\\u003eDate=2020-10-23 00:00:00\\u003cbr\\u003eCountry=%{location}\\u003cbr\\u003ePercentOfBaseline=%{z}\\u003cextra\\u003e\\u003c\\u002fextra\\u003e\",\"hovertext\":[\"Australia\",\"Canada\",\"Chile\",\"United States of America (the)\"],\"locationmode\":\"country names\",\"locations\":[\"Australia\",\"Canada\",\"Chile\",\"United States of America (the)\"],\"name\":\"\",\"z\":[15,841,50,1246],\"type\":\"choropleth\"}],\"name\":\"2020-10-23 00:00:00\"},{\"data\":[{\"coloraxis\":\"coloraxis\",\"geo\":\"geo\",\"hovertemplate\":\"\\u003cb\\u003e%{hovertext}\\u003c\\u002fb\\u003e\\u003cbr\\u003e\\u003cbr\\u003eDate=2020-10-24 00:00:00\\u003cbr\\u003eCountry=%{location}\\u003cbr\\u003ePercentOfBaseline=%{z}\\u003cextra\\u003e\\u003c\\u002fextra\\u003e\",\"hovertext\":[\"Australia\",\"Canada\",\"Chile\",\"United States of America (the)\"],\"locationmode\":\"country names\",\"locations\":[\"Australia\",\"Canada\",\"Chile\",\"United States of America (the)\"],\"name\":\"\",\"z\":[29,755,60,1098],\"type\":\"choropleth\"}],\"name\":\"2020-10-24 00:00:00\"},{\"data\":[{\"coloraxis\":\"coloraxis\",\"geo\":\"geo\",\"hovertemplate\":\"\\u003cb\\u003e%{hovertext}\\u003c\\u002fb\\u003e\\u003cbr\\u003e\\u003cbr\\u003eDate=2020-10-25 00:00:00\\u003cbr\\u003eCountry=%{location}\\u003cbr\\u003ePercentOfBaseline=%{z}\\u003cextra\\u003e\\u003c\\u002fextra\\u003e\",\"hovertext\":[\"Australia\",\"Canada\",\"Chile\",\"United States of America (the)\"],\"locationmode\":\"country names\",\"locations\":[\"Australia\",\"Canada\",\"Chile\",\"United States of America (the)\"],\"name\":\"\",\"z\":[16,704,36,1073],\"type\":\"choropleth\"}],\"name\":\"2020-10-25 00:00:00\"},{\"data\":[{\"coloraxis\":\"coloraxis\",\"geo\":\"geo\",\"hovertemplate\":\"\\u003cb\\u003e%{hovertext}\\u003c\\u002fb\\u003e\\u003cbr\\u003e\\u003cbr\\u003eDate=2020-10-26 00:00:00\\u003cbr\\u003eCountry=%{location}\\u003cbr\\u003ePercentOfBaseline=%{z}\\u003cextra\\u003e\\u003c\\u002fextra\\u003e\",\"hovertext\":[\"Australia\",\"Canada\",\"Chile\",\"United States of America (the)\"],\"locationmode\":\"country names\",\"locations\":[\"Australia\",\"Canada\",\"Chile\",\"United States of America (the)\"],\"name\":\"\",\"z\":[19,852,59,1234],\"type\":\"choropleth\"}],\"name\":\"2020-10-26 00:00:00\"},{\"data\":[{\"coloraxis\":\"coloraxis\",\"geo\":\"geo\",\"hovertemplate\":\"\\u003cb\\u003e%{hovertext}\\u003c\\u002fb\\u003e\\u003cbr\\u003e\\u003cbr\\u003eDate=2020-10-27 00:00:00\\u003cbr\\u003eCountry=%{location}\\u003cbr\\u003ePercentOfBaseline=%{z}\\u003cextra\\u003e\\u003c\\u002fextra\\u003e\",\"hovertext\":[\"Australia\",\"Canada\",\"Chile\",\"United States of America (the)\"],\"locationmode\":\"country names\",\"locations\":[\"Australia\",\"Canada\",\"Chile\",\"United States of America (the)\"],\"name\":\"\",\"z\":[23,826,58,1241],\"type\":\"choropleth\"}],\"name\":\"2020-10-27 00:00:00\"},{\"data\":[{\"coloraxis\":\"coloraxis\",\"geo\":\"geo\",\"hovertemplate\":\"\\u003cb\\u003e%{hovertext}\\u003c\\u002fb\\u003e\\u003cbr\\u003e\\u003cbr\\u003eDate=2020-10-28 00:00:00\\u003cbr\\u003eCountry=%{location}\\u003cbr\\u003ePercentOfBaseline=%{z}\\u003cextra\\u003e\\u003c\\u002fextra\\u003e\",\"hovertext\":[\"Australia\",\"Canada\",\"Chile\",\"United States of America (the)\"],\"locationmode\":\"country names\",\"locations\":[\"Australia\",\"Canada\",\"Chile\",\"United States of America (the)\"],\"name\":\"\",\"z\":[22,837,70,1294],\"type\":\"choropleth\"}],\"name\":\"2020-10-28 00:00:00\"},{\"data\":[{\"coloraxis\":\"coloraxis\",\"geo\":\"geo\",\"hovertemplate\":\"\\u003cb\\u003e%{hovertext}\\u003c\\u002fb\\u003e\\u003cbr\\u003e\\u003cbr\\u003eDate=2020-10-29 00:00:00\\u003cbr\\u003eCountry=%{location}\\u003cbr\\u003ePercentOfBaseline=%{z}\\u003cextra\\u003e\\u003c\\u002fextra\\u003e\",\"hovertext\":[\"Australia\",\"Canada\",\"Chile\",\"United States of America (the)\"],\"locationmode\":\"country names\",\"locations\":[\"Australia\",\"Canada\",\"Chile\",\"United States of America (the)\"],\"name\":\"\",\"z\":[24,792,53,1199],\"type\":\"choropleth\"}],\"name\":\"2020-10-29 00:00:00\"},{\"data\":[{\"coloraxis\":\"coloraxis\",\"geo\":\"geo\",\"hovertemplate\":\"\\u003cb\\u003e%{hovertext}\\u003c\\u002fb\\u003e\\u003cbr\\u003e\\u003cbr\\u003eDate=2020-10-30 00:00:00\\u003cbr\\u003eCountry=%{location}\\u003cbr\\u003ePercentOfBaseline=%{z}\\u003cextra\\u003e\\u003c\\u002fextra\\u003e\",\"hovertext\":[\"Australia\",\"Canada\",\"Chile\",\"United States of America (the)\"],\"locationmode\":\"country names\",\"locations\":[\"Australia\",\"Canada\",\"Chile\",\"United States of America (the)\"],\"name\":\"\",\"z\":[18,781,45,1191],\"type\":\"choropleth\"}],\"name\":\"2020-10-30 00:00:00\"},{\"data\":[{\"coloraxis\":\"coloraxis\",\"geo\":\"geo\",\"hovertemplate\":\"\\u003cb\\u003e%{hovertext}\\u003c\\u002fb\\u003e\\u003cbr\\u003e\\u003cbr\\u003eDate=2020-10-31 00:00:00\\u003cbr\\u003eCountry=%{location}\\u003cbr\\u003ePercentOfBaseline=%{z}\\u003cextra\\u003e\\u003c\\u002fextra\\u003e\",\"hovertext\":[\"Australia\",\"Canada\",\"Chile\",\"United States of America (the)\"],\"locationmode\":\"country names\",\"locations\":[\"Australia\",\"Canada\",\"Chile\",\"United States of America (the)\"],\"name\":\"\",\"z\":[22,683,33,1063],\"type\":\"choropleth\"}],\"name\":\"2020-10-31 00:00:00\"},{\"data\":[{\"coloraxis\":\"coloraxis\",\"geo\":\"geo\",\"hovertemplate\":\"\\u003cb\\u003e%{hovertext}\\u003c\\u002fb\\u003e\\u003cbr\\u003e\\u003cbr\\u003eDate=2020-11-01 00:00:00\\u003cbr\\u003eCountry=%{location}\\u003cbr\\u003ePercentOfBaseline=%{z}\\u003cextra\\u003e\\u003c\\u002fextra\\u003e\",\"hovertext\":[\"Australia\",\"Canada\",\"United States of America (the)\"],\"locationmode\":\"country names\",\"locations\":[\"Australia\",\"Canada\",\"United States of America (the)\"],\"name\":\"\",\"z\":[19,557,1026],\"type\":\"choropleth\"}],\"name\":\"2020-11-01 00:00:00\"},{\"data\":[{\"coloraxis\":\"coloraxis\",\"geo\":\"geo\",\"hovertemplate\":\"\\u003cb\\u003e%{hovertext}\\u003c\\u002fb\\u003e\\u003cbr\\u003e\\u003cbr\\u003eDate=2020-11-02 00:00:00\\u003cbr\\u003eCountry=%{location}\\u003cbr\\u003ePercentOfBaseline=%{z}\\u003cextra\\u003e\\u003c\\u002fextra\\u003e\",\"hovertext\":[\"Australia\",\"Canada\",\"Chile\",\"United States of America (the)\"],\"locationmode\":\"country names\",\"locations\":[\"Australia\",\"Canada\",\"Chile\",\"United States of America (the)\"],\"name\":\"\",\"z\":[17,840,60,1235],\"type\":\"choropleth\"}],\"name\":\"2020-11-02 00:00:00\"},{\"data\":[{\"coloraxis\":\"coloraxis\",\"geo\":\"geo\",\"hovertemplate\":\"\\u003cb\\u003e%{hovertext}\\u003c\\u002fb\\u003e\\u003cbr\\u003e\\u003cbr\\u003eDate=2020-11-03 00:00:00\\u003cbr\\u003eCountry=%{location}\\u003cbr\\u003ePercentOfBaseline=%{z}\\u003cextra\\u003e\\u003c\\u002fextra\\u003e\",\"hovertext\":[\"Australia\",\"Canada\",\"Chile\",\"United States of America (the)\"],\"locationmode\":\"country names\",\"locations\":[\"Australia\",\"Canada\",\"Chile\",\"United States of America (the)\"],\"name\":\"\",\"z\":[20,817,63,1203],\"type\":\"choropleth\"}],\"name\":\"2020-11-03 00:00:00\"},{\"data\":[{\"coloraxis\":\"coloraxis\",\"geo\":\"geo\",\"hovertemplate\":\"\\u003cb\\u003e%{hovertext}\\u003c\\u002fb\\u003e\\u003cbr\\u003e\\u003cbr\\u003eDate=2020-11-04 00:00:00\\u003cbr\\u003eCountry=%{location}\\u003cbr\\u003ePercentOfBaseline=%{z}\\u003cextra\\u003e\\u003c\\u002fextra\\u003e\",\"hovertext\":[\"Australia\",\"Canada\",\"Chile\",\"United States of America (the)\"],\"locationmode\":\"country names\",\"locations\":[\"Australia\",\"Canada\",\"Chile\",\"United States of America (the)\"],\"name\":\"\",\"z\":[21,814,45,1213],\"type\":\"choropleth\"}],\"name\":\"2020-11-04 00:00:00\"},{\"data\":[{\"coloraxis\":\"coloraxis\",\"geo\":\"geo\",\"hovertemplate\":\"\\u003cb\\u003e%{hovertext}\\u003c\\u002fb\\u003e\\u003cbr\\u003e\\u003cbr\\u003eDate=2020-11-05 00:00:00\\u003cbr\\u003eCountry=%{location}\\u003cbr\\u003ePercentOfBaseline=%{z}\\u003cextra\\u003e\\u003c\\u002fextra\\u003e\",\"hovertext\":[\"Australia\",\"Canada\",\"Chile\",\"United States of America (the)\"],\"locationmode\":\"country names\",\"locations\":[\"Australia\",\"Canada\",\"Chile\",\"United States of America (the)\"],\"name\":\"\",\"z\":[16,810,45,1241],\"type\":\"choropleth\"}],\"name\":\"2020-11-05 00:00:00\"},{\"data\":[{\"coloraxis\":\"coloraxis\",\"geo\":\"geo\",\"hovertemplate\":\"\\u003cb\\u003e%{hovertext}\\u003c\\u002fb\\u003e\\u003cbr\\u003e\\u003cbr\\u003eDate=2020-11-06 00:00:00\\u003cbr\\u003eCountry=%{location}\\u003cbr\\u003ePercentOfBaseline=%{z}\\u003cextra\\u003e\\u003c\\u002fextra\\u003e\",\"hovertext\":[\"Australia\",\"Canada\",\"Chile\",\"United States of America (the)\"],\"locationmode\":\"country names\",\"locations\":[\"Australia\",\"Canada\",\"Chile\",\"United States of America (the)\"],\"name\":\"\",\"z\":[20,822,57,1210],\"type\":\"choropleth\"}],\"name\":\"2020-11-06 00:00:00\"},{\"data\":[{\"coloraxis\":\"coloraxis\",\"geo\":\"geo\",\"hovertemplate\":\"\\u003cb\\u003e%{hovertext}\\u003c\\u002fb\\u003e\\u003cbr\\u003e\\u003cbr\\u003eDate=2020-11-07 00:00:00\\u003cbr\\u003eCountry=%{location}\\u003cbr\\u003ePercentOfBaseline=%{z}\\u003cextra\\u003e\\u003c\\u002fextra\\u003e\",\"hovertext\":[\"Canada\",\"Chile\",\"United States of America (the)\"],\"locationmode\":\"country names\",\"locations\":[\"Canada\",\"Chile\",\"United States of America (the)\"],\"name\":\"\",\"z\":[745,48,1123],\"type\":\"choropleth\"}],\"name\":\"2020-11-07 00:00:00\"},{\"data\":[{\"coloraxis\":\"coloraxis\",\"geo\":\"geo\",\"hovertemplate\":\"\\u003cb\\u003e%{hovertext}\\u003c\\u002fb\\u003e\\u003cbr\\u003e\\u003cbr\\u003eDate=2020-11-08 00:00:00\\u003cbr\\u003eCountry=%{location}\\u003cbr\\u003ePercentOfBaseline=%{z}\\u003cextra\\u003e\\u003c\\u002fextra\\u003e\",\"hovertext\":[\"Australia\",\"Canada\",\"United States of America (the)\"],\"locationmode\":\"country names\",\"locations\":[\"Australia\",\"Canada\",\"United States of America (the)\"],\"name\":\"\",\"z\":[24,632,1059],\"type\":\"choropleth\"}],\"name\":\"2020-11-08 00:00:00\"},{\"data\":[{\"coloraxis\":\"coloraxis\",\"geo\":\"geo\",\"hovertemplate\":\"\\u003cb\\u003e%{hovertext}\\u003c\\u002fb\\u003e\\u003cbr\\u003e\\u003cbr\\u003eDate=2020-11-09 00:00:00\\u003cbr\\u003eCountry=%{location}\\u003cbr\\u003ePercentOfBaseline=%{z}\\u003cextra\\u003e\\u003c\\u002fextra\\u003e\",\"hovertext\":[\"Australia\",\"Canada\",\"Chile\",\"United States of America (the)\"],\"locationmode\":\"country names\",\"locations\":[\"Australia\",\"Canada\",\"Chile\",\"United States of America (the)\"],\"name\":\"\",\"z\":[21,797,52,1203],\"type\":\"choropleth\"}],\"name\":\"2020-11-09 00:00:00\"},{\"data\":[{\"coloraxis\":\"coloraxis\",\"geo\":\"geo\",\"hovertemplate\":\"\\u003cb\\u003e%{hovertext}\\u003c\\u002fb\\u003e\\u003cbr\\u003e\\u003cbr\\u003eDate=2020-11-10 00:00:00\\u003cbr\\u003eCountry=%{location}\\u003cbr\\u003ePercentOfBaseline=%{z}\\u003cextra\\u003e\\u003c\\u002fextra\\u003e\",\"hovertext\":[\"Australia\",\"Canada\",\"Chile\",\"United States of America (the)\"],\"locationmode\":\"country names\",\"locations\":[\"Australia\",\"Canada\",\"Chile\",\"United States of America (the)\"],\"name\":\"\",\"z\":[27,815,52,1257],\"type\":\"choropleth\"}],\"name\":\"2020-11-10 00:00:00\"},{\"data\":[{\"coloraxis\":\"coloraxis\",\"geo\":\"geo\",\"hovertemplate\":\"\\u003cb\\u003e%{hovertext}\\u003c\\u002fb\\u003e\\u003cbr\\u003e\\u003cbr\\u003eDate=2020-11-11 00:00:00\\u003cbr\\u003eCountry=%{location}\\u003cbr\\u003ePercentOfBaseline=%{z}\\u003cextra\\u003e\\u003c\\u002fextra\\u003e\",\"hovertext\":[\"Australia\",\"Canada\",\"Chile\",\"United States of America (the)\"],\"locationmode\":\"country names\",\"locations\":[\"Australia\",\"Canada\",\"Chile\",\"United States of America (the)\"],\"name\":\"\",\"z\":[28,654,59,1072],\"type\":\"choropleth\"}],\"name\":\"2020-11-11 00:00:00\"},{\"data\":[{\"coloraxis\":\"coloraxis\",\"geo\":\"geo\",\"hovertemplate\":\"\\u003cb\\u003e%{hovertext}\\u003c\\u002fb\\u003e\\u003cbr\\u003e\\u003cbr\\u003eDate=2020-11-12 00:00:00\\u003cbr\\u003eCountry=%{location}\\u003cbr\\u003ePercentOfBaseline=%{z}\\u003cextra\\u003e\\u003c\\u002fextra\\u003e\",\"hovertext\":[\"Australia\",\"Canada\",\"Chile\",\"United States of America (the)\"],\"locationmode\":\"country names\",\"locations\":[\"Australia\",\"Canada\",\"Chile\",\"United States of America (the)\"],\"name\":\"\",\"z\":[20,732,60,1173],\"type\":\"choropleth\"}],\"name\":\"2020-11-12 00:00:00\"},{\"data\":[{\"coloraxis\":\"coloraxis\",\"geo\":\"geo\",\"hovertemplate\":\"\\u003cb\\u003e%{hovertext}\\u003c\\u002fb\\u003e\\u003cbr\\u003e\\u003cbr\\u003eDate=2020-11-13 00:00:00\\u003cbr\\u003eCountry=%{location}\\u003cbr\\u003ePercentOfBaseline=%{z}\\u003cextra\\u003e\\u003c\\u002fextra\\u003e\",\"hovertext\":[\"Australia\",\"Canada\",\"Chile\",\"United States of America (the)\"],\"locationmode\":\"country names\",\"locations\":[\"Australia\",\"Canada\",\"Chile\",\"United States of America (the)\"],\"name\":\"\",\"z\":[23,794,63,1251],\"type\":\"choropleth\"}],\"name\":\"2020-11-13 00:00:00\"},{\"data\":[{\"coloraxis\":\"coloraxis\",\"geo\":\"geo\",\"hovertemplate\":\"\\u003cb\\u003e%{hovertext}\\u003c\\u002fb\\u003e\\u003cbr\\u003e\\u003cbr\\u003eDate=2020-11-14 00:00:00\\u003cbr\\u003eCountry=%{location}\\u003cbr\\u003ePercentOfBaseline=%{z}\\u003cextra\\u003e\\u003c\\u002fextra\\u003e\",\"hovertext\":[\"Australia\",\"Canada\",\"Chile\",\"United States of America (the)\"],\"locationmode\":\"country names\",\"locations\":[\"Australia\",\"Canada\",\"Chile\",\"United States of America (the)\"],\"name\":\"\",\"z\":[18,725,41,1082],\"type\":\"choropleth\"}],\"name\":\"2020-11-14 00:00:00\"},{\"data\":[{\"coloraxis\":\"coloraxis\",\"geo\":\"geo\",\"hovertemplate\":\"\\u003cb\\u003e%{hovertext}\\u003c\\u002fb\\u003e\\u003cbr\\u003e\\u003cbr\\u003eDate=2020-11-15 00:00:00\\u003cbr\\u003eCountry=%{location}\\u003cbr\\u003ePercentOfBaseline=%{z}\\u003cextra\\u003e\\u003c\\u002fextra\\u003e\",\"hovertext\":[\"Australia\",\"Canada\",\"United States of America (the)\"],\"locationmode\":\"country names\",\"locations\":[\"Australia\",\"Canada\",\"United States of America (the)\"],\"name\":\"\",\"z\":[26,555,1045],\"type\":\"choropleth\"}],\"name\":\"2020-11-15 00:00:00\"},{\"data\":[{\"coloraxis\":\"coloraxis\",\"geo\":\"geo\",\"hovertemplate\":\"\\u003cb\\u003e%{hovertext}\\u003c\\u002fb\\u003e\\u003cbr\\u003e\\u003cbr\\u003eDate=2020-11-16 00:00:00\\u003cbr\\u003eCountry=%{location}\\u003cbr\\u003ePercentOfBaseline=%{z}\\u003cextra\\u003e\\u003c\\u002fextra\\u003e\",\"hovertext\":[\"Australia\",\"Canada\",\"Chile\",\"United States of America (the)\"],\"locationmode\":\"country names\",\"locations\":[\"Australia\",\"Canada\",\"Chile\",\"United States of America (the)\"],\"name\":\"\",\"z\":[23,803,65,1231],\"type\":\"choropleth\"}],\"name\":\"2020-11-16 00:00:00\"},{\"data\":[{\"coloraxis\":\"coloraxis\",\"geo\":\"geo\",\"hovertemplate\":\"\\u003cb\\u003e%{hovertext}\\u003c\\u002fb\\u003e\\u003cbr\\u003e\\u003cbr\\u003eDate=2020-11-17 00:00:00\\u003cbr\\u003eCountry=%{location}\\u003cbr\\u003ePercentOfBaseline=%{z}\\u003cextra\\u003e\\u003c\\u002fextra\\u003e\",\"hovertext\":[\"Australia\",\"Canada\",\"Chile\",\"United States of America (the)\"],\"locationmode\":\"country names\",\"locations\":[\"Australia\",\"Canada\",\"Chile\",\"United States of America (the)\"],\"name\":\"\",\"z\":[22,812,62,1289],\"type\":\"choropleth\"}],\"name\":\"2020-11-17 00:00:00\"},{\"data\":[{\"coloraxis\":\"coloraxis\",\"geo\":\"geo\",\"hovertemplate\":\"\\u003cb\\u003e%{hovertext}\\u003c\\u002fb\\u003e\\u003cbr\\u003e\\u003cbr\\u003eDate=2020-11-18 00:00:00\\u003cbr\\u003eCountry=%{location}\\u003cbr\\u003ePercentOfBaseline=%{z}\\u003cextra\\u003e\\u003c\\u002fextra\\u003e\",\"hovertext\":[\"Australia\",\"Canada\",\"Chile\",\"United States of America (the)\"],\"locationmode\":\"country names\",\"locations\":[\"Australia\",\"Canada\",\"Chile\",\"United States of America (the)\"],\"name\":\"\",\"z\":[25,807,62,1253],\"type\":\"choropleth\"}],\"name\":\"2020-11-18 00:00:00\"},{\"data\":[{\"coloraxis\":\"coloraxis\",\"geo\":\"geo\",\"hovertemplate\":\"\\u003cb\\u003e%{hovertext}\\u003c\\u002fb\\u003e\\u003cbr\\u003e\\u003cbr\\u003eDate=2020-11-19 00:00:00\\u003cbr\\u003eCountry=%{location}\\u003cbr\\u003ePercentOfBaseline=%{z}\\u003cextra\\u003e\\u003c\\u002fextra\\u003e\",\"hovertext\":[\"Australia\",\"Canada\",\"Chile\",\"United States of America (the)\"],\"locationmode\":\"country names\",\"locations\":[\"Australia\",\"Canada\",\"Chile\",\"United States of America (the)\"],\"name\":\"\",\"z\":[22,811,60,1217],\"type\":\"choropleth\"}],\"name\":\"2020-11-19 00:00:00\"},{\"data\":[{\"coloraxis\":\"coloraxis\",\"geo\":\"geo\",\"hovertemplate\":\"\\u003cb\\u003e%{hovertext}\\u003c\\u002fb\\u003e\\u003cbr\\u003e\\u003cbr\\u003eDate=2020-11-20 00:00:00\\u003cbr\\u003eCountry=%{location}\\u003cbr\\u003ePercentOfBaseline=%{z}\\u003cextra\\u003e\\u003c\\u002fextra\\u003e\",\"hovertext\":[\"Australia\",\"Canada\",\"Chile\",\"United States of America (the)\"],\"locationmode\":\"country names\",\"locations\":[\"Australia\",\"Canada\",\"Chile\",\"United States of America (the)\"],\"name\":\"\",\"z\":[27,779,64,1241],\"type\":\"choropleth\"}],\"name\":\"2020-11-20 00:00:00\"},{\"data\":[{\"coloraxis\":\"coloraxis\",\"geo\":\"geo\",\"hovertemplate\":\"\\u003cb\\u003e%{hovertext}\\u003c\\u002fb\\u003e\\u003cbr\\u003e\\u003cbr\\u003eDate=2020-11-21 00:00:00\\u003cbr\\u003eCountry=%{location}\\u003cbr\\u003ePercentOfBaseline=%{z}\\u003cextra\\u003e\\u003c\\u002fextra\\u003e\",\"hovertext\":[\"Australia\",\"Canada\",\"Chile\",\"United States of America (the)\"],\"locationmode\":\"country names\",\"locations\":[\"Australia\",\"Canada\",\"Chile\",\"United States of America (the)\"],\"name\":\"\",\"z\":[33,725,31,1153],\"type\":\"choropleth\"}],\"name\":\"2020-11-21 00:00:00\"},{\"data\":[{\"coloraxis\":\"coloraxis\",\"geo\":\"geo\",\"hovertemplate\":\"\\u003cb\\u003e%{hovertext}\\u003c\\u002fb\\u003e\\u003cbr\\u003e\\u003cbr\\u003eDate=2020-11-22 00:00:00\\u003cbr\\u003eCountry=%{location}\\u003cbr\\u003ePercentOfBaseline=%{z}\\u003cextra\\u003e\\u003c\\u002fextra\\u003e\",\"hovertext\":[\"Australia\",\"Canada\",\"Chile\",\"United States of America (the)\"],\"locationmode\":\"country names\",\"locations\":[\"Australia\",\"Canada\",\"Chile\",\"United States of America (the)\"],\"name\":\"\",\"z\":[18,596,26,1109],\"type\":\"choropleth\"}],\"name\":\"2020-11-22 00:00:00\"},{\"data\":[{\"coloraxis\":\"coloraxis\",\"geo\":\"geo\",\"hovertemplate\":\"\\u003cb\\u003e%{hovertext}\\u003c\\u002fb\\u003e\\u003cbr\\u003e\\u003cbr\\u003eDate=2020-11-23 00:00:00\\u003cbr\\u003eCountry=%{location}\\u003cbr\\u003ePercentOfBaseline=%{z}\\u003cextra\\u003e\\u003c\\u002fextra\\u003e\",\"hovertext\":[\"Australia\",\"Canada\",\"Chile\",\"United States of America (the)\"],\"locationmode\":\"country names\",\"locations\":[\"Australia\",\"Canada\",\"Chile\",\"United States of America (the)\"],\"name\":\"\",\"z\":[22,839,58,1273],\"type\":\"choropleth\"}],\"name\":\"2020-11-23 00:00:00\"},{\"data\":[{\"coloraxis\":\"coloraxis\",\"geo\":\"geo\",\"hovertemplate\":\"\\u003cb\\u003e%{hovertext}\\u003c\\u002fb\\u003e\\u003cbr\\u003e\\u003cbr\\u003eDate=2020-11-24 00:00:00\\u003cbr\\u003eCountry=%{location}\\u003cbr\\u003ePercentOfBaseline=%{z}\\u003cextra\\u003e\\u003c\\u002fextra\\u003e\",\"hovertext\":[\"Australia\",\"Canada\",\"Chile\",\"United States of America (the)\"],\"locationmode\":\"country names\",\"locations\":[\"Australia\",\"Canada\",\"Chile\",\"United States of America (the)\"],\"name\":\"\",\"z\":[25,804,44,1242],\"type\":\"choropleth\"}],\"name\":\"2020-11-24 00:00:00\"},{\"data\":[{\"coloraxis\":\"coloraxis\",\"geo\":\"geo\",\"hovertemplate\":\"\\u003cb\\u003e%{hovertext}\\u003c\\u002fb\\u003e\\u003cbr\\u003e\\u003cbr\\u003eDate=2020-11-25 00:00:00\\u003cbr\\u003eCountry=%{location}\\u003cbr\\u003ePercentOfBaseline=%{z}\\u003cextra\\u003e\\u003c\\u002fextra\\u003e\",\"hovertext\":[\"Australia\",\"Canada\",\"Chile\",\"United States of America (the)\"],\"locationmode\":\"country names\",\"locations\":[\"Australia\",\"Canada\",\"Chile\",\"United States of America (the)\"],\"name\":\"\",\"z\":[28,801,47,1181],\"type\":\"choropleth\"}],\"name\":\"2020-11-25 00:00:00\"},{\"data\":[{\"coloraxis\":\"coloraxis\",\"geo\":\"geo\",\"hovertemplate\":\"\\u003cb\\u003e%{hovertext}\\u003c\\u002fb\\u003e\\u003cbr\\u003e\\u003cbr\\u003eDate=2020-11-26 00:00:00\\u003cbr\\u003eCountry=%{location}\\u003cbr\\u003ePercentOfBaseline=%{z}\\u003cextra\\u003e\\u003c\\u002fextra\\u003e\",\"hovertext\":[\"Australia\",\"Canada\",\"Chile\",\"United States of America (the)\"],\"locationmode\":\"country names\",\"locations\":[\"Australia\",\"Canada\",\"Chile\",\"United States of America (the)\"],\"name\":\"\",\"z\":[25,786,50,501],\"type\":\"choropleth\"}],\"name\":\"2020-11-26 00:00:00\"},{\"data\":[{\"coloraxis\":\"coloraxis\",\"geo\":\"geo\",\"hovertemplate\":\"\\u003cb\\u003e%{hovertext}\\u003c\\u002fb\\u003e\\u003cbr\\u003e\\u003cbr\\u003eDate=2020-11-27 00:00:00\\u003cbr\\u003eCountry=%{location}\\u003cbr\\u003ePercentOfBaseline=%{z}\\u003cextra\\u003e\\u003c\\u002fextra\\u003e\",\"hovertext\":[\"Australia\",\"Canada\",\"Chile\",\"United States of America (the)\"],\"locationmode\":\"country names\",\"locations\":[\"Australia\",\"Canada\",\"Chile\",\"United States of America (the)\"],\"name\":\"\",\"z\":[18,777,48,622],\"type\":\"choropleth\"}],\"name\":\"2020-11-27 00:00:00\"},{\"data\":[{\"coloraxis\":\"coloraxis\",\"geo\":\"geo\",\"hovertemplate\":\"\\u003cb\\u003e%{hovertext}\\u003c\\u002fb\\u003e\\u003cbr\\u003e\\u003cbr\\u003eDate=2020-11-28 00:00:00\\u003cbr\\u003eCountry=%{location}\\u003cbr\\u003ePercentOfBaseline=%{z}\\u003cextra\\u003e\\u003c\\u002fextra\\u003e\",\"hovertext\":[\"Australia\",\"Canada\",\"Chile\",\"United States of America (the)\"],\"locationmode\":\"country names\",\"locations\":[\"Australia\",\"Canada\",\"Chile\",\"United States of America (the)\"],\"name\":\"\",\"z\":[46,751,39,990],\"type\":\"choropleth\"}],\"name\":\"2020-11-28 00:00:00\"},{\"data\":[{\"coloraxis\":\"coloraxis\",\"geo\":\"geo\",\"hovertemplate\":\"\\u003cb\\u003e%{hovertext}\\u003c\\u002fb\\u003e\\u003cbr\\u003e\\u003cbr\\u003eDate=2020-11-29 00:00:00\\u003cbr\\u003eCountry=%{location}\\u003cbr\\u003ePercentOfBaseline=%{z}\\u003cextra\\u003e\\u003c\\u002fextra\\u003e\",\"hovertext\":[\"Australia\",\"Canada\",\"United States of America (the)\"],\"locationmode\":\"country names\",\"locations\":[\"Australia\",\"Canada\",\"United States of America (the)\"],\"name\":\"\",\"z\":[28,727,1088],\"type\":\"choropleth\"}],\"name\":\"2020-11-29 00:00:00\"},{\"data\":[{\"coloraxis\":\"coloraxis\",\"geo\":\"geo\",\"hovertemplate\":\"\\u003cb\\u003e%{hovertext}\\u003c\\u002fb\\u003e\\u003cbr\\u003e\\u003cbr\\u003eDate=2020-11-30 00:00:00\\u003cbr\\u003eCountry=%{location}\\u003cbr\\u003ePercentOfBaseline=%{z}\\u003cextra\\u003e\\u003c\\u002fextra\\u003e\",\"hovertext\":[\"Australia\",\"Canada\",\"Chile\",\"United States of America (the)\"],\"locationmode\":\"country names\",\"locations\":[\"Australia\",\"Canada\",\"Chile\",\"United States of America (the)\"],\"name\":\"\",\"z\":[29,820,65,1178],\"type\":\"choropleth\"}],\"name\":\"2020-11-30 00:00:00\"},{\"data\":[{\"coloraxis\":\"coloraxis\",\"geo\":\"geo\",\"hovertemplate\":\"\\u003cb\\u003e%{hovertext}\\u003c\\u002fb\\u003e\\u003cbr\\u003e\\u003cbr\\u003eDate=2020-12-01 00:00:00\\u003cbr\\u003eCountry=%{location}\\u003cbr\\u003ePercentOfBaseline=%{z}\\u003cextra\\u003e\\u003c\\u002fextra\\u003e\",\"hovertext\":[\"Australia\",\"Canada\",\"Chile\",\"United States of America (the)\"],\"locationmode\":\"country names\",\"locations\":[\"Australia\",\"Canada\",\"Chile\",\"United States of America (the)\"],\"name\":\"\",\"z\":[21,827,45,1275],\"type\":\"choropleth\"}],\"name\":\"2020-12-01 00:00:00\"},{\"data\":[{\"coloraxis\":\"coloraxis\",\"geo\":\"geo\",\"hovertemplate\":\"\\u003cb\\u003e%{hovertext}\\u003c\\u002fb\\u003e\\u003cbr\\u003e\\u003cbr\\u003eDate=2020-12-02 00:00:00\\u003cbr\\u003eCountry=%{location}\\u003cbr\\u003ePercentOfBaseline=%{z}\\u003cextra\\u003e\\u003c\\u002fextra\\u003e\",\"hovertext\":[\"Australia\",\"Canada\",\"Chile\",\"United States of America (the)\"],\"locationmode\":\"country names\",\"locations\":[\"Australia\",\"Canada\",\"Chile\",\"United States of America (the)\"],\"name\":\"\",\"z\":[27,798,48,1276],\"type\":\"choropleth\"}],\"name\":\"2020-12-02 00:00:00\"}]);\n",
       "                        }).then(function(){\n",
       "                            \n",
       "var gd = document.getElementById('4c3189bc-65cd-47a7-922a-63baec47ae9f');\n",
       "var x = new MutationObserver(function (mutations, observer) {{\n",
       "        var display = window.getComputedStyle(gd).display;\n",
       "        if (!display || display === 'none') {{\n",
       "            console.log([gd, 'removed!']);\n",
       "            Plotly.purge(gd);\n",
       "            observer.disconnect();\n",
       "        }}\n",
       "}});\n",
       "\n",
       "// Listen for the removal of the full notebook cells\n",
       "var notebookContainer = gd.closest('#notebook-container');\n",
       "if (notebookContainer) {{\n",
       "    x.observe(notebookContainer, {childList: true});\n",
       "}}\n",
       "\n",
       "// Listen for the clearing of the current output cell\n",
       "var outputEl = gd.closest('.output');\n",
       "if (outputEl) {{\n",
       "    x.observe(outputEl, {childList: true});\n",
       "}}\n",
       "\n",
       "                        })                };                });            </script>        </div>"
      ]
     },
     "metadata": {},
     "output_type": "display_data"
    }
   ],
   "source": [
    "df_countrydate = df[df['PercentOfBaseline']>0]\n",
    "df_countrydate = df_countrydate.groupby(['Date','Country']).sum().reset_index()\n",
    "df_countrydate\n",
    "fig = px.choropleth(df_countrydate, \n",
    "                    locations=\"Country\", \n",
    "                    locationmode = \"country names\",\n",
    "                    color=\"PercentOfBaseline\", \n",
    "                    hover_name=\"Country\", \n",
    "                    animation_frame=\"Date\"\n",
    "                   )\n",
    "fig.update_layout(\n",
    "    title_text = 'Global Spread of Coronavirus',\n",
    "    title_x = 0.5,\n",
    "    geo=dict(\n",
    "        showframe = False,\n",
    "        showcoastlines = False,\n",
    "    ))\n",
    "    \n",
    "fig.show()"
   ]
  },
  {
   "cell_type": "markdown",
   "metadata": {},
   "source": [
    "Общие выводы:\n",
    "1. В таблице упоминаются аэропорты 4 стран\n",
    "2. Лидером оценки показателей процента от базового показателя перевозок аэропорта по каждой стране во время COVID-19 является Канада(около 78%), а наименьший показатель - у Чили(около 33%), что почти в два раза меньше\n",
    "3. Благодаря визуализации данных на карте со шкалой процента показателя можно увидеть данные по любой стране за любую дату\n",
    "4. Данные также позволяют увидеть, что несмотря на ограниченность передвижения, наложенной во время пандемии, полеты не прекращались\n",
    "\n",
    "Данная модель показывает взаимосвязь периода пандемии и перелетов. За девять месяцев пандемия сильно повлияла на нашу жизнь, в особенности на международные путешествия, что помогает увидеть и проанализировать данный датасет"
   ]
  }
 ],
 "metadata": {
  "interpreter": {
   "hash": "aee8b7b246df8f9039afb4144a1f6fd8d2ca17a180786b69acc140d282b71a49"
  },
  "kernelspec": {
   "display_name": "Python 3.12.0 64-bit",
   "language": "python",
   "name": "python3"
  },
  "language_info": {
   "codemirror_mode": {
    "name": "ipython",
    "version": 3
   },
   "file_extension": ".py",
   "mimetype": "text/x-python",
   "name": "python",
   "nbconvert_exporter": "python",
   "pygments_lexer": "ipython3",
   "version": "3.12.0"
  },
  "orig_nbformat": 4
 },
 "nbformat": 4,
 "nbformat_minor": 2
}
