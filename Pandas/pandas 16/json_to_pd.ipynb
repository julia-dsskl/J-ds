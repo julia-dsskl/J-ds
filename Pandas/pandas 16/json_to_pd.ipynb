{
 "cells": [
  {
   "cell_type": "code",
   "execution_count": 2,
   "metadata": {},
   "outputs": [
    {
     "ename": "ModuleNotFoundError",
     "evalue": "No module named 'pandas'",
     "output_type": "error",
     "traceback": [
      "\u001b[0;31m---------------------------------------------------------------------------\u001b[0m",
      "\u001b[0;31mModuleNotFoundError\u001b[0m                       Traceback (most recent call last)",
      "\u001b[1;32m/Users/jurain/IDE/J-ds-1/Pandas/pandas 16/json_to_pd.ipynb Cell 1'\u001b[0m in \u001b[0;36m<cell line: 3>\u001b[0;34m()\u001b[0m\n\u001b[1;32m      <a href='vscode-notebook-cell:/Users/jurain/IDE/J-ds-1/Pandas/pandas%2016/json_to_pd.ipynb#ch0000000?line=0'>1</a>\u001b[0m \u001b[39mimport\u001b[39;00m \u001b[39mjson\u001b[39;00m \u001b[39m# Импортируем модуль json\u001b[39;00m\n\u001b[1;32m      <a href='vscode-notebook-cell:/Users/jurain/IDE/J-ds-1/Pandas/pandas%2016/json_to_pd.ipynb#ch0000000?line=1'>2</a>\u001b[0m \u001b[39mfrom\u001b[39;00m \u001b[39mpprint\u001b[39;00m \u001b[39mimport\u001b[39;00m pprint \u001b[39m# Импортируем функцию pprint()\u001b[39;00m\n\u001b[0;32m----> <a href='vscode-notebook-cell:/Users/jurain/IDE/J-ds-1/Pandas/pandas%2016/json_to_pd.ipynb#ch0000000?line=2'>3</a>\u001b[0m \u001b[39mimport\u001b[39;00m \u001b[39mpandas\u001b[39;00m \u001b[39mas\u001b[39;00m \u001b[39mpd\u001b[39;00m \u001b[39m# Импортируем модуль pandas\u001b[39;00m\n\u001b[1;32m      <a href='vscode-notebook-cell:/Users/jurain/IDE/J-ds-1/Pandas/pandas%2016/json_to_pd.ipynb#ch0000000?line=4'>5</a>\u001b[0m \u001b[39mwith\u001b[39;00m \u001b[39mopen\u001b[39m(\u001b[39m'\u001b[39m\u001b[39m/Users/jurain/Downloads/Data Science/recipes.json\u001b[39m\u001b[39m'\u001b[39m) \u001b[39mas\u001b[39;00m f: \u001b[39m# Открываем файл и связываем его с объектом \"f\"\u001b[39;00m\n\u001b[1;32m      <a href='vscode-notebook-cell:/Users/jurain/IDE/J-ds-1/Pandas/pandas%2016/json_to_pd.ipynb#ch0000000?line=5'>6</a>\u001b[0m     recipes \u001b[39m=\u001b[39m json\u001b[39m.\u001b[39mload(f) \u001b[39m# Загружаем содержимое открытого файла в переменную recipes\u001b[39;00m\n",
      "\u001b[0;31mModuleNotFoundError\u001b[0m: No module named 'pandas'"
     ]
    }
   ],
   "source": [
    "import json # Импортируем модуль json\n",
    "from pprint import pprint # Импортируем функцию pprint()\n",
    "import pandas as pd # Импортируем модуль pandas\n",
    "\n",
    "with open('/Users/jurain/Downloads/Data Science/recipes.json') as f: # Открываем файл и связываем его с объектом \"f\"\n",
    "    recipes = json.load(f) # Загружаем содержимое открытого файла в переменную recipes\n",
    "df = pd.DataFrame(recipes) # Создаём объект DataFrame из списка recipes\n",
    "display(df.head()) # Выводим на экран первые строки полученного DataFrame"
   ]
  }
 ],
 "metadata": {
  "interpreter": {
   "hash": "31f2aee4e71d21fbe5cf8b01ff0e069b9275f58929596ceb00d14d90e3e16cd6"
  },
  "kernelspec": {
   "display_name": "Python 3.8.9 64-bit",
   "language": "python",
   "name": "python3"
  },
  "language_info": {
   "codemirror_mode": {
    "name": "ipython",
    "version": 3
   },
   "file_extension": ".py",
   "mimetype": "text/x-python",
   "name": "python",
   "nbconvert_exporter": "python",
   "pygments_lexer": "ipython3",
   "version": "3.8.9"
  },
  "orig_nbformat": 4
 },
 "nbformat": 4,
 "nbformat_minor": 2
}
