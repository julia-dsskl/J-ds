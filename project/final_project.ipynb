{
 "cells": [
  {
   "cell_type": "markdown",
   "metadata": {},
   "source": [
    "The Movies Dataset"
   ]
  },
  {
   "cell_type": "markdown",
   "metadata": {},
   "source": [
    "Эти файлы содержат метаданные для всех 45 000 фильмов, перечисленных в полном наборе данных MovieLens. Набор данных состоит из фильмов, выпущенных в июле 2017 года или ранее. Данные включают актерский состав, съемочную группу, ключевые слова сюжета, бюджет, доходы, постеры, даты выхода, языки, производственные компании, страны, количество голосов на TMDB и средние значения голосов."
   ]
  },
  {
   "cell_type": "markdown",
   "metadata": {},
   "source": [
    "movies_metadata.csv - Основной файл метаданных фильмов. Содержит информацию о 45 000 фильмах, представленных в полном наборе данных MovieLens. Характеристики включают постеры, декорации, бюджет, доходы, даты выхода, языки, страны и компании-производители."
   ]
  },
  {
   "cell_type": "markdown",
   "metadata": {},
   "source": [
    "Цель этого проекта - проанализировать метаданные фильмов, представленные в файле 'movies_metadata.csv':\n",
    "\n",
    "1) Очистить и предварительно обработать данные, преобразовав столбец 'adult' в булевы значения, а столбец 'release_date' - в формат времени.\n",
    "2) Изучить набор данных, проанализировав количество фильмов, их жанры и другую необходимую информацию.\n",
    "3) Произвести статистический анализ, чтобы выявить тенденции и закономерности в данных, например распределение фильмов по жанрам, годам выпуска и продолжительности.\n",
    "4) Визуализация данных для лучшего понимания тенденций и закономерностей, выявленных в ходе статистического анализа.\n",
    "5) Ответить на конкретные вопросы о данных, например о самом популярном жанре, среднем времени проката фильмов и распределении фильмов по годам выпуска.\n",
    "6) Предоставить рекомендации по дальнейшему анализу или пониманию того, что можно получить из полученных данных.\n",
    "В целом, цель данного проекта - провести всесторонний анализ метаданных о фильмах и получить сведения, которые можно использовать для лучшего понимания киноиндустрии."
   ]
  },
  {
   "cell_type": "markdown",
   "metadata": {},
   "source": [
    "Import necessary libraries: The script imports several libraries, including pandas, numpy,aborn, matlib, plotly, xgboost, andlearn. 2 Load the data: The script reads in a CSV file containing movies' metadata and assigns it to a pandas DataFrame called movies. It also performs some data cleaning tasks, such as converting the adult column to a boolean type and the release_date column to a datetime type.\n"
   ]
  },
  {
   "cell_type": "code",
   "execution_count": null,
   "metadata": {},
   "outputs": [],
   "source": [
    "import pandas as pd\n",
    "import numpy as np\n",
    "import seaborn as sns\n",
    "import matplotlib.pyplot as plt\n",
    "import plotly.express as px\n",
    "import xgboost as xgb\n",
    "from sklearn.model_selection import train_test_split\n",
    "from sklearn.metrics import accuracy_score, classification_report, confusion_matrix\n",
    "import ast\n",
    "# Import data\n",
    "movies = pd.read_csv(r'C:\\IDE\\movies_metadata.csv')\n",
    "movies['adult'] = movies['adult'].map({'True': True, 'False': False})\n",
    "movies['release_date'] = pd.to_datetime(movies['release_date'], errors='coerce')"
   ]
  },
  {
   "cell_type": "markdown",
   "metadata": {},
   "source": [
    "Visualize missing values: The script creates a heatmap to visualize the missing values in the dataset.\n"
   ]
  },
  {
   "cell_type": "code",
   "execution_count": null,
   "metadata": {},
   "outputs": [],
   "source": [
    "# Visualize missing values\n",
    "plt.figure(figsize=(10, 6))\n",
    "sns.heatmap(movies.isnull(), cbar=False, cmap='viridis')\n",
    "plt.title('Missing Values Visualization')\n",
    "plt.show()"
   ]
  },
  {
   "cell_type": "markdown",
   "metadata": {},
   "source": [
    "Clean the data: The script defines a function called clean_data that drops any rows with missing values in the release_date, budget, or revenue columns. It then applies this function to the movies DataFrame.\n"
   ]
  },
  {
   "cell_type": "code",
   "execution_count": null,
   "metadata": {},
   "outputs": [],
   "source": [
    "# Clean data\n",
    "def clean_data(df):\n",
    "    return df.dropna(subset=['release_date', 'budget', 'revenue'], axis=0).reset_index(drop=True)\n",
    "\n",
    "movies = clean_data(movies)"
   ]
  },
  {
   "cell_type": "markdown",
   "metadata": {},
   "source": [
    "Convert the success_or_flop column to numeric values: The script maps the values in the success_or_flop column to numeric values (0 for failures and 1 for hits).\n"
   ]
  },
  {
   "cell_type": "code",
   "execution_count": null,
   "metadata": {},
   "outputs": [],
   "source": [
    "# Convert success_or_flop column to numeric values\n",
    "movies['popularity'] = movies['popularity'].map({'failure': 0, 'hit': 1})"
   ]
  },
  {
   "cell_type": "markdown",
   "metadata": {},
   "source": [
    "Convert relevant columns to numeric or datetime types: The script defines a function called convert_types that converts the id, budget, popularity, and release_date columns to numeric or datetime types. It then applies this function to the movies DataFrame.\n"
   ]
  },
  {
   "cell_type": "code",
   "execution_count": null,
   "metadata": {},
   "outputs": [],
   "source": [
    "# Convert relevant columns to numeric or datetime types\n",
    "def convert_types(df, columns):\n",
    "    for col in columns:\n",
    "        if col == 'id':\n",
    "            df[col] = pd.to_numeric(df[col], errors='coerce', downcast='integer')\n",
    "        elif col in ['budget', 'popularity']:\n",
    "            df[col] = pd.to_numeric(df[col], errors='coerce', downcast='float')\n",
    "        else:\n",
    "            df[col] = pd.to_datetime(df[col], errors='coerce')\n",
    "    return df\n",
    "\n",
    "convert_types(movies, ['id', 'budget', 'popularity', 'release_date'])"
   ]
  },
  {
   "cell_type": "markdown",
   "metadata": {},
   "source": [
    "Create new columns for the year and month of release date: The script creates two new columns in the movies DataFrame: release_year and release_month.\n"
   ]
  },
  {
   "cell_type": "code",
   "execution_count": null,
   "metadata": {},
   "outputs": [],
   "source": [
    "movies['release_year'] = movies['release_date'].dt.year\n",
    "movies['release_month'] = movies['release_date'].dt.month"
   ]
  },
  {
   "cell_type": "markdown",
   "metadata": {},
   "source": [
    "Visualize the correlation matrix: The script creates a heatmap to visualize the correlation matrix of the budget, popularity, release_year, and release_month columns.\n"
   ]
  },
  {
   "cell_type": "code",
   "execution_count": null,
   "metadata": {},
   "outputs": [],
   "source": [
    "correlation_matrix = movies[['budget', 'popularity', 'release_year', 'release_month']].corr()\n",
    "plt.figure(figsize=(12, 8))\n",
    "sns.heatmap(correlation_matrix, annot=True, cmap='coolwarm', linewidths=.5)\n",
    "plt.title('Correlation Matrix')\n",
    "plt.show()"
   ]
  },
  {
   "cell_type": "markdown",
   "metadata": {},
   "source": [
    "Visualize the budget and revenue distribution: The script creates a histogram to visualize the distribution of the budget and revenue columns.\n"
   ]
  },
  {
   "cell_type": "code",
   "execution_count": null,
   "metadata": {},
   "outputs": [],
   "source": [
    "plt.figure(figsize=(12, 6))\n",
    "sns.histplot(movies['budget'], bins=30, kde=True, color='blue', label='Budget')\n",
    "sns.histplot(movies['revenue'], bins=30, kde=True, color='green', label='Revenue')\n",
    "plt.title('Budget and Revenue Distribution')\n",
    "plt.xlabel('Amount (in million)')\n",
    "plt.ylabel('Frequency')\n",
    "plt.legend()\n",
    "plt.show()"
   ]
  },
  {
   "cell_type": "markdown",
   "metadata": {},
   "source": [
    "Visualize the release year distribution: The script creates a count plot to visualize the distribution of the release_year column.\n"
   ]
  },
  {
   "cell_type": "code",
   "execution_count": null,
   "metadata": {},
   "outputs": [],
   "source": [
    "# Visualize release year distribution\n",
    "plt.figure(figsize=(12, 6))\n",
    "sns.countplot(x='release_year', data=movies, palette='viridis')\n",
    "plt.title('Release Year Distribution')\n",
    "plt.xlabel('Release Year')\n",
    "plt.ylabel('Count')\n",
    "plt.show()"
   ]
  },
  {
   "cell_type": "markdown",
   "metadata": {},
   "source": [
    "Convert the genres column to list type: The script converts the genres column to a list type and explodes the list into separate rows.\n"
   ]
  },
  {
   "cell_type": "code",
   "execution_count": null,
   "metadata": {},
   "outputs": [],
   "source": [
    "movies['genres'] = movies['genres'].apply(ast.literal_eval)\n",
    "movies['genres'] = movies['genres'].apply(lambda x: [item for sublist in x for item in sublist])"
   ]
  },
  {
   "cell_type": "markdown",
   "metadata": {},
   "source": [
    "Visualize the top genres: The script creates a bar plot to visualize the top 10 genres in the dataset.\n"
   ]
  },
  {
   "cell_type": "code",
   "execution_count": null,
   "metadata": {},
   "outputs": [],
   "source": [
    "genres_list = movies['genres'].explode().value_counts().head(10)\n",
    "\n",
    "plt.figure(figsize=(12, 6))\n",
    "sns.barplot(x=genres_list.values, y=genres_list.index, palette='viridis')\n",
    "plt.title('Top 10 Genres')\n",
    "plt.xlabel('Count')\n",
    "plt.ylabel('Genre')\n",
    "plt.show()"
   ]
  },
  {
   "cell_type": "markdown",
   "metadata": {},
   "source": [
    "Create a new column for success or flop: The script creates a new column called success_or_flop based on whether the revenue is greater than the budget.\n"
   ]
  },
  {
   "cell_type": "code",
   "execution_count": null,
   "metadata": {},
   "outputs": [],
   "source": [
    "# Create success_or_flop column based on revenue and budget\n",
    "movies['success_or_flop'] = np.where(movies['revenue'] > movies['budget'], 1, 0)"
   ]
  },
  {
   "cell_type": "markdown",
   "metadata": {},
   "source": [
    "Train an XGBoost model: The script splits the data into training and testing sets and trains an XGBoost classifier on the training set.\n"
   ]
  },
  {
   "cell_type": "code",
   "execution_count": null,
   "metadata": {},
   "outputs": [],
   "source": [
    "# XGBoost model training\n",
    "X = movies[['budget', 'popularity', 'release_year', 'release_month']]\n",
    "y = movies['success_or_flop']\n",
    "\n",
    "X_train, X_test, y_train, y_test = train_test_split(X, y, test_size=0.2, random_state=42)\n",
    "\n",
    "model = xgb.XGBClassifier()\n",
    "model.fit(X_train, y_train)"
   ]
  },
  {
   "cell_type": "markdown",
   "metadata": {},
   "source": [
    "Evaluate the model: The script evaluates the model's performance on the testing set by calculating the accuracy score, classification report, and confusion matrix.\n"
   ]
  },
  {
   "cell_type": "code",
   "execution_count": null,
   "metadata": {},
   "outputs": [],
   "source": [
    "# Model evaluation\n",
    "y_pred = model.predict(X_test)\n",
    "print(f'Accuracy: {accuracy_score(y_test, y_pred)}')\n",
    "print(classification_report(y_test, y_pred))\n",
    "conf_matrix = confusion_matrix(y_test, y_pred)\n",
    "plt.figure(figsize=(6, 4))\n",
    "sns.heatmap(conf_matrix, annot=True, fmt='d', cmap='viridis')\n",
    "plt.title('Confusion Matrix')\n",
    "plt.xlabel('Predicted')\n",
    "plt.ylabel('Actual')\n",
    "plt.show()"
   ]
  },
  {
   "cell_type": "markdown",
   "metadata": {},
   "source": [
    "В целом этот сценарий выполняет различные задачи по очистке, исследованию и анализу данных в наборе метаданных фильмов и обучает модель машинного обучения предсказывать успех или провал фильма на основе его бюджета, популярности, года выпуска и месяца выхода."
   ]
  }
 ],
 "metadata": {
  "kernelspec": {
   "display_name": "Python 3",
   "language": "python",
   "name": "python3"
  },
  "language_info": {
   "codemirror_mode": {
    "name": "ipython",
    "version": 3
   },
   "file_extension": ".py",
   "mimetype": "text/x-python",
   "name": "python",
   "nbconvert_exporter": "python",
   "pygments_lexer": "ipython3",
   "version": "3.11.8"
  },
  "orig_nbformat": 4
 },
 "nbformat": 4,
 "nbformat_minor": 2
}
